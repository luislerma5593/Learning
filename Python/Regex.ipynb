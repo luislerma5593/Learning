{
 "cells": [
  {
   "cell_type": "markdown",
   "metadata": {},
   "source": [
    "# Python"
   ]
  },
  {
   "cell_type": "markdown",
   "metadata": {},
   "source": [
    "---"
   ]
  },
  {
   "cell_type": "markdown",
   "metadata": {},
   "source": [
    "# Regular Expressions\n",
    "\n",
    "Regular expressions are a powerful tool for various kinds of string manipulation.\n",
    "They are a domain specific language (DSL) that is present as a library in most modern programming languages, not just Python.\n",
    "They are useful for two main tasks:\n",
    "- verifying that strings match a pattern (for instance, that a string has the format of an email address),\n",
    "- performing substitutions in a string (such as changing all American spellings to British ones).\n"
   ]
  },
  {
   "cell_type": "markdown",
   "metadata": {},
   "source": [
    "Regular expressions in Python can be accessed using the re module, which is part of the standard library.\n",
    "After you've defined a regular expression, the re.match function can be used to determine whether it matches at the beginning of a string.\n",
    "If it does, match returns an object representing the match, if not, it returns None.\n",
    "To avoid any confusion while working with regular expressions, we would use raw strings as r\"expression\".\n",
    "Raw strings don't escape anything, which makes use of regular expressions easier."
   ]
  },
  {
   "cell_type": "code",
   "execution_count": 2,
   "metadata": {},
   "outputs": [
    {
     "name": "stdout",
     "output_type": "stream",
     "text": [
      "Match\n"
     ]
    }
   ],
   "source": [
    "import re\n",
    "word = input()\n",
    "\n",
    "pattern = r\"gl\"\n",
    "\n",
    "if re.match(pattern, word):\n",
    "    print(\"Match\")\n",
    "else:\n",
    "    print(\"No match\")"
   ]
  },
  {
   "cell_type": "markdown",
   "metadata": {},
   "source": [
    "Other functions to match patterns are re.search and re.findall.\n",
    "\n",
    "The function re.search finds a match of a pattern anywhere in the string.\n",
    "\n",
    "The function re.findall returns a list of all substrings that match a pattern."
   ]
  },
  {
   "cell_type": "code",
   "execution_count": 4,
   "metadata": {},
   "outputs": [
    {
     "name": "stdout",
     "output_type": "stream",
     "text": [
      "No match\n",
      "Match\n",
      "['spam', 'spam']\n"
     ]
    }
   ],
   "source": [
    "import re\n",
    "\n",
    "pattern = r\"spam\"\n",
    "\n",
    "if re.match(pattern, \"eggspamsausagespam\"):\n",
    "    print(\"Match\")\n",
    "else:\n",
    "    print(\"No match\")\n",
    "\n",
    "if re.search(pattern, \"eggspamsausagespam\"):\n",
    "    print(\"Match\")\n",
    "else:\n",
    "    print(\"No match\")\n",
    "\n",
    "print(re.findall(pattern, \"eggspamsausagespam\"))"
   ]
  },
  {
   "cell_type": "code",
   "execution_count": 7,
   "metadata": {},
   "outputs": [
    {
     "data": {
      "text/plain": [
       "3"
      ]
     },
     "execution_count": 7,
     "metadata": {},
     "output_type": "execute_result"
    }
   ],
   "source": [
    "import re\n",
    "\n",
    "quote = \"Always do your best. Your best is going to change from moment to moment; it will be different when you are healthy as opposed to sick. Under any circumstance, simply do your best, and you will avoid self-judgment, self-abuse and regret\"\n",
    "\n",
    "pattern = input()\n",
    "\n",
    "len(re.findall(pattern,quote))\n",
    "\n"
   ]
  },
  {
   "cell_type": "markdown",
   "metadata": {},
   "source": [
    "The regex search returns an object with several methods that give details about it.\n",
    "These methods include group which returns the string matched, start and end which return the start and ending positions of the first match, and span which returns the start and end positions of the first match as a tuple.\n",
    "\n",
    "Example:"
   ]
  },
  {
   "cell_type": "code",
   "execution_count": 13,
   "metadata": {},
   "outputs": [
    {
     "name": "stdout",
     "output_type": "stream",
     "text": [
      "pam\n",
      "4\n",
      "7\n",
      "(4, 7)\n"
     ]
    }
   ],
   "source": [
    "import re\n",
    "\n",
    "pattern = r\"pam\"\n",
    "\n",
    "match = re.search(pattern, \"eggspamsausage\")\n",
    "if match:\n",
    "    print(match.group())\n",
    "    print(match.start())\n",
    "    print(match.end())\n",
    "    print(match.span())"
   ]
  },
  {
   "cell_type": "markdown",
   "metadata": {},
   "source": [
    "### Search and replace"
   ]
  },
  {
   "cell_type": "code",
   "execution_count": 8,
   "metadata": {},
   "outputs": [
    {
     "name": "stdout",
     "output_type": "stream",
     "text": [
      "My name is Amy. Hi Amy.\n"
     ]
    }
   ],
   "source": [
    "import re\n",
    "\n",
    "str = \"My name is David. Hi David.\"\n",
    "pattern = r\"David\"\n",
    "newstr = re.sub(pattern, \"Amy\", str)\n",
    "print(newstr)"
   ]
  },
  {
   "cell_type": "markdown",
   "metadata": {},
   "source": [
    "We need to create a number formatting system for a contacts database.\n",
    "Create a program that will take the phone number as input, and if the number starts with \"00\", replace them with \"+\".\n",
    "The number should be printed after formatting."
   ]
  },
  {
   "cell_type": "code",
   "execution_count": 12,
   "metadata": {},
   "outputs": [
    {
     "name": "stdout",
     "output_type": "stream",
     "text": [
      "+161\n"
     ]
    }
   ],
   "source": [
    "import re\n",
    "\n",
    "number = input()\n",
    "pattern = r\"00\"\n",
    "\n",
    "if number[0] == \"0\":\n",
    "    newstr = re.sub(pattern, \"+\", number)\n",
    "\n",
    "else:\n",
    "    newstr = number\n",
    "\n",
    "print(newstr)\n"
   ]
  },
  {
   "cell_type": "markdown",
   "metadata": {},
   "source": [
    "### Metacharacters\n",
    "\n",
    "Metacharacters are what make regular expressions more powerful than normal string methods.\n",
    "They allow you to create regular expressions to represent concepts like \"one or more repetitions of a vowel\".\n",
    "\n",
    "The existence of metacharacters poses a problem if you want to create a regular expression (or regex) that matches a literal metacharacter, such as \"$\". You can do this by escaping the metacharacters by putting a backslash in front of them.\n",
    "However, this can cause problems, since backslashes also have an escaping function in normal Python strings. This can mean putting three or four backslashes in a row to do all the escaping.\n"
   ]
  },
  {
   "cell_type": "code",
   "execution_count": 22,
   "metadata": {},
   "outputs": [
    {
     "name": "stdout",
     "output_type": "stream",
     "text": [
      "Match 1\n",
      "Match 2\n"
     ]
    }
   ],
   "source": [
    "# . (Dot)\n",
    "\n",
    "#The first metacharacter we will look at is . (dot).\n",
    "#This matches any character, other than a new line.\n",
    "\n",
    "import re\n",
    "\n",
    "pattern = r\"gr.y\"\n",
    "\n",
    "if re.match(pattern, \"grey\"):\n",
    "    print(\"Match 1\")\n",
    "\n",
    "if re.match(pattern, \"gray\"):\n",
    "    print(\"Match 2\")\n",
    "\n",
    "if re.match(pattern, \"blue\"):\n",
    "    print(\"Match 3\")"
   ]
  },
  {
   "cell_type": "code",
   "execution_count": 17,
   "metadata": {},
   "outputs": [
    {
     "name": "stdout",
     "output_type": "stream",
     "text": [
      "Match 1\n",
      "Match 2\n"
     ]
    }
   ],
   "source": [
    "#Start and end\n",
    "import re\n",
    "\n",
    "pattern = r\"^gr.y$\"\n",
    "\n",
    "if re.match(pattern, \"grey\"):\n",
    "    print(\"Match 1\")\n",
    "\n",
    "if re.match(pattern, \"gray\"):\n",
    "    print(\"Match 2\")\n",
    "\n",
    "if re.match(pattern, \"stingray\"):\n",
    "    print(\"Match 3\")"
   ]
  },
  {
   "cell_type": "code",
   "execution_count": 19,
   "metadata": {},
   "outputs": [
    {
     "name": "stdout",
     "output_type": "stream",
     "text": [
      "Match 1\n",
      "Match 2\n"
     ]
    }
   ],
   "source": [
    "# Character classes []\n",
    "\n",
    "import re\n",
    "\n",
    "pattern = r\"[aeiou]\"\n",
    "\n",
    "if re.search(pattern, \"grey\"):\n",
    "    print(\"Match 1\")\n",
    "\n",
    "if re.search(pattern, \"qwertyuiop\"):\n",
    "    print(\"Match 2\")\n",
    "\n",
    "if re.search(pattern, \"rhythm myths\"):\n",
    "    print(\"Match 3\")"
   ]
  },
  {
   "cell_type": "code",
   "execution_count": 18,
   "metadata": {},
   "outputs": [
    {
     "name": "stdout",
     "output_type": "stream",
     "text": [
      "Match 1\n",
      "Match 2\n"
     ]
    }
   ],
   "source": [
    "# ^ Invert a character class \n",
    "\n",
    "import re\n",
    "\n",
    "pattern = r\"[^A-Z]\"\n",
    "\n",
    "if re.search(pattern, \"this is all quiet\"):\n",
    "    print(\"Match 1\")\n",
    "\n",
    "if re.search(pattern, \"AbCdEfG123\"):\n",
    "    print(\"Match 2\")\n",
    "\n",
    "if re.search(pattern, \"THISISALLSHOUTING\"):\n",
    "    print(\"Match 3\")"
   ]
  },
  {
   "cell_type": "code",
   "execution_count": 21,
   "metadata": {},
   "outputs": [
    {
     "name": "stdout",
     "output_type": "stream",
     "text": [
      "Searching\n"
     ]
    }
   ],
   "source": [
    "#All the products in online shop have their own ID. Every ID consists of 4 symbols:\n",
    "#The first symbol: an uppercase character\n",
    "#The second symbol: an uppercase character\n",
    "#The third symbol: a digit\n",
    "#The forth symbol: a digit\n",
    "\n",
    "import re\n",
    "Id = input()\n",
    "\n",
    "if re.match(r\"[A-Z][A-Z][0-9][0-9]$\",Id):\n",
    "    print(\"Searching\")\n",
    "else:\n",
    "    print(\"Wrong format\")"
   ]
  },
  {
   "cell_type": "code",
   "execution_count": 30,
   "metadata": {},
   "outputs": [
    {
     "name": "stdout",
     "output_type": "stream",
     "text": [
      "Match 1\n",
      "Match 2\n"
     ]
    }
   ],
   "source": [
    "# *\n",
    "# The example above matches strings that start with \"egg\" and follow with zero or more \"spam\"s.\n",
    "\n",
    "import re\n",
    "\n",
    "pattern = r\"egg(spam)*\"\n",
    "\n",
    "if re.match(pattern, \"egg\"):\n",
    "    print(\"Match 1\")\n",
    "\n",
    "if re.match(pattern, \"eggspamspamegg\"):\n",
    "    print(\"Match 2\")\n",
    "\n",
    "if re.match(pattern, \"spam\"):\n",
    "    print(\"Match 3\")"
   ]
  },
  {
   "cell_type": "code",
   "execution_count": 26,
   "metadata": {},
   "outputs": [
    {
     "name": "stdout",
     "output_type": "stream",
     "text": [
      "Match 1\n",
      "Match 2\n"
     ]
    }
   ],
   "source": [
    "# + \n",
    "# Means \"one or more repetitions\", as opposed to \"zero or more repetitions\".\n",
    "\n",
    "import re\n",
    "\n",
    "pattern = r\"g+\"\n",
    "\n",
    "if re.match(pattern, \"g\"):\n",
    "    print(\"Match 1\")\n",
    "\n",
    "if re.match(pattern, \"gggggggggggggg\"):\n",
    "    print(\"Match 2\")\n",
    "\n",
    "if re.match(pattern, \"agbc\"):\n",
    "    print(\"Match 3\")"
   ]
  },
  {
   "cell_type": "code",
   "execution_count": 27,
   "metadata": {},
   "outputs": [
    {
     "name": "stdout",
     "output_type": "stream",
     "text": [
      "Match 1\n",
      "Match 2\n"
     ]
    }
   ],
   "source": [
    "# ?\n",
    "# The metacharacter ? means \"zero or one repetitions\"\n",
    "\n",
    "import re\n",
    "\n",
    "pattern = r\"ice(-)?cream\"\n",
    "\n",
    "if re.match(pattern, \"ice-cream\"):\n",
    "    print(\"Match 1\")\n",
    "\n",
    "if re.match(pattern, \"icecream\"):\n",
    "    print(\"Match 2\")\n",
    "\n",
    "if re.match(pattern, \"sausages\"):\n",
    "    print(\"Match 3\")\n",
    "\n",
    "if re.match(pattern, \"ice--cream\"):\n",
    "    print(\"Match 4\")"
   ]
  },
  {
   "cell_type": "markdown",
   "metadata": {},
   "source": [
    "```Curly braces can be used to represent the number of repetitions between two numbers.\n",
    "The regex {x,y} means \"between x and y repetitions of something\".\n",
    "Hence {0,1} is the same thing as ?.\n",
    "If the first number is missing, it is taken to be zero. If the second number is missing, it is taken to be infinity.\n",
    "```"
   ]
  },
  {
   "cell_type": "code",
   "execution_count": 28,
   "metadata": {},
   "outputs": [
    {
     "name": "stdout",
     "output_type": "stream",
     "text": [
      "Match 1\n",
      "Match 2\n"
     ]
    }
   ],
   "source": [
    "import re\n",
    "\n",
    "pattern = r\"9{1,3}$\"\n",
    "\n",
    "if re.match(pattern, \"9\"):\n",
    "    print(\"Match 1\")\n",
    "\n",
    "if re.match(pattern, \"999\"):\n",
    "    print(\"Match 2\")\n",
    "\n",
    "if re.match(pattern, \"9999\"):\n",
    "    print(\"Match 3\")"
   ]
  },
  {
   "cell_type": "code",
   "execution_count": 31,
   "metadata": {},
   "outputs": [
    {
     "name": "stdout",
     "output_type": "stream",
     "text": [
      "Password created\n"
     ]
    }
   ],
   "source": [
    "#Let's imagine we are creating our own authentication system.\n",
    "#Create a program that takes a password as input and returns \"Password created\" if\n",
    "#- it has at least one uppercase character\n",
    "#- it has at least one number\n",
    "\n",
    "import re\n",
    "password = input()\n",
    "\n",
    "if re.search( r\"(?=.*[A-Z])(?=.*[0-9])\", password):\n",
    "    print(\"Password created\")\n",
    "else:\n",
    "    print(\"Wrong format\")\n",
    "    \n"
   ]
  },
  {
   "cell_type": "markdown",
   "metadata": {},
   "source": [
    "### Groups\n",
    "\n",
    "A group can be created by surrounding part of a regular expression with parentheses.\n",
    "This means that a group can be given as an argument to metacharacters such as * and ?.\n",
    "\n",
    "Example:"
   ]
  },
  {
   "cell_type": "code",
   "execution_count": 1,
   "metadata": {},
   "outputs": [
    {
     "name": "stdout",
     "output_type": "stream",
     "text": [
      "Match 1\n",
      "Match 2\n"
     ]
    }
   ],
   "source": [
    "import re\n",
    "\n",
    "pattern = r\"egg(spam)*\"\n",
    "\n",
    "if re.match(pattern, \"egg\"):\n",
    "    print(\"Match 1\")\n",
    "\n",
    "if re.match(pattern, \"eggspamspamspamegg\"):\n",
    "    print(\"Match 2\")\n",
    "\n",
    "if re.match(pattern, \"spam\"):\n",
    "    print(\"Match 3\")"
   ]
  },
  {
   "cell_type": "markdown",
   "metadata": {},
   "source": [
    "The content of groups in a match can be accessed using the group function.\n",
    "A call of group(0) or group() returns the whole match.\n",
    "\n",
    "A call of group(n), where n is greater than 0, returns the nth group from the left.\n",
    "The method groups() returns all groups up from 1.\n",
    "\n",
    "Example:"
   ]
  },
  {
   "cell_type": "code",
   "execution_count": 2,
   "metadata": {},
   "outputs": [
    {
     "name": "stdout",
     "output_type": "stream",
     "text": [
      "abcdefghi\n",
      "abcdefghi\n",
      "bc\n",
      "de\n",
      "('bc', 'de', 'fgh', 'g')\n"
     ]
    }
   ],
   "source": [
    "import re\n",
    "\n",
    "pattern = r\"a(bc)(de)(f(g)h)i\"\n",
    "\n",
    "match = re.match(pattern, \"abcdefghijklmnop\")\n",
    "if match:\n",
    "    print(match.group())\n",
    "    print(match.group(0))\n",
    "    print(match.group(1))\n",
    "    print(match.group(2))\n",
    "    print(match.groups())"
   ]
  },
  {
   "cell_type": "markdown",
   "metadata": {},
   "source": [
    "There are several kinds of special groups.\n",
    "Two useful ones are named groups and non-capturing groups.\n",
    "Named groups have the format (?P<name>...), where name is the name of the group, and ... is the content. They behave exactly the same as normal groups, except they can be accessed by group(name) in addition to its number.\n",
    "Non-capturing groups have the format (?:...). They are not accessible by the group method, so they can be added to an existing regular expression without breaking the numbering.\n",
    "\n",
    "Example:"
   ]
  },
  {
   "cell_type": "code",
   "execution_count": 3,
   "metadata": {},
   "outputs": [
    {
     "name": "stdout",
     "output_type": "stream",
     "text": [
      "abc\n",
      "('abc', 'ghi')\n"
     ]
    }
   ],
   "source": [
    "import re\n",
    "\n",
    "pattern = r\"(?P<first>abc)(?:def)(ghi)\"\n",
    "\n",
    "match = re.match(pattern, \"abcdefghi\")\n",
    "if match:\n",
    "    print(match.group(\"first\"))\n",
    "    print(match.groups())"
   ]
  },
  {
   "cell_type": "code",
   "execution_count": 4,
   "metadata": {},
   "outputs": [
    {
     "name": "stdout",
     "output_type": "stream",
     "text": [
      "Match 1\n",
      "Match 2\n"
     ]
    }
   ],
   "source": [
    "# | (Or)\n",
    "\n",
    "import re\n",
    "\n",
    "pattern = r\"gr(a|e)y\"\n",
    "\n",
    "match = re.match(pattern, \"gray\")\n",
    "if match:\n",
    "    print (\"Match 1\")\n",
    "\n",
    "match = re.match(pattern, \"grey\")\n",
    "if match:\n",
    "    print (\"Match 2\")    \n",
    "\n",
    "match = re.match(pattern, \"griy\")\n",
    "if match:\n",
    "     print (\"Match 3\")"
   ]
  },
  {
   "cell_type": "markdown",
   "metadata": {},
   "source": [
    "### Special Sequences\n",
    "\n",
    "There are various special sequences you can use in regular expressions. They are written as a backslash followed by another character.\n",
    "One useful special sequence is a backslash and a number between 1 and 99, e.g., \\1 or \\17. This matches the expression of the group of that number.\n",
    "\n",
    "Example:"
   ]
  },
  {
   "cell_type": "code",
   "execution_count": 7,
   "metadata": {},
   "outputs": [
    {
     "name": "stdout",
     "output_type": "stream",
     "text": [
      "Match 1\n",
      "Match 2\n"
     ]
    }
   ],
   "source": [
    "import re\n",
    "\n",
    "pattern = r\"(.+) \\1\"\n",
    "\n",
    "match = re.match(pattern, \"word word\")\n",
    "if match:\n",
    "    print (\"Match 1\")\n",
    "\n",
    "match = re.match(pattern, \"?! ?!\")\n",
    "if match:\n",
    "    print (\"Match 2\")    \n",
    "\n",
    "match = re.match(pattern, \"abc cde\")\n",
    "if match:\n",
    "    print (\"Match 3\")"
   ]
  },
  {
   "cell_type": "markdown",
   "metadata": {},
   "source": [
    "More useful special sequences are \\d, \\s, and \\w.\n",
    "These match digits, whitespace, and word characters respectively.\n",
    "In ASCII mode they are equivalent to [0-9], [ \\t\\n\\r\\f\\v], and [a-zA-Z0-9_].\n",
    "In Unicode mode they match certain other characters, as well. For instance, \\w matches letters with accents.\n",
    "Versions of these special sequences with upper case letters - \\D, \\S, and \\W - mean the opposite to the lower-case versions. For instance, \\D matches anything that isn't a digit.\n",
    "\n",
    "Example:"
   ]
  },
  {
   "cell_type": "code",
   "execution_count": 8,
   "metadata": {},
   "outputs": [
    {
     "name": "stdout",
     "output_type": "stream",
     "text": [
      "Match 1\n"
     ]
    }
   ],
   "source": [
    "import re\n",
    "\n",
    "pattern = r\"(\\D+\\d)\"\n",
    "\n",
    "match = re.match(pattern, \"Hi 999!\")\n",
    "if match:\n",
    "    print(\"Match 1\")\n",
    "\n",
    "match = re.match(pattern, \"1, 23, 456!\")\n",
    "if match:\n",
    "    print(\"Match 2\")\n",
    "\n",
    "match = re.match(pattern, \" ! $?\")\n",
    "if match:\n",
    "    print(\"Match 3\")"
   ]
  },
  {
   "cell_type": "markdown",
   "metadata": {},
   "source": [
    "Additional special sequences are \\A, \\Z, and \\b.\n",
    "The sequences \\A and \\Z match the beginning and end of a string, respectively.\n",
    "The sequence \\b matches the empty string between \\w and \\W characters, or \\w characters and the beginning or end of the string. Informally, it represents the boundary between words.\n",
    "The sequence \\B matches the empty string anywhere else.\n",
    "\n",
    "Example:"
   ]
  },
  {
   "cell_type": "code",
   "execution_count": 10,
   "metadata": {},
   "outputs": [
    {
     "name": "stdout",
     "output_type": "stream",
     "text": [
      "Match 1\n",
      "Match 2\n"
     ]
    }
   ],
   "source": [
    "import re\n",
    "\n",
    "pattern = r\"\\b(cat)\\b\"\n",
    "\n",
    "match = re.search(pattern, \"The cat sat!\")\n",
    "if match:\n",
    "    print (\"Match 1\")\n",
    "\n",
    "match = re.search(pattern, \"We s>cat<tered?\")\n",
    "if match:\n",
    "    print (\"Match 2\")\n",
    "\n",
    "match = re.search(pattern, \"We scattered.\")\n",
    "if match:\n",
    "    print (\"Match 3\")\n",
    "\n",
    "# \\b(cat)\\b\" basically matches the word \"cat\" surrounded by word boundaries."
   ]
  },
  {
   "cell_type": "code",
   "execution_count": 14,
   "metadata": {},
   "outputs": [
    {
     "name": "stdout",
     "output_type": "stream",
     "text": [
      "#pressure\n",
      "#diamonds\n"
     ]
    }
   ],
   "source": [
    "#Sample Input\n",
    "# No #pressure, no #diamonds\n",
    "\n",
    "#Sample Output\n",
    " #pressure\n",
    " #diamonds\n",
    "\n",
    "import re\n",
    "text = \"No #pressure, no #diamonds\"\n",
    "#your code goes here\n",
    "#use re.findall() with r\"#\\w+\" as the regex\n",
    "\n",
    "match = re.findall( r\"#\\w+\", text)\n",
    "\n",
    "for i in match:\n",
    "    print(i)\n"
   ]
  },
  {
   "cell_type": "markdown",
   "metadata": {},
   "source": [
    "### Email Extraction"
   ]
  },
  {
   "cell_type": "markdown",
   "metadata": {},
   "source": [
    "Email Extraction\n",
    "\n",
    "\n",
    "To demonstrate a sample usage of regular expressions, lets create a program to extract email addresses from a string.\n",
    "Suppose we have a text that contains an email address:\n",
    "\n",
    "str = \"Please contact info@sololearn.com for assistance\"\n",
    "\n",
    "Our goal is to extract the substring \"info@sololearn.com\".\n",
    "A basic email address consists of a word and may include dots or dashes. This is followed by the @ sign and the domain name (the name, a dot, and the domain name suffix).\n",
    "This is the basis for building our regular expression.\n",
    "\n",
    "pattern = r\"([\\w\\.-]+)@([\\w\\.-]+)(\\.[\\w\\.]+)\"\n",
    "\n",
    "[\\w\\.-]+ matches one or more word character, dot or dash.\n",
    "The regex above says that the string should contain a word (with dots and dashes allowed), followed by the @ sign, then another similar word, then a dot and another word.\n",
    "\n",
    "Our regex contains three groups:\n",
    "\n",
    "1 - first part of the email address.\n",
    "\n",
    "2 - domain name without the suffix.\n",
    "\n",
    "3 - the domain suffix."
   ]
  },
  {
   "cell_type": "code",
   "execution_count": 16,
   "metadata": {},
   "outputs": [
    {
     "name": "stdout",
     "output_type": "stream",
     "text": [
      "info@sololearn.com\n"
     ]
    }
   ],
   "source": [
    "import re\n",
    "\n",
    "pattern = r\"([\\w\\.-]+)@([\\w\\.-]+)(\\.[\\w\\.]+)\"\n",
    "str = \"Please contact info@sololearn.com for assistance\"\n",
    "\n",
    "match = re.search(pattern, str)\n",
    "if match:\n",
    "    print(match.group())"
   ]
  },
  {
   "cell_type": "markdown",
   "metadata": {},
   "source": [
    "### Excersice"
   ]
  },
  {
   "cell_type": "code",
   "execution_count": 23,
   "metadata": {},
   "outputs": [
    {
     "name": "stdout",
     "output_type": "stream",
     "text": [
      "Valid\n"
     ]
    }
   ],
   "source": [
    "import re\n",
    "\n",
    "pattern = r\"^[819].......$\"\n",
    "number = input()\n",
    "\n",
    "match = re.search(pattern, number)\n",
    "if match:\n",
    "    print(\"Valid\")\n",
    "else:\n",
    "    print(\"Invalid\")"
   ]
  }
 ],
 "metadata": {
  "interpreter": {
   "hash": "6f293cff23337c42d9b2abd40d6329a0ae8508cd838b4363f7d47f9cb63458ad"
  },
  "kernelspec": {
   "display_name": "Python 3.8.5 64-bit ('base': conda)",
   "name": "python3"
  },
  "language_info": {
   "codemirror_mode": {
    "name": "ipython",
    "version": 3
   },
   "file_extension": ".py",
   "mimetype": "text/x-python",
   "name": "python",
   "nbconvert_exporter": "python",
   "pygments_lexer": "ipython3",
   "version": "3.8.5"
  },
  "orig_nbformat": 4
 },
 "nbformat": 4,
 "nbformat_minor": 2
}
