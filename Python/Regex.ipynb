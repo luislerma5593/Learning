{
 "cells": [
  {
   "cell_type": "markdown",
   "source": [
    "# Python"
   ],
   "metadata": {}
  },
  {
   "cell_type": "markdown",
   "source": [
    "---"
   ],
   "metadata": {}
  },
  {
   "cell_type": "markdown",
   "source": [
    "# Regular Expressions\r\n",
    "\r\n",
    "Regular expressions are a powerful tool for various kinds of string manipulation.\r\n",
    "They are a domain specific language (DSL) that is present as a library in most modern programming languages, not just Python.\r\n",
    "They are useful for two main tasks:\r\n",
    "- verifying that strings match a pattern (for instance, that a string has the format of an email address),\r\n",
    "- performing substitutions in a string (such as changing all American spellings to British ones).\r\n"
   ],
   "metadata": {}
  },
  {
   "cell_type": "markdown",
   "source": [
    "Regular expressions in Python can be accessed using the re module, which is part of the standard library.\r\n",
    "After you've defined a regular expression, the re.match function can be used to determine whether it matches at the beginning of a string.\r\n",
    "If it does, match returns an object representing the match, if not, it returns None.\r\n",
    "To avoid any confusion while working with regular expressions, we would use raw strings as r\"expression\".\r\n",
    "Raw strings don't escape anything, which makes use of regular expressions easier."
   ],
   "metadata": {}
  },
  {
   "cell_type": "code",
   "execution_count": 2,
   "source": [
    "import re\r\n",
    "word = input()\r\n",
    "\r\n",
    "pattern = r\"gl\"\r\n",
    "\r\n",
    "if re.match(pattern, word):\r\n",
    "    print(\"Match\")\r\n",
    "else:\r\n",
    "    print(\"No match\")"
   ],
   "outputs": [
    {
     "output_type": "stream",
     "name": "stdout",
     "text": [
      "Match\n"
     ]
    }
   ],
   "metadata": {}
  },
  {
   "cell_type": "markdown",
   "source": [
    "Other functions to match patterns are re.search and re.findall.\r\n",
    "\r\n",
    "The function re.search finds a match of a pattern anywhere in the string.\r\n",
    "\r\n",
    "The function re.findall returns a list of all substrings that match a pattern."
   ],
   "metadata": {}
  },
  {
   "cell_type": "code",
   "execution_count": 4,
   "source": [
    "import re\r\n",
    "\r\n",
    "pattern = r\"spam\"\r\n",
    "\r\n",
    "if re.match(pattern, \"eggspamsausagespam\"):\r\n",
    "    print(\"Match\")\r\n",
    "else:\r\n",
    "    print(\"No match\")\r\n",
    "\r\n",
    "if re.search(pattern, \"eggspamsausagespam\"):\r\n",
    "    print(\"Match\")\r\n",
    "else:\r\n",
    "    print(\"No match\")\r\n",
    "\r\n",
    "print(re.findall(pattern, \"eggspamsausagespam\"))"
   ],
   "outputs": [
    {
     "output_type": "stream",
     "name": "stdout",
     "text": [
      "No match\n",
      "Match\n",
      "['spam', 'spam']\n"
     ]
    }
   ],
   "metadata": {}
  },
  {
   "cell_type": "code",
   "execution_count": 7,
   "source": [
    "import re\r\n",
    "\r\n",
    "quote = \"Always do your best. Your best is going to change from moment to moment; it will be different when you are healthy as opposed to sick. Under any circumstance, simply do your best, and you will avoid self-judgment, self-abuse and regret\"\r\n",
    "\r\n",
    "pattern = input()\r\n",
    "\r\n",
    "len(re.findall(pattern,quote))\r\n",
    "\r\n"
   ],
   "outputs": [
    {
     "output_type": "execute_result",
     "data": {
      "text/plain": [
       "3"
      ]
     },
     "metadata": {},
     "execution_count": 7
    }
   ],
   "metadata": {}
  },
  {
   "cell_type": "markdown",
   "source": [
    "The regex search returns an object with several methods that give details about it.\r\n",
    "These methods include group which returns the string matched, start and end which return the start and ending positions of the first match, and span which returns the start and end positions of the first match as a tuple.\r\n",
    "\r\n",
    "Example:"
   ],
   "metadata": {}
  },
  {
   "cell_type": "code",
   "execution_count": 13,
   "source": [
    "import re\r\n",
    "\r\n",
    "pattern = r\"pam\"\r\n",
    "\r\n",
    "match = re.search(pattern, \"eggspamsausage\")\r\n",
    "if match:\r\n",
    "    print(match.group())\r\n",
    "    print(match.start())\r\n",
    "    print(match.end())\r\n",
    "    print(match.span())"
   ],
   "outputs": [
    {
     "output_type": "stream",
     "name": "stdout",
     "text": [
      "pam\n",
      "4\n",
      "7\n",
      "(4, 7)\n"
     ]
    }
   ],
   "metadata": {}
  },
  {
   "cell_type": "markdown",
   "source": [
    "### Search and replace"
   ],
   "metadata": {}
  },
  {
   "cell_type": "code",
   "execution_count": 8,
   "source": [
    "import re\r\n",
    "\r\n",
    "str = \"My name is David. Hi David.\"\r\n",
    "pattern = r\"David\"\r\n",
    "newstr = re.sub(pattern, \"Amy\", str)\r\n",
    "print(newstr)"
   ],
   "outputs": [
    {
     "output_type": "stream",
     "name": "stdout",
     "text": [
      "My name is Amy. Hi Amy.\n"
     ]
    }
   ],
   "metadata": {}
  },
  {
   "cell_type": "markdown",
   "source": [
    "We need to create a number formatting system for a contacts database.\r\n",
    "Create a program that will take the phone number as input, and if the number starts with \"00\", replace them with \"+\".\r\n",
    "The number should be printed after formatting."
   ],
   "metadata": {}
  },
  {
   "cell_type": "code",
   "execution_count": 12,
   "source": [
    "import re\r\n",
    "\r\n",
    "number = input()\r\n",
    "pattern = r\"00\"\r\n",
    "\r\n",
    "if number[0] == \"0\":\r\n",
    "    newstr = re.sub(pattern, \"+\", number)\r\n",
    "\r\n",
    "else:\r\n",
    "    newstr = number\r\n",
    "\r\n",
    "print(newstr)\r\n"
   ],
   "outputs": [
    {
     "output_type": "stream",
     "name": "stdout",
     "text": [
      "+161\n"
     ]
    }
   ],
   "metadata": {}
  },
  {
   "cell_type": "markdown",
   "source": [
    "### Metacharacters\r\n",
    "\r\n",
    "Metacharacters are what make regular expressions more powerful than normal string methods.\r\n",
    "They allow you to create regular expressions to represent concepts like \"one or more repetitions of a vowel\".\r\n",
    "\r\n",
    "The existence of metacharacters poses a problem if you want to create a regular expression (or regex) that matches a literal metacharacter, such as \"$\". You can do this by escaping the metacharacters by putting a backslash in front of them.\r\n",
    "However, this can cause problems, since backslashes also have an escaping function in normal Python strings. This can mean putting three or four backslashes in a row to do all the escaping.\r\n"
   ],
   "metadata": {}
  },
  {
   "cell_type": "markdown",
   "source": [
    "#### Dot"
   ],
   "metadata": {}
  },
  {
   "cell_type": "code",
   "execution_count": 16,
   "source": [
    "#The first metacharacter we will look at is . (dot).\r\n",
    "#This matches any character, other than a new line.\r\n",
    "\r\n",
    "import re\r\n",
    "\r\n",
    "pattern = r\"gr.y\"\r\n",
    "\r\n",
    "if re.match(pattern, \"grey\"):\r\n",
    "    print(\"Match 1\")\r\n",
    "\r\n",
    "if re.match(pattern, \"gray\"):\r\n",
    "    print(\"Match 2\")\r\n",
    "\r\n",
    "if re.match(pattern, \"blue\"):\r\n",
    "    print(\"Match 3\")"
   ],
   "outputs": [
    {
     "output_type": "stream",
     "name": "stdout",
     "text": [
      "Match 1\n",
      "Match 2\n"
     ]
    }
   ],
   "metadata": {}
  },
  {
   "cell_type": "code",
   "execution_count": 17,
   "source": [
    "#Start and end\r\n",
    "import re\r\n",
    "\r\n",
    "pattern = r\"^gr.y$\"\r\n",
    "\r\n",
    "if re.match(pattern, \"grey\"):\r\n",
    "    print(\"Match 1\")\r\n",
    "\r\n",
    "if re.match(pattern, \"gray\"):\r\n",
    "    print(\"Match 2\")\r\n",
    "\r\n",
    "if re.match(pattern, \"stingray\"):\r\n",
    "    print(\"Match 3\")"
   ],
   "outputs": [
    {
     "output_type": "stream",
     "name": "stdout",
     "text": [
      "Match 1\n",
      "Match 2\n"
     ]
    }
   ],
   "metadata": {}
  },
  {
   "cell_type": "code",
   "execution_count": null,
   "source": [],
   "outputs": [],
   "metadata": {}
  },
  {
   "cell_type": "code",
   "execution_count": null,
   "source": [],
   "outputs": [],
   "metadata": {}
  }
 ],
 "metadata": {
  "orig_nbformat": 4,
  "language_info": {
   "name": "python",
   "version": "3.8.5",
   "mimetype": "text/x-python",
   "codemirror_mode": {
    "name": "ipython",
    "version": 3
   },
   "pygments_lexer": "ipython3",
   "nbconvert_exporter": "python",
   "file_extension": ".py"
  },
  "kernelspec": {
   "name": "python3",
   "display_name": "Python 3.8.5 64-bit ('base': conda)"
  },
  "interpreter": {
   "hash": "6f293cff23337c42d9b2abd40d6329a0ae8508cd838b4363f7d47f9cb63458ad"
  }
 },
 "nbformat": 4,
 "nbformat_minor": 2
}