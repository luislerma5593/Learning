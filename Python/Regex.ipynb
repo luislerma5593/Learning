{
 "cells": [
  {
   "cell_type": "markdown",
   "source": [
    "# Python"
   ],
   "metadata": {}
  },
  {
   "cell_type": "markdown",
   "source": [
    "---"
   ],
   "metadata": {}
  },
  {
   "cell_type": "markdown",
   "source": [
    "# Regular Expressions\r\n",
    "\r\n",
    "Regular expressions are a powerful tool for various kinds of string manipulation.\r\n",
    "They are a domain specific language (DSL) that is present as a library in most modern programming languages, not just Python.\r\n",
    "They are useful for two main tasks:\r\n",
    "- verifying that strings match a pattern (for instance, that a string has the format of an email address),\r\n",
    "- performing substitutions in a string (such as changing all American spellings to British ones).\r\n"
   ],
   "metadata": {}
  },
  {
   "cell_type": "markdown",
   "source": [
    "Regular expressions in Python can be accessed using the re module, which is part of the standard library.\r\n",
    "After you've defined a regular expression, the re.match function can be used to determine whether it matches at the beginning of a string.\r\n",
    "If it does, match returns an object representing the match, if not, it returns None.\r\n",
    "To avoid any confusion while working with regular expressions, we would use raw strings as r\"expression\".\r\n",
    "Raw strings don't escape anything, which makes use of regular expressions easier."
   ],
   "metadata": {}
  },
  {
   "cell_type": "code",
   "execution_count": 2,
   "source": [
    "import re\r\n",
    "word = input()\r\n",
    "\r\n",
    "pattern = r\"gl\"\r\n",
    "\r\n",
    "if re.match(pattern, word):\r\n",
    "    print(\"Match\")\r\n",
    "else:\r\n",
    "    print(\"No match\")"
   ],
   "outputs": [
    {
     "output_type": "stream",
     "name": "stdout",
     "text": [
      "Match\n"
     ]
    }
   ],
   "metadata": {}
  },
  {
   "cell_type": "markdown",
   "source": [
    "Other functions to match patterns are re.search and re.findall.\r\n",
    "\r\n",
    "The function re.search finds a match of a pattern anywhere in the string.\r\n",
    "\r\n",
    "The function re.findall returns a list of all substrings that match a pattern."
   ],
   "metadata": {}
  },
  {
   "cell_type": "code",
   "execution_count": 4,
   "source": [
    "import re\r\n",
    "\r\n",
    "pattern = r\"spam\"\r\n",
    "\r\n",
    "if re.match(pattern, \"eggspamsausagespam\"):\r\n",
    "    print(\"Match\")\r\n",
    "else:\r\n",
    "    print(\"No match\")\r\n",
    "\r\n",
    "if re.search(pattern, \"eggspamsausagespam\"):\r\n",
    "    print(\"Match\")\r\n",
    "else:\r\n",
    "    print(\"No match\")\r\n",
    "\r\n",
    "print(re.findall(pattern, \"eggspamsausagespam\"))"
   ],
   "outputs": [
    {
     "output_type": "stream",
     "name": "stdout",
     "text": [
      "No match\n",
      "Match\n",
      "['spam', 'spam']\n"
     ]
    }
   ],
   "metadata": {}
  },
  {
   "cell_type": "code",
   "execution_count": 7,
   "source": [
    "import re\r\n",
    "\r\n",
    "quote = \"Always do your best. Your best is going to change from moment to moment; it will be different when you are healthy as opposed to sick. Under any circumstance, simply do your best, and you will avoid self-judgment, self-abuse and regret\"\r\n",
    "\r\n",
    "pattern = input()\r\n",
    "\r\n",
    "len(re.findall(pattern,quote))\r\n",
    "\r\n"
   ],
   "outputs": [
    {
     "output_type": "execute_result",
     "data": {
      "text/plain": [
       "3"
      ]
     },
     "metadata": {},
     "execution_count": 7
    }
   ],
   "metadata": {}
  },
  {
   "cell_type": "markdown",
   "source": [
    "The regex search returns an object with several methods that give details about it.\r\n",
    "These methods include group which returns the string matched, start and end which return the start and ending positions of the first match, and span which returns the start and end positions of the first match as a tuple.\r\n",
    "\r\n",
    "Example:"
   ],
   "metadata": {}
  },
  {
   "cell_type": "code",
   "execution_count": 13,
   "source": [
    "import re\r\n",
    "\r\n",
    "pattern = r\"pam\"\r\n",
    "\r\n",
    "match = re.search(pattern, \"eggspamsausage\")\r\n",
    "if match:\r\n",
    "    print(match.group())\r\n",
    "    print(match.start())\r\n",
    "    print(match.end())\r\n",
    "    print(match.span())"
   ],
   "outputs": [
    {
     "output_type": "stream",
     "name": "stdout",
     "text": [
      "pam\n",
      "4\n",
      "7\n",
      "(4, 7)\n"
     ]
    }
   ],
   "metadata": {}
  },
  {
   "cell_type": "markdown",
   "source": [
    "### Search and replace"
   ],
   "metadata": {}
  },
  {
   "cell_type": "code",
   "execution_count": 8,
   "source": [
    "import re\r\n",
    "\r\n",
    "str = \"My name is David. Hi David.\"\r\n",
    "pattern = r\"David\"\r\n",
    "newstr = re.sub(pattern, \"Amy\", str)\r\n",
    "print(newstr)"
   ],
   "outputs": [
    {
     "output_type": "stream",
     "name": "stdout",
     "text": [
      "My name is Amy. Hi Amy.\n"
     ]
    }
   ],
   "metadata": {}
  },
  {
   "cell_type": "markdown",
   "source": [
    "We need to create a number formatting system for a contacts database.\r\n",
    "Create a program that will take the phone number as input, and if the number starts with \"00\", replace them with \"+\".\r\n",
    "The number should be printed after formatting."
   ],
   "metadata": {}
  },
  {
   "cell_type": "code",
   "execution_count": 12,
   "source": [
    "import re\r\n",
    "\r\n",
    "number = input()\r\n",
    "pattern = r\"00\"\r\n",
    "\r\n",
    "if number[0] == \"0\":\r\n",
    "    newstr = re.sub(pattern, \"+\", number)\r\n",
    "\r\n",
    "else:\r\n",
    "    newstr = number\r\n",
    "\r\n",
    "print(newstr)\r\n"
   ],
   "outputs": [
    {
     "output_type": "stream",
     "name": "stdout",
     "text": [
      "+161\n"
     ]
    }
   ],
   "metadata": {}
  },
  {
   "cell_type": "markdown",
   "source": [
    "### Metacharacters\r\n",
    "\r\n",
    "Metacharacters are what make regular expressions more powerful than normal string methods.\r\n",
    "They allow you to create regular expressions to represent concepts like \"one or more repetitions of a vowel\".\r\n",
    "\r\n",
    "The existence of metacharacters poses a problem if you want to create a regular expression (or regex) that matches a literal metacharacter, such as \"$\". You can do this by escaping the metacharacters by putting a backslash in front of them.\r\n",
    "However, this can cause problems, since backslashes also have an escaping function in normal Python strings. This can mean putting three or four backslashes in a row to do all the escaping.\r\n"
   ],
   "metadata": {}
  },
  {
   "cell_type": "code",
   "execution_count": 22,
   "source": [
    "# . (Dot)\r\n",
    "\r\n",
    "#The first metacharacter we will look at is . (dot).\r\n",
    "#This matches any character, other than a new line.\r\n",
    "\r\n",
    "import re\r\n",
    "\r\n",
    "pattern = r\"gr.y\"\r\n",
    "\r\n",
    "if re.match(pattern, \"grey\"):\r\n",
    "    print(\"Match 1\")\r\n",
    "\r\n",
    "if re.match(pattern, \"gray\"):\r\n",
    "    print(\"Match 2\")\r\n",
    "\r\n",
    "if re.match(pattern, \"blue\"):\r\n",
    "    print(\"Match 3\")"
   ],
   "outputs": [
    {
     "output_type": "stream",
     "name": "stdout",
     "text": [
      "Match 1\n",
      "Match 2\n"
     ]
    }
   ],
   "metadata": {}
  },
  {
   "cell_type": "code",
   "execution_count": 17,
   "source": [
    "#Start and end\r\n",
    "import re\r\n",
    "\r\n",
    "pattern = r\"^gr.y$\"\r\n",
    "\r\n",
    "if re.match(pattern, \"grey\"):\r\n",
    "    print(\"Match 1\")\r\n",
    "\r\n",
    "if re.match(pattern, \"gray\"):\r\n",
    "    print(\"Match 2\")\r\n",
    "\r\n",
    "if re.match(pattern, \"stingray\"):\r\n",
    "    print(\"Match 3\")"
   ],
   "outputs": [
    {
     "output_type": "stream",
     "name": "stdout",
     "text": [
      "Match 1\n",
      "Match 2\n"
     ]
    }
   ],
   "metadata": {}
  },
  {
   "cell_type": "code",
   "execution_count": 19,
   "source": [
    "# Character classes []\r\n",
    "\r\n",
    "import re\r\n",
    "\r\n",
    "pattern = r\"[aeiou]\"\r\n",
    "\r\n",
    "if re.search(pattern, \"grey\"):\r\n",
    "    print(\"Match 1\")\r\n",
    "\r\n",
    "if re.search(pattern, \"qwertyuiop\"):\r\n",
    "    print(\"Match 2\")\r\n",
    "\r\n",
    "if re.search(pattern, \"rhythm myths\"):\r\n",
    "    print(\"Match 3\")"
   ],
   "outputs": [
    {
     "output_type": "stream",
     "name": "stdout",
     "text": [
      "Match 1\n",
      "Match 2\n"
     ]
    }
   ],
   "metadata": {}
  },
  {
   "cell_type": "code",
   "execution_count": 18,
   "source": [
    "# ^ Invert a character class \r\n",
    "\r\n",
    "import re\r\n",
    "\r\n",
    "pattern = r\"[^A-Z]\"\r\n",
    "\r\n",
    "if re.search(pattern, \"this is all quiet\"):\r\n",
    "    print(\"Match 1\")\r\n",
    "\r\n",
    "if re.search(pattern, \"AbCdEfG123\"):\r\n",
    "    print(\"Match 2\")\r\n",
    "\r\n",
    "if re.search(pattern, \"THISISALLSHOUTING\"):\r\n",
    "    print(\"Match 3\")"
   ],
   "outputs": [
    {
     "output_type": "stream",
     "name": "stdout",
     "text": [
      "Match 1\n",
      "Match 2\n"
     ]
    }
   ],
   "metadata": {}
  },
  {
   "cell_type": "code",
   "execution_count": 21,
   "source": [
    "#All the products in online shop have their own ID. Every ID consists of 4 symbols:\r\n",
    "#The first symbol: an uppercase character\r\n",
    "#The second symbol: an uppercase character\r\n",
    "#The third symbol: a digit\r\n",
    "#The forth symbol: a digit\r\n",
    "\r\n",
    "import re\r\n",
    "Id = input()\r\n",
    "\r\n",
    "if re.match(r\"[A-Z][A-Z][0-9][0-9]$\",Id):\r\n",
    "    print(\"Searching\")\r\n",
    "else:\r\n",
    "    print(\"Wrong format\")"
   ],
   "outputs": [
    {
     "output_type": "stream",
     "name": "stdout",
     "text": [
      "Searching\n"
     ]
    }
   ],
   "metadata": {}
  },
  {
   "cell_type": "code",
   "execution_count": 30,
   "source": [
    "# *\r\n",
    "# The example above matches strings that start with \"egg\" and follow with zero or more \"spam\"s.\r\n",
    "\r\n",
    "import re\r\n",
    "\r\n",
    "pattern = r\"egg(spam)*\"\r\n",
    "\r\n",
    "if re.match(pattern, \"egg\"):\r\n",
    "    print(\"Match 1\")\r\n",
    "\r\n",
    "if re.match(pattern, \"eggspamspamegg\"):\r\n",
    "    print(\"Match 2\")\r\n",
    "\r\n",
    "if re.match(pattern, \"spam\"):\r\n",
    "    print(\"Match 3\")"
   ],
   "outputs": [
    {
     "output_type": "stream",
     "name": "stdout",
     "text": [
      "Match 1\n",
      "Match 2\n"
     ]
    }
   ],
   "metadata": {}
  },
  {
   "cell_type": "code",
   "execution_count": 26,
   "source": [
    "# + \r\n",
    "# Means \"one or more repetitions\", as opposed to \"zero or more repetitions\".\r\n",
    "\r\n",
    "import re\r\n",
    "\r\n",
    "pattern = r\"g+\"\r\n",
    "\r\n",
    "if re.match(pattern, \"g\"):\r\n",
    "    print(\"Match 1\")\r\n",
    "\r\n",
    "if re.match(pattern, \"gggggggggggggg\"):\r\n",
    "    print(\"Match 2\")\r\n",
    "\r\n",
    "if re.match(pattern, \"agbc\"):\r\n",
    "    print(\"Match 3\")"
   ],
   "outputs": [
    {
     "output_type": "stream",
     "name": "stdout",
     "text": [
      "Match 1\n",
      "Match 2\n"
     ]
    }
   ],
   "metadata": {}
  },
  {
   "cell_type": "code",
   "execution_count": 27,
   "source": [
    "# ?\r\n",
    "# The metacharacter ? means \"zero or one repetitions\"\r\n",
    "\r\n",
    "import re\r\n",
    "\r\n",
    "pattern = r\"ice(-)?cream\"\r\n",
    "\r\n",
    "if re.match(pattern, \"ice-cream\"):\r\n",
    "    print(\"Match 1\")\r\n",
    "\r\n",
    "if re.match(pattern, \"icecream\"):\r\n",
    "    print(\"Match 2\")\r\n",
    "\r\n",
    "if re.match(pattern, \"sausages\"):\r\n",
    "    print(\"Match 3\")\r\n",
    "\r\n",
    "if re.match(pattern, \"ice--cream\"):\r\n",
    "    print(\"Match 4\")"
   ],
   "outputs": [
    {
     "output_type": "stream",
     "name": "stdout",
     "text": [
      "Match 1\n",
      "Match 2\n"
     ]
    }
   ],
   "metadata": {}
  },
  {
   "cell_type": "markdown",
   "source": [
    "```Curly braces can be used to represent the number of repetitions between two numbers.\r\n",
    "The regex {x,y} means \"between x and y repetitions of something\".\r\n",
    "Hence {0,1} is the same thing as ?.\r\n",
    "If the first number is missing, it is taken to be zero. If the second number is missing, it is taken to be infinity.\r\n",
    "```"
   ],
   "metadata": {}
  },
  {
   "cell_type": "code",
   "execution_count": 28,
   "source": [
    "import re\r\n",
    "\r\n",
    "pattern = r\"9{1,3}$\"\r\n",
    "\r\n",
    "if re.match(pattern, \"9\"):\r\n",
    "    print(\"Match 1\")\r\n",
    "\r\n",
    "if re.match(pattern, \"999\"):\r\n",
    "    print(\"Match 2\")\r\n",
    "\r\n",
    "if re.match(pattern, \"9999\"):\r\n",
    "    print(\"Match 3\")"
   ],
   "outputs": [
    {
     "output_type": "stream",
     "name": "stdout",
     "text": [
      "Match 1\n",
      "Match 2\n"
     ]
    }
   ],
   "metadata": {}
  },
  {
   "cell_type": "code",
   "execution_count": 31,
   "source": [
    "#Let's imagine we are creating our own authentication system.\r\n",
    "#Create a program that takes a password as input and returns \"Password created\" if\r\n",
    "#- it has at least one uppercase character\r\n",
    "#- it has at least one number\r\n",
    "\r\n",
    "import re\r\n",
    "password = input()\r\n",
    "\r\n",
    "if re.search( r\"(?=.*[A-Z])(?=.*[0-9])\", password):\r\n",
    "    print(\"Password created\")\r\n",
    "else:\r\n",
    "    print(\"Wrong format\")\r\n",
    "    \r\n"
   ],
   "outputs": [
    {
     "output_type": "stream",
     "name": "stdout",
     "text": [
      "Password created\n"
     ]
    }
   ],
   "metadata": {}
  },
  {
   "cell_type": "markdown",
   "source": [
    "### Groups\r\n",
    "\r\n",
    "A group can be created by surrounding part of a regular expression with parentheses.\r\n",
    "This means that a group can be given as an argument to metacharacters such as * and ?.\r\n",
    "\r\n",
    "Example:"
   ],
   "metadata": {}
  },
  {
   "cell_type": "code",
   "execution_count": 1,
   "source": [
    "import re\r\n",
    "\r\n",
    "pattern = r\"egg(spam)*\"\r\n",
    "\r\n",
    "if re.match(pattern, \"egg\"):\r\n",
    "    print(\"Match 1\")\r\n",
    "\r\n",
    "if re.match(pattern, \"eggspamspamspamegg\"):\r\n",
    "    print(\"Match 2\")\r\n",
    "\r\n",
    "if re.match(pattern, \"spam\"):\r\n",
    "    print(\"Match 3\")"
   ],
   "outputs": [
    {
     "output_type": "stream",
     "name": "stdout",
     "text": [
      "Match 1\n",
      "Match 2\n"
     ]
    }
   ],
   "metadata": {}
  },
  {
   "cell_type": "markdown",
   "source": [
    "The content of groups in a match can be accessed using the group function.\r\n",
    "A call of group(0) or group() returns the whole match.\r\n",
    "\r\n",
    "A call of group(n), where n is greater than 0, returns the nth group from the left.\r\n",
    "The method groups() returns all groups up from 1.\r\n",
    "\r\n",
    "Example:"
   ],
   "metadata": {}
  },
  {
   "cell_type": "code",
   "execution_count": 2,
   "source": [
    "import re\r\n",
    "\r\n",
    "pattern = r\"a(bc)(de)(f(g)h)i\"\r\n",
    "\r\n",
    "match = re.match(pattern, \"abcdefghijklmnop\")\r\n",
    "if match:\r\n",
    "    print(match.group())\r\n",
    "    print(match.group(0))\r\n",
    "    print(match.group(1))\r\n",
    "    print(match.group(2))\r\n",
    "    print(match.groups())"
   ],
   "outputs": [
    {
     "output_type": "stream",
     "name": "stdout",
     "text": [
      "abcdefghi\n",
      "abcdefghi\n",
      "bc\n",
      "de\n",
      "('bc', 'de', 'fgh', 'g')\n"
     ]
    }
   ],
   "metadata": {}
  },
  {
   "cell_type": "markdown",
   "source": [
    "There are several kinds of special groups.\r\n",
    "Two useful ones are named groups and non-capturing groups.\r\n",
    "Named groups have the format (?P<name>...), where name is the name of the group, and ... is the content. They behave exactly the same as normal groups, except they can be accessed by group(name) in addition to its number.\r\n",
    "Non-capturing groups have the format (?:...). They are not accessible by the group method, so they can be added to an existing regular expression without breaking the numbering.\r\n",
    "\r\n",
    "Example:"
   ],
   "metadata": {}
  },
  {
   "cell_type": "code",
   "execution_count": 3,
   "source": [
    "import re\r\n",
    "\r\n",
    "pattern = r\"(?P<first>abc)(?:def)(ghi)\"\r\n",
    "\r\n",
    "match = re.match(pattern, \"abcdefghi\")\r\n",
    "if match:\r\n",
    "    print(match.group(\"first\"))\r\n",
    "    print(match.groups())"
   ],
   "outputs": [
    {
     "output_type": "stream",
     "name": "stdout",
     "text": [
      "abc\n",
      "('abc', 'ghi')\n"
     ]
    }
   ],
   "metadata": {}
  },
  {
   "cell_type": "code",
   "execution_count": 4,
   "source": [
    "# | (Or)\r\n",
    "\r\n",
    "import re\r\n",
    "\r\n",
    "pattern = r\"gr(a|e)y\"\r\n",
    "\r\n",
    "match = re.match(pattern, \"gray\")\r\n",
    "if match:\r\n",
    "    print (\"Match 1\")\r\n",
    "\r\n",
    "match = re.match(pattern, \"grey\")\r\n",
    "if match:\r\n",
    "    print (\"Match 2\")    \r\n",
    "\r\n",
    "match = re.match(pattern, \"griy\")\r\n",
    "if match:\r\n",
    "     print (\"Match 3\")"
   ],
   "outputs": [
    {
     "output_type": "stream",
     "name": "stdout",
     "text": [
      "Match 1\n",
      "Match 2\n"
     ]
    }
   ],
   "metadata": {}
  },
  {
   "cell_type": "markdown",
   "source": [
    "### Special Sequences\r\n",
    "\r\n",
    "There are various special sequences you can use in regular expressions. They are written as a backslash followed by another character.\r\n",
    "One useful special sequence is a backslash and a number between 1 and 99, e.g., \\1 or \\17. This matches the expression of the group of that number.\r\n",
    "\r\n",
    "Example:"
   ],
   "metadata": {}
  },
  {
   "cell_type": "code",
   "execution_count": 7,
   "source": [
    "import re\r\n",
    "\r\n",
    "pattern = r\"(.+) \\1\"\r\n",
    "\r\n",
    "match = re.match(pattern, \"word word\")\r\n",
    "if match:\r\n",
    "    print (\"Match 1\")\r\n",
    "\r\n",
    "match = re.match(pattern, \"?! ?!\")\r\n",
    "if match:\r\n",
    "    print (\"Match 2\")    \r\n",
    "\r\n",
    "match = re.match(pattern, \"abc cde\")\r\n",
    "if match:\r\n",
    "    print (\"Match 3\")"
   ],
   "outputs": [
    {
     "output_type": "stream",
     "name": "stdout",
     "text": [
      "Match 1\n",
      "Match 2\n"
     ]
    }
   ],
   "metadata": {}
  },
  {
   "cell_type": "markdown",
   "source": [
    "More useful special sequences are \\d, \\s, and \\w.\r\n",
    "These match digits, whitespace, and word characters respectively.\r\n",
    "In ASCII mode they are equivalent to [0-9], [ \\t\\n\\r\\f\\v], and [a-zA-Z0-9_].\r\n",
    "In Unicode mode they match certain other characters, as well. For instance, \\w matches letters with accents.\r\n",
    "Versions of these special sequences with upper case letters - \\D, \\S, and \\W - mean the opposite to the lower-case versions. For instance, \\D matches anything that isn't a digit.\r\n",
    "\r\n",
    "Example:"
   ],
   "metadata": {}
  },
  {
   "cell_type": "code",
   "execution_count": 8,
   "source": [
    "import re\r\n",
    "\r\n",
    "pattern = r\"(\\D+\\d)\"\r\n",
    "\r\n",
    "match = re.match(pattern, \"Hi 999!\")\r\n",
    "if match:\r\n",
    "    print(\"Match 1\")\r\n",
    "\r\n",
    "match = re.match(pattern, \"1, 23, 456!\")\r\n",
    "if match:\r\n",
    "    print(\"Match 2\")\r\n",
    "\r\n",
    "match = re.match(pattern, \" ! $?\")\r\n",
    "if match:\r\n",
    "    print(\"Match 3\")"
   ],
   "outputs": [
    {
     "output_type": "stream",
     "name": "stdout",
     "text": [
      "Match 1\n"
     ]
    }
   ],
   "metadata": {}
  },
  {
   "cell_type": "markdown",
   "source": [
    "Additional special sequences are \\A, \\Z, and \\b.\r\n",
    "The sequences \\A and \\Z match the beginning and end of a string, respectively.\r\n",
    "The sequence \\b matches the empty string between \\w and \\W characters, or \\w characters and the beginning or end of the string. Informally, it represents the boundary between words.\r\n",
    "The sequence \\B matches the empty string anywhere else.\r\n",
    "\r\n",
    "Example:"
   ],
   "metadata": {}
  },
  {
   "cell_type": "code",
   "execution_count": 10,
   "source": [
    "import re\r\n",
    "\r\n",
    "pattern = r\"\\b(cat)\\b\"\r\n",
    "\r\n",
    "match = re.search(pattern, \"The cat sat!\")\r\n",
    "if match:\r\n",
    "    print (\"Match 1\")\r\n",
    "\r\n",
    "match = re.search(pattern, \"We s>cat<tered?\")\r\n",
    "if match:\r\n",
    "    print (\"Match 2\")\r\n",
    "\r\n",
    "match = re.search(pattern, \"We scattered.\")\r\n",
    "if match:\r\n",
    "    print (\"Match 3\")\r\n",
    "\r\n",
    "# \\b(cat)\\b\" basically matches the word \"cat\" surrounded by word boundaries."
   ],
   "outputs": [
    {
     "output_type": "stream",
     "name": "stdout",
     "text": [
      "Match 1\n",
      "Match 2\n"
     ]
    }
   ],
   "metadata": {}
  },
  {
   "cell_type": "code",
   "execution_count": 14,
   "source": [
    "#Sample Input\r\n",
    "# No #pressure, no #diamonds\r\n",
    "\r\n",
    "#Sample Output\r\n",
    " #pressure\r\n",
    " #diamonds\r\n",
    "\r\n",
    "import re\r\n",
    "text = \"No #pressure, no #diamonds\"\r\n",
    "#your code goes here\r\n",
    "#use re.findall() with r\"#\\w+\" as the regex\r\n",
    "\r\n",
    "match = re.findall( r\"#\\w+\", text)\r\n",
    "\r\n",
    "for i in match:\r\n",
    "    print(i)\r\n"
   ],
   "outputs": [
    {
     "output_type": "stream",
     "name": "stdout",
     "text": [
      "#pressure\n",
      "#diamonds\n"
     ]
    }
   ],
   "metadata": {}
  },
  {
   "cell_type": "markdown",
   "source": [
    "### Email Extraction"
   ],
   "metadata": {}
  },
  {
   "cell_type": "markdown",
   "source": [
    "Email Extraction\r\n",
    "\r\n",
    "\r\n",
    "To demonstrate a sample usage of regular expressions, lets create a program to extract email addresses from a string.\r\n",
    "Suppose we have a text that contains an email address:\r\n",
    "\r\n",
    "str = \"Please contact info@sololearn.com for assistance\"\r\n",
    "\r\n",
    "Our goal is to extract the substring \"info@sololearn.com\".\r\n",
    "A basic email address consists of a word and may include dots or dashes. This is followed by the @ sign and the domain name (the name, a dot, and the domain name suffix).\r\n",
    "This is the basis for building our regular expression.\r\n",
    "\r\n",
    "pattern = r\"([\\w\\.-]+)@([\\w\\.-]+)(\\.[\\w\\.]+)\"\r\n",
    "\r\n",
    "[\\w\\.-]+ matches one or more word character, dot or dash.\r\n",
    "The regex above says that the string should contain a word (with dots and dashes allowed), followed by the @ sign, then another similar word, then a dot and another word.\r\n",
    "\r\n",
    "Our regex contains three groups:\r\n",
    "\r\n",
    "1 - first part of the email address.\r\n",
    "\r\n",
    "2 - domain name without the suffix.\r\n",
    "\r\n",
    "3 - the domain suffix."
   ],
   "metadata": {}
  },
  {
   "cell_type": "code",
   "execution_count": 16,
   "source": [
    "import re\r\n",
    "\r\n",
    "pattern = r\"([\\w\\.-]+)@([\\w\\.-]+)(\\.[\\w\\.]+)\"\r\n",
    "str = \"Please contact info@sololearn.com for assistance\"\r\n",
    "\r\n",
    "match = re.search(pattern, str)\r\n",
    "if match:\r\n",
    "    print(match.group())"
   ],
   "outputs": [
    {
     "output_type": "stream",
     "name": "stdout",
     "text": [
      "info@sololearn.com\n"
     ]
    }
   ],
   "metadata": {}
  },
  {
   "cell_type": "markdown",
   "source": [
    "### Excersice"
   ],
   "metadata": {}
  },
  {
   "cell_type": "code",
   "execution_count": 23,
   "source": [
    "import re\r\n",
    "\r\n",
    "pattern = r\"^[819].......$\"\r\n",
    "number = input()\r\n",
    "\r\n",
    "match = re.search(pattern, number)\r\n",
    "if match:\r\n",
    "    print(\"Valid\")\r\n",
    "else:\r\n",
    "    print(\"Invalid\")"
   ],
   "outputs": [
    {
     "output_type": "stream",
     "name": "stdout",
     "text": [
      "Valid\n"
     ]
    }
   ],
   "metadata": {}
  }
 ],
 "metadata": {
  "orig_nbformat": 4,
  "language_info": {
   "name": "python",
   "version": "3.8.5",
   "mimetype": "text/x-python",
   "codemirror_mode": {
    "name": "ipython",
    "version": 3
   },
   "pygments_lexer": "ipython3",
   "nbconvert_exporter": "python",
   "file_extension": ".py"
  },
  "kernelspec": {
   "name": "python3",
   "display_name": "Python 3.8.5 64-bit ('base': conda)"
  },
  "interpreter": {
   "hash": "6f293cff23337c42d9b2abd40d6329a0ae8508cd838b4363f7d47f9cb63458ad"
  }
 },
 "nbformat": 4,
 "nbformat_minor": 2
}