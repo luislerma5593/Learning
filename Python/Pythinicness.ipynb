{
 "cells": [
  {
   "cell_type": "markdown",
   "source": [
    "# Python\r\n"
   ],
   "metadata": {}
  },
  {
   "cell_type": "markdown",
   "source": [
    "\r\n",
    "---\r\n"
   ],
   "metadata": {}
  },
  {
   "cell_type": "markdown",
   "source": [
    "# Pythonicness\r\n",
    "\r\n",
    "Python Enhancement Proposals (PEP) are suggestions for improvements to the language, made by experienced Python developers.\r\n",
    "PEP 8 is a style guide on the subject of writing readable code. It contains a number of guidelines in reference to variable names, which are summarized here:\r\n",
    "- modules should have short, all-lowercase names;\r\n",
    "- class names should be in the CapWords style;\r\n",
    "- most variables and function names should be lowercase_with_underscores;\r\n",
    "- constants (variables that never change value) should be CAPS_WITH_UNDERSCORES;\r\n",
    "- names that would clash with Python keywords (such as 'class' or 'if') should have a trailing underscore.\r\n",
    "\r\n",
    "PEP 8 also recommends using spaces around operators and after commas to increase readability.\r\n",
    "\r\n",
    "Other PEP 8 suggestions include the following:\r\n",
    "- lines shouldn't be longer than 80 characters;\r\n",
    "- 'from module import *' should be avoided;\r\n",
    "- there should only be one statement per line.\r\n",
    "\r\n",
    "It also suggests that you use spaces, rather than tabs, to indent. However, to some extent, this is a matter of personal preference. If you use spaces, only use 4 per line. It's more important to choose one and stick to it.\r\n",
    "\r\n",
    "The most important advice in the PEP is to ignore it when it makes sense to do so. Don't bother with following PEP suggestions when it would cause your code to be less readable; inconsistent with the surrounding code; or not backwards compatible.\r\n",
    "However, by and large, following PEP 8 will greatly enhance the quality of your code."
   ],
   "metadata": {}
  },
  {
   "cell_type": "markdown",
   "source": [
    "## Function Arguments\r\n",
    "\r\n",
    "Python allows to have function with varying number of arguments.\r\n",
    "Using *args as a function parameter enables you to pass an arbitrary number of arguments to that function. The arguments are then accessible as the tuple args in the body of the function.\r\n",
    "Example:"
   ],
   "metadata": {}
  },
  {
   "cell_type": "code",
   "execution_count": 1,
   "source": [
    "def function(named_arg, *args):\r\n",
    "    print(named_arg)\r\n",
    "    print(args)\r\n",
    "\r\n",
    "function(1, 2, 3, 4, 5)"
   ],
   "outputs": [
    {
     "output_type": "stream",
     "name": "stdout",
     "text": [
      "1\n",
      "(2, 3, 4, 5)\n"
     ]
    }
   ],
   "metadata": {}
  },
  {
   "cell_type": "markdown",
   "source": [
    "Given a function that takes 2 arguments and returns their sum.\r\n",
    "But we get an error when we want to sum more than 2 numbers. Change the function and complete the code so that the function sums as many numbers as are input."
   ],
   "metadata": {}
  },
  {
   "cell_type": "code",
   "execution_count": 2,
   "source": [
    "#change the function\r\n",
    "def adder(x, *y):\r\n",
    "    n = 0\r\n",
    "    for i in y:\r\n",
    "        n+=i\r\n",
    "    n+=x\r\n",
    "    print(n)\r\n",
    "\r\n",
    "adder(2, 3)\r\n",
    "adder(2, 3, 4)\r\n",
    "adder(1, 2, 3, 4, 5)"
   ],
   "outputs": [
    {
     "output_type": "stream",
     "name": "stdout",
     "text": [
      "5\n",
      "9\n",
      "15\n"
     ]
    }
   ],
   "metadata": {}
  },
  {
   "cell_type": "markdown",
   "source": [
    "## Default Values\r\n",
    "\r\n",
    "\r\n",
    "Named parameters to a function can be made optional by giving them a default value.\r\n",
    "These must come after named parameters without a default value.\r\n",
    "\r\n",
    "Example:"
   ],
   "metadata": {}
  },
  {
   "cell_type": "code",
   "execution_count": 4,
   "source": [
    "#In case the argument is passed in, the default value is ignored.\r\n",
    "#If the argument is not passed in, the default value is used.\r\n",
    "\r\n",
    "def function(x, y, food=\"spam\"):\r\n",
    "    print(food)\r\n",
    "\r\n",
    "function(1, 2)\r\n",
    "function(3, 4, \"egg\")"
   ],
   "outputs": [
    {
     "output_type": "stream",
     "name": "stdout",
     "text": [
      "spam\n",
      "egg\n"
     ]
    }
   ],
   "metadata": {}
  },
  {
   "cell_type": "markdown",
   "source": [
    "## Function Arguments\r\n",
    "\r\n",
    "\r\n",
    "**kwargs (standing for keyword arguments) allows you to handle named arguments that you have not defined in advance.\r\n",
    "\r\n",
    "The keyword arguments return a dictionary in which the keys are the argument names, and the values are the argument values.\r\n",
    "Example:"
   ],
   "metadata": {}
  },
  {
   "cell_type": "code",
   "execution_count": 6,
   "source": [
    "def my_func(x, y=7, *args, **kwargs):\r\n",
    "    print(args)\r\n",
    "    print(kwargs)\r\n",
    "\r\n",
    "my_func(2, 3, 4, 5, 6, a=7, b=8)"
   ],
   "outputs": [
    {
     "output_type": "stream",
     "name": "stdout",
     "text": [
      "(4, 5, 6)\n",
      "{'a': 7, 'b': 8}\n"
     ]
    }
   ],
   "metadata": {}
  },
  {
   "cell_type": "markdown",
   "source": [
    "## Tuple Unpacking\r\n",
    "\r\n",
    "\r\n",
    "Tuple unpacking allows you to assign each item in an iterable (often a tuple) to a variable.\r\n",
    "\r\n",
    "Example:"
   ],
   "metadata": {}
  },
  {
   "cell_type": "code",
   "execution_count": 7,
   "source": [
    "numbers = (1, 2, 3)\r\n",
    "a, b, c = numbers\r\n",
    "print(a)\r\n",
    "print(b)\r\n",
    "print(c)"
   ],
   "outputs": [
    {
     "output_type": "stream",
     "name": "stdout",
     "text": [
      "1\n",
      "2\n",
      "3\n"
     ]
    }
   ],
   "metadata": {}
  },
  {
   "cell_type": "markdown",
   "source": [
    "A variable that is prefaced with an asterisk (*) takes all values from the iterable that are left over from the other variables.\r\n",
    "\r\n",
    "Example:\r\n"
   ],
   "metadata": {}
  },
  {
   "cell_type": "code",
   "execution_count": 8,
   "source": [
    "a, b, *c, d = [1, 2, 3, 4, 5, 6, 7, 8, 9]\r\n",
    "print(a)\r\n",
    "print(b)\r\n",
    "print(c)\r\n",
    "print(d)"
   ],
   "outputs": [
    {
     "output_type": "stream",
     "name": "stdout",
     "text": [
      "1\n",
      "2\n",
      "[3, 4, 5, 6, 7, 8]\n",
      "9\n"
     ]
    }
   ],
   "metadata": {}
  },
  {
   "cell_type": "code",
   "execution_count": 14,
   "source": [
    "a, b, c, d, *e, f, g = range(20)\r\n",
    "print(e)"
   ],
   "outputs": [
    {
     "output_type": "stream",
     "name": "stdout",
     "text": [
      "[4, 5, 6, 7, 8, 9, 10, 11, 12, 13, 14, 15, 16, 17]\n"
     ]
    }
   ],
   "metadata": {}
  },
  {
   "cell_type": "markdown",
   "source": [
    "## Ternary Operator\r\n",
    "\r\n",
    "Conditional expressions provide the functionality of if statements while using less code. They shouldn't be overused, as they can easily reduce readability, but they are often useful when assigning variables.\r\n",
    "\r\n",
    "Conditional expressions are also known as applications of the ternary operator.\r\n",
    "\r\n",
    "Example:"
   ],
   "metadata": {}
  },
  {
   "cell_type": "code",
   "execution_count": 15,
   "source": [
    "a = 7\r\n",
    "b = 1 if a >= 5 else 42\r\n",
    "print(b)"
   ],
   "outputs": [
    {
     "output_type": "stream",
     "name": "stdout",
     "text": [
      "1\n"
     ]
    }
   ],
   "metadata": {}
  },
  {
   "cell_type": "code",
   "execution_count": 17,
   "source": [
    "#The bank wants to set a minimal value of $500 for withdrawal. \r\n",
    "#Modernize the program so that it will output the same \"Error\" if the requested money is less than $500.\r\n",
    "\r\n",
    "balance = 4500\r\n",
    "to_cash = 300\r\n",
    "\r\n",
    "#change the code\r\n",
    "money_left = balance-to_cash if (to_cash >= 500 and balance > to_cash) else \"Error\"\r\n",
    "\r\n",
    "print(money_left)"
   ],
   "outputs": [
    {
     "output_type": "stream",
     "name": "stdout",
     "text": [
      "Error\n"
     ]
    }
   ],
   "metadata": {}
  },
  {
   "cell_type": "markdown",
   "source": [
    "## Else \r\n",
    "\r\n",
    "The else statement is most commonly used along with the if statement, but it can also follow a for or while loop, which gives it a different meaning.\r\n",
    "With the for or while loop, the code within it is called if the loop finishes normally (when a break statement does not cause an exit from the loop).\r\n",
    "\r\n",
    "Example:"
   ],
   "metadata": {}
  },
  {
   "cell_type": "code",
   "execution_count": 18,
   "source": [
    "for i in range(10):\r\n",
    "    if i == 999:\r\n",
    "        break\r\n",
    "else:\r\n",
    "    print(\"Unbroken 1\")\r\n",
    "\r\n",
    "for i in range(6):\r\n",
    "    if i == 5:\r\n",
    "        break\r\n",
    "else:\r\n",
    "    print(\"Unbroken 2\")"
   ],
   "outputs": [
    {
     "output_type": "stream",
     "name": "stdout",
     "text": [
      "Unbroken 1\n"
     ]
    }
   ],
   "metadata": {}
  },
  {
   "cell_type": "markdown",
   "source": [
    "The carousel is designed for 3 people who are each at least 16 years old.\r\n",
    "You are given a program that takes all 3 passengers' ages as inputs and inserts them in a list.\r\n",
    "\r\n",
    "Complete the program so that if it finds a value less than 16, it breaks the loop and outputs \"Too young!\".\r\n",
    "\r\n",
    "If the age requirement is satisfied, the program outputs \"Get ready!\"."
   ],
   "metadata": {}
  },
  {
   "cell_type": "code",
   "execution_count": 24,
   "source": [
    "\r\n",
    "ages = []\r\n",
    "i = 0\r\n",
    "while i<3:\r\n",
    "   age = int(input())\r\n",
    "   if age < 16:\r\n",
    "      print(\"Too young!\")\r\n",
    "      break\r\n",
    "   ages.append(age)\r\n",
    "   i+=1\r\n",
    "   \r\n",
    "   \r\n",
    "else:\r\n",
    "   print(\"Get ready!\")"
   ],
   "outputs": [
    {
     "output_type": "stream",
     "name": "stdout",
     "text": [
      "Get ready!\n"
     ]
    }
   ],
   "metadata": {}
  },
  {
   "cell_type": "markdown",
   "source": [
    "The else statement can also be used with try/except statements.\r\n",
    "In this case, the code within it is only executed if no error occurs in the try statement.\r\n",
    "\r\n",
    "Example:"
   ],
   "metadata": {}
  },
  {
   "cell_type": "code",
   "execution_count": 19,
   "source": [
    "try:\r\n",
    "    print(1)\r\n",
    "except ZeroDivisionError:\r\n",
    "    print(2)\r\n",
    "else:\r\n",
    "    print(3)\r\n",
    "\r\n",
    "try:\r\n",
    "    print(1/0)\r\n",
    "except ZeroDivisionError:\r\n",
    "    print(4)\r\n",
    "else:\r\n",
    "    print(5)"
   ],
   "outputs": [
    {
     "output_type": "stream",
     "name": "stdout",
     "text": [
      "1\n",
      "3\n",
      "4\n"
     ]
    }
   ],
   "metadata": {}
  },
  {
   "cell_type": "markdown",
   "source": [
    "To order a restaurant dish online, the user should enter the code of desired dish, which contains only digits. Write a program that will take the code as input, and output \"Enter only digits\" if it contains non-digit symbols, and output \"Order accepted\" if it doesn't.\r\n",
    "\r\n",
    "If the ordering process went well, the program also should output \"Bon appetit\"."
   ],
   "metadata": {}
  },
  {
   "cell_type": "code",
   "execution_count": 20,
   "source": [
    "code = 462\r\n",
    "\r\n",
    "#your code goes here\r\n",
    "try: \r\n",
    "    code =int(code)\r\n",
    "    print(\"Order accepted\")\r\n",
    "\t\r\n",
    "except: \r\n",
    "    print(\"Enter only digits\")\r\n",
    "\t\r\n",
    "else:\r\n",
    "    print(\"Bon appetit\")\r\n",
    "\t"
   ],
   "outputs": [
    {
     "output_type": "stream",
     "name": "stdout",
     "text": [
      "Order accepted\n",
      "Bon appetit\n"
     ]
    }
   ],
   "metadata": {}
  },
  {
   "cell_type": "code",
   "execution_count": 22,
   "source": [
    "try:\r\n",
    "  print(1)\r\n",
    "  print(50)\r\n",
    "  print(1 + \"1\" == 2)\r\n",
    "  print(2)\r\n",
    "except TypeError:\r\n",
    "  print(3)\r\n",
    "else:\r\n",
    "  print(4)\r\n"
   ],
   "outputs": [
    {
     "output_type": "stream",
     "name": "stdout",
     "text": [
      "1\n",
      "50\n",
      "3\n"
     ]
    }
   ],
   "metadata": {}
  },
  {
   "cell_type": "markdown",
   "source": [
    "## `__main__`\r\n",
    "\r\n",
    "`Most Python code is either a module to be imported, or a script that does something.\r\n",
    "However, sometimes it is useful to make a file that can be both imported as a module and run as a script.\r\n",
    "To do this, place script code inside if __name__ == \"__main__\".\r\n",
    "This ensures that it won't be run if the file is imported.`\r\n",
    "\r\n",
    "Example:"
   ],
   "metadata": {}
  },
  {
   "cell_type": "code",
   "execution_count": 23,
   "source": [
    "def function():\r\n",
    "    print(\"This is a module function\")\r\n",
    "\r\n",
    "if __name__==\"__main__\":\r\n",
    "    print(\"This is a script\")"
   ],
   "outputs": [
    {
     "output_type": "stream",
     "name": "stdout",
     "text": [
      "This is a script\n"
     ]
    }
   ],
   "metadata": {}
  },
  {
   "cell_type": "markdown",
   "source": [
    "## Packaging\r\n",
    "\r\n",
    "\r\n",
    "In Python, the term packaging refers to putting modules you have written in a standard format, so that other programmers can install and use them with ease.\r\n",
    "\r\n",
    "This involves use of the modules setuptools and distutils.\r\n",
    "\r\n",
    "The first step in packaging is to organize existing files correctly. Place all of the files you want to put in a library in the same parent directory. This directory should also contain a file called __init__.py, which can be blank but must be present in the directory.\r\n",
    "\r\n",
    "This directory goes into another directory containing the readme and license, as well as an important file called setup.py.\r\n",
    "\r\n",
    "Example directory structure:\r\n",
    "\r\n",
    "```txt\r\n",
    "SoloLearn/\r\n",
    "   LICENSE.txt\r\n",
    "   README.txt\r\n",
    "   setup.py\r\n",
    "   sololearn/\r\n",
    "      __init__.py\r\n",
    "      sololearn.py\r\n",
    "      sololearn2.py\r\n",
    "```"
   ],
   "metadata": {}
  },
  {
   "cell_type": "markdown",
   "source": [
    "The next step in packaging is to write the setup.py file.\r\n",
    "This contains information necessary to assemble the package so it can be uploaded to PyPI and installed with pip (name, version, etc.).\r\n",
    "Example of a setup.py file:\r\n",
    "from distutils.core import setup\r\n",
    "\r\n",
    "```txt\r\n",
    "setup(\r\n",
    "   name='SoloLearn', \r\n",
    "   version='0.1dev',\r\n",
    "   packages=['sololearn',],\r\n",
    "   license='MIT', \r\n",
    "   long_description=open('README.txt').read(),\r\n",
    ")\r\n",
    "```\r\n",
    "\r\n",
    "After creating the setup.py file, upload it to PyPI, or use the command line to create a binary distribution (an executable installer).\r\n",
    "\r\n",
    "To build a source distribution, use the command line to navigate to the directory containing setup.py, and run the command python setup.py sdist.\r\n",
    "\r\n",
    "Run python setup.py bdist or, for Windows, python setup.py bdist_wininst to build a binary distribution.\r\n",
    "\r\n",
    "Use python setup.py register, followed by python setup.py sdist upload to upload a package."
   ],
   "metadata": {}
  },
  {
   "cell_type": "code",
   "execution_count": 25,
   "source": [
    "for i in range(10):\r\n",
    "  try: \r\n",
    "    if 10 / i == 2.0:\r\n",
    "      break\r\n",
    "  except ZeroDivisionError:\r\n",
    "    print(1)\r\n",
    "  else:\r\n",
    "    print(2)\r\n"
   ],
   "outputs": [
    {
     "output_type": "stream",
     "name": "stdout",
     "text": [
      "1\n",
      "2\n",
      "2\n",
      "2\n",
      "2\n"
     ]
    }
   ],
   "metadata": {}
  },
  {
   "cell_type": "markdown",
   "source": [
    "### Adding Words\r\n",
    "\r\n",
    "\r\n",
    "You need to write a function that takes multiple words as its argument and returns a concatenated version of those words separated by dashes (-).\r\n",
    "The function should be able to take a varying number of words as the argument.\r\n",
    "```\r\n",
    "Sample Input:\r\n",
    "this\r\n",
    "is\r\n",
    "great\r\n",
    "\r\n",
    "Sample Output:\r\n",
    "this-is-great\r\n",
    "```"
   ],
   "metadata": {}
  },
  {
   "cell_type": "code",
   "execution_count": 39,
   "source": [
    "def concatenate(*args):\r\n",
    "    sentence = \"\"\r\n",
    "    leng = len(args)\r\n",
    "    counter = 0\r\n",
    "\r\n",
    "    for i in args:\r\n",
    "        \r\n",
    "        if counter+1  != leng:\r\n",
    "            sentence = sentence + i + \"-\"\r\n",
    "        else:\r\n",
    "            sentence = sentence + i\r\n",
    "    \r\n",
    "        counter+=1\r\n",
    "        \r\n",
    "    return sentence\r\n",
    "    \r\n",
    "\r\n",
    "print(concatenate(\"I\", \"love\", \"Python\", \"!\"))"
   ],
   "outputs": [
    {
     "output_type": "stream",
     "name": "stdout",
     "text": [
      "I-love-Python-!\n"
     ]
    }
   ],
   "metadata": {}
  },
  {
   "cell_type": "code",
   "execution_count": null,
   "source": [],
   "outputs": [],
   "metadata": {}
  },
  {
   "cell_type": "code",
   "execution_count": null,
   "source": [],
   "outputs": [],
   "metadata": {}
  },
  {
   "cell_type": "code",
   "execution_count": null,
   "source": [],
   "outputs": [],
   "metadata": {}
  },
  {
   "cell_type": "code",
   "execution_count": null,
   "source": [],
   "outputs": [],
   "metadata": {}
  },
  {
   "cell_type": "code",
   "execution_count": null,
   "source": [],
   "outputs": [],
   "metadata": {}
  },
  {
   "cell_type": "code",
   "execution_count": null,
   "source": [],
   "outputs": [],
   "metadata": {}
  },
  {
   "cell_type": "code",
   "execution_count": null,
   "source": [],
   "outputs": [],
   "metadata": {}
  },
  {
   "cell_type": "code",
   "execution_count": null,
   "source": [],
   "outputs": [],
   "metadata": {}
  },
  {
   "cell_type": "code",
   "execution_count": null,
   "source": [],
   "outputs": [],
   "metadata": {}
  },
  {
   "cell_type": "code",
   "execution_count": null,
   "source": [],
   "outputs": [],
   "metadata": {}
  },
  {
   "cell_type": "code",
   "execution_count": null,
   "source": [],
   "outputs": [],
   "metadata": {}
  },
  {
   "cell_type": "code",
   "execution_count": null,
   "source": [],
   "outputs": [],
   "metadata": {}
  }
 ],
 "metadata": {
  "orig_nbformat": 4,
  "language_info": {
   "name": "python",
   "version": "3.9.6",
   "mimetype": "text/x-python",
   "codemirror_mode": {
    "name": "ipython",
    "version": 3
   },
   "pygments_lexer": "ipython3",
   "nbconvert_exporter": "python",
   "file_extension": ".py"
  },
  "kernelspec": {
   "name": "python3",
   "display_name": "Python 3.9.6 64-bit"
  },
  "interpreter": {
   "hash": "192db11f4a283dfb72c9a28270d6005d70bac600bfa80864abc454becfc49247"
  }
 },
 "nbformat": 4,
 "nbformat_minor": 2
}