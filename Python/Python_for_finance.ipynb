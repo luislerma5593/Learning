{
 "cells": [
  {
   "cell_type": "markdown",
   "metadata": {},
   "source": [
    "# Python for finance"
   ]
  },
  {
   "cell_type": "code",
   "execution_count": 33,
   "metadata": {},
   "outputs": [
    {
     "name": "stdout",
     "output_type": "stream",
     "text": [
      "1469.3280768000006\n"
     ]
    }
   ],
   "source": [
    "# Future value\n",
    "import numpy as np\n",
    "import numpy_financial as npf\n",
    "res = npf.fv(rate=0.08, nper=5, pmt=0, pv=-1000)\n",
    "print(res)"
   ]
  },
  {
   "cell_type": "code",
   "execution_count": 16,
   "metadata": {},
   "outputs": [
    {
     "name": "stdout",
     "output_type": "stream",
     "text": [
      "-466.50738020973307\n"
     ]
    }
   ],
   "source": [
    "# Present value\n",
    "import numpy_financial as npf\n",
    "res = npf.pv(rate = 0.10, nper=8, pmt=0, fv=1000)\n",
    "print(res)"
   ]
  },
  {
   "cell_type": "code",
   "execution_count": 17,
   "metadata": {},
   "outputs": [
    {
     "name": "stdout",
     "output_type": "stream",
     "text": [
      "999.9991849866707\n"
     ]
    }
   ],
   "source": [
    "print(npf.fv(rate=0.10, nper=8, pmt=0, pv=-466.507))"
   ]
  },
  {
   "cell_type": "markdown",
   "metadata": {},
   "source": [
    "## Monthly Loan Payments\n",
    "\n",
    "Let's say we want to calculate how much we have to pay monthly to pay back a loan of 100,000 in 5 years. The yearly interest rate is 7%, and is calculated monthly.\n"
   ]
  },
  {
   "cell_type": "code",
   "execution_count": 20,
   "metadata": {},
   "outputs": [
    {
     "name": "stdout",
     "output_type": "stream",
     "text": [
      "-1980.1198540349467\n"
     ]
    }
   ],
   "source": [
    "import numpy_financial as npf\n",
    "\n",
    "res = npf.pmt(rate=0.07/12, nper=5*12, pv=100000, fv=0) \n",
    "print(res)"
   ]
  },
  {
   "cell_type": "markdown",
   "metadata": {},
   "source": [
    "## IRR (Internal Rate of Return)\n",
    "\n",
    "Let's assume we invested 5000 and got the following payments back: 500, 700, 1000, 3000."
   ]
  },
  {
   "cell_type": "code",
   "execution_count": 22,
   "metadata": {},
   "outputs": [
    {
     "name": "stdout",
     "output_type": "stream",
     "text": [
      "0.012164656866492818\n"
     ]
    }
   ],
   "source": [
    "import numpy_financial as npf\n",
    "\n",
    "cashflow = [-5000, 500, 700, 1000, 3000]\n",
    "print(npf.irr(cashflow))"
   ]
  },
  {
   "cell_type": "markdown",
   "metadata": {},
   "source": [
    "Let's use the irr() function to compare two investment opportunities and decide which one is better.\n",
    "\n",
    "Option 1:m\n",
    "Requires 50K in investment\n",
    "Will pay 10K, 25K, 25K, 35K, 42K each year for the next 5 years.\n",
    "\n",
    "Option 2:\n",
    "Requires 30K in investment\n",
    "Will pay 10K, 13K, 18K, 25K, 20K each year for the next 5 years."
   ]
  },
  {
   "cell_type": "code",
   "execution_count": 23,
   "metadata": {},
   "outputs": [
    {
     "name": "stdout",
     "output_type": "stream",
     "text": [
      "Option 1:  0.3605982754620045\n",
      "Option 2:  0.4094208743397143\n"
     ]
    }
   ],
   "source": [
    "import numpy_financial as npf\n",
    "\n",
    "cf1 = [-50000, 10000, 25000, 25000, 35000, 42000]\n",
    "cf2 = [-30000, 10000, 13000, 18000, 25000, 20000]\n",
    "\n",
    "print(\"Option 1: \", npf.irr(cf1))\n",
    "print(\"Option 2: \", npf.irr(cf2)) "
   ]
  },
  {
   "cell_type": "code",
   "execution_count": null,
   "metadata": {},
   "outputs": [],
   "source": []
  },
  {
   "cell_type": "code",
   "execution_count": 37,
   "metadata": {},
   "outputs": [
    {
     "data": {
      "text/plain": [
       "[-50000,\n",
       " 10000,\n",
       " 25000,\n",
       " 25000,\n",
       " 35000,\n",
       " 42000,\n",
       " -50000,\n",
       " 10000,\n",
       " 25000,\n",
       " 25000,\n",
       " 35000,\n",
       " 42000]"
      ]
     },
     "execution_count": 37,
     "metadata": {},
     "output_type": "execute_result"
    }
   ],
   "source": [
    "cf1+cf1"
   ]
  }
 ],
 "metadata": {
  "interpreter": {
   "hash": "6f293cff23337c42d9b2abd40d6329a0ae8508cd838b4363f7d47f9cb63458ad"
  },
  "kernelspec": {
   "display_name": "Python 3.8.5 64-bit ('base': conda)",
   "name": "python3"
  },
  "language_info": {
   "codemirror_mode": {
    "name": "ipython",
    "version": 3
   },
   "file_extension": ".py",
   "mimetype": "text/x-python",
   "name": "python",
   "nbconvert_exporter": "python",
   "pygments_lexer": "ipython3",
   "version": "3.8.5"
  },
  "orig_nbformat": 4
 },
 "nbformat": 4,
 "nbformat_minor": 2
}
