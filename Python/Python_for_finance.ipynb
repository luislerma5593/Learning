{
 "cells": [
  {
   "cell_type": "markdown",
   "metadata": {},
   "source": [
    "# Python for finance"
   ]
  },
  {
   "cell_type": "markdown",
   "metadata": {},
   "source": [
    "- https://algotrading101.com/learn/yfinance-guide/\n",
    "- https://pypi.org/project/yfinance/"
   ]
  },
  {
   "cell_type": "markdown",
   "metadata": {},
   "source": [
    "## General"
   ]
  },
  {
   "cell_type": "code",
   "execution_count": 33,
   "metadata": {},
   "outputs": [
    {
     "name": "stdout",
     "output_type": "stream",
     "text": [
      "1469.3280768000006\n"
     ]
    }
   ],
   "source": [
    "# Future value\n",
    "import numpy as np\n",
    "import numpy_financial as npf\n",
    "res = npf.fv(rate=0.08, nper=5, pmt=0, pv=-1000)\n",
    "print(res)"
   ]
  },
  {
   "cell_type": "code",
   "execution_count": 16,
   "metadata": {},
   "outputs": [
    {
     "name": "stdout",
     "output_type": "stream",
     "text": [
      "-466.50738020973307\n"
     ]
    }
   ],
   "source": [
    "# Present value\n",
    "import numpy_financial as npf\n",
    "res = npf.pv(rate = 0.10, nper=8, pmt=0, fv=1000)\n",
    "print(res)"
   ]
  },
  {
   "cell_type": "code",
   "execution_count": 17,
   "metadata": {},
   "outputs": [
    {
     "name": "stdout",
     "output_type": "stream",
     "text": [
      "999.9991849866707\n"
     ]
    }
   ],
   "source": [
    "print(npf.fv(rate=0.10, nper=8, pmt=0, pv=-466.507))"
   ]
  },
  {
   "cell_type": "markdown",
   "metadata": {},
   "source": [
    "### Monthly Loan Payments\n",
    "\n",
    "Let's say we want to calculate how much we have to pay monthly to pay back a loan of 100,000 in 5 years. The yearly interest rate is 7%, and is calculated monthly.\n"
   ]
  },
  {
   "cell_type": "code",
   "execution_count": 20,
   "metadata": {},
   "outputs": [
    {
     "name": "stdout",
     "output_type": "stream",
     "text": [
      "-1980.1198540349467\n"
     ]
    }
   ],
   "source": [
    "import numpy_financial as npf\n",
    "\n",
    "res = npf.pmt(rate=0.07/12, nper=5*12, pv=100000, fv=0) \n",
    "print(res)"
   ]
  },
  {
   "cell_type": "markdown",
   "metadata": {},
   "source": [
    "### IRR (Internal Rate of Return)\n",
    "\n",
    "Let's assume we invested 5000 and got the following payments back: 500, 700, 1000, 3000."
   ]
  },
  {
   "cell_type": "code",
   "execution_count": 22,
   "metadata": {},
   "outputs": [
    {
     "name": "stdout",
     "output_type": "stream",
     "text": [
      "0.012164656866492818\n"
     ]
    }
   ],
   "source": [
    "import numpy_financial as npf\n",
    "\n",
    "cashflow = [-5000, 500, 700, 1000, 3000]\n",
    "print(npf.irr(cashflow))"
   ]
  },
  {
   "cell_type": "markdown",
   "metadata": {},
   "source": [
    "Let's use the irr() function to compare two investment opportunities and decide which one is better.\n",
    "\n",
    "Option 1:m\n",
    "Requires 50K in investment\n",
    "Will pay 10K, 25K, 25K, 35K, 42K each year for the next 5 years.\n",
    "\n",
    "Option 2:\n",
    "Requires 30K in investment\n",
    "Will pay 10K, 13K, 18K, 25K, 20K each year for the next 5 years."
   ]
  },
  {
   "cell_type": "code",
   "execution_count": 23,
   "metadata": {},
   "outputs": [
    {
     "name": "stdout",
     "output_type": "stream",
     "text": [
      "Option 1:  0.3605982754620045\n",
      "Option 2:  0.4094208743397143\n"
     ]
    }
   ],
   "source": [
    "import numpy_financial as npf\n",
    "\n",
    "cf1 = [-50000, 10000, 25000, 25000, 35000, 42000]\n",
    "cf2 = [-30000, 10000, 13000, 18000, 25000, 20000]\n",
    "\n",
    "print(\"Option 1: \", npf.irr(cf1))\n",
    "print(\"Option 2: \", npf.irr(cf2)) "
   ]
  },
  {
   "cell_type": "markdown",
   "metadata": {},
   "source": [
    "### Plotting Data"
   ]
  },
  {
   "cell_type": "code",
   "execution_count": 1,
   "metadata": {},
   "outputs": [
    {
     "data": {
      "text/plain": [
       "[<matplotlib.lines.Line2D at 0x1ea82f55700>]"
      ]
     },
     "execution_count": 1,
     "metadata": {},
     "output_type": "execute_result"
    },
    {
     "data": {
      "image/png": "[encoded data removed]",
      "text/plain": [
       "<Figure size 432x288 with 1 Axes>"
      ]
     },
     "metadata": {
      "needs_background": "light"
     },
     "output_type": "display_data"
    }
   ],
   "source": [
    "import matplotlib.pyplot as plt\n",
    "\n",
    "rev = [18000, 25000, 20000, 45000, 32000]\n",
    "plt.plot(rev)"
   ]
  },
  {
   "cell_type": "code",
   "execution_count": 7,
   "metadata": {},
   "outputs": [
    {
     "name": "stdout",
     "output_type": "stream",
     "text": [
      "10513.803224771947\n",
      "0.2584333254941891\n"
     ]
    },
    {
     "data": {
      "text/plain": [
       "[<matplotlib.lines.Line2D at 0x1ea83ea6700>]"
      ]
     },
     "execution_count": 7,
     "metadata": {},
     "output_type": "execute_result"
    },
    {
     "data": {
      "image/png": "[encoded data removed]",
      "text/plain": [
       "<Figure size 432x288 with 1 Axes>"
      ]
     },
     "metadata": {
      "needs_background": "light"
     },
     "output_type": "display_data"
    }
   ],
   "source": [
    "import numpy as np\n",
    "import numpy_financial as npf\n",
    "import matplotlib.pyplot as plt\n",
    "\n",
    "#price for 2018-2021\n",
    "bitcoin = [3869.47, 7188.46, 22203.31, 29391.78]\n",
    "print(np.std(bitcoin))\n",
    "\n",
    "cashflow = [-500000] + list(np.array(bitcoin)*10)\n",
    "\n",
    "#print(npf.irr(cashflow)) \n",
    "\n",
    "bit_num = 1000 / bitcoin[0]\n",
    "print(bit_num)\n",
    "\n",
    "inv_per_year = np.array(bitcoin) * bit_num\n",
    "\n",
    "plt.plot(inv_per_year)"
   ]
  },
  {
   "cell_type": "markdown",
   "metadata": {},
   "source": [
    "## Financial Data\n",
    "\n",
    "### Web scraping"
   ]
  },
  {
   "cell_type": "code",
   "execution_count": 11,
   "metadata": {},
   "outputs": [],
   "source": [
    "from urllib import request\n",
    "import ssl\n",
    "\n",
    "url=\"https://en.wikipedia.org/wiki/List_of_S%26P_500_companies\"\n",
    "context = ssl._create_unverified_context()\n",
    "response = request.urlopen(url, context=context)\n",
    "html = response.read()\n",
    "\n",
    "import pandas as pd\n",
    "data = pd.read_html(html)"
   ]
  },
  {
   "cell_type": "code",
   "execution_count": 13,
   "metadata": {},
   "outputs": [
    {
     "name": "stdout",
     "output_type": "stream",
     "text": [
      "    Symbol             Security\n",
      "0      MMM                   3M\n",
      "1      ABT  Abbott Laboratories\n",
      "2     ABBV               AbbVie\n",
      "3     ABMD              Abiomed\n",
      "4      ACN            Accenture\n",
      "..     ...                  ...\n",
      "500    YUM          Yum! Brands\n",
      "501   ZBRA   Zebra Technologies\n",
      "502    ZBH        Zimmer Biomet\n",
      "503   ZION        Zions Bancorp\n",
      "504    ZTS               Zoetis\n",
      "\n",
      "[505 rows x 2 columns]\n"
     ]
    }
   ],
   "source": [
    "df = data[0]\n",
    "df = df[['Symbol', 'Security']]\n",
    "print(df) "
   ]
  },
  {
   "cell_type": "code",
   "execution_count": 14,
   "metadata": {},
   "outputs": [
    {
     "name": "stdout",
     "output_type": "stream",
     "text": [
      "   Symbol Security\n",
      "44   AAPL    Apple\n"
     ]
    }
   ],
   "source": [
    "print(df[df['Security'] == 'Apple'])"
   ]
  },
  {
   "cell_type": "code",
   "execution_count": 17,
   "metadata": {},
   "outputs": [
    {
     "name": "stdout",
     "output_type": "stream",
     "text": [
      "                       Name                                        Title  \\\n",
      "0          Mr. Elon R. Musk          Technoking of Tesla, CEO & Director   \n",
      "1   Mr. Zachary J. Kirkhorn                         Master of Coin & CFO   \n",
      "2     Mr. Andrew D. Baglino    Sr. VP of Powertrain & Energy Engineering   \n",
      "3        Mr. Vaibhav Taneja  Corp. Controller & Chief Accounting Officer   \n",
      "4         Mr. Martin Viecha          Sr. Director for Investor Relations   \n",
      "5         Mr. Alan Prescott                                  VP of Legal   \n",
      "6           Mr. Dave Arnold        Sr. Director of Global Communications   \n",
      "7              Brian Scelfo                 Sr. Director of Corp. Devel.   \n",
      "8   Mr. Jeffrey B. Straubel                                  Sr. Advisor   \n",
      "9  Mr. Franz von Holzhausen                               Chief Designer   \n",
      "\n",
      "       Pay Exercised  Year Born  \n",
      "0      NaN       NaN     1972.0  \n",
      "1  300.76k     4.19M     1985.0  \n",
      "2  283.27k    14.86M     1981.0  \n",
      "3      NaN       NaN     1978.0  \n",
      "4      NaN       NaN        NaN  \n",
      "5      NaN       NaN        NaN  \n",
      "6      NaN       NaN        NaN  \n",
      "7      NaN       NaN        NaN  \n",
      "8      NaN       NaN     1976.0  \n",
      "9      NaN       NaN        NaN  \n"
     ]
    }
   ],
   "source": [
    "import pandas as pd\n",
    "import requests\n",
    "\n",
    "url_link = 'https://finance.yahoo.com/quote/TSLA/profile'\n",
    "r = requests.get(url_link,headers ={'User-Agent':'Mozilla/5.0 (Windows NT 10.0; Win64; x64) AppleWebKit/537.36 (KHTML, like Gecko) Chrome/91.0.4472.124 Safari/537.36'})\n",
    "\n",
    "data = pd.read_html(r.text)\n",
    "print(data[0]) "
   ]
  },
  {
   "cell_type": "code",
   "execution_count": 23,
   "metadata": {},
   "outputs": [
    {
     "data": {
      "text/plain": [
       "<AxesSubplot:>"
      ]
     },
     "execution_count": 23,
     "metadata": {},
     "output_type": "execute_result"
    },
    {
     "data": {
      "image/png": "[encoded data removed]",
      "text/plain": [
       "<Figure size 432x288 with 1 Axes>"
      ]
     },
     "metadata": {
      "needs_background": "light"
     },
     "output_type": "display_data"
    }
   ],
   "source": [
    "import pandas as pd\n",
    "import requests\n",
    "import matplotlib.pyplot as plt\n",
    "\n",
    "url_link = 'https://finance.yahoo.com/quote/TSLA/analysis?p=TSLA'\n",
    "r = requests.get(url_link,headers ={'User-Agent':'Mozilla/5.0 (Windows NT 10.0; Win64; x64) AppleWebKit/537.36 (KHTML, like Gecko) Chrome/91.0.4472.124 Safari/537.36'})\n",
    "\n",
    "data_0 = pd.read_html(r.text)\n",
    "data = data_0[0]\n",
    "data = data[data['Earnings Estimate'] == 'Avg. Estimate']\n",
    "\n",
    "data.plot(kind='bar')\n"
   ]
  },
  {
   "cell_type": "markdown",
   "metadata": {},
   "source": [
    "### Yahoo Finance"
   ]
  },
  {
   "cell_type": "code",
   "execution_count": 32,
   "metadata": {},
   "outputs": [
    {
     "name": "stdout",
     "output_type": "stream",
     "text": [
      "Index(['zip', 'sector', 'fullTimeEmployees', 'longBusinessSummary', 'city',\n",
      "       'phone', 'state', 'country', 'companyOfficers', 'website',\n",
      "       ...\n",
      "       'fiftyTwoWeekLow', 'bid', 'tradeable', 'dividendYield', 'bidSize',\n",
      "       'dayHigh', 'regularMarketPrice', 'preMarketPrice', 'logo_url',\n",
      "       'trailingPegRatio'],\n",
      "      dtype='object', length=153)\n"
     ]
    }
   ],
   "source": [
    "import yfinance as yf\n",
    "\n",
    "data = yf.Ticker(\"TSLA\")"
   ]
  },
  {
   "cell_type": "code",
   "execution_count": 39,
   "metadata": {},
   "outputs": [
    {
     "data": {
      "text/plain": [
       "dict_keys(['zip', 'sector', 'fullTimeEmployees', 'longBusinessSummary', 'city', 'phone', 'state', 'country', 'companyOfficers', 'website', 'maxAge', 'address1', 'industry', 'ebitdaMargins', 'profitMargins', 'grossMargins', 'operatingCashflow', 'revenueGrowth', 'operatingMargins', 'ebitda', 'targetLowPrice', 'recommendationKey', 'grossProfits', 'freeCashflow', 'targetMedianPrice', 'currentPrice', 'earningsGrowth', 'currentRatio', 'returnOnAssets', 'numberOfAnalystOpinions', 'targetMeanPrice', 'debtToEquity', 'returnOnEquity', 'targetHighPrice', 'totalCash', 'totalDebt', 'totalRevenue', 'totalCashPerShare', 'financialCurrency', 'revenuePerShare', 'quickRatio', 'recommendationMean', 'exchange', 'shortName', 'longName', 'exchangeTimezoneName', 'exchangeTimezoneShortName', 'isEsgPopulated', 'gmtOffSetMilliseconds', 'quoteType', 'symbol', 'messageBoardId', 'market', 'annualHoldingsTurnover', 'enterpriseToRevenue', 'beta3Year', 'enterpriseToEbitda', '52WeekChange', 'morningStarRiskRating', 'forwardEps', 'revenueQuarterlyGrowth', 'sharesOutstanding', 'fundInceptionDate', 'annualReportExpenseRatio', 'totalAssets', 'bookValue', 'sharesShort', 'sharesPercentSharesOut', 'fundFamily', 'lastFiscalYearEnd', 'heldPercentInstitutions', 'netIncomeToCommon', 'trailingEps', 'lastDividendValue', 'SandP52WeekChange', 'priceToBook', 'heldPercentInsiders', 'nextFiscalYearEnd', 'yield', 'mostRecentQuarter', 'shortRatio', 'sharesShortPreviousMonthDate', 'floatShares', 'beta', 'enterpriseValue', 'priceHint', 'threeYearAverageReturn', 'lastSplitDate', 'lastSplitFactor', 'legalType', 'lastDividendDate', 'morningStarOverallRating', 'earningsQuarterlyGrowth', 'priceToSalesTrailing12Months', 'dateShortInterest', 'pegRatio', 'ytdReturn', 'forwardPE', 'lastCapGain', 'shortPercentOfFloat', 'sharesShortPriorMonth', 'impliedSharesOutstanding', 'category', 'fiveYearAverageReturn', 'previousClose', 'regularMarketOpen', 'twoHundredDayAverage', 'trailingAnnualDividendYield', 'payoutRatio', 'volume24Hr', 'regularMarketDayHigh', 'navPrice', 'averageDailyVolume10Day', 'regularMarketPreviousClose', 'fiftyDayAverage', 'trailingAnnualDividendRate', 'open', 'toCurrency', 'averageVolume10days', 'expireDate', 'algorithm', 'dividendRate', 'exDividendDate', 'circulatingSupply', 'startDate', 'regularMarketDayLow', 'currency', 'trailingPE', 'regularMarketVolume', 'lastMarket', 'maxSupply', 'openInterest', 'marketCap', 'volumeAllCurrencies', 'strikePrice', 'averageVolume', 'dayLow', 'ask', 'askSize', 'volume', 'fiftyTwoWeekHigh', 'fromCurrency', 'fiveYearAvgDividendYield', 'fiftyTwoWeekLow', 'bid', 'tradeable', 'dividendYield', 'bidSize', 'dayHigh', 'regularMarketPrice', 'preMarketPrice', 'logo_url', 'trailingPegRatio'])"
      ]
     },
     "execution_count": 39,
     "metadata": {},
     "output_type": "execute_result"
    }
   ],
   "source": [
    "data.info.keys()"
   ]
  },
  {
   "cell_type": "code",
   "execution_count": 34,
   "metadata": {},
   "outputs": [
    {
     "name": "stdout",
     "output_type": "stream",
     "text": [
      "0.15641\n",
      "0.07403\n"
     ]
    }
   ],
   "source": [
    "print(data.info[\"returnOnEquity\"])\n",
    "print(data.info[\"profitMargins\"])"
   ]
  },
  {
   "cell_type": "code",
   "execution_count": 41,
   "metadata": {},
   "outputs": [],
   "source": [
    "import yfinance as yf\n",
    "\n",
    "data = yf.Ticker(\"TSLA\")"
   ]
  },
  {
   "cell_type": "code",
   "execution_count": 49,
   "metadata": {},
   "outputs": [
    {
     "name": "stdout",
     "output_type": "stream",
     "text": [
      "Series([], Name: Dividends, dtype: int64)\n"
     ]
    }
   ],
   "source": [
    "# show dividends\n",
    "print(data.dividends)"
   ]
  },
  {
   "cell_type": "code",
   "execution_count": 44,
   "metadata": {},
   "outputs": [
    {
     "name": "stdout",
     "output_type": "stream",
     "text": [
      "Date\n",
      "2020-08-31    5.0\n",
      "Name: Stock Splits, dtype: float64\n"
     ]
    }
   ],
   "source": [
    "# show splits\n",
    "print(data.splits)"
   ]
  },
  {
   "cell_type": "code",
   "execution_count": 45,
   "metadata": {},
   "outputs": [
    {
     "name": "stdout",
     "output_type": "stream",
     "text": [
      "                             2020-12-31    2019-12-31    2018-12-31  \\\n",
      "Intangible Assets          3.130000e+08  3.390000e+08  2.820000e+08   \n",
      "Capital Surplus            2.726000e+10  1.273600e+10  1.024900e+10   \n",
      "Total Liab                 2.846900e+10  2.619900e+10  2.342700e+10   \n",
      "Total Stockholder Equity   2.222500e+10  6.618000e+09  4.923000e+09   \n",
      "Minority Interest          1.454000e+09  1.492000e+09  1.390000e+09   \n",
      "Other Current Liab         4.147000e+09  3.693000e+09  2.955000e+09   \n",
      "Total Assets               5.214800e+10  3.430900e+10  2.974000e+10   \n",
      "Common Stock               1.000000e+06  1.000000e+06           NaN   \n",
      "Other Current Assets       2.380000e+08  2.460000e+08  1.930000e+08   \n",
      "Retained Earnings         -5.399000e+09 -6.083000e+09 -5.318000e+09   \n",
      "Other Liab                 3.302000e+09  2.969000e+09  2.318000e+09   \n",
      "Good Will                  2.070000e+08  1.980000e+08  6.800000e+07   \n",
      "Treasury Stock             3.630000e+08 -3.600000e+07 -8.000000e+06   \n",
      "Other Assets               1.536000e+09  1.469000e+09  1.380000e+09   \n",
      "Cash                       1.938400e+10  6.268000e+09  3.686000e+09   \n",
      "Total Current Liabilities  1.424800e+10  1.066700e+10  9.993000e+09   \n",
      "Short Long Term Debt       1.758000e+09  1.399000e+09  2.284000e+09   \n",
      "Other Stockholder Equity   3.630000e+08 -3.600000e+07 -8.000000e+06   \n",
      "Property Plant Equipment   2.337500e+10  2.019900e+10  1.969100e+10   \n",
      "Total Current Assets       2.671700e+10  1.210300e+10  8.307000e+09   \n",
      "Net Tangible Assets        2.170500e+10  6.081000e+09  4.573000e+09   \n",
      "Net Receivables            1.903000e+09  1.324000e+09  9.490000e+08   \n",
      "Long Term Debt             8.571000e+09  1.037500e+10  8.461000e+09   \n",
      "Inventory                  4.101000e+09  3.552000e+09  3.113000e+09   \n",
      "Accounts Payable           6.051000e+09  3.771000e+09  3.405000e+09   \n",
      "Long Term Investments               NaN  1.000000e+06  1.200000e+07   \n",
      "\n",
      "                             2017-12-31  \n",
      "Intangible Assets          3.615020e+08  \n",
      "Capital Surplus            9.178024e+09  \n",
      "Total Liab                 2.302305e+10  \n",
      "Total Stockholder Equity   4.237242e+09  \n",
      "Minority Interest          1.395080e+09  \n",
      "Other Current Liab         3.098379e+09  \n",
      "Total Assets               2.865537e+10  \n",
      "Common Stock               1.690000e+05  \n",
      "Other Current Assets       1.553230e+08  \n",
      "Retained Earnings         -4.974299e+09  \n",
      "Other Liab                 4.196294e+09  \n",
      "Good Will                  6.023700e+07  \n",
      "Treasury Stock             3.334800e+07  \n",
      "Other Assets               1.166193e+09  \n",
      "Cash                       3.367914e+09  \n",
      "Total Current Liabilities  7.674740e+09  \n",
      "Short Long Term Debt       9.639320e+08  \n",
      "Other Stockholder Equity   3.334800e+07  \n",
      "Property Plant Equipment   2.049162e+10  \n",
      "Total Current Assets       6.570520e+09  \n",
      "Net Tangible Assets        3.815503e+09  \n",
      "Net Receivables            5.153810e+08  \n",
      "Long Term Debt             9.486248e+09  \n",
      "Inventory                  2.263537e+09  \n",
      "Accounts Payable           2.390250e+09  \n",
      "Long Term Investments      5.304000e+06  \n"
     ]
    }
   ],
   "source": [
    "# show balance sheet\n",
    "print(data.balance_sheet)"
   ]
  },
  {
   "cell_type": "code",
   "execution_count": 46,
   "metadata": {},
   "outputs": [
    {
     "name": "stdout",
     "output_type": "stream",
     "text": [
      "                                             2020-12-31    2019-12-31  \\\n",
      "Change To Liabilities                      2.423000e+09  1.447000e+09   \n",
      "Total Cashflows From Investing Activities -3.132000e+09 -1.436000e+09   \n",
      "Net Borrowings                            -2.488000e+09  7.980000e+08   \n",
      "Total Cash From Financing Activities       9.973000e+09  1.529000e+09   \n",
      "Change To Operating Activities            -1.165000e+09 -1.000000e+09   \n",
      "Issuance Of Stock                          1.268600e+10  1.111000e+09   \n",
      "Net Income                                 7.210000e+08 -8.620000e+08   \n",
      "Change In Cash                             1.311800e+10  2.506000e+09   \n",
      "Effect Of Exchange Rate                    3.340000e+08  8.000000e+06   \n",
      "Total Cash From Operating Activities       5.943000e+09  2.405000e+09   \n",
      "Depreciation                               2.322000e+09  2.092000e+09   \n",
      "Other Cashflows From Investing Activities  1.230000e+08  4.600000e+07   \n",
      "Change To Inventory                       -4.220000e+08 -4.290000e+08   \n",
      "Change To Account Receivables             -6.520000e+08 -3.670000e+08   \n",
      "Other Cashflows From Financing Activities -2.250000e+08 -3.800000e+08   \n",
      "Change To Netincome                        2.536000e+09  1.336000e+09   \n",
      "Capital Expenditures                      -3.232000e+09 -1.432000e+09   \n",
      "\n",
      "                                             2018-12-31    2017-12-31  \n",
      "Change To Liabilities                      2.203000e+09  8.570000e+08  \n",
      "Total Cashflows From Investing Activities -2.337000e+09 -4.196000e+09  \n",
      "Net Borrowings                             8.900000e+07  3.385000e+09  \n",
      "Total Cash From Financing Activities       5.740000e+08  4.415000e+09  \n",
      "Change To Operating Activities            -6.250000e+08 -1.150000e+09  \n",
      "Issuance Of Stock                          2.960000e+08  6.590000e+08  \n",
      "Net Income                                -9.760000e+08 -1.962000e+09  \n",
      "Change In Cash                             3.120000e+08  1.980000e+08  \n",
      "Effect Of Exchange Rate                   -2.300000e+07  4.000000e+07  \n",
      "Total Cash From Operating Activities       2.098000e+09 -6.100000e+07  \n",
      "Depreciation                               1.888000e+09  1.636000e+09  \n",
      "Other Cashflows From Investing Activities  4.600000e+07  4.600000e+07  \n",
      "Change To Inventory                       -1.023000e+09 -1.790000e+08  \n",
      "Change To Account Receivables             -4.970000e+08 -2.500000e+07  \n",
      "Other Cashflows From Financing Activities  1.890000e+08  3.710000e+08  \n",
      "Change To Netincome                        9.690000e+08  6.710000e+08  \n",
      "Capital Expenditures                      -2.319000e+09 -4.081000e+09  \n"
     ]
    }
   ],
   "source": [
    "# show cashflow\n",
    "print(data.cashflow)"
   ]
  },
  {
   "cell_type": "code",
   "execution_count": 47,
   "metadata": {},
   "outputs": [
    {
     "name": "stdout",
     "output_type": "stream",
     "text": [
      "          Revenue    Earnings\n",
      "Year                         \n",
      "2017  11759000000 -1962000000\n",
      "2018  21461000000  -976000000\n",
      "2019  24578000000  -862000000\n",
      "2020  31536000000   721000000\n"
     ]
    }
   ],
   "source": [
    "# show earnings\n",
    "print(data.earnings)"
   ]
  },
  {
   "cell_type": "markdown",
   "metadata": {},
   "source": [
    "Plot the earnings"
   ]
  },
  {
   "cell_type": "code",
   "execution_count": 51,
   "metadata": {},
   "outputs": [
    {
     "name": "stdout",
     "output_type": "stream",
     "text": [
      "          Revenue    Earnings\n",
      "Year                         \n",
      "2017  11759000000 -1962000000\n",
      "2018  21461000000  -976000000\n",
      "2019  24578000000  -862000000\n",
      "2020  31536000000   721000000\n"
     ]
    },
    {
     "data": {
      "text/plain": [
       "<AxesSubplot:xlabel='Year'>"
      ]
     },
     "execution_count": 51,
     "metadata": {},
     "output_type": "execute_result"
    },
    {
     "data": {
      "image/png": "[encoded data removed]",
      "text/plain": [
       "<Figure size 432x288 with 1 Axes>"
      ]
     },
     "metadata": {
      "needs_background": "light"
     },
     "output_type": "display_data"
    }
   ],
   "source": [
    "import yfinance as yf\n",
    "import matplotlib.pyplot as plt\n",
    "\n",
    "data = yf.Ticker(\"TSLA\")\n",
    "\n",
    "x = data.earnings\n",
    "print(x)\n",
    "\n",
    "x.plot(kind=\"bar\")\n"
   ]
  },
  {
   "cell_type": "code",
   "execution_count": 53,
   "metadata": {},
   "outputs": [
    {
     "name": "stdout",
     "output_type": "stream",
     "text": [
      "        0                                      1\n",
      "0  19.96%        % of Shares Held by All Insider\n",
      "1  42.40%       % of Shares Held by Institutions\n",
      "2  52.98%        % of Float Held by Institutions\n",
      "3    2836  Number of Institutions Holding Shares\n"
     ]
    }
   ],
   "source": [
    "print(data.major_holders)"
   ]
  },
  {
   "cell_type": "code",
   "execution_count": 54,
   "metadata": {},
   "outputs": [
    {
     "name": "stdout",
     "output_type": "stream",
     "text": [
      "                              Holder    Shares Date Reported   % Out  \\\n",
      "0         Vanguard Group, Inc. (The)  61992012    2021-09-29  0.0617   \n",
      "1                     Blackrock Inc.  52829488    2021-09-29  0.0526   \n",
      "2            Capital World Investors  37427314    2021-09-29  0.0373   \n",
      "3           State Street Corporation  31230141    2021-09-29  0.0311   \n",
      "4        Baillie Gifford and Company  13853124    2021-09-29  0.0138   \n",
      "5      Geode Capital Management, LLC  13169939    2021-09-29  0.0131   \n",
      "6            Jennison Associates LLC  10630339    2021-09-29  0.0106   \n",
      "7                           FMR, LLC   9921292    2021-09-29  0.0099   \n",
      "8         Northern Trust Corporation   8634516    2021-09-29  0.0086   \n",
      "9  Norges Bank Investment Management   7790070    2020-12-30  0.0078   \n",
      "\n",
      "         Value  \n",
      "0  48073565465  \n",
      "1  40968211354  \n",
      "2  29024133460  \n",
      "3  24218349742  \n",
      "4  10742820599  \n",
      "5  10213024295  \n",
      "6   8243615287  \n",
      "7   7693763520  \n",
      "8   6695894467  \n",
      "9   5497218696  \n"
     ]
    }
   ],
   "source": [
    "print(data.institutional_holders)"
   ]
  },
  {
   "cell_type": "markdown",
   "metadata": {},
   "source": [
    "Recommendations"
   ]
  },
  {
   "cell_type": "code",
   "execution_count": 55,
   "metadata": {},
   "outputs": [
    {
     "name": "stdout",
     "output_type": "stream",
     "text": [
      "                                    Firm        To Grade From Grade Action\n",
      "Date                                                                      \n",
      "2021-06-14 13:55:22    Canaccord Genuity             Buy              main\n",
      "2021-06-29 11:29:11                  UBS         Neutral              main\n",
      "2021-07-07 14:52:52            JP Morgan     Underweight              main\n",
      "2021-07-27 10:54:46               Mizuho             Buy              main\n",
      "2021-07-27 11:48:23          Wells Fargo    Equal-Weight              main\n",
      "2021-07-27 11:51:22          RBC Capital  Sector Perform              main\n",
      "2021-07-27 13:38:59        Goldman Sachs             Buy              main\n",
      "2021-07-27 14:27:49    Canaccord Genuity             Buy              main\n",
      "2021-07-29 10:14:50              DZ Bank             Buy       Sell     up\n",
      "2021-08-02 15:55:02       KGI Securities      Outperform              init\n",
      "2021-08-09 09:17:02            Jefferies             Buy       Hold     up\n",
      "2021-09-23 12:18:35      Tudor Pickering            Sell              init\n",
      "2021-10-04 10:44:57          RBC Capital  Sector Perform              main\n",
      "2021-10-08 13:28:13    Canaccord Genuity             Buy              main\n",
      "2021-10-14 10:45:16             Barclays     Underweight              main\n",
      "2021-10-15 13:26:02            Jefferies             Buy              main\n",
      "2021-10-21 10:21:59              Wedbush      Outperform              main\n",
      "2021-10-21 11:06:18        Credit Suisse         Neutral              main\n",
      "2021-10-21 11:07:12          Wells Fargo    Equal-Weight              main\n",
      "2021-10-21 11:58:01          RBC Capital  Sector Perform              main\n",
      "2021-10-21 12:42:25               Mizuho             Buy              main\n",
      "2021-10-21 14:23:55         Roth Capital         Neutral              main\n",
      "2021-10-21 14:33:04    Canaccord Genuity             Buy              main\n",
      "2021-10-27 12:15:11        Goldman Sachs             Buy              main\n",
      "2021-10-28 14:15:36        Piper Sandler      Overweight              main\n",
      "2021-11-08 12:27:21            Jefferies             Buy              main\n",
      "2021-11-19 11:55:04              Wedbush      Outperform              main\n",
      "2021-12-07 13:03:07                  UBS         Neutral              main\n",
      "2021-12-08 14:08:29  New Street Research             Buy              main\n",
      "2021-12-20 12:18:04           Guggenheim         Neutral              init\n",
      "2021-12-28 12:49:51       Argus Research             Buy              main\n",
      "2021-12-31 15:16:10        Deutsche Bank             Buy              main\n",
      "2022-01-03 14:17:31          RBC Capital  Sector Perform              main\n",
      "2022-01-03 16:33:41            JP Morgan     Underweight              main\n",
      "2022-01-03 17:54:18        Deutsche Bank             Buy              main\n",
      "2022-01-05 14:03:16               Mizuho             Buy              main\n",
      "2022-01-05 14:17:09             Barclays     Underweight              main\n"
     ]
    }
   ],
   "source": [
    "import yfinance as yf\n",
    "\n",
    "data = yf.Ticker(\"TSLA\")\n",
    "\n",
    "x = data.recommendations\n",
    "x = x[x.index > '2021-06-01']\n",
    "print(x)"
   ]
  },
  {
   "cell_type": "markdown",
   "metadata": {},
   "source": [
    "Return on Equity function"
   ]
  },
  {
   "cell_type": "code",
   "execution_count": 57,
   "metadata": {},
   "outputs": [
    {
     "name": "stdout",
     "output_type": "stream",
     "text": [
      "Apple Inc. : 1.47443\n",
      "Microsoft Corporation : 0.49303\n"
     ]
    }
   ],
   "source": [
    "import yfinance as yf\n",
    "\n",
    "def RoE(ticker):\n",
    "    data = yf.Ticker(ticker)\n",
    "    roe = data.info['returnOnEquity']\n",
    "    name = data.info['shortName']\n",
    "    print(name, \":\", roe)\n",
    "\n",
    "RoE('AAPL')\n",
    "RoE('MSFT')"
   ]
  },
  {
   "cell_type": "markdown",
   "metadata": {},
   "source": [
    "History"
   ]
  },
  {
   "cell_type": "code",
   "execution_count": 59,
   "metadata": {},
   "outputs": [
    {
     "name": "stdout",
     "output_type": "stream",
     "text": [
      "                   Open         High          Low        Close    Volume  \\\n",
      "Date                                                                       \n",
      "2021-12-06  1001.510010  1021.640015   950.500000  1009.010010  27221000   \n",
      "2021-12-07  1044.199951  1057.670044  1026.810059  1051.750000  18694900   \n",
      "2021-12-08  1052.709961  1072.380005  1033.000000  1068.959961  13968800   \n",
      "2021-12-09  1060.640015  1062.489990  1002.359985  1003.799988  19812800   \n",
      "2021-12-10  1008.750000  1020.979980   982.530029  1017.030029  19855000   \n",
      "2021-12-13  1001.090027  1005.000000   951.419983   966.409973  26198500   \n",
      "2021-12-14   945.000000   966.409973   930.000000   958.510010  23602100   \n",
      "2021-12-15   953.210022   978.750000   928.250000   975.989990  25056400   \n",
      "2021-12-16   994.500000   994.979980   921.849976   926.919983  27590500   \n",
      "2021-12-17   914.770020   960.659973   909.039978   932.570007  33479100   \n",
      "2021-12-20   910.700012   921.690002   893.390015   899.940002  18826700   \n",
      "2021-12-21   916.869995   939.500000   886.119995   938.530029  23839300   \n",
      "2021-12-22   965.659973  1015.659973   957.049988  1008.869995  31211400   \n",
      "2021-12-23  1006.799988  1072.979980   997.559998  1067.000000  30904400   \n",
      "2021-12-27  1073.670044  1117.000000  1070.719971  1093.939941  23715300   \n",
      "2021-12-28  1109.489990  1119.000000  1078.420044  1088.469971  20108000   \n",
      "2021-12-29  1098.640015  1104.000000  1064.140015  1086.189941  18718000   \n",
      "2021-12-30  1061.329956  1095.550049  1053.150024  1070.339966  15680300   \n",
      "2021-12-31  1073.439941  1082.000000  1054.589966  1056.780029  13528700   \n",
      "2022-01-03  1147.750000  1201.069946  1136.040039  1199.780029  34643800   \n",
      "2022-01-04  1189.550049  1208.000000  1123.050049  1149.589966  33416100   \n",
      "2022-01-05  1146.650024  1170.339966  1081.010132  1088.119995  26706559   \n",
      "\n",
      "            Dividends  Stock Splits  \n",
      "Date                                 \n",
      "2021-12-06          0             0  \n",
      "2021-12-07          0             0  \n",
      "2021-12-08          0             0  \n",
      "2021-12-09          0             0  \n",
      "2021-12-10          0             0  \n",
      "2021-12-13          0             0  \n",
      "2021-12-14          0             0  \n",
      "2021-12-15          0             0  \n",
      "2021-12-16          0             0  \n",
      "2021-12-17          0             0  \n",
      "2021-12-20          0             0  \n",
      "2021-12-21          0             0  \n",
      "2021-12-22          0             0  \n",
      "2021-12-23          0             0  \n",
      "2021-12-27          0             0  \n",
      "2021-12-28          0             0  \n",
      "2021-12-29          0             0  \n",
      "2021-12-30          0             0  \n",
      "2021-12-31          0             0  \n",
      "2022-01-03          0             0  \n",
      "2022-01-04          0             0  \n",
      "2022-01-05          0             0  \n"
     ]
    }
   ],
   "source": [
    "data = yf.Ticker('TSLA')\n",
    "print(data.history()) #Just last month"
   ]
  },
  {
   "cell_type": "code",
   "execution_count": 60,
   "metadata": {},
   "outputs": [
    {
     "name": "stdout",
     "output_type": "stream",
     "text": [
      "                   Open         High          Low        Close    Volume  \\\n",
      "Date                                                                       \n",
      "2021-12-30  1061.329956  1095.550049  1053.150024  1070.339966  15680300   \n",
      "2021-12-31  1073.439941  1082.000000  1054.589966  1056.780029  13528700   \n",
      "2022-01-03  1147.750000  1201.069946  1136.040039  1199.780029  34643800   \n",
      "2022-01-04  1189.550049  1208.000000  1123.050049  1149.589966  33416100   \n",
      "2022-01-05  1146.650024  1170.339966  1081.010132  1088.119995  26706559   \n",
      "\n",
      "            Dividends  Stock Splits  \n",
      "Date                                 \n",
      "2021-12-30          0             0  \n",
      "2021-12-31          0             0  \n",
      "2022-01-03          0             0  \n",
      "2022-01-04          0             0  \n",
      "2022-01-05          0             0  \n"
     ]
    }
   ],
   "source": [
    "import yfinance as yf\n",
    "\n",
    "data = yf.Ticker('TSLA')\n",
    "\n",
    "print(data.history(period='5d'))"
   ]
  },
  {
   "cell_type": "code",
   "execution_count": 64,
   "metadata": {},
   "outputs": [
    {
     "data": {
      "image/png": "[encoded data removed]",
      "text/plain": [
       "<Figure size 432x288 with 1 Axes>"
      ]
     },
     "metadata": {
      "needs_background": "light"
     },
     "output_type": "display_data"
    }
   ],
   "source": [
    "# Close price\n",
    "\n",
    "data = yf.Ticker('TSLA')\n",
    "\n",
    "x = data.history()['Close']\n",
    "x.plot()\n",
    "\n",
    "plt.savefig('plot.png')"
   ]
  },
  {
   "cell_type": "code",
   "execution_count": 67,
   "metadata": {},
   "outputs": [
    {
     "name": "stdout",
     "output_type": "stream",
     "text": [
      "[*********************100%***********************]  3 of 3 completed\n",
      "                  AAPL        MSFT         TSLA\n",
      "Date                                           \n",
      "2021-01-04  129.410004  217.690002   729.770020\n",
      "2021-01-05  131.009995  217.899994   735.109985\n",
      "2021-01-06  126.599998  212.250000   755.979980\n",
      "2021-01-07  130.919998  218.289993   816.039978\n",
      "2021-01-08  132.050003  219.619995   880.020020\n",
      "...                ...         ...          ...\n",
      "2021-12-30  178.199997  339.320007  1070.339966\n",
      "2021-12-31  177.570007  336.320007  1056.780029\n",
      "2022-01-03  182.009995  334.750000  1199.780029\n",
      "2022-01-04  179.699997  329.010010  1149.589966\n",
      "2022-01-05  174.919998  316.380005  1088.119995\n",
      "\n",
      "[255 rows x 3 columns]\n"
     ]
    },
    {
     "data": {
      "text/plain": [
       "<AxesSubplot:xlabel='Date'>"
      ]
     },
     "execution_count": 67,
     "metadata": {},
     "output_type": "execute_result"
    },
    {
     "data": {
      "image/png": "[encoded data removed]",
      "text/plain": [
       "<Figure size 432x288 with 1 Axes>"
      ]
     },
     "metadata": {
      "needs_background": "light"
     },
     "output_type": "display_data"
    }
   ],
   "source": [
    "# Download multiple historical prices files\n",
    "\n",
    "data = yf.download(\"AAPL MSFT TSLA\", start='2021-01-01') \n",
    "print(data['Close'])\n",
    "\n",
    "data[\"Close\"].plot()"
   ]
  },
  {
   "cell_type": "code",
   "execution_count": null,
   "metadata": {},
   "outputs": [],
   "source": []
  },
  {
   "cell_type": "code",
   "execution_count": null,
   "metadata": {},
   "outputs": [],
   "source": []
  },
  {
   "cell_type": "code",
   "execution_count": null,
   "metadata": {},
   "outputs": [],
   "source": []
  },
  {
   "cell_type": "markdown",
   "metadata": {},
   "source": [
    "## Repo\n"
   ]
  },
  {
   "cell_type": "code",
   "execution_count": 95,
   "metadata": {},
   "outputs": [
    {
     "name": "stdout",
     "output_type": "stream",
     "text": [
      "0.2584333254941891\n"
     ]
    },
    {
     "data": {
      "text/plain": [
       "<AxesSubplot:title={'center':'Value of 0.2584 bitcoin'}, xlabel='Date'>"
      ]
     },
     "execution_count": 95,
     "metadata": {},
     "output_type": "execute_result"
    },
    {
     "data": {
      "image/png": "[encoded data removed]",
      "text/plain": [
       "<Figure size 432x288 with 1 Axes>"
      ]
     },
     "metadata": {
      "needs_background": "light"
     },
     "output_type": "display_data"
    },
    {
     "data": {
      "image/png": "[encoded data removed]",
      "text/plain": [
       "<Figure size 432x288 with 1 Axes>"
      ]
     },
     "metadata": {
      "needs_background": "light"
     },
     "output_type": "display_data"
    }
   ],
   "source": [
    "import numpy as np\n",
    "import numpy_financial as npf\n",
    "import matplotlib.pyplot as plt\n",
    "import yfinance as yf\n",
    "\n",
    "#price for 2018-2021\n",
    "bitcoin = [3869.47, 7188.46, 22203.31, 29391.78]\n",
    "#print(np.std(bitcoin))\n",
    "\n",
    "cashflow = [-500000] + list(np.array(bitcoin)*10)\n",
    "\n",
    "#print(npf.irr(cashflow)) \n",
    "\n",
    "# Suppose we have 1000 dolars to invest in bitcoin \n",
    "bit_num = 1000 / bitcoin[0]\n",
    "\n",
    "print(bit_num) #We have 0.2584 from a bitcoin\n",
    "\n",
    "inv_per_year = np.array(bitcoin) * bit_num\n",
    "\n",
    "title = f\"Value of {0.2584} bitcoin\"\n",
    "plt.title(title)\n",
    "plt.plot(inv_per_year)\n",
    "\n",
    "\n",
    "plt.figure()\n",
    "data = yf.Ticker('BTC-USD')\n",
    "BTC = data.history(\"1y\")[\"Close\"]\n",
    "bit_num2 = 1000 / BTC[0]\n",
    "plt.title(title)\n",
    "(BTC*bit_num2).plot()"
   ]
  }
 ],
 "metadata": {
  "interpreter": {
   "hash": "6f293cff23337c42d9b2abd40d6329a0ae8508cd838b4363f7d47f9cb63458ad"
  },
  "kernelspec": {
   "display_name": "Python 3.8.5 64-bit ('base': conda)",
   "name": "python3"
  },
  "language_info": {
   "codemirror_mode": {
    "name": "ipython",
    "version": 3
   },
   "file_extension": ".py",
   "mimetype": "text/x-python",
   "name": "python",
   "nbconvert_exporter": "python",
   "pygments_lexer": "ipython3",
   "version": "3.8.5"
  },
  "orig_nbformat": 4
 },
 "nbformat": 4,
 "nbformat_minor": 2
}
