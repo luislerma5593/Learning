{
 "cells": [
  {
   "cell_type": "markdown",
   "metadata": {},
   "source": [
    "# Deep Learning with Python\n",
    "---"
   ]
  },
  {
   "cell_type": "code",
   "execution_count": 8,
   "metadata": {},
   "outputs": [],
   "source": [
    "#Libraries\n",
    "import pandas as pd\n",
    "import numpy as np\n",
    "import matplotlib.pyplot as plt\n",
    "\n",
    "path = r'C:\\Users\\LLerma\\Documents\\GitHub\\Learning\\Datasets'"
   ]
  },
  {
   "attachments": {},
   "cell_type": "markdown",
   "metadata": {},
   "source": [
    "**NOTES**\n",
    "\n",
    "* Skip connections, is a method to simplify the optimization of neural networks. It makes easier to the Adam optimizer to find the global minimum of the network's loss function. In Keras, implementing a Skip connection, is as simple as using a \"Concatenate\" layer to concatenate the inputs to the deep netowrk's outputs, right before the final output layer.\n",
    "\n",
    "```\n",
    "InputText ---> EmbeddingLayer ---> LSTM_Layer ----------------------\\\n",
    "InputNumerics(Float) --------------------------------------------------> ConcatLayer ---> OutputLayer\n",
    "InputImages ---> ConvolutionalLayer ---> ConvolutionalLayer---------/\n",
    "```\n"
   ]
  },
  {
   "attachments": {},
   "cell_type": "markdown",
   "metadata": {},
   "source": [
    "## 1_Introduction to Deep Learning"
   ]
  },
  {
   "cell_type": "markdown",
   "metadata": {},
   "source": [
    "### Basics of DL and NN"
   ]
  },
  {
   "cell_type": "markdown",
   "metadata": {},
   "source": [
    "\n",
    "The layer at the left is \"Input Layer\" \\\n",
    "The layer at the right is \"Output Layer\"\\\n",
    "Tha layers in the middle are \"Hidden Layers\"\n",
    "\n",
    "Each node in the hidden layer, represents an aggregation of information from our input data, and each node adds to the model's ability to capture interactions. The more nodes we have, the more interactions we capture."
   ]
  },
  {
   "cell_type": "markdown",
   "metadata": {},
   "source": [
    "#### Forward propagation"
   ]
  },
  {
   "cell_type": "markdown",
   "metadata": {},
   "source": [
    "The weights, are the parameters we train when we fit a NN to the data. In this case, we multiply each input variable by the corresponding weights and then sum (dot product); and so on with each layer until the Output node.\n",
    "\n",
    "1. Multiply - add process\n",
    "2. Dot product\n",
    "3. Forward propagation for one data point at a time\n",
    "4. Output is the prediction for that data point\n",
    "\n"
   ]
  },
  {
   "cell_type": "code",
   "execution_count": 12,
   "metadata": {},
   "outputs": [
    {
     "name": "stdout",
     "output_type": "stream",
     "text": [
      "9\n"
     ]
    }
   ],
   "source": [
    "input_data = np.array([2, 3])\n",
    "weights = { 'node_0': np.array([1, 1]),\n",
    "            'node_1': np.array([-1, 1]),\n",
    "            'output': np.array([2, -1])}\n",
    "node_0_value = (input_data * weights['node_0']).sum()\n",
    "node_1_value = (input_data * weights['node_1']).sum()\n",
    "\n",
    "hidden_layer_values = np.array([node_0_value,node_1_value])\n",
    "\n",
    "output = (hidden_layer_values * weights['output']).sum() #Dot product\n",
    "print(output)"
   ]
  },
  {
   "cell_type": "markdown",
   "metadata": {},
   "source": [
    "#### Activation Function"
   ]
  },
  {
   "cell_type": "markdown",
   "metadata": {},
   "source": [
    "Some examples of activation functions, are:\n",
    "\n",
    "* Sigmoid\n",
    "* Tanh\n",
    "* ReLU (Rectified Linear Activation)"
   ]
  },
  {
   "cell_type": "code",
   "execution_count": 4,
   "metadata": {},
   "outputs": [
    {
     "name": "stdout",
     "output_type": "stream",
     "text": [
      "1.2382242525694254\n"
     ]
    }
   ],
   "source": [
    "input_data = np.array([2, 3])\n",
    "weights = { 'node_0': np.array([1, 1]),\n",
    "            'node_1': np.array([-1, 1]),\n",
    "            'output': np.array([2, -1])}\n",
    "node_0_input = (input_data * weights['node_0']).sum()\n",
    "node_0_output = np.tanh(node_0_input)\n",
    "\n",
    "node_1_input = (input_data * weights['node_1']).sum()\n",
    "node_1_output = np.tanh(node_1_input)\n",
    "\n",
    "hidden_layer_values = np.array([node_0_output,node_1_output])\n",
    "\n",
    "output = (hidden_layer_values * weights['output']).sum() #Dot product\n",
    "print(output)"
   ]
  },
  {
   "cell_type": "code",
   "execution_count": 5,
   "metadata": {},
   "outputs": [
    {
     "name": "stdout",
     "output_type": "stream",
     "text": [
      "9\n"
     ]
    }
   ],
   "source": [
    "#With RELU\n",
    "\n",
    "def relu(input):\n",
    "    '''Define your relu activation function here'''\n",
    "    # Calculate the value for the output of the relu function: output\n",
    "    output = max(0, input)\n",
    "    \n",
    "    # Return the value just calculated\n",
    "    return(output)\n",
    "\n",
    "# Calculate node 0 value: node_0_output\n",
    "node_0_input = (input_data * weights['node_0']).sum()\n",
    "node_0_output = relu(node_0_input)\n",
    "\n",
    "# Calculate node 1 value: node_1_output\n",
    "node_1_input = (input_data * weights['node_1']).sum()\n",
    "node_1_output = relu(node_1_input)\n",
    "\n",
    "# Put node values into array: hidden_layer_outputs\n",
    "hidden_layer_outputs = np.array([node_0_output, node_1_output])\n",
    "\n",
    "# Calculate model output (do not apply relu)\n",
    "model_output = (hidden_layer_outputs * weights['output']).sum()\n",
    "\n",
    "# Print model output\n",
    "print(model_output)"
   ]
  },
  {
   "cell_type": "code",
   "execution_count": 6,
   "metadata": {},
   "outputs": [
    {
     "name": "stdout",
     "output_type": "stream",
     "text": [
      "[8, 12]\n"
     ]
    }
   ],
   "source": [
    "# Applied to many observations\n",
    "\n",
    "# Define predict_with_network()\n",
    "def predict_with_network(input_data_row, weights):\n",
    "\n",
    "    # Calculate node 0 value\n",
    "    node_0_input = (input_data_row * weights['node_0']).sum()\n",
    "    node_0_output = relu(node_0_input)\n",
    "\n",
    "    # Calculate node 1 value\n",
    "    node_1_input = (input_data_row * weights['node_1']).sum()\n",
    "    node_1_output = relu(node_1_input)\n",
    "\n",
    "    # Put node values into array: hidden_layer_outputs\n",
    "    hidden_layer_outputs = np.array([node_0_output, node_1_output])\n",
    "    \n",
    "    # Calculate model output\n",
    "    input_to_final_layer = (hidden_layer_outputs * weights['output']).sum()\n",
    "    model_output = relu(input_to_final_layer)\n",
    "    \n",
    "    # Return model output\n",
    "    return(model_output)\n",
    "\n",
    "# Create empty list to store prediction results\n",
    "results = []\n",
    "for input_data_row in input_data:\n",
    "    # Append prediction to results\n",
    "    results.append(predict_with_network(input_data_row, weights))\n",
    "\n",
    "# Print results\n",
    "print(results)     "
   ]
  },
  {
   "cell_type": "markdown",
   "metadata": {},
   "source": [
    "#### Deeper networks"
   ]
  },
  {
   "cell_type": "markdown",
   "metadata": {},
   "source": [
    "\n",
    "In a model for image recognition, we have this example:\n",
    "1. First hidden layers, identify lines (horizontal, vertical, diagonal)\n",
    "2. Find larger patterns like big squares\n",
    "3. Later layers might put together the location of squares and geometric shapes, to identify a face, a car, etc.\n",
    "\n",
    "We don't need to specify those interactions/patterns, the NN gets weights that find the relevant patterns to make better predictions.\n",
    "\n",
    "**NOTES** \n",
    "- The model training process sets them to optimize predictive accuracy.\n",
    "- The last layers capture the most complex interactions."
   ]
  },
  {
   "cell_type": "markdown",
   "metadata": {},
   "source": [
    "#### With 2 hidden layers"
   ]
  },
  {
   "cell_type": "code",
   "execution_count": 11,
   "metadata": {},
   "outputs": [
    {
     "name": "stdout",
     "output_type": "stream",
     "text": [
      "112\n"
     ]
    }
   ],
   "source": [
    "weights = {'node_0_0': np.array([2, 4]),\n",
    " 'node_0_1': np.array([ 4, -5]),\n",
    " 'node_1_0': np.array([-1,  2]),\n",
    " 'node_1_1': np.array([1, 2]),\n",
    " 'output': np.array([2, 7])}\n",
    "\n",
    "def predict_with_network(input_data):\n",
    "    # Calculate node 0 in the first hidden layer\n",
    "    node_0_0_input = (input_data * weights['node_0_0']).sum()\n",
    "    node_0_0_output = relu(node_0_0_input)\n",
    "\n",
    "    # Calculate node 1 in the first hidden layer\n",
    "    node_0_1_input = (input_data * weights['node_0_1']).sum()\n",
    "    node_0_1_output = relu(node_0_1_input)\n",
    "\n",
    "    # Put node values into array: hidden_0_outputs\n",
    "    hidden_0_outputs = np.array([node_0_0_output, node_0_1_output])\n",
    "    \n",
    "    # Calculate node 0 in the second hidden layer\n",
    "    node_1_0_input = (hidden_0_outputs * weights['node_1_0']).sum()\n",
    "    node_1_0_output = relu(node_1_0_input)\n",
    "\n",
    "    # Calculate node 1 in the second hidden layer\n",
    "    node_1_1_input = (hidden_0_outputs * weights['node_1_1']).sum()\n",
    "    node_1_1_output = relu(node_1_1_input)\n",
    "\n",
    "    # Put node values into array: hidden_1_outputs\n",
    "    hidden_1_outputs = np.array([node_1_0_output, node_1_1_output])\n",
    "\n",
    "    # Calculate model output: model_output\n",
    "    model_output = (hidden_1_outputs * weights['output']).sum()\n",
    "    \n",
    "    # Return model_output\n",
    "    return(model_output)\n",
    "\n",
    "output = predict_with_network(input_data)\n",
    "print(output)\n"
   ]
  },
  {
   "cell_type": "markdown",
   "metadata": {},
   "source": [
    "### Optimizing a neural network with backward propagation"
   ]
  },
  {
   "cell_type": "markdown",
   "metadata": {},
   "source": [
    "#### Loss function"
   ]
  },
  {
   "cell_type": "markdown",
   "metadata": {},
   "source": [
    "Lower loss function value means a better model. It can be modeled in a 3D space, where X and Y are the weights, and Z is the value from the loss function.\n",
    "\n",
    "The goal is to find the values for weights, where we have the lowest value for the loss function. The algorithm used is \"gradient descent\", which uses the slope to find a flat point in the function.\n",
    "\n",
    "The steps are:\n",
    "1. Find the slope\n",
    "2. Take a step downhill\n",
    "3. Repeat until you get to the mi value where the slope/derivative is 0"
   ]
  },
  {
   "cell_type": "code",
   "execution_count": 13,
   "metadata": {},
   "outputs": [
    {
     "name": "stdout",
     "output_type": "stream",
     "text": [
      "6\n",
      "0\n"
     ]
    }
   ],
   "source": [
    "# The data point you will make a prediction for\n",
    "input_data = np.array([0, 3])\n",
    "\n",
    "# Sample weights\n",
    "weights_0 = {'node_0': [2, 1],\n",
    "             'node_1': [1, 2],\n",
    "             'output': [1, 1]\n",
    "            }\n",
    "\n",
    "# The actual target value, used to calculate the error\n",
    "target_actual = 3\n",
    "\n",
    "# Make prediction using original weights\n",
    "model_output_0 = predict_with_network(input_data, weights_0)\n",
    "\n",
    "# Calculate error: error_0\n",
    "error_0 = model_output_0 - target_actual\n",
    "\n",
    "# Create weights that cause the network to make perfect prediction (3): weights_1\n",
    "weights_1 = {'node_0': [2, 1],\n",
    "             'node_1': [1, 2],\n",
    "             'output': [1, 0]\n",
    "            }\n",
    "\n",
    "# Make prediction using new weights: model_output_1\n",
    "model_output_1 = predict_with_network(input_data, weights_1)\n",
    "\n",
    "# Calculate error: error_1\n",
    "error_1 = model_output_1 - target_actual\n",
    "\n",
    "# Print error_0 and error_1\n",
    "print(error_0)\n",
    "print(error_1)"
   ]
  },
  {
   "cell_type": "code",
   "execution_count": 16,
   "metadata": {},
   "outputs": [
    {
     "name": "stdout",
     "output_type": "stream",
     "text": [
      "Mean squared error with weights_0: 37.500000\n",
      "Mean squared error with weights_1: 7.750000\n"
     ]
    }
   ],
   "source": [
    "from sklearn.metrics import mean_squared_error\n",
    "import numpy as np\n",
    "\n",
    "# Create model_output_0 \n",
    "model_output_0 = []\n",
    "# Create model_output_1\n",
    "model_output_1 = []\n",
    "\n",
    "target_actuals = [1, 3, 5, 7]\n",
    "\n",
    "input_data = [np.array([0, 3]), np.array([1, 2]), np.array([-1, -2]), np.array([4, 0])]\n",
    "\n",
    "# Loop over input_data\n",
    "for row in input_data:\n",
    "    # Append prediction to model_output_0\n",
    "    model_output_0.append(predict_with_network(row, weights_0))\n",
    "    \n",
    "    # Append prediction to model_output_1\n",
    "    model_output_1.append(predict_with_network(row, weights_1))\n",
    "\n",
    "# Calculate the mean squared error for model_output_0: mse_0\n",
    "mse_0 = mean_squared_error(target_actuals,model_output_0)\n",
    "\n",
    "# Calculate the mean squared error for model_output_1: mse_1\n",
    "mse_1 = mean_squared_error(target_actuals,model_output_1)\n",
    "\n",
    "# Print mse_0 and mse_1\n",
    "print(\"Mean squared error with weights_0: %f\" %mse_0)\n",
    "print(\"Mean squared error with weights_1: %f\" %mse_1)"
   ]
  },
  {
   "cell_type": "markdown",
   "metadata": {},
   "source": [
    "#### Gradinet descent"
   ]
  },
  {
   "cell_type": "markdown",
   "metadata": {},
   "source": [
    "It is used to optimize weights in a model, if slope is positive:\n",
    "* Move to lower numbers\n",
    "* Substract the slope from the current Value\n",
    "* Too big step might lead us astray\n",
    "\n",
    "So, insted of directly substracting the slope, we multiply the slope by a small number, called **learning rate**.\n",
    "\n",
    "Solution: Learning Rate\n",
    "- Update each weight by substracting $LearningRate * Slope$\n",
    "    - $NewWeight = Weight - LearningRate * Slope$\n",
    "- LR are frequently around 0.01\n",
    "- This ensures small steps to reach the optmal weights\n",
    "\n",
    "(3) --2--> (6)\n",
    "Target = 10\n",
    "\n",
    "$SlopeForWeight -Or- GradientsForWeights = $\\\n",
    "(Slope of the loss function respect the output node) --> 2*(PredictedValue-ActualValue) Or 2*Error = 2(-4)\\\n",
    "(Input Data) --> 3\\\n",
    "(Slope of activation funtion we feed) --> In this case is the identity.\n",
    "\n",
    "$SlopeForWeight = 2*-4*3$ \\\n",
    "$SlopeForWeight = -24$\n",
    "\n",
    "If learning_rate = 0.01, the new weight would be: \n",
    " \n",
    "$2 - (-24 * 0.01) = 2.24$\n",
    "\n",
    "Then,  repeat this for each weight for multiple times."
   ]
  },
  {
   "cell_type": "code",
   "execution_count": 29,
   "metadata": {},
   "outputs": [
    {
     "name": "stdout",
     "output_type": "stream",
     "text": [
      "5\n",
      "[0.7 1.6]\n",
      "2.5\n"
     ]
    }
   ],
   "source": [
    "import numpy as np\n",
    "weights = np.array([1, 2])\n",
    "input_data = np.array([3, 4])\n",
    "target = 6\n",
    "learning_rate = 0.01\n",
    "preds = (weights * input_data).sum()\n",
    "error = preds - target\n",
    "print(error)\n",
    "\n",
    "#Slope\n",
    "gradient = 2* input_data * error\n",
    "\n",
    "weights_updated = weights - learning_rate * gradient\n",
    "print(weights_updated)\n",
    "preds_updated = (weights_updated * input_data).sum()\n",
    "error_updated = preds_updated - target\n",
    "print(error_updated)\n",
    "\n",
    "#Great work! As you can see, the mean squared error decreases as the number of iterations go up.\n"
   ]
  },
  {
   "cell_type": "markdown",
   "metadata": {},
   "source": [
    "#### Backpropagation"
   ]
  },
  {
   "cell_type": "markdown",
   "metadata": {},
   "source": [
    "It is used to calculate the slopes you need to optimize more complex deep learning models.\n",
    "\n",
    "It calculates the necessary slopes sequentially from the weights closest to the prediction, through the hidden layers, eventually back to the weights coming from the inputs.\n",
    "\n",
    "* Trying to estimate the slope of the loss function w.r.t. each weight\n",
    "* First Forward propagation to calculate predictions and errors\n",
    "\n",
    "Each time you generate predictions using forward propagation, you update the weights using backward propagation."
   ]
  },
  {
   "cell_type": "code",
   "execution_count": null,
   "metadata": {},
   "outputs": [],
   "source": [
    "# target = 4\n",
    "# error = 3 \n",
    "# ReLU = 1, since the output node is positive\n",
    "\n",
    "# (1) -1-> (7)\n",
    "# (3) -2-/"
   ]
  },
  {
   "cell_type": "markdown",
   "metadata": {},
   "source": [
    "1. Start at some random set of weights\n",
    "2. Use forward propagation to make a prediction\n",
    "3. Use backward propagation to calculate the slope of the loss function w.r.t. each weight\n",
    "4. Multiply that slope by the learning rate, and substract from the current weights\n",
    "4. Keep going until we get to a flat part\n",
    "\n",
    "##### Stochastic gradient descent\n",
    "* It´s common to calculate slopes on only a subset of the data (called a batch)\n",
    "* Use a different batch of data to calculate the next update\n",
    "* Start over from the beggining once all data is used\n",
    "* Each time through the training data is called an epoch\n",
    "* When slopes are calculated on one batch at a time, is called **stochastic gradient descent**"
   ]
  },
  {
   "cell_type": "markdown",
   "metadata": {},
   "source": [
    "### Building deep learning models with Keras"
   ]
  },
  {
   "cell_type": "markdown",
   "metadata": {},
   "source": [
    "Model building steps:\n",
    "1. Specify Architecture (Layers, nodes, activation functions)\n",
    "2. Compile\n",
    "3. Fit\n",
    "4. Predict"
   ]
  },
  {
   "cell_type": "markdown",
   "metadata": {},
   "source": [
    "#### Creating a model"
   ]
  },
  {
   "cell_type": "markdown",
   "metadata": {},
   "source": [
    "```py\n",
    "#Code\n",
    "import numpy as np\n",
    "from tensorflow.keras.layers import Dense\n",
    "from tensorflow.keras.models import Sequential\n",
    "\n",
    "path = r'C:\\Users\\LLerma\\Documents\\GitHub\\Learning\\Datasets'\n",
    "\n",
    "predictors = np.loadtxt(path + '\\predictors_data.csv', delimiter = ',')\n",
    "n_cols = predictors.shape[1] #Number of nodes in input layer\n",
    "\n",
    "model = Sequential() #An easy way with simple connections\n",
    "\n",
    "#In Dense layers, all the nodes in the previous layer connect to all the nodes in the current layer. \n",
    "#Here, we add layers\n",
    "model.add(Dense(100, activation='relu', input_shape = (n_cols,))) #100 nodes, activation function\n",
    "model.add(Dense(100, activation='relu'))\n",
    "model.add(Dense(1)) #A single output layer \n",
    "\n",
    "#This model has 2 hidden layers and an output layer\n",
    "```"
   ]
  },
  {
   "cell_type": "markdown",
   "metadata": {},
   "source": [
    "\n",
    "#### Compiling and fitting a model\n",
    "\n",
    "\n"
   ]
  },
  {
   "cell_type": "markdown",
   "metadata": {},
   "source": [
    "Creates an inernal function to do back-propagation effitiently.\n",
    "\n",
    "It has two main arguments:\n",
    "\n",
    "1. Optimizer (which controls the learning rate)\n",
    "    - 'Adam' is a good LR optimizer  \n",
    " \n",
    "2. Loss function\n",
    "    - MSE ia common for regression"
   ]
  },
  {
   "cell_type": "markdown",
   "metadata": {},
   "source": [
    "```py\n",
    "#Code to compile\n",
    "n_cols = predictors.shape[1] #Number of nodes in input layer\n",
    "\n",
    "model = Sequential() #An easy way with simple connections\n",
    "\n",
    "#In Dense layers, all the nodes in the previous layer connect to all the nodes in the current layer. \n",
    "#Here, we add layers\n",
    "model.add(Dense(100, activation='relu', input_shape = (n_cols,))) #100 nodes, activation function\n",
    "model.add(Dense(100, activation='relu'))\n",
    "model.add(Dense(1)) #A single output layer \n",
    "\n",
    "model.compile(optimzer='adam', loss='mean_squared_error')\n",
    "\n",
    "#Scaling data before fitting can ease optimization\n",
    "model.fit(predictors, target)\n",
    "\n",
    "```"
   ]
  },
  {
   "cell_type": "markdown",
   "metadata": {},
   "source": [
    "#### Classification models"
   ]
  },
  {
   "cell_type": "markdown",
   "metadata": {},
   "source": [
    "* Loss function: **'categorical_crossentropy'** \n",
    "* Instead of MSE, and is the most common. \n",
    "* AKA as LogLoss, where: Lower scores are better.\n",
    "* Add 'metrics = ['accuracy'], to compile step for easy-to-understand diagnostics and prints accuracy.\n",
    "* Ouput layer has separte node for each possible outcome, and uses **'softmax'** activation. (to be able to interpret as porobabilities)\n",
    "* 'sgd' optimizer, which stands for Stochastic Gradient Descent."
   ]
  },
  {
   "cell_type": "markdown",
   "metadata": {},
   "source": [
    "```py\n",
    "#Code\n",
    "from tensorflow.keras.utils import to_categorical\n",
    "\n",
    "data = np.loadtxt(path + '\\basketball_data.csv', delimiter = ',')\n",
    "predictors = data.drop(['shot_result'], axis=1).values\n",
    "target = to_categorical(data['shot_result'])\n",
    "\n",
    "model = Sequential()\n",
    "\n",
    "model.add(Dense(100, activation='relu', input_shape = (n_cols,))) #100 nodes, activation function\n",
    "model.add(Dense(100, activation='relu'))\n",
    "model.add(Dense(100, activation='relu'))\n",
    "model.add(Dense(2, activation='softmax')) #A double output layer \n",
    "\n",
    "model.compile(optimizer='adam', loss='categorical_crossentropy', metrics=['accuracy'])\n",
    "model.fit(predictors, target)\n",
    "```"
   ]
  },
  {
   "cell_type": "code",
   "execution_count": 12,
   "metadata": {},
   "outputs": [
    {
     "name": "stdout",
     "output_type": "stream",
     "text": [
      "28/28 [==============================] - 0s 1ms/step - loss: 4.4894 - accuracy: 0.5713\n"
     ]
    },
    {
     "data": {
      "text/plain": [
       "<keras.callbacks.History at 0x17c8e0b6df0>"
      ]
     },
     "execution_count": 12,
     "metadata": {},
     "output_type": "execute_result"
    }
   ],
   "source": [
    "# Import necessary modules\n",
    "from tensorflow.keras.layers import Dense\n",
    "from tensorflow.keras.models import Sequential\n",
    "from tensorflow.keras.utils import to_categorical #One Hot Encoding\n",
    "import numpy as np\n",
    "import pandas as pd\n",
    "\n",
    "path = r'C:\\Users\\LLerma\\Documents\\GitHub\\Learning\\Datasets'\n",
    "df = pd.read_csv(path + r'\\titanic_all_numeric.csv', delimiter = ',')\n",
    "\n",
    "predictors = df.drop(['survived'], axis=1).values\n",
    "predictors = np.asarray(predictors).astype('float32')\n",
    "# Convert the target to categorical: target\n",
    "target = to_categorical(df.survived)\n",
    "\n",
    "n_cols = predictors.shape[1]\n",
    "\n",
    "# Set up the model\n",
    "model = Sequential()\n",
    "\n",
    "# Add the first layer\n",
    "model.add(Dense(32, activation='relu', input_shape=(n_cols,)))\n",
    "\n",
    "# Add the output layer\n",
    "model.add(Dense(2, activation='softmax'))\n",
    "\n",
    "# Compile the model\n",
    "model.compile(optimizer='sgd', loss='categorical_crossentropy', metrics=['accuracy'])\n",
    "\n",
    "# Fit the model\n",
    "model.fit(predictors, target)"
   ]
  },
  {
   "cell_type": "code",
   "execution_count": 135,
   "metadata": {},
   "outputs": [
    {
     "name": "stdout",
     "output_type": "stream",
     "text": [
      "1/1 [==============================] - 0s 22ms/step\n"
     ]
    },
    {
     "data": {
      "text/plain": [
       "array([[0.8684881, 0.1315119]], dtype=float32)"
      ]
     },
     "execution_count": 135,
     "metadata": {},
     "output_type": "execute_result"
    }
   ],
   "source": [
    "model.predict(predictors[0:1])"
   ]
  },
  {
   "cell_type": "markdown",
   "metadata": {},
   "source": [
    "#### Using models"
   ]
  },
  {
   "cell_type": "markdown",
   "metadata": {},
   "source": [
    "1. Save\n",
    "2. Reload\n",
    "3. Predict"
   ]
  },
  {
   "cell_type": "markdown",
   "metadata": {},
   "source": [
    "```py\n",
    "from tensforlow.keras.models import load_model\n",
    "model.save('model_file.h5')\n",
    "my_model = load_model('model_file.h5')\n",
    "predictions = my_model.predict(data_to_predict_with)\n",
    "\n",
    "#To get only success probabilities\n",
    "probability_true = predictions[:,1]\n",
    "\n",
    "#View summary\n",
    "my_model.summary()\n",
    "\n",
    "```"
   ]
  },
  {
   "cell_type": "markdown",
   "metadata": {},
   "source": [
    "### Fine-tuning Keras models"
   ]
  },
  {
   "cell_type": "markdown",
   "metadata": {},
   "source": [
    "#### Optimization"
   ]
  },
  {
   "cell_type": "markdown",
   "metadata": {},
   "source": [
    "The dying neuron problem occurs when a neuron takes a value less than 0 for all of the data.\n",
    "\n",
    "The vanishing gradients problem. occurs when many layers have very small slopes and in deep networks, updates to backprop were close to 0"
   ]
  },
  {
   "cell_type": "code",
   "execution_count": 149,
   "metadata": {},
   "outputs": [
    {
     "name": "stdout",
     "output_type": "stream",
     "text": [
      "\n",
      "\n",
      "Testing model with learning rate: 0.000001\n",
      "\n"
     ]
    },
    {
     "name": "stderr",
     "output_type": "stream",
     "text": [
      "c:\\Otro\\Anaconda\\envs\\GPU_AMI\\lib\\site-packages\\keras\\optimizers\\optimizer_v2\\gradient_descent.py:111: UserWarning: The `lr` argument is deprecated, use `learning_rate` instead.\n",
      "  super().__init__(name, **kwargs)\n"
     ]
    },
    {
     "name": "stdout",
     "output_type": "stream",
     "text": [
      "28/28 [==============================] - 0s 922us/step - loss: 2.2216\n",
      "\n",
      "\n",
      "Testing model with learning rate: 0.010000\n",
      "\n",
      "28/28 [==============================] - 0s 850us/step - loss: 1.2472\n",
      "\n",
      "\n",
      "Testing model with learning rate: 1.000000\n",
      "\n",
      "28/28 [==============================] - 0s 923us/step - loss: 6291748864.0000\n"
     ]
    }
   ],
   "source": [
    "# Import the SGD optimizer\n",
    "from tensorflow.keras.optimizers import SGD\n",
    "\n",
    "path = r'C:\\Users\\LLerma\\Documents\\GitHub\\Learning\\Datasets'\n",
    "df = pd.read_csv(path + r'\\titanic_all_numeric.csv', delimiter = ',')\n",
    "\n",
    "predictors = df.drop(['survived'], axis=1).values\n",
    "predictors = np.asarray(predictors).astype('float32')\n",
    "# Convert the target to categorical: target\n",
    "target = to_categorical(df.survived)\n",
    "\n",
    "\n",
    "def get_new_model(input_shape=(n_cols,)):\n",
    "    model = Sequential()\n",
    "    model.add(Dense(100, activation='relu', input_shape=input_shape))\n",
    "    model.add(Dense(100, activation='relu'))\n",
    "    model.add(Dense(2, activation='softmax'))\n",
    "    return(model)\n",
    "\n",
    "# Create list of learning rates: lr_to_test\n",
    "lr_to_test = [0.000001, 0.01, 1]\n",
    "\n",
    "# Loop over learning rates\n",
    "for lr in lr_to_test:\n",
    "    print('\\n\\nTesting model with learning rate: %f\\n'%lr )\n",
    "    \n",
    "    # Build new model to test, unaffected by previous models\n",
    "    model = get_new_model()\n",
    "    \n",
    "    # Create SGD optimizer with specified learning rate: my_optimizer\n",
    "    my_optimizer = SGD(lr=lr)\n",
    "    \n",
    "    # Compile the model\n",
    "    model.compile(optimizer = my_optimizer, loss = 'categorical_crossentropy')\n",
    "    \n",
    "    # Fit the model\n",
    "    model.fit(predictors, target)"
   ]
  },
  {
   "cell_type": "markdown",
   "metadata": {},
   "source": [
    "#### Model Validation"
   ]
  },
  {
   "cell_type": "markdown",
   "metadata": {},
   "source": [
    "* K-fold cross validation is not usually used, because deep learning models are run on large datasets\n",
    "* Single vlaidation score is based on large amount of daa, and is reliable"
   ]
  },
  {
   "cell_type": "code",
   "execution_count": 155,
   "metadata": {},
   "outputs": [
    {
     "name": "stdout",
     "output_type": "stream",
     "text": [
      "Epoch 1/5\n",
      "20/20 [==============================] - 0s 9ms/step - loss: 1.0804 - accuracy: 0.6164 - val_loss: 0.6530 - val_accuracy: 0.6940\n",
      "Epoch 2/5\n",
      "20/20 [==============================] - 0s 3ms/step - loss: 0.6336 - accuracy: 0.6774 - val_loss: 0.6739 - val_accuracy: 0.6604\n",
      "Epoch 3/5\n",
      "20/20 [==============================] - 0s 3ms/step - loss: 0.6616 - accuracy: 0.6421 - val_loss: 0.5565 - val_accuracy: 0.7612\n",
      "Epoch 4/5\n",
      "20/20 [==============================] - 0s 3ms/step - loss: 0.6012 - accuracy: 0.7095 - val_loss: 0.5125 - val_accuracy: 0.7463\n",
      "Epoch 5/5\n",
      "20/20 [==============================] - 0s 4ms/step - loss: 0.5676 - accuracy: 0.7207 - val_loss: 0.5598 - val_accuracy: 0.7425\n"
     ]
    }
   ],
   "source": [
    "# Import EarlyStopping\n",
    "from tensorflow.keras.callbacks import EarlyStopping\n",
    "\n",
    "# Save the number of columns in predictors: n_cols\n",
    "n_cols = predictors.shape[1]\n",
    "input_shape = (n_cols,)\n",
    "\n",
    "# Specify the model\n",
    "model = Sequential()\n",
    "model.add(Dense(100, activation='relu', input_shape = input_shape))\n",
    "model.add(Dense(100, activation='relu'))\n",
    "model.add(Dense(2, activation='softmax'))\n",
    "\n",
    "# Compile the model\n",
    "model.compile(optimizer='adam', loss='categorical_crossentropy', metrics=['accuracy'])\n",
    "\n",
    "# Define early_stopping_monitor\n",
    "early_stopping_monitor = EarlyStopping(patience=2)\n",
    "\n",
    "# Fit the model\n",
    "model.fit(predictors, target, validation_split=0.3, callbacks=[early_stopping_monitor], epochs=5)\n",
    "\n",
    "# In this case, the model will run 5 epochs, except if it's stopped by the EarlyStopping\n",
    "# Patience: How many epochs the model can go withput improving before we stop training. 2 or 3 are reasonable\n",
    "early_stopping_monitor = EarlyStopping(patience=2)\n",
    "# Callbacks is a list, and can be used many callbacks\n",
    "# By default Keras uses 10 epochs"
   ]
  },
  {
   "cell_type": "code",
   "execution_count": 159,
   "metadata": {},
   "outputs": [
    {
     "data": {
      "image/png": "[encoded data removed]",
      "text/plain": [
       "<Figure size 432x288 with 1 Axes>"
      ]
     },
     "metadata": {
      "needs_background": "light"
     },
     "output_type": "display_data"
    }
   ],
   "source": [
    "import matplotlib.pyplot as plt\n",
    "\n",
    "# Define early_stopping_monitor\n",
    "early_stopping_monitor = EarlyStopping(patience=2)\n",
    "\n",
    "# Create the new model: model_2\n",
    "model_2 = Sequential()\n",
    "\n",
    "# Add the first and second layers\n",
    "model_2.add(Dense(100, activation='relu', input_shape=input_shape))\n",
    "model_2.add(Dense(100, activation='relu'))\n",
    "\n",
    "# Add the output layer\n",
    "model_2.add(Dense(2, activation='softmax'))\n",
    "\n",
    "# Compile model_2\n",
    "model_2.compile(optimizer='adam', loss='categorical_crossentropy', metrics=['accuracy'])\n",
    "\n",
    "# Fit model_1\n",
    "model_1_training = model.fit(predictors, target, epochs=15, validation_split=0.2, callbacks=[early_stopping_monitor], verbose=False)\n",
    "\n",
    "# Fit model_2\n",
    "model_2_training = model_2.fit(predictors, target, epochs=15, validation_split=0.2, callbacks=[early_stopping_monitor], verbose=False)\n",
    "\n",
    "# Create the plot\n",
    "plt.plot(model_1_training.history['val_loss'], 'r', model_2_training.history['val_loss'], 'b')\n",
    "plt.xlabel('Epochs')\n",
    "plt.ylabel('Validation score')\n",
    "plt.show()"
   ]
  },
  {
   "cell_type": "markdown",
   "metadata": {},
   "source": [
    "#### Model capacity"
   ]
  },
  {
   "cell_type": "markdown",
   "metadata": {},
   "source": [
    "Or network capacity, is closely related to the terms overfitting and underfitting. Increasing the number of nodes or the hidden layers, increases the model capacity.\n",
    "\n",
    "1. Start with a small network\n",
    "2. Gradually increase capacity\n",
    "3. Keep increasing capacity until validation socre is no longer improving"
   ]
  },
  {
   "cell_type": "markdown",
   "metadata": {},
   "source": [
    "---"
   ]
  },
  {
   "attachments": {},
   "cell_type": "markdown",
   "metadata": {},
   "source": [
    "## 2_Introduction to TensorFlow"
   ]
  },
  {
   "cell_type": "markdown",
   "metadata": {},
   "source": [
    "### Introduction"
   ]
  },
  {
   "cell_type": "markdown",
   "metadata": {},
   "source": [
    "Is an open source lubrary for graph-based numerical computation developed by google.\n",
    "\n",
    "* low and high level APIs\n",
    "* Machine learning models\n",
    "\n",
    "A tensor is a  generalization of vectors and matrices to potentially higher dimensions.\n",
    "\n",
    "```py\n",
    "- tf.constant()\n",
    "- tf.zeros()\n",
    "- tf.zeros_like(input_tensor)\n",
    "- tf.ones()\n",
    "- tf.ones_like(input_tensor)\n",
    "- tf.fill([3,3], 7)\n",
    "- tensor.numpy() #To change to a numpy array\n",
    "```\n",
    "\n",
    "TensorFlow extensions:\n",
    "\n",
    "1. TensorFlow Hub\n",
    "    - Pretrained models\n",
    "    - Transfer learning\n",
    "\n",
    "2. Tensorflow Probability\n",
    "    - Statistical distributions\n",
    "    - Trainable distributions\n",
    "    - Extended set of optimizers\n"
   ]
  },
  {
   "cell_type": "markdown",
   "metadata": {},
   "source": [
    "#### Tensors"
   ]
  },
  {
   "cell_type": "code",
   "execution_count": 13,
   "metadata": {},
   "outputs": [
    {
     "name": "stdout",
     "output_type": "stream",
     "text": [
      "tf.Tensor([1.], shape=(1,), dtype=float32) \n",
      "\n",
      "tf.Tensor([1. 1.], shape=(2,), dtype=float32) \n",
      "\n",
      "tf.Tensor(\n",
      "[[1. 1.]\n",
      " [1. 1.]], shape=(2, 2), dtype=float32) \n",
      "\n",
      "tf.Tensor(\n",
      "[[[1. 1.]\n",
      "  [1. 1.]]\n",
      "\n",
      " [[1. 1.]\n",
      "  [1. 1.]]], shape=(2, 2, 2), dtype=float32) \n",
      "\n"
     ]
    }
   ],
   "source": [
    "import tensorflow as tf\n",
    "\n",
    "# 0D Tensor\n",
    "d0 = tf.ones((1,))\n",
    "print(d0,\"\\n\")\n",
    "\n",
    "# 1D Tensor\n",
    "d1 = tf.ones((2,))\n",
    "print(d1,\"\\n\")\n",
    "\n",
    "# 2D Tensor\n",
    "d2 = tf.ones((2,2))\n",
    "print(d2,\"\\n\")\n",
    "\n",
    "# 3D Tensor\n",
    "d3 = tf.ones((2,2,2))\n",
    "print(d3,\"\\n\")"
   ]
  },
  {
   "cell_type": "markdown",
   "metadata": {},
   "source": [
    "#### Constants"
   ]
  },
  {
   "cell_type": "markdown",
   "metadata": {},
   "source": [
    "* Not trainable\n",
    "* Can have any dimensions"
   ]
  },
  {
   "cell_type": "code",
   "execution_count": 16,
   "metadata": {},
   "outputs": [
    {
     "name": "stdout",
     "output_type": "stream",
     "text": [
      "tf.Tensor(\n",
      "[[3 3 3]\n",
      " [3 3 3]], shape=(2, 3), dtype=int32) \n",
      "\n",
      "tf.Tensor(\n",
      "[[1 2]\n",
      " [3 4]], shape=(2, 2), dtype=int32) \n",
      "\n"
     ]
    }
   ],
   "source": [
    "from tensorflow import constant\n",
    "\n",
    "a = constant(3, shape=[2,3])\n",
    "print(a,\"\\n\")\n",
    "\n",
    "\n",
    "b = constant([1,2,3,4], shape=[2,2])\n",
    "print(b,\"\\n\")"
   ]
  },
  {
   "cell_type": "markdown",
   "metadata": {},
   "source": [
    "#### Variable"
   ]
  },
  {
   "cell_type": "code",
   "execution_count": 19,
   "metadata": {},
   "outputs": [
    {
     "name": "stdout",
     "output_type": "stream",
     "text": [
      "<tf.Variable 'Variable:0' shape=(6,) dtype=float32, numpy=array([1., 2., 3., 4., 5., 6.], dtype=float32)> \n",
      "\n",
      "<tf.Variable 'Variable:0' shape=(6,) dtype=int16, numpy=array([1, 2, 3, 4, 5, 6], dtype=int16)> \n",
      "\n",
      "tf.Tensor([ 2.  4.  6.  8. 10. 12.], shape=(6,), dtype=float32) \n",
      "\n",
      "tf.Tensor([ 2.  4.  6.  8. 10. 12.], shape=(6,), dtype=float32) \n",
      "\n"
     ]
    }
   ],
   "source": [
    "a0 = tf.Variable([1,2,3,4,5,6], dtype=tf.float32)\n",
    "print(a0,\"\\n\")\n",
    "a1 = tf.Variable([1,2,3,4,5,6], dtype=tf.int16)\n",
    "print(a1,\"\\n\")\n",
    "\n",
    "b = tf.constant(2, tf.float32)\n",
    "\n",
    "c0 = tf.multiply(a0,b)\n",
    "print(c0,\"\\n\")\n",
    "c1 = a0*b\n",
    "print(c1,\"\\n\")"
   ]
  },
  {
   "cell_type": "markdown",
   "metadata": {},
   "source": [
    "#### Basic Operations"
   ]
  },
  {
   "cell_type": "markdown",
   "metadata": {},
   "source": [
    "TensorFlow has a model of computation that revolves around the use of graphs.\n",
    "* Edges are tensors\n",
    "* Nodes are operations"
   ]
  },
  {
   "cell_type": "code",
   "execution_count": 30,
   "metadata": {},
   "outputs": [],
   "source": [
    "from tensorflow import constant, add, reduce_sum\n",
    "\n",
    "A0 = constant([1])\n",
    "B0 = constant([2])\n",
    "\n",
    "A1 = constant([1,2])\n",
    "B1 = constant([3,4])\n",
    "\n",
    "A2 = constant([[1,2],[3,4]])\n",
    "B2 = constant([[5,6],[7,8]])\n",
    "\n",
    "C0 = A0+B0\n",
    "C1 = A1+B1\n",
    "C2 = A2+B2"
   ]
  },
  {
   "cell_type": "markdown",
   "metadata": {},
   "source": [
    "For multiplication:\n",
    "\n",
    "* multiply\n",
    "* madmul() - For matrix"
   ]
  },
  {
   "cell_type": "markdown",
   "metadata": {},
   "source": [
    "#### Summing over tensors dimensions\n",
    "\n",
    "```py\n",
    "reduce_sum() # Sums over the dimensions of a tensor\n",
    "reduce_sum(A) # Sums over all dimensions of A\n",
    "reduce_sum(A,i) # Sums over dimension i\n",
    "```"
   ]
  },
  {
   "cell_type": "code",
   "execution_count": 32,
   "metadata": {},
   "outputs": [
    {
     "data": {
      "text/plain": [
       "<tf.Tensor: shape=(), dtype=float32, numpy=24.0>"
      ]
     },
     "execution_count": 32,
     "metadata": {},
     "output_type": "execute_result"
    }
   ],
   "source": [
    "reduce_sum(ones([2,3,4]))"
   ]
  },
  {
   "cell_type": "code",
   "execution_count": 37,
   "metadata": {},
   "outputs": [
    {
     "data": {
      "text/plain": [
       "<tf.Tensor: shape=(2, 3), dtype=float32, numpy=\n",
       "array([[4., 4., 4.],\n",
       "       [4., 4., 4.]], dtype=float32)>"
      ]
     },
     "execution_count": 37,
     "metadata": {},
     "output_type": "execute_result"
    }
   ],
   "source": [
    "reduce_sum(ones([2,3,4]), 2)"
   ]
  },
  {
   "cell_type": "markdown",
   "metadata": {},
   "source": [
    "$features*params=prediction$"
   ]
  },
  {
   "cell_type": "code",
   "execution_count": 38,
   "metadata": {},
   "outputs": [
    {
     "name": "stdout",
     "output_type": "stream",
     "text": [
      "[[-1687]\n",
      " [-3218]\n",
      " [-1933]\n",
      " [57850]]\n"
     ]
    }
   ],
   "source": [
    "# Define features, params, and bill as constants\n",
    "features = constant([[2, 24], [2, 26], [2, 57], [1, 37]])\n",
    "params = constant([[1000], [150]])\n",
    "bill = constant([[3913], [2682], [8617], [64400]])\n",
    "\n",
    "# Compute billpred using features and params\n",
    "billpred = matmul(features,params)\n",
    "\n",
    "# Compute and print the error\n",
    "error = bill - billpred\n",
    "print(error.numpy())"
   ]
  },
  {
   "cell_type": "markdown",
   "metadata": {},
   "source": [
    "#### Advanced Operations"
   ]
  },
  {
   "cell_type": "markdown",
   "metadata": {},
   "source": [
    "\n",
    "* gradient() - Computes the slope of a function at a point\n",
    "* reshape() - Reshapes a tensor (e.g. 10x10 to 100x1)\n",
    "* random() - Populates tensor with entries drawn from a probability distribution\n",
    "\n",
    "The gradient operation tells us the slope pf a function at a point. The optimum point, is where the gradient=0. \n",
    "* Minimum: Change in gradient > 0\n",
    "* Maximum: Change in gradient <> 0"
   ]
  },
  {
   "cell_type": "code",
   "execution_count": 57,
   "metadata": {},
   "outputs": [
    {
     "name": "stdout",
     "output_type": "stream",
     "text": [
      "-2.0\n"
     ]
    }
   ],
   "source": [
    "x = tf.Variable (-1.0)\n",
    "\n",
    "with tf.GradientTape() as tape_:\n",
    "    tape_.watch(x) # Allows to compute the rate of change of y respect to x\n",
    "    y= x*x\n",
    "\n",
    "g = tape_.gradient(y,x)\n",
    "print(g.numpy())"
   ]
  },
  {
   "cell_type": "code",
   "execution_count": 69,
   "metadata": {},
   "outputs": [
    {
     "name": "stdout",
     "output_type": "stream",
     "text": [
      "-2.0\n",
      "2.0\n",
      "0.0\n"
     ]
    }
   ],
   "source": [
    "#Other way\n",
    "\n",
    "def compute_gradient(x0):\n",
    "  \t# Define x as a variable with an initial value of x0\n",
    "\tx = tf.Variable(x0)\n",
    "\twith tf.GradientTape() as tape_:\n",
    "\t\ttape_.watch(x)\n",
    "        # Define y using the multiply operation\n",
    "\t\ty = multiply(x,x)\n",
    "    # Return the gradient of y with respect to x\n",
    "\treturn tape_.gradient(y, x).numpy()\n",
    "\n",
    "# Compute and print gradients at x = -1, 1, and 0\n",
    "print(compute_gradient(-1.0))\n",
    "print(compute_gradient(1.0))\n",
    "print(compute_gradient(0.0))"
   ]
  },
  {
   "cell_type": "markdown",
   "metadata": {},
   "source": [
    "Images reshape"
   ]
  },
  {
   "cell_type": "code",
   "execution_count": 64,
   "metadata": {},
   "outputs": [
    {
     "data": {
      "text/plain": [
       "<tf.Tensor: shape=(2, 2), dtype=int32, numpy=\n",
       "array([[175,  72],\n",
       "       [242, 234]])>"
      ]
     },
     "execution_count": 64,
     "metadata": {},
     "output_type": "execute_result"
    }
   ],
   "source": [
    "gray = tf.random.uniform([2,2], maxval=255, dtype='int32')\n",
    "gray"
   ]
  },
  {
   "cell_type": "code",
   "execution_count": 65,
   "metadata": {},
   "outputs": [
    {
     "data": {
      "text/plain": [
       "<tf.Tensor: shape=(4, 1), dtype=int32, numpy=\n",
       "array([[175],\n",
       "       [ 72],\n",
       "       [242],\n",
       "       [234]])>"
      ]
     },
     "execution_count": 65,
     "metadata": {},
     "output_type": "execute_result"
    }
   ],
   "source": [
    "\n",
    "gray = tf.reshape(gray, [2*2, 1])\n",
    "gray"
   ]
  },
  {
   "cell_type": "markdown",
   "metadata": {},
   "source": [
    "### Linear models"
   ]
  },
  {
   "cell_type": "markdown",
   "metadata": {},
   "source": [
    "#### Input data"
   ]
  },
  {
   "cell_type": "code",
   "execution_count": 15,
   "metadata": {},
   "outputs": [
    {
     "data": {
      "text/html": [
       "<div>\n",
       "<style scoped>\n",
       "    .dataframe tbody tr th:only-of-type {\n",
       "        vertical-align: middle;\n",
       "    }\n",
       "\n",
       "    .dataframe tbody tr th {\n",
       "        vertical-align: top;\n",
       "    }\n",
       "\n",
       "    .dataframe thead th {\n",
       "        text-align: right;\n",
       "    }\n",
       "</style>\n",
       "<table border=\"1\" class=\"dataframe\">\n",
       "  <thead>\n",
       "    <tr style=\"text-align: right;\">\n",
       "      <th></th>\n",
       "      <th>id</th>\n",
       "      <th>date</th>\n",
       "      <th>price</th>\n",
       "      <th>bedrooms</th>\n",
       "      <th>bathrooms</th>\n",
       "      <th>sqft_living</th>\n",
       "      <th>sqft_lot</th>\n",
       "      <th>floors</th>\n",
       "      <th>waterfront</th>\n",
       "      <th>view</th>\n",
       "      <th>condition</th>\n",
       "      <th>grade</th>\n",
       "      <th>sqft_above</th>\n",
       "      <th>sqft_basement</th>\n",
       "      <th>yr_built</th>\n",
       "      <th>yr_renovated</th>\n",
       "      <th>zipcode</th>\n",
       "      <th>lat</th>\n",
       "      <th>long</th>\n",
       "      <th>sqft_living15</th>\n",
       "      <th>sqft_lot15</th>\n",
       "    </tr>\n",
       "  </thead>\n",
       "  <tbody>\n",
       "    <tr>\n",
       "      <th>0</th>\n",
       "      <td>7129300520</td>\n",
       "      <td>20141013T000000</td>\n",
       "      <td>221900.0</td>\n",
       "      <td>3</td>\n",
       "      <td>1.00</td>\n",
       "      <td>1180</td>\n",
       "      <td>5650</td>\n",
       "      <td>1.0</td>\n",
       "      <td>0</td>\n",
       "      <td>0</td>\n",
       "      <td>3</td>\n",
       "      <td>7</td>\n",
       "      <td>1180</td>\n",
       "      <td>0</td>\n",
       "      <td>1955</td>\n",
       "      <td>0</td>\n",
       "      <td>98178</td>\n",
       "      <td>47.5112</td>\n",
       "      <td>-122.257</td>\n",
       "      <td>1340</td>\n",
       "      <td>5650</td>\n",
       "    </tr>\n",
       "    <tr>\n",
       "      <th>1</th>\n",
       "      <td>6414100192</td>\n",
       "      <td>20141209T000000</td>\n",
       "      <td>538000.0</td>\n",
       "      <td>3</td>\n",
       "      <td>2.25</td>\n",
       "      <td>2570</td>\n",
       "      <td>7242</td>\n",
       "      <td>2.0</td>\n",
       "      <td>0</td>\n",
       "      <td>0</td>\n",
       "      <td>3</td>\n",
       "      <td>7</td>\n",
       "      <td>2170</td>\n",
       "      <td>400</td>\n",
       "      <td>1951</td>\n",
       "      <td>1991</td>\n",
       "      <td>98125</td>\n",
       "      <td>47.7210</td>\n",
       "      <td>-122.319</td>\n",
       "      <td>1690</td>\n",
       "      <td>7639</td>\n",
       "    </tr>\n",
       "    <tr>\n",
       "      <th>2</th>\n",
       "      <td>5631500400</td>\n",
       "      <td>20150225T000000</td>\n",
       "      <td>180000.0</td>\n",
       "      <td>2</td>\n",
       "      <td>1.00</td>\n",
       "      <td>770</td>\n",
       "      <td>10000</td>\n",
       "      <td>1.0</td>\n",
       "      <td>0</td>\n",
       "      <td>0</td>\n",
       "      <td>3</td>\n",
       "      <td>6</td>\n",
       "      <td>770</td>\n",
       "      <td>0</td>\n",
       "      <td>1933</td>\n",
       "      <td>0</td>\n",
       "      <td>98028</td>\n",
       "      <td>47.7379</td>\n",
       "      <td>-122.233</td>\n",
       "      <td>2720</td>\n",
       "      <td>8062</td>\n",
       "    </tr>\n",
       "    <tr>\n",
       "      <th>3</th>\n",
       "      <td>2487200875</td>\n",
       "      <td>20141209T000000</td>\n",
       "      <td>604000.0</td>\n",
       "      <td>4</td>\n",
       "      <td>3.00</td>\n",
       "      <td>1960</td>\n",
       "      <td>5000</td>\n",
       "      <td>1.0</td>\n",
       "      <td>0</td>\n",
       "      <td>0</td>\n",
       "      <td>5</td>\n",
       "      <td>7</td>\n",
       "      <td>1050</td>\n",
       "      <td>910</td>\n",
       "      <td>1965</td>\n",
       "      <td>0</td>\n",
       "      <td>98136</td>\n",
       "      <td>47.5208</td>\n",
       "      <td>-122.393</td>\n",
       "      <td>1360</td>\n",
       "      <td>5000</td>\n",
       "    </tr>\n",
       "    <tr>\n",
       "      <th>4</th>\n",
       "      <td>1954400510</td>\n",
       "      <td>20150218T000000</td>\n",
       "      <td>510000.0</td>\n",
       "      <td>3</td>\n",
       "      <td>2.00</td>\n",
       "      <td>1680</td>\n",
       "      <td>8080</td>\n",
       "      <td>1.0</td>\n",
       "      <td>0</td>\n",
       "      <td>0</td>\n",
       "      <td>3</td>\n",
       "      <td>8</td>\n",
       "      <td>1680</td>\n",
       "      <td>0</td>\n",
       "      <td>1987</td>\n",
       "      <td>0</td>\n",
       "      <td>98074</td>\n",
       "      <td>47.6168</td>\n",
       "      <td>-122.045</td>\n",
       "      <td>1800</td>\n",
       "      <td>7503</td>\n",
       "    </tr>\n",
       "  </tbody>\n",
       "</table>\n",
       "</div>"
      ],
      "text/plain": [
       "           id             date     price  ...     long  sqft_living15  sqft_lot15\n",
       "0  7129300520  20141013T000000  221900.0  ... -122.257           1340        5650\n",
       "1  6414100192  20141209T000000  538000.0  ... -122.319           1690        7639\n",
       "2  5631500400  20150225T000000  180000.0  ... -122.233           2720        8062\n",
       "3  2487200875  20141209T000000  604000.0  ... -122.393           1360        5000\n",
       "4  1954400510  20150218T000000  510000.0  ... -122.045           1800        7503\n",
       "\n",
       "[5 rows x 21 columns]"
      ]
     },
     "execution_count": 15,
     "metadata": {},
     "output_type": "execute_result"
    }
   ],
   "source": [
    "import numpy as np\n",
    "import pandas as pd\n",
    "import tensorflow as tf\n",
    "\n",
    "path = r'C:\\Users\\LLerma\\Documents\\GitHub\\Learning\\Datasets'\n",
    "\n",
    "housing = pd.read_csv(path + r'\\kc_house_data.csv', delimiter = ',')\n",
    "housing.head()"
   ]
  },
  {
   "cell_type": "code",
   "execution_count": 30,
   "metadata": {},
   "outputs": [
    {
     "name": "stderr",
     "output_type": "stream",
     "text": [
      "C:\\Users\\LLerma\\AppData\\Local\\Temp\\ipykernel_21428\\3007825780.py:3: DeprecationWarning: `np.bool` is a deprecated alias for the builtin `bool`. To silence this warning, use `bool` by itself. Doing this will not modify any behavior and is safe. If you specifically wanted the numpy scalar type, use `np.bool_` here.\n",
      "Deprecated in NumPy 1.20; for more details and guidance: https://numpy.org/devdocs/release/1.20.0-notes.html#deprecations\n",
      "  waterfront = np.array(housing['waterfront'], np.bool)\n"
     ]
    }
   ],
   "source": [
    "#With numpy\n",
    "price = np.array(housing['price'], np.float32)\n",
    "waterfront = np.array(housing['waterfront'], np.bool)\n",
    "\n",
    "#With tf\n",
    "price_tf = tf.cast(housing['price'], tf.float32)\n",
    "waterfront_tf = tf.cast(housing['waterfront'], tf.bool)"
   ]
  },
  {
   "cell_type": "markdown",
   "metadata": {},
   "source": [
    "#### Loss function"
   ]
  },
  {
   "cell_type": "markdown",
   "metadata": {},
   "source": [
    "Typical loss functions in linear models:\n",
    "\n",
    "```py\n",
    "- tf.keras.losses.mse() #Mean squared error (MSE)\n",
    "- tf.keras.losses.mae() #Mean absoulte error (MAE)\n",
    "- tf.keras.losses.Huber() #Huber error\n",
    "\n",
    "```\n",
    "\n"
   ]
  },
  {
   "cell_type": "markdown",
   "metadata": {},
   "source": [
    "* MSE \n",
    "    - Strongly penalizes outliers\n",
    "    - High (gradient) sensitivity near minimum\n",
    "* MAE\n",
    "    - Scales linearly with size of error\n",
    "    - Low sensitivity near minimum\n",
    "    - Minimize the impact of outliers\n",
    "* Huber\n",
    "    - Similar to MSE near minimum\n",
    "    - Similar to MAE away from minimum\n",
    "    - Minimize the impact of outliers"
   ]
  },
  {
   "cell_type": "markdown",
   "metadata": {},
   "source": [
    "Code\n",
    "\n",
    "```py\n",
    "#Compute MSE loss\n",
    "loss = tf.keras.losses.mse(targets, predictions)\n",
    "\n",
    "#Linear Regression model\n",
    "def linear_regression(intercept, slope, features):\n",
    "    return intercept + features*slope\n",
    "\n",
    "#Loss function to compute MSE\n",
    "def loss_function(intercept, slope, targets, features):\n",
    "    predictions = linear_regression(intercept, slope)\n",
    "    return tf.keras.losses.mse(targets, predictions)\n",
    "```"
   ]
  },
  {
   "cell_type": "markdown",
   "metadata": {},
   "source": [
    "#### Linear regression"
   ]
  },
  {
   "cell_type": "markdown",
   "metadata": {},
   "source": [
    "It is performed a np.log() operation for x and y, here is explained why:\\\n",
    "https://dev.to/rokaandy/logarithmic-transformation-in-linear-regression-models-why-when-3a7c\n",
    "\n",
    "$price = intercept + size*slope + error$"
   ]
  },
  {
   "cell_type": "code",
   "execution_count": 58,
   "metadata": {},
   "outputs": [
    {
     "data": {
      "text/plain": [
       "[]"
      ]
     },
     "execution_count": 58,
     "metadata": {},
     "output_type": "execute_result"
    },
    {
     "data": {
      "image/png": "[encoded data removed]",
      "text/plain": [
       "<Figure size 432x288 with 1 Axes>"
      ]
     },
     "metadata": {
      "needs_background": "light"
     },
     "output_type": "display_data"
    }
   ],
   "source": [
    "import matplotlib.pyplot as plt\n",
    "\n",
    "plt.scatter(np.array(housing['sqft_living']), np.array(housing['price']))\n",
    "plt.plot()"
   ]
  },
  {
   "cell_type": "code",
   "execution_count": 62,
   "metadata": {},
   "outputs": [
    {
     "data": {
      "text/plain": [
       "[]"
      ]
     },
     "execution_count": 62,
     "metadata": {},
     "output_type": "execute_result"
    },
    {
     "data": {
      "image/png": "[encoded data removed]",
      "text/plain": [
       "<Figure size 432x288 with 1 Axes>"
      ]
     },
     "metadata": {
      "needs_background": "light"
     },
     "output_type": "display_data"
    }
   ],
   "source": [
    "plt.scatter(np.log(np.array(housing['sqft_living'])), (np.log(np.array(housing['price']))))\n",
    "plt.plot()"
   ]
  },
  {
   "cell_type": "code",
   "execution_count": 96,
   "metadata": {},
   "outputs": [
    {
     "name": "stdout",
     "output_type": "stream",
     "text": [
      "5.4664426\n",
      "2.4482296\n",
      "0.9850192\n",
      "0.4135866\n",
      "0.23932903\n",
      "0.19873808\n",
      "0.19155614\n",
      "0.19057396\n",
      "0.19044808\n",
      "0.1904085\n",
      "10.260733 0.37041798\n"
     ]
    }
   ],
   "source": [
    "price = np.log(np.array(housing['price'], np.float32))\n",
    "size = np.log(np.array(housing['sqft_living'], np.float32))\n",
    "\n",
    "intercept = tf.Variable(10., np.float32)\n",
    "slope = tf.Variable(0.1, np.float32)\n",
    "\n",
    "#Linear Regression model\n",
    "def linear_regression(intercept, slope, features=size):\n",
    "    return intercept + features*slope\n",
    "\n",
    "#Loss function to compute MSE\n",
    "def loss_function(intercept, slope, targets = price, features = size):\n",
    "    predictions = linear_regression(intercept, slope)\n",
    "    return tf.keras.losses.mse(targets, predictions)\n",
    "\n",
    "#Define an optimization operation\n",
    "opt = tf.keras.optimizers.Adam()\n",
    "\n",
    "#Minimize the loss function and print the loss\n",
    "for j in range(1000):\n",
    "    opt.minimize(lambda: loss_function(intercept,slope), var_list=[intercept,slope])\n",
    "\n",
    "#Print every 100 loops\n",
    "    if (j % 100) == 0:\n",
    "        print(loss_function(intercept, slope).numpy())\n",
    "\n",
    "print(intercept.numpy(), slope.numpy())"
   ]
  },
  {
   "cell_type": "code",
   "execution_count": 85,
   "metadata": {},
   "outputs": [
    {
     "data": {
      "text/plain": [
       "[]"
      ]
     },
     "execution_count": 85,
     "metadata": {},
     "output_type": "execute_result"
    },
    {
     "data": {
      "image/png": "[encoded data removed]",
      "text/plain": [
       "<Figure size 432x288 with 1 Axes>"
      ]
     },
     "metadata": {
      "needs_background": "light"
     },
     "output_type": "display_data"
    }
   ],
   "source": [
    "slope_ = slope.numpy()\n",
    "intercept_ = intercept.numpy()\n",
    "x = np.log(np.array(housing['sqft_living']))\n",
    "\n",
    "plt.scatter(np.log(np.array(housing['sqft_living'])), np.log((np.array(housing['price']))))\n",
    "plt.plot(x, intercept_ + x*slope_, c='r')\n",
    "plt.plot()"
   ]
  },
  {
   "cell_type": "markdown",
   "metadata": {},
   "source": [
    "#### Multiple Linear Regression"
   ]
  },
  {
   "cell_type": "markdown",
   "metadata": {},
   "source": [
    "In most cases, performing a univariate linear regression will not yield a model that is useful for making accurate predictions. In this exercise, you will perform a multiple regression, which uses more than one feature.\n",
    "\n",
    "You will use price_log as your target and size_log and bedrooms as your features. Each of these tensors has been defined and is available. You will also switch from using the the mean squared error loss to the mean absolute error loss: keras.losses.mae(). Finally, the predicted values are computed as follows: params[0] + feature1*params[1] + feature2*params[2]. Note that we've defined a vector of parameters, params, as a variable, rather than using three variables. Here, params[0] is the intercept and params[1] and params[2] are the slopes\n",
    "\n",
    "```py \n",
    "#Define the linear regression model\n",
    "def linear_regression(params, feature1 = size_log, feature2 = bedrooms):\n",
    "\treturn params[0] + feature1*params[1] + feature2*params[2]\n",
    "\n",
    "#Define the loss function\n",
    "def loss_function(params, targets = price_log, feature1 = size_log, feature2 = bedrooms):\n",
    "\t#Set the predicted values\n",
    "\tpredictions = linear_regression(params, feature1, feature2)\n",
    "  \n",
    "\t#Use the mean absolute error loss\n",
    "\treturn keras.losses.mae(targets, predictions)\n",
    "\n",
    "#Define the optimize operation\n",
    "opt = keras.optimizers.Adam()\n",
    "\n",
    "#Perform minimization and print trainable variables\n",
    "for j in range(10):\n",
    "\topt.minimize(lambda: loss_function(params), var_list=[params])\n",
    "\tprint_results(params)\n",
    "```"
   ]
  },
  {
   "cell_type": "markdown",
   "metadata": {},
   "source": [
    "#### Batch Training"
   ]
  },
  {
   "cell_type": "markdown",
   "metadata": {},
   "source": [
    "* Full sample: One update per epoch\n",
    "* Batch training: Multiple updates per epoch\n",
    "\n",
    "It can be donde directly with `pd.read_csv`, with the `chunksize` parameters\n",
    "\n",
    "```py\n",
    "for batch in pd.read_csv(path + r'\\kc_house_data.csv', chunksize = 100):\n",
    "    price = np.array(batch['price'], np.float32)\n",
    "    size = np.array(batch['size'], np.float32)\n",
    "```"
   ]
  },
  {
   "cell_type": "code",
   "execution_count": 102,
   "metadata": {},
   "outputs": [
    {
     "name": "stdout",
     "output_type": "stream",
     "text": [
      "0.31799173 0.31615734\n"
     ]
    }
   ],
   "source": [
    "intercept = tf.Variable(0.1, tf.float32)\n",
    "slope = tf.Variable(0.1, tf.float32)\n",
    "\n",
    "#Linear Regression model\n",
    "def linear_regression(intercept, slope, features=size):\n",
    "    return intercept + features*slope\n",
    "\n",
    "#Loss function to compute MSE\n",
    "def loss_function(intercept, slope, targets = price, features = size):\n",
    "    predictions = linear_regression(intercept, slope, features)\n",
    "    return tf.keras.losses.mse(targets, predictions)\n",
    "\n",
    "opt = tf.keras.optimizers.Adam()\n",
    "\n",
    "for batch in pd.read_csv(path + r'\\kc_house_data.csv', chunksize = 100):\n",
    "    price_batch = np.array(batch['price'], np.float32)\n",
    "    size_batch = np.array(batch['sqft_living'], np.float32)\n",
    "\n",
    "    opt.minimize(lambda: loss_function(intercept, slope, price_batch, size_batch), var_list=[intercept,slope])\n",
    "\n",
    "print(intercept.numpy(), slope.numpy())\n"
   ]
  },
  {
   "cell_type": "markdown",
   "metadata": {},
   "source": [
    "### Neural Networks"
   ]
  },
  {
   "cell_type": "markdown",
   "metadata": {},
   "source": [
    "#### Dense Layer"
   ]
  },
  {
   "cell_type": "markdown",
   "metadata": {},
   "source": [
    "In dense layers, every weight is applied to all nodes from previous layer.\n",
    "\n",
    "- Bias is not asociated with a feature, and is analogous to the intercept in a linear regression\n",
    "* By default bias is included\n"
   ]
  },
  {
   "cell_type": "code",
   "execution_count": 105,
   "metadata": {},
   "outputs": [],
   "source": [
    "df = pd.read_csv(path + r'\\uci_credit_card.csv', delimiter = ',')\n"
   ]
  },
  {
   "cell_type": "markdown",
   "metadata": {},
   "source": [
    "Low level approach, using linear algebra operations"
   ]
  },
  {
   "cell_type": "code",
   "execution_count": 114,
   "metadata": {},
   "outputs": [],
   "source": [
    "import tensorflow as tf\n",
    "\n",
    "inputs = tf.constant([[1,35]], dtype='float32')\n",
    "weights = tf.Variable([[-0.05], [-0.01]])\n",
    "bias = tf.Variable([0.5])\n",
    "\n",
    "product = tf.matmul(inputs, weights) #Dot product\n",
    "dense = tf.keras.activations.sigmoid(product+bias)\n"
   ]
  },
  {
   "cell_type": "markdown",
   "metadata": {},
   "source": [
    "High level approach, using API operations"
   ]
  },
  {
   "cell_type": "code",
   "execution_count": 120,
   "metadata": {},
   "outputs": [],
   "source": [
    "#Inputs layer\n",
    "inputs = tf.constant(df, tf.float32)\n",
    "\n",
    "#First Dense layer\n",
    "dense1 = tf.keras.layers.Dense(10, activation ='sigmoid')(inputs)\n",
    "\n",
    "dense2 = tf.keras.layers.Dense(5, activation ='sigmoid')(dense1)\n",
    "\n",
    "#Output layer\n",
    "output = tf.keras.layers.Dense(1, activation ='sigmoid')(dense2)"
   ]
  },
  {
   "cell_type": "markdown",
   "metadata": {},
   "source": [
    "```py \n",
    "#High level approach with an input tensor [100x10]\n",
    "\n",
    "#Define the first dense layer\n",
    "dense1 = keras.layers.Dense(7, activation='sigmoid')(borrower_features)\n",
    "\n",
    "#Define a dense layer with 3 output nodes\n",
    "dense2 = keras.layers.Dense(3, activation='sigmoid')(dense1)\n",
    "\n",
    "#Define a dense layer with 1 output node\n",
    "predictions = keras.layers.Dense(1, activation='sigmoid')(dense2)\n",
    "\n",
    "#Print the shapes of dense1, dense2, and predictions\n",
    "print('\\n shape of dense1: ', dense1.shape)\n",
    "print('\\n shape of dense2: ', dense2.shape)\n",
    "print('\\n shape of predictions: ', predictions.shape)\n",
    "```"
   ]
  },
  {
   "cell_type": "markdown",
   "metadata": {},
   "source": [
    "#### Activation function"
   ]
  },
  {
   "cell_type": "markdown",
   "metadata": {},
   "source": [
    "- Sigmoid: In output layer of binary classification\n",
    "- ReLU: In all layers other than the output layer\n",
    "- Softmax: In output layer in clasification problem with more than two classes\n"
   ]
  },
  {
   "cell_type": "code",
   "execution_count": 129,
   "metadata": {},
   "outputs": [
    {
     "name": "stdout",
     "output_type": "stream",
     "text": [
      "1.3 0.5 1.6 0.8\n",
      "Diff in default predictions for young 0.8\n",
      "Diff in default predictions for old 0.8\n",
      "Diff in default predictions for young (sigmod) 0.16337568\n",
      "Diff in default predictions for old (sigmod) 0.14204389\n"
     ]
    }
   ],
   "source": [
    "#Define example borrower features\n",
    " \n",
    "young, old = 0.3, 0.6\n",
    "low_bill, high_bill = 0.1, 0.5\n",
    "\n",
    "#Apply matrix multiplication step for all feature combinations\n",
    "young_high = 1.0*young + 2.0*high_bill\n",
    "young_low = 1.0*young + 2.0*low_bill\n",
    "old_high = 1.0*old + 2.0*high_bill\n",
    "old_low = 1.0*old + 2.0*low_bill\n",
    "\n",
    "print(young_high, young_low, old_high, old_low)\n",
    "\n",
    "print(\"Diff in default predictions for young\", young_high - young_low)\n",
    "\n",
    "print(\"Diff in default predictions for old\", old_high - old_low)\n",
    "\n",
    "\n",
    "\n",
    "print(\"Diff in default predictions for young (sigmod)\",  tf.keras.activations.sigmoid(young_high).numpy() - tf.keras.activations.sigmoid(young_low).numpy())\n",
    "\n",
    "print(\"Diff in default predictions for old (sigmod)\", tf.keras.activations.sigmoid(old_high).numpy() - tf.keras.activations.sigmoid(old_low).numpy())\n"
   ]
  },
  {
   "cell_type": "code",
   "execution_count": 205,
   "metadata": {},
   "outputs": [
    {
     "name": "stdout",
     "output_type": "stream",
     "text": [
      "tf.Tensor(\n",
      "[[1.]\n",
      " [1.]\n",
      " [0.]\n",
      " [0.]\n",
      " [0.]], shape=(5, 1), dtype=float32)\n"
     ]
    }
   ],
   "source": [
    "#Activation function in neural networks\n",
    "\n",
    "bill_amounts = df[['BILL_AMT1', 'BILL_AMT2','BILL_AMT3']]\n",
    "default = df['default.payment.next.month']\n",
    "\n",
    "# Construct input layer from features\n",
    "inputs = tf.constant(bill_amounts, tf.float32)\n",
    "default_tensor = tf.constant(default, tf.float32, shape=(len(default), 1))\n",
    "\n",
    "# Define first dense layer\n",
    "dense1 = tf.keras.layers.Dense(3, activation='relu')(inputs)\n",
    "\n",
    "# Define second dense layer\n",
    "dense2 = tf.keras.layers.Dense(2, activation='relu')(dense1)\n",
    "\n",
    "# Define output layer\n",
    "outputs = tf.keras.layers.Dense(1, activation='sigmoid')(dense2)\n",
    "\n",
    "# Print error for first five examples\n",
    "error = default_tensor[:5] - outputs.numpy()[:5]\n",
    "print(error)"
   ]
  },
  {
   "cell_type": "markdown",
   "metadata": {},
   "source": [
    "#### Optimizers"
   ]
  },
  {
   "cell_type": "markdown",
   "metadata": {},
   "source": [
    "* SGD\n",
    "    - Good for simple problems\n",
    "    - Simple and easy to interpret \n",
    "* Adam (adaptive moment)\n",
    "    - futher improvements\n",
    "    - Generally a good first choice\n",
    "    -Performs better with default parameter values\n",
    "* RMS (Root mean squared propagation)\n",
    "    - Applies a different LR to each feature, useful for high dimensional problems\n",
    "    - Allows for momentum to both build an decay"
   ]
  },
  {
   "cell_type": "code",
   "execution_count": 214,
   "metadata": {},
   "outputs": [],
   "source": [
    "tf.keras.optimizers.SGD()\n",
    "\n",
    "tf.keras.optimizers.Adam()\n",
    "\n",
    "tf.keras.optimizers.RMSprop()\n",
    "\n",
    "\n",
    "def model(bias, weights, features=bill_amounts):\n",
    "    product = tf.matmul(features, weights)\n",
    "    return tf.keras.activations.sigmoid(product+bias)\n",
    "\n",
    "def loss_function(bias, weights, target=default, features = bill_amounts):\n",
    "    predictions = model(bias, weights)\n",
    "    return tf.keras.losses.binary_crossentropy(targets, predictions)\n",
    "\n",
    "opt = tf.keras.optimizers.RMSprop(learning_rate=0.01, momentum=0.9)\n",
    "#opt.minimize(lambda: loss_function(bias, weights), var_list = [bias, weights])"
   ]
  },
  {
   "cell_type": "code",
   "execution_count": 219,
   "metadata": {},
   "outputs": [
    {
     "ename": "TypeError",
     "evalue": "loss_function() missing 1 required positional argument: 'weights'",
     "output_type": "error",
     "traceback": [
      "\u001b[1;31m---------------------------------------------------------------------------\u001b[0m",
      "\u001b[1;31mTypeError\u001b[0m                                 Traceback (most recent call last)",
      "\u001b[1;32mc:\\Users\\LLerma\\Documents\\GitHub\\Learning\\Python\\Deep_Learning.ipynb Cell 116\u001b[0m in \u001b[0;36m<cell line: 8>\u001b[1;34m()\u001b[0m\n\u001b[0;32m      <a href='vscode-notebook-cell:/c%3A/Users/LLerma/Documents/GitHub/Learning/Python/Deep_Learning.ipynb#Y316sZmlsZQ%3D%3D?line=5'>6</a>\u001b[0m opt \u001b[39m=\u001b[39m tf\u001b[39m.\u001b[39mkeras\u001b[39m.\u001b[39moptimizers\u001b[39m.\u001b[39mSGD(learning_rate\u001b[39m=\u001b[39m\u001b[39m0.01\u001b[39m)\n\u001b[0;32m      <a href='vscode-notebook-cell:/c%3A/Users/LLerma/Documents/GitHub/Learning/Python/Deep_Learning.ipynb#Y316sZmlsZQ%3D%3D?line=7'>8</a>\u001b[0m \u001b[39mfor\u001b[39;00m j \u001b[39min\u001b[39;00m \u001b[39mrange\u001b[39m(\u001b[39m100\u001b[39m):\n\u001b[0;32m      <a href='vscode-notebook-cell:/c%3A/Users/LLerma/Documents/GitHub/Learning/Python/Deep_Learning.ipynb#Y316sZmlsZQ%3D%3D?line=8'>9</a>\u001b[0m \t\u001b[39m# Perform minimization using the loss function and x_1\u001b[39;00m\n\u001b[1;32m---> <a href='vscode-notebook-cell:/c%3A/Users/LLerma/Documents/GitHub/Learning/Python/Deep_Learning.ipynb#Y316sZmlsZQ%3D%3D?line=9'>10</a>\u001b[0m \topt\u001b[39m.\u001b[39;49mminimize(\u001b[39mlambda\u001b[39;49;00m: loss_function([x_1]), var_list\u001b[39m=\u001b[39;49m[x_1])\n\u001b[0;32m     <a href='vscode-notebook-cell:/c%3A/Users/LLerma/Documents/GitHub/Learning/Python/Deep_Learning.ipynb#Y316sZmlsZQ%3D%3D?line=10'>11</a>\u001b[0m \t\u001b[39m# Perform minimization using the loss function and x_2\u001b[39;00m\n\u001b[0;32m     <a href='vscode-notebook-cell:/c%3A/Users/LLerma/Documents/GitHub/Learning/Python/Deep_Learning.ipynb#Y316sZmlsZQ%3D%3D?line=11'>12</a>\u001b[0m \topt\u001b[39m.\u001b[39mminimize(\u001b[39mlambda\u001b[39;00m: loss_function(x_2), var_list\u001b[39m=\u001b[39m[x_2])\n",
      "File \u001b[1;32mc:\\Otro\\Anaconda\\envs\\GPU_AMI\\lib\\site-packages\\keras\\optimizers\\optimizer_v2\\optimizer_v2.py:576\u001b[0m, in \u001b[0;36mOptimizerV2.minimize\u001b[1;34m(self, loss, var_list, grad_loss, name, tape)\u001b[0m\n\u001b[0;32m    545\u001b[0m \u001b[39mdef\u001b[39;00m \u001b[39mminimize\u001b[39m(\u001b[39mself\u001b[39m, loss, var_list, grad_loss\u001b[39m=\u001b[39m\u001b[39mNone\u001b[39;00m, name\u001b[39m=\u001b[39m\u001b[39mNone\u001b[39;00m, tape\u001b[39m=\u001b[39m\u001b[39mNone\u001b[39;00m):\n\u001b[0;32m    546\u001b[0m     \u001b[39m\"\"\"Minimize `loss` by updating `var_list`.\u001b[39;00m\n\u001b[0;32m    547\u001b[0m \n\u001b[0;32m    548\u001b[0m \u001b[39m    This method simply computes gradient using `tf.GradientTape` and calls\u001b[39;00m\n\u001b[1;32m   (...)\u001b[0m\n\u001b[0;32m    574\u001b[0m \n\u001b[0;32m    575\u001b[0m \u001b[39m    \"\"\"\u001b[39;00m\n\u001b[1;32m--> 576\u001b[0m     grads_and_vars \u001b[39m=\u001b[39m \u001b[39mself\u001b[39;49m\u001b[39m.\u001b[39;49m_compute_gradients(\n\u001b[0;32m    577\u001b[0m         loss, var_list\u001b[39m=\u001b[39;49mvar_list, grad_loss\u001b[39m=\u001b[39;49mgrad_loss, tape\u001b[39m=\u001b[39;49mtape\n\u001b[0;32m    578\u001b[0m     )\n\u001b[0;32m    579\u001b[0m     \u001b[39mreturn\u001b[39;00m \u001b[39mself\u001b[39m\u001b[39m.\u001b[39mapply_gradients(grads_and_vars, name\u001b[39m=\u001b[39mname)\n",
      "File \u001b[1;32mc:\\Otro\\Anaconda\\envs\\GPU_AMI\\lib\\site-packages\\keras\\optimizers\\optimizer_v2\\optimizer_v2.py:625\u001b[0m, in \u001b[0;36mOptimizerV2._compute_gradients\u001b[1;34m(self, loss, var_list, grad_loss, tape)\u001b[0m\n\u001b[0;32m    623\u001b[0m \u001b[39mif\u001b[39;00m \u001b[39mnot\u001b[39;00m callable(var_list):\n\u001b[0;32m    624\u001b[0m     tape\u001b[39m.\u001b[39mwatch(var_list)\n\u001b[1;32m--> 625\u001b[0m loss \u001b[39m=\u001b[39m loss()\n\u001b[0;32m    626\u001b[0m \u001b[39mif\u001b[39;00m callable(var_list):\n\u001b[0;32m    627\u001b[0m     var_list \u001b[39m=\u001b[39m var_list()\n",
      "\u001b[1;32mc:\\Users\\LLerma\\Documents\\GitHub\\Learning\\Python\\Deep_Learning.ipynb Cell 116\u001b[0m in \u001b[0;36m<lambda>\u001b[1;34m()\u001b[0m\n\u001b[0;32m      <a href='vscode-notebook-cell:/c%3A/Users/LLerma/Documents/GitHub/Learning/Python/Deep_Learning.ipynb#Y316sZmlsZQ%3D%3D?line=5'>6</a>\u001b[0m opt \u001b[39m=\u001b[39m tf\u001b[39m.\u001b[39mkeras\u001b[39m.\u001b[39moptimizers\u001b[39m.\u001b[39mSGD(learning_rate\u001b[39m=\u001b[39m\u001b[39m0.01\u001b[39m)\n\u001b[0;32m      <a href='vscode-notebook-cell:/c%3A/Users/LLerma/Documents/GitHub/Learning/Python/Deep_Learning.ipynb#Y316sZmlsZQ%3D%3D?line=7'>8</a>\u001b[0m \u001b[39mfor\u001b[39;00m j \u001b[39min\u001b[39;00m \u001b[39mrange\u001b[39m(\u001b[39m100\u001b[39m):\n\u001b[0;32m      <a href='vscode-notebook-cell:/c%3A/Users/LLerma/Documents/GitHub/Learning/Python/Deep_Learning.ipynb#Y316sZmlsZQ%3D%3D?line=8'>9</a>\u001b[0m \t\u001b[39m# Perform minimization using the loss function and x_1\u001b[39;00m\n\u001b[1;32m---> <a href='vscode-notebook-cell:/c%3A/Users/LLerma/Documents/GitHub/Learning/Python/Deep_Learning.ipynb#Y316sZmlsZQ%3D%3D?line=9'>10</a>\u001b[0m \topt\u001b[39m.\u001b[39mminimize(\u001b[39mlambda\u001b[39;00m: loss_function([x_1]), var_list\u001b[39m=\u001b[39m[x_1])\n\u001b[0;32m     <a href='vscode-notebook-cell:/c%3A/Users/LLerma/Documents/GitHub/Learning/Python/Deep_Learning.ipynb#Y316sZmlsZQ%3D%3D?line=10'>11</a>\u001b[0m \t\u001b[39m# Perform minimization using the loss function and x_2\u001b[39;00m\n\u001b[0;32m     <a href='vscode-notebook-cell:/c%3A/Users/LLerma/Documents/GitHub/Learning/Python/Deep_Learning.ipynb#Y316sZmlsZQ%3D%3D?line=11'>12</a>\u001b[0m \topt\u001b[39m.\u001b[39mminimize(\u001b[39mlambda\u001b[39;00m: loss_function(x_2), var_list\u001b[39m=\u001b[39m[x_2])\n",
      "\u001b[1;31mTypeError\u001b[0m: loss_function() missing 1 required positional argument: 'weights'"
     ]
    }
   ],
   "source": [
    "# Initialize x_1 and x_2\n",
    "x_1 = tf.Variable(6.0,tf.float32)\n",
    "x_2 = tf.Variable(0.3,tf.float32)\n",
    "\n",
    "# Define the optimization operation\n",
    "opt = tf.keras.optimizers.SGD(learning_rate=0.01)\n",
    "\n",
    "for j in range(100):\n",
    "\t# Perform minimization using the loss function and x_1\n",
    "\topt.minimize(lambda: loss_function(x_1), var_list=[x_1])\n",
    "\t# Perform minimization using the loss function and x_2\n",
    "\topt.minimize(lambda: loss_function(x_2), var_list=[x_2])\n",
    "\n",
    "# Print x_1 and x_2 as numpy arrays\n",
    "print(x_1.numpy(), x_2.numpy())"
   ]
  },
  {
   "cell_type": "markdown",
   "metadata": {},
   "source": [
    "#### Training a network in TensorFlow\n"
   ]
  },
  {
   "cell_type": "markdown",
   "metadata": {},
   "source": [
    "* Often need to initialize thousand of variables\n",
    "* Alternatively, draw initial values from dustribution\n",
    "    - Normal\n",
    "    - Uniform\n",
    "    - Glorot initializer"
   ]
  },
  {
   "cell_type": "code",
   "execution_count": 221,
   "metadata": {},
   "outputs": [],
   "source": [
    "#LOW LEVEL\n",
    "\n",
    "weights = tf.Variable(tf.random.normal([500,500]))\n",
    "\n",
    "#Discard very large and very small draws\n",
    "weights = tf.Variable(tf.random.truncated_normal([500,500]))"
   ]
  },
  {
   "cell_type": "code",
   "execution_count": 222,
   "metadata": {},
   "outputs": [],
   "source": [
    "#HIGH LEVEL\n",
    "\n",
    "#Default initializer\n",
    "dense = tf.keras.layers.Dense(32, activation='relu')\n",
    "\n",
    "#Zeros initializer\n",
    "dense = tf.keras.layers.Dense(32, activation='relu', kernel_initializer='zeros')"
   ]
  },
  {
   "cell_type": "markdown",
   "metadata": {},
   "source": [
    "#### Dropout"
   ]
  },
  {
   "cell_type": "markdown",
   "metadata": {},
   "source": [
    "A simple solution for overfitting is to use `dropout`, an operation that will randomly drop the weights connected to certain nodes in a layer during the training process."
   ]
  },
  {
   "cell_type": "code",
   "execution_count": 231,
   "metadata": {},
   "outputs": [],
   "source": [
    "import tensorflow as tf\n",
    "\n",
    "inputs = np.array(bill_amounts, np.float32)\n",
    "\n",
    "dense1 = tf.keras.layers.Dense(32, activation='relu')(inputs)\n",
    "dense2 = tf.keras.layers.Dense(16, activation='relu')(dense1)\n",
    "\n",
    "#Specifies to drop the weights connected to 25% of nodes randomly\n",
    "dropout1 = tf.keras.layers.Dropout(0.25)(dense2)\n",
    "\n",
    "outputs = tf.keras.layers.Dense(1, activation='sigmoid')(dropout1)"
   ]
  },
  {
   "cell_type": "code",
   "execution_count": 242,
   "metadata": {},
   "outputs": [
    {
     "ename": "InvalidArgumentError",
     "evalue": "cannot compute MatMul as input #1(zero-based) was expected to be a double tensor but is a float tensor [Op:MatMul]",
     "output_type": "error",
     "traceback": [
      "\u001b[1;31m---------------------------------------------------------------------------\u001b[0m",
      "\u001b[1;31mInvalidArgumentError\u001b[0m                      Traceback (most recent call last)",
      "\u001b[1;32mc:\\Users\\LLerma\\Documents\\GitHub\\Learning\\Python\\Deep_Learning.ipynb Cell 124\u001b[0m in \u001b[0;36m<cell line: 32>\u001b[1;34m()\u001b[0m\n\u001b[0;32m     <a href='vscode-notebook-cell:/c%3A/Users/LLerma/Documents/GitHub/Learning/Python/Deep_Learning.ipynb#Y331sZmlsZQ%3D%3D?line=30'>31</a>\u001b[0m \u001b[39m# Train the model\u001b[39;00m\n\u001b[0;32m     <a href='vscode-notebook-cell:/c%3A/Users/LLerma/Documents/GitHub/Learning/Python/Deep_Learning.ipynb#Y331sZmlsZQ%3D%3D?line=31'>32</a>\u001b[0m \u001b[39mfor\u001b[39;00m j \u001b[39min\u001b[39;00m \u001b[39mrange\u001b[39m(\u001b[39m100\u001b[39m):\n\u001b[0;32m     <a href='vscode-notebook-cell:/c%3A/Users/LLerma/Documents/GitHub/Learning/Python/Deep_Learning.ipynb#Y331sZmlsZQ%3D%3D?line=32'>33</a>\u001b[0m     \u001b[39m# Complete the optimizer\u001b[39;00m\n\u001b[1;32m---> <a href='vscode-notebook-cell:/c%3A/Users/LLerma/Documents/GitHub/Learning/Python/Deep_Learning.ipynb#Y331sZmlsZQ%3D%3D?line=33'>34</a>\u001b[0m \topt\u001b[39m.\u001b[39;49mminimize(\u001b[39mlambda\u001b[39;49;00m: loss_function(w1, b1, w2, b2), \n\u001b[0;32m     <a href='vscode-notebook-cell:/c%3A/Users/LLerma/Documents/GitHub/Learning/Python/Deep_Learning.ipynb#Y331sZmlsZQ%3D%3D?line=34'>35</a>\u001b[0m                  var_list\u001b[39m=\u001b[39;49m[w1, b1, w2, b2])\n\u001b[0;32m     <a href='vscode-notebook-cell:/c%3A/Users/LLerma/Documents/GitHub/Learning/Python/Deep_Learning.ipynb#Y331sZmlsZQ%3D%3D?line=36'>37</a>\u001b[0m \u001b[39m# Make predictions with model using test features\u001b[39;00m\n\u001b[0;32m     <a href='vscode-notebook-cell:/c%3A/Users/LLerma/Documents/GitHub/Learning/Python/Deep_Learning.ipynb#Y331sZmlsZQ%3D%3D?line=37'>38</a>\u001b[0m model_predictions \u001b[39m=\u001b[39m model(w1, b1, w2, b2, test_features)\n",
      "File \u001b[1;32mc:\\Otro\\Anaconda\\envs\\GPU_AMI\\lib\\site-packages\\keras\\optimizers\\optimizer_v2\\optimizer_v2.py:576\u001b[0m, in \u001b[0;36mOptimizerV2.minimize\u001b[1;34m(self, loss, var_list, grad_loss, name, tape)\u001b[0m\n\u001b[0;32m    545\u001b[0m \u001b[39mdef\u001b[39;00m \u001b[39mminimize\u001b[39m(\u001b[39mself\u001b[39m, loss, var_list, grad_loss\u001b[39m=\u001b[39m\u001b[39mNone\u001b[39;00m, name\u001b[39m=\u001b[39m\u001b[39mNone\u001b[39;00m, tape\u001b[39m=\u001b[39m\u001b[39mNone\u001b[39;00m):\n\u001b[0;32m    546\u001b[0m     \u001b[39m\"\"\"Minimize `loss` by updating `var_list`.\u001b[39;00m\n\u001b[0;32m    547\u001b[0m \n\u001b[0;32m    548\u001b[0m \u001b[39m    This method simply computes gradient using `tf.GradientTape` and calls\u001b[39;00m\n\u001b[1;32m   (...)\u001b[0m\n\u001b[0;32m    574\u001b[0m \n\u001b[0;32m    575\u001b[0m \u001b[39m    \"\"\"\u001b[39;00m\n\u001b[1;32m--> 576\u001b[0m     grads_and_vars \u001b[39m=\u001b[39m \u001b[39mself\u001b[39;49m\u001b[39m.\u001b[39;49m_compute_gradients(\n\u001b[0;32m    577\u001b[0m         loss, var_list\u001b[39m=\u001b[39;49mvar_list, grad_loss\u001b[39m=\u001b[39;49mgrad_loss, tape\u001b[39m=\u001b[39;49mtape\n\u001b[0;32m    578\u001b[0m     )\n\u001b[0;32m    579\u001b[0m     \u001b[39mreturn\u001b[39;00m \u001b[39mself\u001b[39m\u001b[39m.\u001b[39mapply_gradients(grads_and_vars, name\u001b[39m=\u001b[39mname)\n",
      "File \u001b[1;32mc:\\Otro\\Anaconda\\envs\\GPU_AMI\\lib\\site-packages\\keras\\optimizers\\optimizer_v2\\optimizer_v2.py:625\u001b[0m, in \u001b[0;36mOptimizerV2._compute_gradients\u001b[1;34m(self, loss, var_list, grad_loss, tape)\u001b[0m\n\u001b[0;32m    623\u001b[0m \u001b[39mif\u001b[39;00m \u001b[39mnot\u001b[39;00m callable(var_list):\n\u001b[0;32m    624\u001b[0m     tape\u001b[39m.\u001b[39mwatch(var_list)\n\u001b[1;32m--> 625\u001b[0m loss \u001b[39m=\u001b[39m loss()\n\u001b[0;32m    626\u001b[0m \u001b[39mif\u001b[39;00m callable(var_list):\n\u001b[0;32m    627\u001b[0m     var_list \u001b[39m=\u001b[39m var_list()\n",
      "\u001b[1;32mc:\\Users\\LLerma\\Documents\\GitHub\\Learning\\Python\\Deep_Learning.ipynb Cell 124\u001b[0m in \u001b[0;36m<lambda>\u001b[1;34m()\u001b[0m\n\u001b[0;32m     <a href='vscode-notebook-cell:/c%3A/Users/LLerma/Documents/GitHub/Learning/Python/Deep_Learning.ipynb#Y331sZmlsZQ%3D%3D?line=30'>31</a>\u001b[0m \u001b[39m# Train the model\u001b[39;00m\n\u001b[0;32m     <a href='vscode-notebook-cell:/c%3A/Users/LLerma/Documents/GitHub/Learning/Python/Deep_Learning.ipynb#Y331sZmlsZQ%3D%3D?line=31'>32</a>\u001b[0m \u001b[39mfor\u001b[39;00m j \u001b[39min\u001b[39;00m \u001b[39mrange\u001b[39m(\u001b[39m100\u001b[39m):\n\u001b[0;32m     <a href='vscode-notebook-cell:/c%3A/Users/LLerma/Documents/GitHub/Learning/Python/Deep_Learning.ipynb#Y331sZmlsZQ%3D%3D?line=32'>33</a>\u001b[0m     \u001b[39m# Complete the optimizer\u001b[39;00m\n\u001b[1;32m---> <a href='vscode-notebook-cell:/c%3A/Users/LLerma/Documents/GitHub/Learning/Python/Deep_Learning.ipynb#Y331sZmlsZQ%3D%3D?line=33'>34</a>\u001b[0m \topt\u001b[39m.\u001b[39mminimize(\u001b[39mlambda\u001b[39;00m: loss_function(w1, b1, w2, b2), \n\u001b[0;32m     <a href='vscode-notebook-cell:/c%3A/Users/LLerma/Documents/GitHub/Learning/Python/Deep_Learning.ipynb#Y331sZmlsZQ%3D%3D?line=34'>35</a>\u001b[0m                  var_list\u001b[39m=\u001b[39m[w1, b1, w2, b2])\n\u001b[0;32m     <a href='vscode-notebook-cell:/c%3A/Users/LLerma/Documents/GitHub/Learning/Python/Deep_Learning.ipynb#Y331sZmlsZQ%3D%3D?line=36'>37</a>\u001b[0m \u001b[39m# Make predictions with model using test features\u001b[39;00m\n\u001b[0;32m     <a href='vscode-notebook-cell:/c%3A/Users/LLerma/Documents/GitHub/Learning/Python/Deep_Learning.ipynb#Y331sZmlsZQ%3D%3D?line=37'>38</a>\u001b[0m model_predictions \u001b[39m=\u001b[39m model(w1, b1, w2, b2, test_features)\n",
      "\u001b[1;32mc:\\Users\\LLerma\\Documents\\GitHub\\Learning\\Python\\Deep_Learning.ipynb Cell 124\u001b[0m in \u001b[0;36mloss_function\u001b[1;34m(w1, b1, w2, b2, features, targets)\u001b[0m\n\u001b[0;32m     <a href='vscode-notebook-cell:/c%3A/Users/LLerma/Documents/GitHub/Learning/Python/Deep_Learning.ipynb#Y331sZmlsZQ%3D%3D?line=24'>25</a>\u001b[0m \u001b[39mdef\u001b[39;00m \u001b[39mloss_function\u001b[39m(w1, b1, w2, b2, features \u001b[39m=\u001b[39m bill_amounts, targets \u001b[39m=\u001b[39m default):\n\u001b[1;32m---> <a href='vscode-notebook-cell:/c%3A/Users/LLerma/Documents/GitHub/Learning/Python/Deep_Learning.ipynb#Y331sZmlsZQ%3D%3D?line=25'>26</a>\u001b[0m \tpredictions \u001b[39m=\u001b[39m model(w1, b1, w2, b2)\n\u001b[0;32m     <a href='vscode-notebook-cell:/c%3A/Users/LLerma/Documents/GitHub/Learning/Python/Deep_Learning.ipynb#Y331sZmlsZQ%3D%3D?line=26'>27</a>\u001b[0m \t\u001b[39m# Pass targets and predictions to the cross entropy loss\u001b[39;00m\n\u001b[0;32m     <a href='vscode-notebook-cell:/c%3A/Users/LLerma/Documents/GitHub/Learning/Python/Deep_Learning.ipynb#Y331sZmlsZQ%3D%3D?line=27'>28</a>\u001b[0m \t\u001b[39mreturn\u001b[39;00m tf\u001b[39m.\u001b[39mkeras\u001b[39m.\u001b[39mlosses\u001b[39m.\u001b[39mbinary_crossentropy(targets, predictions)\n",
      "\u001b[1;32mc:\\Users\\LLerma\\Documents\\GitHub\\Learning\\Python\\Deep_Learning.ipynb Cell 124\u001b[0m in \u001b[0;36mmodel\u001b[1;34m(w1, b1, w2, b2, features)\u001b[0m\n\u001b[0;32m     <a href='vscode-notebook-cell:/c%3A/Users/LLerma/Documents/GitHub/Learning/Python/Deep_Learning.ipynb#Y331sZmlsZQ%3D%3D?line=16'>17</a>\u001b[0m \u001b[39mdef\u001b[39;00m \u001b[39mmodel\u001b[39m(w1, b1, w2, b2, features \u001b[39m=\u001b[39m bill_amounts):\n\u001b[0;32m     <a href='vscode-notebook-cell:/c%3A/Users/LLerma/Documents/GitHub/Learning/Python/Deep_Learning.ipynb#Y331sZmlsZQ%3D%3D?line=17'>18</a>\u001b[0m \t\u001b[39m# Apply relu activation functions to layer 1\u001b[39;00m\n\u001b[1;32m---> <a href='vscode-notebook-cell:/c%3A/Users/LLerma/Documents/GitHub/Learning/Python/Deep_Learning.ipynb#Y331sZmlsZQ%3D%3D?line=18'>19</a>\u001b[0m \tlayer1 \u001b[39m=\u001b[39m tf\u001b[39m.\u001b[39mkeras\u001b[39m.\u001b[39mactivations\u001b[39m.\u001b[39mrelu(tf\u001b[39m.\u001b[39;49mmatmul(features, w1) \u001b[39m+\u001b[39m b1)\n\u001b[0;32m     <a href='vscode-notebook-cell:/c%3A/Users/LLerma/Documents/GitHub/Learning/Python/Deep_Learning.ipynb#Y331sZmlsZQ%3D%3D?line=19'>20</a>\u001b[0m     \u001b[39m# Apply dropout rate of 0.25\u001b[39;00m\n\u001b[0;32m     <a href='vscode-notebook-cell:/c%3A/Users/LLerma/Documents/GitHub/Learning/Python/Deep_Learning.ipynb#Y331sZmlsZQ%3D%3D?line=20'>21</a>\u001b[0m \tdropout \u001b[39m=\u001b[39m tf\u001b[39m.\u001b[39mkeras\u001b[39m.\u001b[39mlayers\u001b[39m.\u001b[39mDropout(\u001b[39m0.25\u001b[39m)(layer1)\n",
      "File \u001b[1;32mc:\\Otro\\Anaconda\\envs\\GPU_AMI\\lib\\site-packages\\tensorflow\\python\\util\\traceback_utils.py:153\u001b[0m, in \u001b[0;36mfilter_traceback.<locals>.error_handler\u001b[1;34m(*args, **kwargs)\u001b[0m\n\u001b[0;32m    151\u001b[0m \u001b[39mexcept\u001b[39;00m \u001b[39mException\u001b[39;00m \u001b[39mas\u001b[39;00m e:\n\u001b[0;32m    152\u001b[0m   filtered_tb \u001b[39m=\u001b[39m _process_traceback_frames(e\u001b[39m.\u001b[39m__traceback__)\n\u001b[1;32m--> 153\u001b[0m   \u001b[39mraise\u001b[39;00m e\u001b[39m.\u001b[39mwith_traceback(filtered_tb) \u001b[39mfrom\u001b[39;00m \u001b[39mNone\u001b[39m\n\u001b[0;32m    154\u001b[0m \u001b[39mfinally\u001b[39;00m:\n\u001b[0;32m    155\u001b[0m   \u001b[39mdel\u001b[39;00m filtered_tb\n",
      "File \u001b[1;32mc:\\Otro\\Anaconda\\envs\\GPU_AMI\\lib\\site-packages\\tensorflow\\python\\framework\\ops.py:7209\u001b[0m, in \u001b[0;36mraise_from_not_ok_status\u001b[1;34m(e, name)\u001b[0m\n\u001b[0;32m   7207\u001b[0m \u001b[39mdef\u001b[39;00m \u001b[39mraise_from_not_ok_status\u001b[39m(e, name):\n\u001b[0;32m   7208\u001b[0m   e\u001b[39m.\u001b[39mmessage \u001b[39m+\u001b[39m\u001b[39m=\u001b[39m (\u001b[39m\"\u001b[39m\u001b[39m name: \u001b[39m\u001b[39m\"\u001b[39m \u001b[39m+\u001b[39m name \u001b[39mif\u001b[39;00m name \u001b[39mis\u001b[39;00m \u001b[39mnot\u001b[39;00m \u001b[39mNone\u001b[39;00m \u001b[39melse\u001b[39;00m \u001b[39m\"\u001b[39m\u001b[39m\"\u001b[39m)\n\u001b[1;32m-> 7209\u001b[0m   \u001b[39mraise\u001b[39;00m core\u001b[39m.\u001b[39m_status_to_exception(e) \u001b[39mfrom\u001b[39;00m \u001b[39mNone\u001b[39m\n",
      "\u001b[1;31mInvalidArgumentError\u001b[0m: cannot compute MatMul as input #1(zero-based) was expected to be a double tensor but is a float tensor [Op:MatMul]"
     ]
    }
   ],
   "source": [
    "#Full Example\n",
    "\n",
    "# Define the layer 1 weights\n",
    "w1 = tf.Variable(tf.random.normal([23, 7]), tf.float32)\n",
    "\n",
    "# Initialize the layer 1 bias\n",
    "b1 = tf.Variable(tf.ones([7]), tf.float32)\n",
    "\n",
    "# Define the layer 2 weights\n",
    "w2 = tf.Variable(tf.random.normal([7, 1]), tf.float32)\n",
    "\n",
    "# Define the layer 2 bias\n",
    "b2 = tf.Variable(0.0, tf.float32)\n",
    "\n",
    "\n",
    "# Define the model\n",
    "def model(w1, b1, w2, b2, features = bill_amounts):\n",
    "\t# Apply relu activation functions to layer 1\n",
    "\tlayer1 = tf.keras.activations.relu(tf.matmul(features, w1) + b1)\n",
    "    # Apply dropout rate of 0.25\n",
    "\tdropout = tf.keras.layers.Dropout(0.25)(layer1)\n",
    "\treturn tf.keras.activations.sigmoid(tf.matmul(dropout, w2) + b2)\n",
    "\n",
    "# Define the loss function\n",
    "def loss_function(w1, b1, w2, b2, features = bill_amounts, targets = default):\n",
    "\tpredictions = model(w1, b1, w2, b2)\n",
    "\t# Pass targets and predictions to the cross entropy loss\n",
    "\treturn tf.keras.losses.binary_crossentropy(targets, predictions)\n",
    "\n",
    "\n",
    "# Train the model\n",
    "for j in range(100):\n",
    "    # Complete the optimizer\n",
    "\topt.minimize(lambda: loss_function(w1, b1, w2, b2), \n",
    "                 var_list=[w1, b1, w2, b2])\n",
    "\n",
    "# Make predictions with model using test features\n",
    "model_predictions = model(w1, b1, w2, b2, test_features)\n",
    "\n",
    "# Construct the confusion matrix\n",
    "confusion_matrix(test_targets, model_predictions)"
   ]
  },
  {
   "cell_type": "markdown",
   "metadata": {},
   "source": [
    "### High Level APIs"
   ]
  },
  {
   "cell_type": "markdown",
   "metadata": {},
   "source": [
    "#### NN with Keras"
   ]
  },
  {
   "cell_type": "code",
   "execution_count": 4,
   "metadata": {},
   "outputs": [],
   "source": [
    "from tensorflow import keras\n",
    "from tensorflow.keras.layers import Dense\n",
    "\n",
    "model = keras.Sequential()\n",
    "\n",
    "#First layer\n",
    "model.add(Dense(16, activation='relu', input_shape=(28*28,)))\n",
    "\n",
    "#Second layer\n",
    "model.add(Dense(8, activation='relu'))\n",
    "\n",
    "#Output layer\n",
    "model.add(Dense(4, activation='softmax'))\n",
    "\n",
    "#Compilation\n",
    "model.compile(activation = 'adam', loss='categorical_crossentropy')\n"
   ]
  },
  {
   "cell_type": "markdown",
   "metadata": {},
   "source": [
    "Using two models"
   ]
  },
  {
   "cell_type": "code",
   "execution_count": 8,
   "metadata": {},
   "outputs": [
    {
     "name": "stdout",
     "output_type": "stream",
     "text": [
      "Model: \"model_1\"\n",
      "__________________________________________________________________________________________________\n",
      " Layer (type)                   Output Shape         Param #     Connected to                     \n",
      "==================================================================================================\n",
      " input_3 (InputLayer)           [(None, 784)]        0           []                               \n",
      "                                                                                                  \n",
      " input_4 (InputLayer)           [(None, 10)]         0           []                               \n",
      "                                                                                                  \n",
      " dense_10 (Dense)               (None, 12)           9420        ['input_3[0][0]']                \n",
      "                                                                                                  \n",
      " dense_12 (Dense)               (None, 8)            88          ['input_4[0][0]']                \n",
      "                                                                                                  \n",
      " dense_11 (Dense)               (None, 4)            52          ['dense_10[0][0]']               \n",
      "                                                                                                  \n",
      " dense_13 (Dense)               (None, 4)            36          ['dense_12[0][0]']               \n",
      "                                                                                                  \n",
      " add_1 (Add)                    (None, 4)            0           ['dense_11[0][0]',               \n",
      "                                                                  'dense_13[0][0]']               \n",
      "                                                                                                  \n",
      "==================================================================================================\n",
      "Total params: 9,596\n",
      "Trainable params: 9,596\n",
      "Non-trainable params: 0\n",
      "__________________________________________________________________________________________________\n",
      "None\n"
     ]
    }
   ],
   "source": [
    "import tensorflow as tf\n",
    "\n",
    "model1_inputs = tf.keras.Input(shape=(28*28,))\n",
    "model2_inputs = tf.keras.Input(shape=(10,))\n",
    "\n",
    "model1_layer1 = Dense(12, activation='relu')(model1_inputs)\n",
    "model1_layer2 = Dense(4, activation='softmax')(model1_layer1)\n",
    "\n",
    "model2_layer1 = Dense(8, activation='relu')(model2_inputs)\n",
    "model2_layer2 = Dense(4, activation='softmax')(model2_layer1)\n",
    "\n",
    "#Merge model 1 and 2\n",
    "merged = tf.keras.layers.add([model1_layer2, model2_layer2])\n",
    "\n",
    "#Define a functional model\n",
    "\n",
    "model = tf.keras.Model(inputs=[model1_inputs, model2_inputs], outputs = merged)\n",
    "\n",
    "model.compile('adam', loss = 'categorical_crossentropy')\n",
    "\n",
    "# Print the model architecture\n",
    "print(model.summary())"
   ]
  },
  {
   "cell_type": "markdown",
   "metadata": {},
   "source": [
    "#### Training and validation with Keras"
   ]
  },
  {
   "cell_type": "markdown",
   "metadata": {},
   "source": [
    "1. Load and clean input_data\n",
    "2. Define model\n",
    "3. Train and validate model\n",
    "4. Evaluate model"
   ]
  },
  {
   "cell_type": "code",
   "execution_count": 12,
   "metadata": {},
   "outputs": [],
   "source": [
    "model = tf.keras.Sequential()\n",
    "\n",
    "model.add(Dense(16, activation='relu', input_shape = (784,)))\n",
    "model.add(Dense(4, activation='softmax'))\n",
    "\n",
    "model.compile('adam', loss='categorical_crossentropy', metrics = ['accuracy'])\n",
    "\n",
    "\n",
    "#model.compile(optimizer=keras.optimizers.Adam(lr=0.001), loss='categorical_crossentropy', metrics=['accuracy'])\n",
    "\n",
    "#model.fit(image_features, image_labels)\n",
    "\n",
    "#model.fit(image_features, image_labels, epoch=10, validation_split=0.2)\n",
    "\n",
    "#model.evaluate(test)"
   ]
  },
  {
   "cell_type": "markdown",
   "metadata": {},
   "source": [
    "#### Training models with the Estimators API"
   ]
  },
  {
   "cell_type": "markdown",
   "metadata": {},
   "source": [
    "1. Define feature columns\n",
    "2. Load and transform daa\n",
    "3. Define an estimator\n",
    "4. Apply train operation"
   ]
  },
  {
   "cell_type": "code",
   "execution_count": 21,
   "metadata": {},
   "outputs": [
    {
     "name": "stdout",
     "output_type": "stream",
     "text": [
      "INFO:tensorflow:Using default config.\n",
      "WARNING:tensorflow:Using temporary folder as model directory: C:\\Users\\LLerma\\AppData\\Local\\Temp\\tmpmq7ayqx3\n",
      "INFO:tensorflow:Using config: {'_model_dir': 'C:\\\\Users\\\\LLerma\\\\AppData\\\\Local\\\\Temp\\\\tmpmq7ayqx3', '_tf_random_seed': None, '_save_summary_steps': 100, '_save_checkpoints_steps': None, '_save_checkpoints_secs': 600, '_session_config': allow_soft_placement: true\n",
      "graph_options {\n",
      "  rewrite_options {\n",
      "    meta_optimizer_iterations: ONE\n",
      "  }\n",
      "}\n",
      ", '_keep_checkpoint_max': 5, '_keep_checkpoint_every_n_hours': 10000, '_log_step_count_steps': 100, '_train_distribute': None, '_device_fn': None, '_protocol': None, '_eval_distribute': None, '_experimental_distribute': None, '_experimental_max_worker_delay_secs': None, '_session_creation_timeout_secs': 7200, '_checkpoint_save_graph_def': True, '_service': None, '_cluster_spec': ClusterSpec({}), '_task_type': 'worker', '_task_id': 0, '_global_id_in_cluster': 0, '_master': '', '_evaluation_master': '', '_is_chief': True, '_num_ps_replicas': 0, '_num_worker_replicas': 1}\n",
      "INFO:tensorflow:Calling model_fn.\n"
     ]
    },
    {
     "ename": "ValueError",
     "evalue": "Feature image is not in features dictionary.",
     "output_type": "error",
     "traceback": [
      "\u001b[1;31m---------------------------------------------------------------------------\u001b[0m",
      "\u001b[1;31mValueError\u001b[0m                                Traceback (most recent call last)",
      "\u001b[1;32mc:\\Users\\LLerma\\Documents\\GitHub\\Learning\\Python\\Deep_Learning.ipynb Cell 136\u001b[0m in \u001b[0;36m<cell line: 20>\u001b[1;34m()\u001b[0m\n\u001b[0;32m     <a href='vscode-notebook-cell:/c%3A/Users/LLerma/Documents/GitHub/Learning/Python/Deep_Learning.ipynb#Y263sZmlsZQ%3D%3D?line=16'>17</a>\u001b[0m model0 \u001b[39m=\u001b[39m tf\u001b[39m.\u001b[39mestimator\u001b[39m.\u001b[39mDNNRegressor(feature_columns \u001b[39m=\u001b[39m features_list, hidden_units\u001b[39m=\u001b[39m[\u001b[39m10\u001b[39m,\u001b[39m6\u001b[39m,\u001b[39m6\u001b[39m,\u001b[39m3\u001b[39m])\n\u001b[0;32m     <a href='vscode-notebook-cell:/c%3A/Users/LLerma/Documents/GitHub/Learning/Python/Deep_Learning.ipynb#Y263sZmlsZQ%3D%3D?line=18'>19</a>\u001b[0m \u001b[39m#Train the regression model\u001b[39;00m\n\u001b[1;32m---> <a href='vscode-notebook-cell:/c%3A/Users/LLerma/Documents/GitHub/Learning/Python/Deep_Learning.ipynb#Y263sZmlsZQ%3D%3D?line=19'>20</a>\u001b[0m model0\u001b[39m.\u001b[39;49mtrain(input_fn, steps\u001b[39m=\u001b[39;49m\u001b[39m20\u001b[39;49m)\n\u001b[0;32m     <a href='vscode-notebook-cell:/c%3A/Users/LLerma/Documents/GitHub/Learning/Python/Deep_Learning.ipynb#Y263sZmlsZQ%3D%3D?line=22'>23</a>\u001b[0m \u001b[39m#FOR CLASSIFICATION\u001b[39;00m\n\u001b[0;32m     <a href='vscode-notebook-cell:/c%3A/Users/LLerma/Documents/GitHub/Learning/Python/Deep_Learning.ipynb#Y263sZmlsZQ%3D%3D?line=23'>24</a>\u001b[0m \n\u001b[0;32m     <a href='vscode-notebook-cell:/c%3A/Users/LLerma/Documents/GitHub/Learning/Python/Deep_Learning.ipynb#Y263sZmlsZQ%3D%3D?line=24'>25</a>\u001b[0m \u001b[39m#Define a deep NN classifier\u001b[39;00m\n\u001b[0;32m     <a href='vscode-notebook-cell:/c%3A/Users/LLerma/Documents/GitHub/Learning/Python/Deep_Learning.ipynb#Y263sZmlsZQ%3D%3D?line=25'>26</a>\u001b[0m model0 \u001b[39m=\u001b[39m tf\u001b[39m.\u001b[39mestimator\u001b[39m.\u001b[39mDNNClassifier(feature_columns \u001b[39m=\u001b[39m features_list, hidden_units\u001b[39m=\u001b[39m[\u001b[39m32\u001b[39m,\u001b[39m16\u001b[39m,\u001b[39m8\u001b[39m], n_classes\u001b[39m=\u001b[39m\u001b[39m4\u001b[39m)\n",
      "File \u001b[1;32mc:\\Otro\\Anaconda\\envs\\GPU_AMI\\lib\\site-packages\\tensorflow_estimator\\python\\estimator\\estimator.py:360\u001b[0m, in \u001b[0;36mEstimator.train\u001b[1;34m(self, input_fn, hooks, steps, max_steps, saving_listeners)\u001b[0m\n\u001b[0;32m    357\u001b[0m hooks\u001b[39m.\u001b[39mextend(\u001b[39mself\u001b[39m\u001b[39m.\u001b[39m_convert_train_steps_to_hooks(steps, max_steps))\n\u001b[0;32m    359\u001b[0m saving_listeners \u001b[39m=\u001b[39m _check_listeners_type(saving_listeners)\n\u001b[1;32m--> 360\u001b[0m loss \u001b[39m=\u001b[39m \u001b[39mself\u001b[39;49m\u001b[39m.\u001b[39;49m_train_model(input_fn, hooks, saving_listeners)\n\u001b[0;32m    361\u001b[0m logging\u001b[39m.\u001b[39minfo(\u001b[39m'\u001b[39m\u001b[39mLoss for final step: \u001b[39m\u001b[39m%s\u001b[39;00m\u001b[39m.\u001b[39m\u001b[39m'\u001b[39m, loss)\n\u001b[0;32m    362\u001b[0m \u001b[39mreturn\u001b[39;00m \u001b[39mself\u001b[39m\n",
      "File \u001b[1;32mc:\\Otro\\Anaconda\\envs\\GPU_AMI\\lib\\site-packages\\tensorflow_estimator\\python\\estimator\\estimator.py:1186\u001b[0m, in \u001b[0;36mEstimator._train_model\u001b[1;34m(self, input_fn, hooks, saving_listeners)\u001b[0m\n\u001b[0;32m   1184\u001b[0m   \u001b[39mreturn\u001b[39;00m \u001b[39mself\u001b[39m\u001b[39m.\u001b[39m_train_model_distributed(input_fn, hooks, saving_listeners)\n\u001b[0;32m   1185\u001b[0m \u001b[39melse\u001b[39;00m:\n\u001b[1;32m-> 1186\u001b[0m   \u001b[39mreturn\u001b[39;00m \u001b[39mself\u001b[39;49m\u001b[39m.\u001b[39;49m_train_model_default(input_fn, hooks, saving_listeners)\n",
      "File \u001b[1;32mc:\\Otro\\Anaconda\\envs\\GPU_AMI\\lib\\site-packages\\tensorflow_estimator\\python\\estimator\\estimator.py:1214\u001b[0m, in \u001b[0;36mEstimator._train_model_default\u001b[1;34m(self, input_fn, hooks, saving_listeners)\u001b[0m\n\u001b[0;32m   1211\u001b[0m features, labels, input_hooks \u001b[39m=\u001b[39m (\n\u001b[0;32m   1212\u001b[0m     \u001b[39mself\u001b[39m\u001b[39m.\u001b[39m_get_features_and_labels_from_input_fn(input_fn, ModeKeys\u001b[39m.\u001b[39mTRAIN))\n\u001b[0;32m   1213\u001b[0m worker_hooks\u001b[39m.\u001b[39mextend(input_hooks)\n\u001b[1;32m-> 1214\u001b[0m estimator_spec \u001b[39m=\u001b[39m \u001b[39mself\u001b[39;49m\u001b[39m.\u001b[39;49m_call_model_fn(features, labels, ModeKeys\u001b[39m.\u001b[39;49mTRAIN,\n\u001b[0;32m   1215\u001b[0m                                      \u001b[39mself\u001b[39;49m\u001b[39m.\u001b[39;49mconfig)\n\u001b[0;32m   1216\u001b[0m global_step_tensor \u001b[39m=\u001b[39m tf\u001b[39m.\u001b[39mcompat\u001b[39m.\u001b[39mv1\u001b[39m.\u001b[39mtrain\u001b[39m.\u001b[39mget_global_step(g)\n\u001b[0;32m   1217\u001b[0m \u001b[39mreturn\u001b[39;00m \u001b[39mself\u001b[39m\u001b[39m.\u001b[39m_train_with_estimator_spec(estimator_spec, worker_hooks,\n\u001b[0;32m   1218\u001b[0m                                        hooks, global_step_tensor,\n\u001b[0;32m   1219\u001b[0m                                        saving_listeners)\n",
      "File \u001b[1;32mc:\\Otro\\Anaconda\\envs\\GPU_AMI\\lib\\site-packages\\tensorflow_estimator\\python\\estimator\\estimator.py:1174\u001b[0m, in \u001b[0;36mEstimator._call_model_fn\u001b[1;34m(self, features, labels, mode, config)\u001b[0m\n\u001b[0;32m   1171\u001b[0m   kwargs[\u001b[39m'\u001b[39m\u001b[39mconfig\u001b[39m\u001b[39m'\u001b[39m] \u001b[39m=\u001b[39m config\n\u001b[0;32m   1173\u001b[0m logging\u001b[39m.\u001b[39minfo(\u001b[39m'\u001b[39m\u001b[39mCalling model_fn.\u001b[39m\u001b[39m'\u001b[39m)\n\u001b[1;32m-> 1174\u001b[0m model_fn_results \u001b[39m=\u001b[39m \u001b[39mself\u001b[39m\u001b[39m.\u001b[39m_model_fn(features\u001b[39m=\u001b[39mfeatures, \u001b[39m*\u001b[39m\u001b[39m*\u001b[39mkwargs)\n\u001b[0;32m   1175\u001b[0m logging\u001b[39m.\u001b[39minfo(\u001b[39m'\u001b[39m\u001b[39mDone calling model_fn.\u001b[39m\u001b[39m'\u001b[39m)\n\u001b[0;32m   1177\u001b[0m \u001b[39mif\u001b[39;00m \u001b[39mnot\u001b[39;00m \u001b[39misinstance\u001b[39m(model_fn_results, model_fn_lib\u001b[39m.\u001b[39mEstimatorSpec):\n",
      "File \u001b[1;32mc:\\Otro\\Anaconda\\envs\\GPU_AMI\\lib\\site-packages\\tensorflow_estimator\\python\\estimator\\canned\\dnn.py:1159\u001b[0m, in \u001b[0;36mDNNRegressorV2.__init__.<locals>._model_fn\u001b[1;34m(features, labels, mode, config)\u001b[0m\n\u001b[0;32m   1157\u001b[0m \u001b[39mdef\u001b[39;00m \u001b[39m_model_fn\u001b[39m(features, labels, mode, config):\n\u001b[0;32m   1158\u001b[0m   \u001b[39m\"\"\"Call the defined shared dnn_model_fn_v2.\"\"\"\u001b[39;00m\n\u001b[1;32m-> 1159\u001b[0m   \u001b[39mreturn\u001b[39;00m dnn_model_fn_v2(\n\u001b[0;32m   1160\u001b[0m       features\u001b[39m=\u001b[39;49mfeatures,\n\u001b[0;32m   1161\u001b[0m       labels\u001b[39m=\u001b[39;49mlabels,\n\u001b[0;32m   1162\u001b[0m       mode\u001b[39m=\u001b[39;49mmode,\n\u001b[0;32m   1163\u001b[0m       head\u001b[39m=\u001b[39;49mhead,\n\u001b[0;32m   1164\u001b[0m       hidden_units\u001b[39m=\u001b[39;49mhidden_units,\n\u001b[0;32m   1165\u001b[0m       feature_columns\u001b[39m=\u001b[39;49m\u001b[39mtuple\u001b[39;49m(feature_columns \u001b[39mor\u001b[39;49;00m []),\n\u001b[0;32m   1166\u001b[0m       optimizer\u001b[39m=\u001b[39;49moptimizer,\n\u001b[0;32m   1167\u001b[0m       activation_fn\u001b[39m=\u001b[39;49mactivation_fn,\n\u001b[0;32m   1168\u001b[0m       dropout\u001b[39m=\u001b[39;49mdropout,\n\u001b[0;32m   1169\u001b[0m       config\u001b[39m=\u001b[39;49mconfig,\n\u001b[0;32m   1170\u001b[0m       batch_norm\u001b[39m=\u001b[39;49mbatch_norm)\n",
      "File \u001b[1;32mc:\\Otro\\Anaconda\\envs\\GPU_AMI\\lib\\site-packages\\tensorflow_estimator\\python\\estimator\\canned\\dnn.py:556\u001b[0m, in \u001b[0;36mdnn_model_fn_v2\u001b[1;34m(***failed resolving arguments***)\u001b[0m\n\u001b[0;32m    552\u001b[0m _validate_features(features)\n\u001b[0;32m    554\u001b[0m \u001b[39mdel\u001b[39;00m config\n\u001b[1;32m--> 556\u001b[0m logits, trainable_variables, update_ops \u001b[39m=\u001b[39m _dnn_model_fn_builder_v2(\n\u001b[0;32m    557\u001b[0m     units\u001b[39m=\u001b[39;49mhead\u001b[39m.\u001b[39;49mlogits_dimension,\n\u001b[0;32m    558\u001b[0m     hidden_units\u001b[39m=\u001b[39;49mhidden_units,\n\u001b[0;32m    559\u001b[0m     feature_columns\u001b[39m=\u001b[39;49mfeature_columns,\n\u001b[0;32m    560\u001b[0m     activation_fn\u001b[39m=\u001b[39;49mactivation_fn,\n\u001b[0;32m    561\u001b[0m     dropout\u001b[39m=\u001b[39;49mdropout,\n\u001b[0;32m    562\u001b[0m     batch_norm\u001b[39m=\u001b[39;49mbatch_norm,\n\u001b[0;32m    563\u001b[0m     features\u001b[39m=\u001b[39;49mfeatures,\n\u001b[0;32m    564\u001b[0m     mode\u001b[39m=\u001b[39;49mmode)\n\u001b[0;32m    566\u001b[0m \u001b[39m# In TRAIN mode, create optimizer and assign global_step variable to\u001b[39;00m\n\u001b[0;32m    567\u001b[0m \u001b[39m# optimizer.iterations to make global_step increased correctly, as Hooks\u001b[39;00m\n\u001b[0;32m    568\u001b[0m \u001b[39m# relies on global step as step counter.\u001b[39;00m\n\u001b[0;32m    569\u001b[0m \u001b[39mif\u001b[39;00m mode \u001b[39m==\u001b[39m ModeKeys\u001b[39m.\u001b[39mTRAIN:\n",
      "File \u001b[1;32mc:\\Otro\\Anaconda\\envs\\GPU_AMI\\lib\\site-packages\\tensorflow_estimator\\python\\estimator\\canned\\dnn.py:500\u001b[0m, in \u001b[0;36m_dnn_model_fn_builder_v2\u001b[1;34m(units, hidden_units, feature_columns, activation_fn, dropout, batch_norm, features, mode)\u001b[0m\n\u001b[0;32m    490\u001b[0m   \u001b[39mraise\u001b[39;00m \u001b[39mValueError\u001b[39;00m(\u001b[39m'\u001b[39m\u001b[39munits must be an int.  Given type: \u001b[39m\u001b[39m{}\u001b[39;00m\u001b[39m'\u001b[39m\u001b[39m.\u001b[39mformat(\n\u001b[0;32m    491\u001b[0m       \u001b[39mtype\u001b[39m(units)))\n\u001b[0;32m    492\u001b[0m dnn_model \u001b[39m=\u001b[39m _DNNModelV2(\n\u001b[0;32m    493\u001b[0m     units,\n\u001b[0;32m    494\u001b[0m     hidden_units,\n\u001b[1;32m   (...)\u001b[0m\n\u001b[0;32m    498\u001b[0m     batch_norm,\n\u001b[0;32m    499\u001b[0m     name\u001b[39m=\u001b[39m\u001b[39m'\u001b[39m\u001b[39mdnn\u001b[39m\u001b[39m'\u001b[39m)\n\u001b[1;32m--> 500\u001b[0m logits \u001b[39m=\u001b[39m dnn_model(features, mode)\n\u001b[0;32m    501\u001b[0m trainable_variables \u001b[39m=\u001b[39m dnn_model\u001b[39m.\u001b[39mtrainable_variables\n\u001b[0;32m    502\u001b[0m update_ops \u001b[39m=\u001b[39m dnn_model\u001b[39m.\u001b[39mupdates\n",
      "File \u001b[1;32mc:\\Otro\\Anaconda\\envs\\GPU_AMI\\lib\\site-packages\\keras\\utils\\traceback_utils.py:70\u001b[0m, in \u001b[0;36mfilter_traceback.<locals>.error_handler\u001b[1;34m(*args, **kwargs)\u001b[0m\n\u001b[0;32m     67\u001b[0m     filtered_tb \u001b[39m=\u001b[39m _process_traceback_frames(e\u001b[39m.\u001b[39m__traceback__)\n\u001b[0;32m     68\u001b[0m     \u001b[39m# To get the full stack trace, call:\u001b[39;00m\n\u001b[0;32m     69\u001b[0m     \u001b[39m# `tf.debugging.disable_traceback_filtering()`\u001b[39;00m\n\u001b[1;32m---> 70\u001b[0m     \u001b[39mraise\u001b[39;00m e\u001b[39m.\u001b[39mwith_traceback(filtered_tb) \u001b[39mfrom\u001b[39;00m \u001b[39mNone\u001b[39m\n\u001b[0;32m     71\u001b[0m \u001b[39mfinally\u001b[39;00m:\n\u001b[0;32m     72\u001b[0m     \u001b[39mdel\u001b[39;00m filtered_tb\n",
      "File \u001b[1;32mc:\\Otro\\Anaconda\\envs\\GPU_AMI\\lib\\site-packages\\tensorflow_estimator\\python\\estimator\\canned\\dnn.py:346\u001b[0m, in \u001b[0;36m_DNNModelV2.call\u001b[1;34m(self, features, mode)\u001b[0m\n\u001b[0;32m    344\u001b[0m is_training \u001b[39m=\u001b[39m mode \u001b[39m==\u001b[39m ModeKeys\u001b[39m.\u001b[39mTRAIN\n\u001b[0;32m    345\u001b[0m \u001b[39mtry\u001b[39;00m:\n\u001b[1;32m--> 346\u001b[0m   net \u001b[39m=\u001b[39m \u001b[39mself\u001b[39m\u001b[39m.\u001b[39m_input_layer(features, training\u001b[39m=\u001b[39mis_training)\n\u001b[0;32m    347\u001b[0m \u001b[39mexcept\u001b[39;00m \u001b[39mTypeError\u001b[39;00m:\n\u001b[0;32m    348\u001b[0m   net \u001b[39m=\u001b[39m \u001b[39mself\u001b[39m\u001b[39m.\u001b[39m_input_layer(features)\n",
      "\u001b[1;31mValueError\u001b[0m: Feature image is not in features dictionary."
     ]
    }
   ],
   "source": [
    "size = tf.feature_column.numeric_column(\"size\")\n",
    "\n",
    "rooms = tf.feature_column.categorical_column_with_vocabulary_list(\"rooms\", ['1','2','3','4','5'])\n",
    "\n",
    "features_list = [size, rooms]\n",
    "\n",
    "features_list = [tf.feature_column.numeric_column('image', shape=(784,))]\n",
    "\n",
    "def input_fn():\n",
    "    features = {'size' : [1340, 1690, 2720],\n",
    "                'rooms' : [1,3,4]}\n",
    "    labels = [221900, 538000, 180000]\n",
    "\n",
    "    return features, labels\n",
    "\n",
    "#Define a deep NN regression\n",
    "model0 = tf.estimator.DNNRegressor(feature_columns = features_list, hidden_units=[10,6,6,3])\n",
    "\n",
    "#Train the regression model\n",
    "model0.train(input_fn, steps=20)\n",
    "\n",
    "\n",
    "#FOR CLASSIFICATION\n",
    "\n",
    "#Define a deep NN classifier\n",
    "model0 = tf.estimator.DNNClassifier(feature_columns = features_list, hidden_units=[32,16,8], n_classes=4)\n",
    "\n",
    "#Train the classifier\n",
    "model0.train(input_fn, steps=20)\n"
   ]
  },
  {
   "cell_type": "markdown",
   "metadata": {},
   "source": [
    "---"
   ]
  },
  {
   "attachments": {},
   "cell_type": "markdown",
   "metadata": {},
   "source": [
    "## 3_Introduction to Keras"
   ]
  },
  {
   "cell_type": "markdown",
   "metadata": {},
   "source": [
    "### Introducing Keras"
   ]
  },
  {
   "cell_type": "markdown",
   "metadata": {},
   "source": [
    "- Fully integrrated into TensorFlow 2\n",
    "- Can use TF for low level features\n",
    "- NN good for unstructured data"
   ]
  },
  {
   "cell_type": "markdown",
   "metadata": {},
   "source": [
    "### Going Deeper"
   ]
  },
  {
   "cell_type": "markdown",
   "metadata": {},
   "source": [
    "#### Binary Classification"
   ]
  },
  {
   "cell_type": "markdown",
   "metadata": {},
   "source": [
    "* Sigmoid: Used for binary classification, because the output is 0 or 1\n",
    "\n",
    "* loss='binary_crossentropy'"
   ]
  },
  {
   "cell_type": "code",
   "execution_count": 3,
   "metadata": {},
   "outputs": [
    {
     "data": {
      "text/html": [
       "<div>\n",
       "<style scoped>\n",
       "    .dataframe tbody tr th:only-of-type {\n",
       "        vertical-align: middle;\n",
       "    }\n",
       "\n",
       "    .dataframe tbody tr th {\n",
       "        vertical-align: top;\n",
       "    }\n",
       "\n",
       "    .dataframe thead th {\n",
       "        text-align: right;\n",
       "    }\n",
       "</style>\n",
       "<table border=\"1\" class=\"dataframe\">\n",
       "  <thead>\n",
       "    <tr style=\"text-align: right;\">\n",
       "      <th></th>\n",
       "      <th>variace</th>\n",
       "      <th>skewness</th>\n",
       "      <th>curtosis</th>\n",
       "      <th>entropy</th>\n",
       "      <th>class</th>\n",
       "    </tr>\n",
       "  </thead>\n",
       "  <tbody>\n",
       "    <tr>\n",
       "      <th>0</th>\n",
       "      <td>3.62160</td>\n",
       "      <td>8.6661</td>\n",
       "      <td>-2.8073</td>\n",
       "      <td>-0.44699</td>\n",
       "      <td>0</td>\n",
       "    </tr>\n",
       "    <tr>\n",
       "      <th>1</th>\n",
       "      <td>4.54590</td>\n",
       "      <td>8.1674</td>\n",
       "      <td>-2.4586</td>\n",
       "      <td>-1.46210</td>\n",
       "      <td>0</td>\n",
       "    </tr>\n",
       "    <tr>\n",
       "      <th>2</th>\n",
       "      <td>3.86600</td>\n",
       "      <td>-2.6383</td>\n",
       "      <td>1.9242</td>\n",
       "      <td>0.10645</td>\n",
       "      <td>0</td>\n",
       "    </tr>\n",
       "    <tr>\n",
       "      <th>3</th>\n",
       "      <td>3.45660</td>\n",
       "      <td>9.5228</td>\n",
       "      <td>-4.0112</td>\n",
       "      <td>-3.59440</td>\n",
       "      <td>0</td>\n",
       "    </tr>\n",
       "    <tr>\n",
       "      <th>4</th>\n",
       "      <td>0.32924</td>\n",
       "      <td>-4.4552</td>\n",
       "      <td>4.5718</td>\n",
       "      <td>-0.98880</td>\n",
       "      <td>0</td>\n",
       "    </tr>\n",
       "  </tbody>\n",
       "</table>\n",
       "</div>"
      ],
      "text/plain": [
       "   variace  skewness  curtosis  entropy  class\n",
       "0  3.62160    8.6661   -2.8073 -0.44699      0\n",
       "1  4.54590    8.1674   -2.4586 -1.46210      0\n",
       "2  3.86600   -2.6383    1.9242  0.10645      0\n",
       "3  3.45660    9.5228   -4.0112 -3.59440      0\n",
       "4  0.32924   -4.4552    4.5718 -0.98880      0"
      ]
     },
     "execution_count": 3,
     "metadata": {},
     "output_type": "execute_result"
    }
   ],
   "source": [
    "import pandas as pd\n",
    "\n",
    "path = r'C:\\Users\\LLerma\\Documents\\GitHub\\Learning\\Datasets'\n",
    "\n",
    "banknotes = pd.read_csv(path + r'\\banknotes.csv')\n",
    "banknotes.head()"
   ]
  },
  {
   "cell_type": "markdown",
   "metadata": {},
   "source": [
    "Your goal is to distinguish between real and fake dollar bills. In order to do this, the dataset comes with 4 features: variance,skewness,kurtosis and entropy. These features are calculated by applying mathematical operations over the dollar bill images. The labels are found in the dataframe's class column."
   ]
  },
  {
   "cell_type": "code",
   "execution_count": 5,
   "metadata": {},
   "outputs": [
    {
     "data": {
      "image/png": "[encoded data removed]",
      "text/plain": [
       "<Figure size 1058.88x1000 with 20 Axes>"
      ]
     },
     "metadata": {},
     "output_type": "display_data"
    },
    {
     "name": "stdout",
     "output_type": "stream",
     "text": [
      "Dataset stats: \n",
      " <bound method NDFrame.describe of       variace  skewness  curtosis  entropy  class\n",
      "0     3.62160   8.66610   -2.8073 -0.44699      0\n",
      "1     4.54590   8.16740   -2.4586 -1.46210      0\n",
      "2     3.86600  -2.63830    1.9242  0.10645      0\n",
      "3     3.45660   9.52280   -4.0112 -3.59440      0\n",
      "4     0.32924  -4.45520    4.5718 -0.98880      0\n",
      "...       ...       ...       ...      ...    ...\n",
      "1367  0.40614   1.34920   -1.4501 -0.55949      1\n",
      "1368 -1.38870  -4.87730    6.4774  0.34179      1\n",
      "1369 -3.75030 -13.45860   17.5932 -2.77710      1\n",
      "1370 -3.56370  -8.38270   12.3930 -1.28230      1\n",
      "1371 -2.54190  -0.65804    2.6842  1.19520      1\n",
      "\n",
      "[1372 rows x 5 columns]>\n",
      "Observations per class: \n",
      " 0    762\n",
      "1    610\n",
      "Name: class, dtype: int64\n"
     ]
    }
   ],
   "source": [
    "# Import seaborn\n",
    "import seaborn  as sns\n",
    "import matplotlib.pyplot as plt\n",
    "\n",
    "# Use pairplot and set the hue to be our class column\n",
    "sns.pairplot(banknotes, hue='class') \n",
    "\n",
    "# Show the plot\n",
    "plt.show()\n",
    "\n",
    "# Describe the data\n",
    "print('Dataset stats: \\n', banknotes.describe)\n",
    "\n",
    "# Count the number of observations per class\n",
    "print('Observations per class: \\n', banknotes['class'].value_counts())"
   ]
  },
  {
   "cell_type": "markdown",
   "metadata": {},
   "source": [
    "#### Multiclass Classification"
   ]
  },
  {
   "cell_type": "markdown",
   "metadata": {},
   "source": [
    "\n",
    "* activation = 'softmax' #In the output layer\n",
    "* loss='categorical_crossentropy'"
   ]
  },
  {
   "cell_type": "code",
   "execution_count": 27,
   "metadata": {},
   "outputs": [
    {
     "data": {
      "text/html": [
       "<div>\n",
       "<style scoped>\n",
       "    .dataframe tbody tr th:only-of-type {\n",
       "        vertical-align: middle;\n",
       "    }\n",
       "\n",
       "    .dataframe tbody tr th {\n",
       "        vertical-align: top;\n",
       "    }\n",
       "\n",
       "    .dataframe thead th {\n",
       "        text-align: right;\n",
       "    }\n",
       "</style>\n",
       "<table border=\"1\" class=\"dataframe\">\n",
       "  <thead>\n",
       "    <tr style=\"text-align: right;\">\n",
       "      <th></th>\n",
       "      <th>xCoord</th>\n",
       "      <th>yCoord</th>\n",
       "      <th>competitor</th>\n",
       "    </tr>\n",
       "  </thead>\n",
       "  <tbody>\n",
       "    <tr>\n",
       "      <th>0</th>\n",
       "      <td>0.196451</td>\n",
       "      <td>-0.520341</td>\n",
       "      <td>Steve</td>\n",
       "    </tr>\n",
       "    <tr>\n",
       "      <th>1</th>\n",
       "      <td>0.476027</td>\n",
       "      <td>-0.306763</td>\n",
       "      <td>Susan</td>\n",
       "    </tr>\n",
       "    <tr>\n",
       "      <th>2</th>\n",
       "      <td>0.003175</td>\n",
       "      <td>-0.980736</td>\n",
       "      <td>Michael</td>\n",
       "    </tr>\n",
       "    <tr>\n",
       "      <th>3</th>\n",
       "      <td>0.294078</td>\n",
       "      <td>0.267566</td>\n",
       "      <td>Kate</td>\n",
       "    </tr>\n",
       "    <tr>\n",
       "      <th>4</th>\n",
       "      <td>-0.051120</td>\n",
       "      <td>0.598946</td>\n",
       "      <td>Steve</td>\n",
       "    </tr>\n",
       "  </tbody>\n",
       "</table>\n",
       "</div>"
      ],
      "text/plain": [
       "     xCoord    yCoord competitor\n",
       "0  0.196451 -0.520341      Steve\n",
       "1  0.476027 -0.306763      Susan\n",
       "2  0.003175 -0.980736    Michael\n",
       "3  0.294078  0.267566       Kate\n",
       "4 -0.051120  0.598946      Steve"
      ]
     },
     "execution_count": 27,
     "metadata": {},
     "output_type": "execute_result"
    }
   ],
   "source": [
    "path = r'C:\\Users\\LLerma\\Documents\\GitHub\\Learning\\Datasets'\n",
    "\n",
    "darts = pd.read_csv(path + r'\\darts.csv')\n",
    "darts.head()"
   ]
  },
  {
   "cell_type": "markdown",
   "metadata": {},
   "source": [
    "Multiclass classification example"
   ]
  },
  {
   "cell_type": "code",
   "execution_count": 39,
   "metadata": {},
   "outputs": [
    {
     "name": "stdout",
     "output_type": "stream",
     "text": [
      "One-hot encoded competitors: \n",
      " [[0. 0. 1. 0.]\n",
      " [0. 0. 0. 1.]\n",
      " [0. 1. 0. 0.]\n",
      " ...\n",
      " [0. 1. 0. 0.]\n",
      " [0. 1. 0. 0.]\n",
      " [0. 0. 0. 1.]]\n",
      "Epoch 1/5\n",
      "25/25 [==============================] - 0s 2ms/step - loss: 1.3699 - accuracy: 0.2438\n",
      "Epoch 2/5\n",
      "25/25 [==============================] - 0s 2ms/step - loss: 1.3240 - accuracy: 0.2875\n",
      "Epoch 3/5\n",
      "25/25 [==============================] - 0s 2ms/step - loss: 1.2595 - accuracy: 0.4212\n",
      "Epoch 4/5\n",
      "25/25 [==============================] - 0s 3ms/step - loss: 1.1663 - accuracy: 0.4762\n",
      "Epoch 5/5\n",
      "25/25 [==============================] - 0s 2ms/step - loss: 1.0493 - accuracy: 0.5650\n",
      "25/25 [==============================] - 0s 1ms/step - loss: 0.9764 - accuracy: 0.5800\n",
      "Accuracy: 0.5799999833106995\n"
     ]
    }
   ],
   "source": [
    "# Instantiate a sequential model\n",
    "model = Sequential()\n",
    "  \n",
    "# Add 3 dense layers of 128, 64 and 32 neurons each\n",
    "model.add(Dense(128, input_shape=(2,), activation='relu'))\n",
    "model.add(Dense(64, activation='relu'))\n",
    "model.add(Dense(32, activation='relu'))\n",
    "  \n",
    "# Add a dense layer with as many neurons as competitors\n",
    "model.add(Dense(4, activation='softmax'))\n",
    "  \n",
    "# Compile your model using categorical_crossentropy loss\n",
    "model.compile(loss='categorical_crossentropy',\n",
    "              optimizer='adam',\n",
    "              metrics=['accuracy'])\n",
    "\n",
    "\n",
    "# Transform into a categorical variable\n",
    "darts.competitor = pd.Categorical(darts.competitor)\n",
    "\n",
    "# Assign a number to each category (label encoding)\n",
    "darts.competitor = darts.competitor.cat.codes \n",
    "\n",
    "# Import to_categorical from keras utils module\n",
    "from tensorflow.keras.utils import to_categorical\n",
    "\n",
    "coordinates = darts.drop(['competitor'], axis=1)\n",
    "# Use to_categorical on your labels\n",
    "competitors = to_categorical(darts.competitor)\n",
    "\n",
    "# Now print the one-hot encoded labels\n",
    "print('One-hot encoded competitors: \\n',competitors)\n",
    "\n",
    "\n",
    "# Fit your model to the training data for 200 epochs\n",
    "model.fit(coordinates,competitors,epochs=5, metrics=['accuracy'])\n",
    "\n",
    "# Evaluate your model accuracy on the test data\n",
    "accuracy = model.evaluate(coordinates, competitors)[1]\n",
    "\n",
    "# Print accuracy\n",
    "print('Accuracy:', accuracy)"
   ]
  },
  {
   "cell_type": "code",
   "execution_count": null,
   "metadata": {},
   "outputs": [
    {
     "data": {
      "image/png": "[encoded data removed]",
      "text/plain": [
       "<Figure size 603.25x500 with 6 Axes>"
      ]
     },
     "metadata": {},
     "output_type": "display_data"
    }
   ],
   "source": [
    "# Use pairplot and set the hue to be our class column\n",
    "sns.pairplot(darts, hue='competitor') \n",
    "\n",
    "# Show the plot\n",
    "plt.show()\n"
   ]
  },
  {
   "cell_type": "markdown",
   "metadata": {},
   "source": [
    "#### Multi-label Classification"
   ]
  },
  {
   "cell_type": "markdown",
   "metadata": {},
   "source": [
    "* activation = 'sigmoid' #In the output layer\n",
    "* loss='binary_crossentropy'"
   ]
  },
  {
   "cell_type": "markdown",
   "metadata": {},
   "source": [
    "An example is a movie with more than 1 genre.\n",
    "\n",
    "* This biggest difference compared to multiclass, is that the output layer and its activation function.\n",
    "* In the output layer, we have as many neurons as possible clauses"
   ]
  },
  {
   "cell_type": "code",
   "execution_count": 43,
   "metadata": {},
   "outputs": [
    {
     "data": {
      "text/html": [
       "<div>\n",
       "<style scoped>\n",
       "    .dataframe tbody tr th:only-of-type {\n",
       "        vertical-align: middle;\n",
       "    }\n",
       "\n",
       "    .dataframe tbody tr th {\n",
       "        vertical-align: top;\n",
       "    }\n",
       "\n",
       "    .dataframe thead th {\n",
       "        text-align: right;\n",
       "    }\n",
       "</style>\n",
       "<table border=\"1\" class=\"dataframe\">\n",
       "  <thead>\n",
       "    <tr style=\"text-align: right;\">\n",
       "      <th></th>\n",
       "      <th>Unnamed: 0</th>\n",
       "      <th>sensor_0</th>\n",
       "      <th>sensor_1</th>\n",
       "      <th>sensor_2</th>\n",
       "      <th>sensor_3</th>\n",
       "      <th>sensor_4</th>\n",
       "      <th>sensor_5</th>\n",
       "      <th>sensor_6</th>\n",
       "      <th>sensor_7</th>\n",
       "      <th>sensor_8</th>\n",
       "      <th>...</th>\n",
       "      <th>sensor_13</th>\n",
       "      <th>sensor_14</th>\n",
       "      <th>sensor_15</th>\n",
       "      <th>sensor_16</th>\n",
       "      <th>sensor_17</th>\n",
       "      <th>sensor_18</th>\n",
       "      <th>sensor_19</th>\n",
       "      <th>parcel_0</th>\n",
       "      <th>parcel_1</th>\n",
       "      <th>parcel_2</th>\n",
       "    </tr>\n",
       "  </thead>\n",
       "  <tbody>\n",
       "    <tr>\n",
       "      <th>0</th>\n",
       "      <td>0</td>\n",
       "      <td>1.0</td>\n",
       "      <td>2.0</td>\n",
       "      <td>1.0</td>\n",
       "      <td>7.0</td>\n",
       "      <td>0.0</td>\n",
       "      <td>1.0</td>\n",
       "      <td>1.0</td>\n",
       "      <td>4.0</td>\n",
       "      <td>0.0</td>\n",
       "      <td>...</td>\n",
       "      <td>8.0</td>\n",
       "      <td>1.0</td>\n",
       "      <td>0.0</td>\n",
       "      <td>2.0</td>\n",
       "      <td>1.0</td>\n",
       "      <td>9.0</td>\n",
       "      <td>2.0</td>\n",
       "      <td>0</td>\n",
       "      <td>1</td>\n",
       "      <td>0</td>\n",
       "    </tr>\n",
       "  </tbody>\n",
       "</table>\n",
       "<p>1 rows × 24 columns</p>\n",
       "</div>"
      ],
      "text/plain": [
       "   Unnamed: 0  sensor_0  sensor_1  sensor_2  sensor_3  sensor_4  sensor_5  \\\n",
       "0           0       1.0       2.0       1.0       7.0       0.0       1.0   \n",
       "\n",
       "   sensor_6  sensor_7  sensor_8  ...  sensor_13  sensor_14  sensor_15  \\\n",
       "0       1.0       4.0       0.0  ...        8.0        1.0        0.0   \n",
       "\n",
       "   sensor_16  sensor_17  sensor_18  sensor_19  parcel_0  parcel_1  parcel_2  \n",
       "0        2.0        1.0        9.0        2.0         0         1         0  \n",
       "\n",
       "[1 rows x 24 columns]"
      ]
     },
     "execution_count": 43,
     "metadata": {},
     "output_type": "execute_result"
    }
   ],
   "source": [
    "path = r'C:\\Users\\LLerma\\Documents\\GitHub\\Learning\\Datasets'\n",
    "\n",
    "irrigation_machine = pd.read_csv(path + r'\\irrigation_machine.csv')\n",
    "irrigation_machine.head(1)"
   ]
  },
  {
   "cell_type": "markdown",
   "metadata": {},
   "source": [
    "Multi-label classification example"
   ]
  },
  {
   "cell_type": "code",
   "execution_count": 45,
   "metadata": {},
   "outputs": [
    {
     "name": "stdout",
     "output_type": "stream",
     "text": [
      "Model: \"sequential_5\"\n",
      "_________________________________________________________________\n",
      " Layer (type)                Output Shape              Param #   \n",
      "=================================================================\n",
      " dense_13 (Dense)            (None, 64)                1344      \n",
      "                                                                 \n",
      " dense_14 (Dense)            (None, 3)                 195       \n",
      "                                                                 \n",
      "=================================================================\n",
      "Total params: 1,539\n",
      "Trainable params: 1,539\n",
      "Non-trainable params: 0\n",
      "_________________________________________________________________\n"
     ]
    }
   ],
   "source": [
    "# Instantiate a Sequential model\n",
    "model = Sequential()\n",
    "\n",
    "# Add a hidden layer of 64 neurons and a 20 neuron's input\n",
    "model.add(Dense(64, activation='relu', input_shape=(20,)))\n",
    "\n",
    "# Add an output layer of 3 neurons with sigmoid activation\n",
    "model.add(Dense(3, activation='sigmoid'))\n",
    "\n",
    "# Compile your model with binary crossentropy loss\n",
    "model.compile(optimizer='adam',\n",
    "           loss = 'binary_crossentropy',\n",
    "           metrics=['accuracy'])\n",
    "\n",
    "model.summary()\n"
   ]
  },
  {
   "cell_type": "markdown",
   "metadata": {},
   "source": [
    "#### Keras callbacks"
   ]
  },
  {
   "cell_type": "markdown",
   "metadata": {},
   "source": [
    "A callback i s a function that is executed after some other function, event or task has finished.\n",
    "\n",
    "A keras callback is a block of code that gets executed after eacg epoch during training or after the training has finished.\n",
    "\n",
    "* To get the most, we should use the validation_data parameter in the fit method.\n",
    "\n",
    "```py\n",
    "history = model.fit(x_train, y_train, \n",
    "                    epochs=100, \n",
    "                    validation_data = (X_test,y_test), \n",
    "                    metrics=['accuracy'])\n",
    "history.history['loss']\n",
    "history.history['val_loss']\n",
    "history.history['val_accuracy']\n",
    "\n",
    "#Comparing test vs validation\n",
    "plt.figure()\n",
    "\n",
    "plt.plot(history.history['accuracy'])\n",
    "plt.plot(history.history['val_accuracy'])\n",
    "\n",
    "plt.title('Model accuracy')\n",
    "plt.ylabel('Accuracy')\n",
    "plt.xlabel('Epoch')\n",
    "plt.legend(['Train','Test'])\n",
    "plt.show()\n",
    "\n",
    "#Early stopping\n",
    "\n",
    "from tensorflow.keras.callbacks import EarlyStopping\n",
    "\n",
    "early_stopping = EarlyStopping(monitor='val_loss', patience=5)\n",
    "#Patience is number of epochs to wait\n",
    "\n",
    "history = model.fit(x_train, y_train, \n",
    "                    epochs=100, \n",
    "                    validation_data = (X_test,y_test), \n",
    "                    metrics=['accuracy']\n",
    "                    callbacks = [early_stopping])\n",
    "\n",
    "\n",
    "#Model Checkpoint\n",
    "\n",
    "from keras.callbacks import ModelCheckpoint\n",
    "\n",
    "model_save = ModelCheckpoint(   'best_model.hdf5',\n",
    "                                save_best_only=True)\n",
    "\n",
    "history = model.fit(x_train, y_train, \n",
    "                    epochs=100, \n",
    "                    validation_data = (X_test,y_test), \n",
    "                    metrics=['accuracy']\n",
    "                    callbacks = [model_save])\n",
    "```\n",
    "\n",
    "\n"
   ]
  },
  {
   "cell_type": "markdown",
   "metadata": {},
   "source": [
    "### Improving your model performance"
   ]
  },
  {
   "cell_type": "markdown",
   "metadata": {},
   "source": [
    "#### Learning curves"
   ]
  },
  {
   "cell_type": "markdown",
   "metadata": {},
   "source": [
    "```py \n",
    "#Code\n",
    "initial_weights = model.get_weights()\n",
    "\n",
    "train_accs = []\n",
    "tests_accs = []\n",
    "\n",
    "for train_size in train_sizes:\n",
    "    X_train_frac, _, y_train_frac, _ =  train_test_split(X_train, y_train, train_size = train_size)\n",
    "\n",
    "    model.set_weights(initial_weights)\n",
    "\n",
    "\n",
    "    model.fit(  X_train_frac, y_train_frac, epochs = 100,\n",
    "                verbose = 0\n",
    "                callbacks = [EarlyStopping(monitor = 'loss', patience = 1)])\n",
    "\n",
    "    \n",
    "    #Accuracy for the set fraction\n",
    "    train_acc = model.evaluate(X_train_frac, y_train_frac, verbose=0)[1]\n",
    "    train_accs.append(train_acc)\n",
    "\n",
    "    #Accuracy for the whole set\n",
    "    tests_acc = model.evaluate(X_test, y_test, verbose=0)[1]\n",
    "    tests_accs.append(tests_acc)\n",
    "```\n",
    "\n"
   ]
  },
  {
   "cell_type": "markdown",
   "metadata": {},
   "source": [
    "```py \n",
    "#Example\n",
    "\n",
    "#_Train your model for 60 epochs, using X_test and y_test as validation data\n",
    "h_callback = model.fit(X_train, y_train, epochs = 60, validation_data = (X_test, y_test), verbose=0)\n",
    "\n",
    "#_Extract from the h_callback object loss and val_loss to plot the learning curve\n",
    "plot_loss(h_callback.history['loss'], h_callback.history['val_loss'])\n",
    "\n",
    "\n",
    "#Do we need more data?\n",
    "\n",
    "training_sizes = [ 125,  502,  879, 1255]\n",
    "\n",
    "for size in training_sizes:\n",
    "  \t#Get a fraction of training data (we only care about the training data)\n",
    "    X_train_frac, y_train_frac = X_train[:size], y_train[:size]\n",
    "\n",
    "    #Reset the model to the initial weights and train it on the new training data fraction\n",
    "    model.set_weights(initial_weights)\n",
    "    model.fit(X_train_frac, y_train_frac, epochs = 50, callbacks = [early_stop])\n",
    "\n",
    "    #Evaluate and store both: the training data fraction and the complete test set results\n",
    "    train_accs.append(model.evaluate(X_train, y_train)[1])\n",
    "    test_accs.append(model.evaluate(X_test, y_test)[1])\n",
    "    \n",
    "#Plot train vs test accuracies\n",
    "plot_results(train_accs, test_accs)\n",
    "```\n",
    "\n"
   ]
  },
  {
   "cell_type": "markdown",
   "metadata": {},
   "source": [
    "#### Activation functions"
   ]
  },
  {
   "cell_type": "markdown",
   "metadata": {},
   "source": []
  },
  {
   "cell_type": "code",
   "execution_count": 14,
   "metadata": {},
   "outputs": [],
   "source": [
    "import numpy as np\n",
    "from tensorflow.keras.models import Sequential\n",
    "from tensorflow.keras.layers import Dense\n",
    "\n",
    "activations = ['relu', 'sigmoid','tanh']\n",
    "activation_results = {}\n",
    "\n",
    "np.random.seed(1)\n",
    "\n",
    "def get_model(act_function):\n",
    "    model=Sequential()\n",
    "    model.add(Dense(4, input_shape=(2,), activation = act_function))\n",
    "    model.add(Dense(1, activation='sigmoid'))\n",
    "    return model\n",
    "\n",
    "'''\n",
    "for funct in activations:\n",
    "    model = get_model(act_function= funct)\n",
    "    history = model.fit(X_train, y_train,\n",
    "                        validation_data = (X_test, y_test),\n",
    "                        epochs = 100, verbose=0)\n",
    "    activation_results[funct] = history\n",
    "'''\n",
    "\n",
    "#Comparing activation functions\n",
    "\n",
    "import pandas as pd\n",
    "\n",
    "val_loss_per_funct = {k:v.history['val_loss'] for k, v in activation_results.items()}\n",
    "\n",
    "val_loss_curves = pd.DataFrame(val_loss_per_funct)"
   ]
  },
  {
   "cell_type": "markdown",
   "metadata": {},
   "source": [
    "#### Batch normalization"
   ]
  },
  {
   "cell_type": "markdown",
   "metadata": {},
   "source": [
    "model.fit(X_train, y_train, epochs=100, batch_size=128)\n",
    "\n",
    "Bacth normalizarion is used as a layer:\n",
    "1. Improves gradient flow\n",
    "2. Allow higher learning reates\n",
    "3. Reduces dependence\n",
    "4. Acts as regularization form\n",
    "\n",
    "* $Standarization = \\frac{data-mean}{\\sigma} $ "
   ]
  },
  {
   "cell_type": "code",
   "execution_count": 19,
   "metadata": {},
   "outputs": [
    {
     "data": {
      "text/plain": [
       "\" \\nbatchnorm_model = Sequential()\\nbatchnorm_model.add(Dense(50, input_shape=(64,), activation='relu', kernel_initializer='normal'))\\nbatchnorm_model.add(BatchNormalization())\\nbatchnorm_model.add(Dense(50, activation='relu', kernel_initializer='normal'))\\nbatchnorm_model.add(BatchNormalization())\\nbatchnorm_model.add(Dense(50, activation='relu', kernel_initializer='normal'))\\nbatchnorm_model.add(BatchNormalization())\\nbatchnorm_model.add(Dense(10, activation='softmax', kernel_initializer='normal'))\\n\""
      ]
     },
     "execution_count": 19,
     "metadata": {},
     "output_type": "execute_result"
    }
   ],
   "source": [
    "from tensorflow.keras.layers import BatchNormalization\n",
    "\n",
    "model = Sequential()\n",
    "\n",
    "#model.add...\n",
    "#model.add(BatchNormalization())\n",
    "#model.add...\n",
    "\n",
    "''' \n",
    "batchnorm_model = Sequential()\n",
    "batchnorm_model.add(Dense(50, input_shape=(64,), activation='relu', kernel_initializer='normal'))\n",
    "batchnorm_model.add(BatchNormalization())\n",
    "batchnorm_model.add(Dense(50, activation='relu', kernel_initializer='normal'))\n",
    "batchnorm_model.add(BatchNormalization())\n",
    "batchnorm_model.add(Dense(50, activation='relu', kernel_initializer='normal'))\n",
    "batchnorm_model.add(BatchNormalization())\n",
    "batchnorm_model.add(Dense(10, activation='softmax', kernel_initializer='normal'))\n",
    "'''\n",
    "\n"
   ]
  },
  {
   "cell_type": "markdown",
   "metadata": {},
   "source": [
    "#### Hyperparameter tuning"
   ]
  },
  {
   "cell_type": "markdown",
   "metadata": {},
   "source": [
    "```py \n",
    "from sklearn.model_selection import RandomizedSearchCV\n",
    "\n",
    "tree = DecisionTreeClassifier()\n",
    "\n",
    "params = { 'max_depth': [3,None], 'max_features':range(1,4), 'min_samples_leaf': range(1,4)}\n",
    "\n",
    "tree_cv = RandomizedSearchCV(tree, params, cv=5)\n",
    "tree_cv.fit(X,y)\n",
    "\n",
    "print(tree_cv.best_params_)\n",
    "\n",
    "#---------------EXAMPLE---------------\n",
    "\n",
    "def create_model(optimizer, activation):\n",
    "    ...\n",
    "    return model\n",
    "\n",
    "#Import wrapper\n",
    "from tensorflow.keras.wrappers.sickit_learn import KerasClassifier\n",
    "\n",
    "#Create model as sklearn estimator\n",
    "model = KerasClassifier(build_fn=create_model, epochs=6, batch_size=16)\n",
    "\n",
    "from sklearn.model_selection import cross_val_score\n",
    "\n",
    "kfold = cross_val_score(model, X, y, cv=5)\n",
    "\n",
    "#Print\n",
    "kfold.mean()\n",
    "kfold.std()\n",
    "\n",
    "#---------------KERAS EXAMPLE---------------\n",
    "\n",
    "params = dict(  optimizer = ['sgd', 'adam'], \n",
    "                epochs=3,\n",
    "                batch_size = [5,10,20],\n",
    "                activation='relu', 'tanh')\n",
    "\n",
    "random_search = RandomizedSearchCV(model, params_dist=params, cv=3)\n",
    "\n",
    "random_search_results = random_search.fit(X,y)\n",
    "\n",
    "#random_search_results.best_score_\n",
    "#random_search_results.best_params_\n",
    "\n",
    "```"
   ]
  },
  {
   "cell_type": "markdown",
   "metadata": {},
   "source": [
    "### Advanced Model Architectures"
   ]
  },
  {
   "cell_type": "markdown",
   "metadata": {},
   "source": [
    "#### Autoencoders"
   ]
  },
  {
   "cell_type": "markdown",
   "metadata": {},
   "source": [
    "```py\n",
    "Accessing the first layer\n",
    "#first_layer=model.layers[0]\n",
    "#first_layer.input\n",
    "#first_layer.output\n",
    "#first_layer.weights\n",
    "\n",
    "Import Keras Backend\n",
    "\n",
    "import tensorflow.keras.backend as K\n",
    "\n",
    "inp = model.layers[0].input\n",
    "out = model.layers[0].output\n",
    "\n",
    "inp_to_out = K.function([inp], [out])\n",
    "\n",
    "inp_to_out([X_train])\n",
    "```"
   ]
  },
  {
   "cell_type": "markdown",
   "metadata": {},
   "source": [
    "\n",
    "Produce same outputs as inputs\n",
    "\n",
    "1. Dimensionality reduction\n",
    "2. De-noising input_data\n",
    "3. Anomaly detection"
   ]
  },
  {
   "cell_type": "markdown",
   "metadata": {},
   "source": [
    "```py\n",
    "encoder = Sequential()\n",
    "encoder.add(autoencoder.layers[0])\n",
    "encoder.predict(X_test)\n",
    "```"
   ]
  },
  {
   "cell_type": "markdown",
   "metadata": {},
   "source": [
    "#### CNN"
   ]
  },
  {
   "cell_type": "markdown",
   "metadata": {},
   "source": [
    "```py \n",
    "#Import the Conv2D and Flatten layers and instantiate model\n",
    "from tensorflow.keras.layers import Conv2D,Flatten\n",
    "model = Sequential()\n",
    "\n",
    "#Add a convolutional layer of 32 filters of size 3x3\n",
    "model.add(Conv2D(filters=32, kernel_size = 3, input_shape = (28, 28, 1), activation = 'relu'))\n",
    "\n",
    "#Add a convolutional layer of 16 filters of size 3x3\n",
    "model.add(Conv2D(filters=16, kernel_size = 3 , activation = 'relu'))\n",
    "\n",
    "#Flatten the previous layer output\n",
    "model.add(Flatten())\n",
    "\n",
    "#Add as many outputs as classes with softmax activation\n",
    "model.add(Dense(10, activation = 'softmax'))\n",
    "\n",
    "\n",
    "#------------ Pre Processing for ResNet50 ----------\n",
    "\n",
    "#Import image and preprocess_input\n",
    "from tensorflow.keras.preprocessing import image\n",
    "from tensorflow.keras.applications.resnet50 import preprocess_input\n",
    "\n",
    "#Load the image with the right target size for your model\n",
    "img = image.load_img(img_path, target_size=(224, 224))\n",
    "\n",
    "#Turn it into an array\n",
    "img_array = image.img_to_array(img)\n",
    "\n",
    "#Expand the dimensions of the image, this is so that it fits the expected model input format\n",
    "img_expanded = np.expand_dims(img_array, axis = 0)\n",
    "\n",
    "#Pre-process the img in the same way original images were\n",
    "img_ready = preprocess_input(img_expanded)\n",
    "\n",
    "\n",
    "#------------ RESNET 50 ----------\n",
    "\n",
    "#Instantiate a ResNet50 model with 'imagenet' weights\n",
    "model = ResNet50(weights='imagenet')\n",
    "\n",
    "#Predict with ResNet50 on your already processed img\n",
    "preds = model.predict(img_ready)\n",
    "\n",
    "#Decode the first 3 predictions\n",
    "print('Predicted:', decode_predictions(preds, top=3)[0])\n",
    "```"
   ]
  },
  {
   "cell_type": "markdown",
   "metadata": {},
   "source": [
    "#### LSTM (Long Short Term Memory)"
   ]
  },
  {
   "cell_type": "markdown",
   "metadata": {},
   "source": [
    "Like RNN: Recurren Neural Network\n",
    "- Can use past predictions in order to infer new ones\n",
    "- Allows to solve problems where is a dependence on psat inputs\n",
    "\n",
    "When to use LSTM?\n",
    "- Image captioning\n",
    "- Speech to text\n",
    "- Text translation\n",
    "- Document summarization\n",
    "- Text generation\n",
    "- Musical composition"
   ]
  },
  {
   "cell_type": "code",
   "execution_count": 24,
   "metadata": {},
   "outputs": [
    {
     "data": {
      "text/plain": [
       "['hi', 'this', 'is', 'a', 'small', 'sentence']"
      ]
     },
     "execution_count": 24,
     "metadata": {},
     "output_type": "execute_result"
    }
   ],
   "source": [
    "text = 'hi this is a small sentence'\n",
    "\n",
    "seq_len = 3\n",
    "\n",
    "words = text.split()\n",
    "words"
   ]
  },
  {
   "cell_type": "code",
   "execution_count": 26,
   "metadata": {},
   "outputs": [
    {
     "data": {
      "text/plain": [
       "['hi this is', 'this is a', 'is a small', 'a small sentence']"
      ]
     },
     "execution_count": 26,
     "metadata": {},
     "output_type": "execute_result"
    }
   ],
   "source": [
    "lines = []\n",
    "\n",
    "for i in range(seq_len, len(words) + 1):\n",
    "    line = ' '.join(words[i-seq_len:i])\n",
    "    lines.append(line)\n",
    "\n",
    "lines"
   ]
  },
  {
   "cell_type": "markdown",
   "metadata": {},
   "source": [
    "Now, we turn the text sequences into numbers"
   ]
  },
  {
   "cell_type": "code",
   "execution_count": 28,
   "metadata": {},
   "outputs": [
    {
     "name": "stdout",
     "output_type": "stream",
     "text": [
      "{1: 'is', 2: 'a', 3: 'this', 4: 'small', 5: 'hi', 6: 'sentence'}\n"
     ]
    }
   ],
   "source": [
    "from tensorflow.keras.preprocessing.text import Tokenizer\n",
    "\n",
    "tokenizer = Tokenizer()\n",
    "\n",
    "tokenizer.fit_on_texts(lines)\n",
    "\n",
    "sequences = tokenizer.texts_to_sequences(lines)\n",
    "\n",
    "print(tokenizer.index_word)"
   ]
  },
  {
   "cell_type": "code",
   "execution_count": 30,
   "metadata": {},
   "outputs": [],
   "source": [
    "from tensorflow.keras.layers import Dense, LSTM, Embedding\n",
    "\n",
    "model = Sequential()\n",
    "\n",
    "vocab_size = len(tokenizer.index_word) + 1\n",
    "\n",
    "model.add(Embedding(input_dim = vocab_size, output_dim=8, input_length=2))\n",
    "\n",
    "model.add(LSTM(8))\n",
    "\n",
    "model.add(Dense(8, activation='relu'))\n",
    "\n",
    "model.add(Dense(vocab_size, activation='softmax'))\n"
   ]
  },
  {
   "cell_type": "markdown",
   "metadata": {},
   "source": [
    "Decode your predictions\n",
    "\n",
    "Your LSTM model has already been trained (details in the previous exercise success message) so that you don't have to wait. It's time to define a function that decodes its predictions. The trained model will be passed as a default parameter to this function.\n",
    "\n",
    "Since you are predicting on a model that uses the softmax function, numpy's argmax() can be used to obtain the index/position representing the most probable next word out of the output vector of probabilities.\n",
    "\n",
    "The tokenizer you previously created and fitted, is loaded for you. You will be making use of its internal index_word dictionary to turn the model's next word prediction (which is an integer) into the actual written word it represents.\n",
    "\n",
    "You're very close to experimenting with your model!"
   ]
  },
  {
   "cell_type": "code",
   "execution_count": 31,
   "metadata": {},
   "outputs": [],
   "source": [
    "def predict_text(test_text, model = model):\n",
    "  if len(test_text.split()) != 3:\n",
    "    print('Text input should be 3 words!')\n",
    "    return False\n",
    "  \n",
    "  # Turn the test_text into a sequence of numbers\n",
    "  test_seq = tokenizer.texts_to_sequences([test_text])\n",
    "  test_seq = np.array(test_seq)\n",
    "  \n",
    "  # Use the model passed as a parameter to predict the next word\n",
    "  pred = model.predict(test_seq).argmax(axis = 1)[0]\n",
    "  \n",
    "  # Return the word that maps to the prediction\n",
    "  return tokenizer.index_word[pred]"
   ]
  },
  {
   "cell_type": "markdown",
   "metadata": {},
   "source": [
    "---"
   ]
  },
  {
   "attachments": {},
   "cell_type": "markdown",
   "metadata": {},
   "source": [
    "## 4_Advanced Deep Learning with Keras"
   ]
  },
  {
   "cell_type": "markdown",
   "metadata": {},
   "source": [
    "### 1. The Keras Functional API"
   ]
  },
  {
   "cell_type": "code",
   "execution_count": 9,
   "metadata": {},
   "outputs": [
    {
     "data": {
      "text/html": [
       "<div>\n",
       "<style scoped>\n",
       "    .dataframe tbody tr th:only-of-type {\n",
       "        vertical-align: middle;\n",
       "    }\n",
       "\n",
       "    .dataframe tbody tr th {\n",
       "        vertical-align: top;\n",
       "    }\n",
       "\n",
       "    .dataframe thead th {\n",
       "        text-align: right;\n",
       "    }\n",
       "</style>\n",
       "<table border=\"1\" class=\"dataframe\">\n",
       "  <thead>\n",
       "    <tr style=\"text-align: right;\">\n",
       "      <th></th>\n",
       "      <th>season</th>\n",
       "      <th>team_1</th>\n",
       "      <th>team_2</th>\n",
       "      <th>home</th>\n",
       "      <th>score_diff</th>\n",
       "      <th>score_1</th>\n",
       "      <th>score_2</th>\n",
       "      <th>won</th>\n",
       "    </tr>\n",
       "  </thead>\n",
       "  <tbody>\n",
       "    <tr>\n",
       "      <th>0</th>\n",
       "      <td>1985</td>\n",
       "      <td>3745</td>\n",
       "      <td>6664</td>\n",
       "      <td>0</td>\n",
       "      <td>17</td>\n",
       "      <td>81</td>\n",
       "      <td>64</td>\n",
       "      <td>1</td>\n",
       "    </tr>\n",
       "    <tr>\n",
       "      <th>1</th>\n",
       "      <td>1985</td>\n",
       "      <td>126</td>\n",
       "      <td>7493</td>\n",
       "      <td>1</td>\n",
       "      <td>7</td>\n",
       "      <td>77</td>\n",
       "      <td>70</td>\n",
       "      <td>1</td>\n",
       "    </tr>\n",
       "    <tr>\n",
       "      <th>2</th>\n",
       "      <td>1985</td>\n",
       "      <td>288</td>\n",
       "      <td>3593</td>\n",
       "      <td>1</td>\n",
       "      <td>7</td>\n",
       "      <td>63</td>\n",
       "      <td>56</td>\n",
       "      <td>1</td>\n",
       "    </tr>\n",
       "    <tr>\n",
       "      <th>3</th>\n",
       "      <td>1985</td>\n",
       "      <td>1846</td>\n",
       "      <td>9881</td>\n",
       "      <td>1</td>\n",
       "      <td>16</td>\n",
       "      <td>70</td>\n",
       "      <td>54</td>\n",
       "      <td>1</td>\n",
       "    </tr>\n",
       "    <tr>\n",
       "      <th>4</th>\n",
       "      <td>1985</td>\n",
       "      <td>2675</td>\n",
       "      <td>10298</td>\n",
       "      <td>1</td>\n",
       "      <td>12</td>\n",
       "      <td>86</td>\n",
       "      <td>74</td>\n",
       "      <td>1</td>\n",
       "    </tr>\n",
       "  </tbody>\n",
       "</table>\n",
       "</div>"
      ],
      "text/plain": [
       "   season  team_1  team_2  home  score_diff  score_1  score_2  won\n",
       "0    1985    3745    6664     0          17       81       64    1\n",
       "1    1985     126    7493     1           7       77       70    1\n",
       "2    1985     288    3593     1           7       63       56    1\n",
       "3    1985    1846    9881     1          16       70       54    1\n",
       "4    1985    2675   10298     1          12       86       74    1"
      ]
     },
     "execution_count": 9,
     "metadata": {},
     "output_type": "execute_result"
    }
   ],
   "source": [
    "game_season = pd.read_csv(r\"C:\\Users\\LLerma\\Documents\\GitHub\\Learning\\Datasets\\basketball_data\\games_season.csv\")\n",
    "games_season = pd.read_csv(r\"C:\\Users\\LLerma\\Documents\\GitHub\\Learning\\Datasets\\basketball_data\\games_season.csv\")\n",
    "game_season.head()"
   ]
  },
  {
   "cell_type": "code",
   "execution_count": 54,
   "metadata": {},
   "outputs": [
    {
     "name": "stdout",
     "output_type": "stream",
     "text": [
      "(312178, 8)\n"
     ]
    }
   ],
   "source": [
    "print(game_season.shape)"
   ]
  },
  {
   "cell_type": "code",
   "execution_count": 10,
   "metadata": {},
   "outputs": [
    {
     "data": {
      "text/html": [
       "<div>\n",
       "<style scoped>\n",
       "    .dataframe tbody tr th:only-of-type {\n",
       "        vertical-align: middle;\n",
       "    }\n",
       "\n",
       "    .dataframe tbody tr th {\n",
       "        vertical-align: top;\n",
       "    }\n",
       "\n",
       "    .dataframe thead th {\n",
       "        text-align: right;\n",
       "    }\n",
       "</style>\n",
       "<table border=\"1\" class=\"dataframe\">\n",
       "  <thead>\n",
       "    <tr style=\"text-align: right;\">\n",
       "      <th></th>\n",
       "      <th>season</th>\n",
       "      <th>team_1</th>\n",
       "      <th>team_2</th>\n",
       "      <th>home</th>\n",
       "      <th>seed_diff</th>\n",
       "      <th>score_diff</th>\n",
       "      <th>score_1</th>\n",
       "      <th>score_2</th>\n",
       "      <th>won</th>\n",
       "    </tr>\n",
       "  </thead>\n",
       "  <tbody>\n",
       "    <tr>\n",
       "      <th>0</th>\n",
       "      <td>1985</td>\n",
       "      <td>288</td>\n",
       "      <td>73</td>\n",
       "      <td>0</td>\n",
       "      <td>-3</td>\n",
       "      <td>-9</td>\n",
       "      <td>41</td>\n",
       "      <td>50</td>\n",
       "      <td>0</td>\n",
       "    </tr>\n",
       "    <tr>\n",
       "      <th>1</th>\n",
       "      <td>1985</td>\n",
       "      <td>5929</td>\n",
       "      <td>73</td>\n",
       "      <td>0</td>\n",
       "      <td>4</td>\n",
       "      <td>6</td>\n",
       "      <td>61</td>\n",
       "      <td>55</td>\n",
       "      <td>1</td>\n",
       "    </tr>\n",
       "    <tr>\n",
       "      <th>2</th>\n",
       "      <td>1985</td>\n",
       "      <td>9884</td>\n",
       "      <td>73</td>\n",
       "      <td>0</td>\n",
       "      <td>5</td>\n",
       "      <td>-4</td>\n",
       "      <td>59</td>\n",
       "      <td>63</td>\n",
       "      <td>0</td>\n",
       "    </tr>\n",
       "    <tr>\n",
       "      <th>3</th>\n",
       "      <td>1985</td>\n",
       "      <td>73</td>\n",
       "      <td>288</td>\n",
       "      <td>0</td>\n",
       "      <td>3</td>\n",
       "      <td>9</td>\n",
       "      <td>50</td>\n",
       "      <td>41</td>\n",
       "      <td>1</td>\n",
       "    </tr>\n",
       "    <tr>\n",
       "      <th>4</th>\n",
       "      <td>1985</td>\n",
       "      <td>3920</td>\n",
       "      <td>410</td>\n",
       "      <td>0</td>\n",
       "      <td>1</td>\n",
       "      <td>-9</td>\n",
       "      <td>54</td>\n",
       "      <td>63</td>\n",
       "      <td>0</td>\n",
       "    </tr>\n",
       "  </tbody>\n",
       "</table>\n",
       "</div>"
      ],
      "text/plain": [
       "   season  team_1  team_2  home  seed_diff  score_diff  score_1  score_2  won\n",
       "0    1985     288      73     0         -3          -9       41       50    0\n",
       "1    1985    5929      73     0          4           6       61       55    1\n",
       "2    1985    9884      73     0          5          -4       59       63    0\n",
       "3    1985      73     288     0          3           9       50       41    1\n",
       "4    1985    3920     410     0          1          -9       54       63    0"
      ]
     },
     "execution_count": 10,
     "metadata": {},
     "output_type": "execute_result"
    }
   ],
   "source": [
    "games_tourney = pd.read_csv(r\"C:\\Users\\LLerma\\Documents\\GitHub\\Learning\\Datasets\\basketball_data\\games_tourney.csv\")\n",
    "game_tourney = pd.read_csv(r\"C:\\Users\\LLerma\\Documents\\GitHub\\Learning\\Datasets\\basketball_data\\games_tourney.csv\")\n",
    "games_tourney.head()\n"
   ]
  },
  {
   "attachments": {},
   "cell_type": "markdown",
   "metadata": {},
   "source": [
    "### 2. Two Input Networks Using Categorical Embeddings, Shared Layers, and Merge Layers"
   ]
  },
  {
   "cell_type": "markdown",
   "metadata": {},
   "source": [
    "#### Category embeddings"
   ]
  },
  {
   "attachments": {},
   "cell_type": "markdown",
   "metadata": {},
   "source": [
    "* There are an advanced type of layer (lookup table). \n",
    "* They increase the dimensionality of the data (useful for images and text), so after adding these layers, it's needed to add a Flatten layer to move into 2D again"
   ]
  },
  {
   "cell_type": "code",
   "execution_count": 24,
   "metadata": {},
   "outputs": [],
   "source": [
    "from tensorflow.keras.layers import Embedding\n",
    "from keras.layers import * \n",
    "\n",
    "input_tensor = Input(shape=(1,))\n",
    "n_teams = 10887\n",
    "embed_layer = Embedding(    input_dim = n_teams,\n",
    "                            input_length = 1,\n",
    "                            output_dim = 1,\n",
    "                            name = 'Team-Strength-Lookup')\n",
    "\n",
    "embed_tensor = embed_layer(input_tensor)\n",
    "\n",
    "#THEN FLATTEN\n",
    "\n",
    "flatten_tensor = Flatten()(embed_tensor)\n",
    "\n",
    "model = tensorflow.keras.Model(input_tensor, flatten_tensor)\n"
   ]
  },
  {
   "attachments": {},
   "cell_type": "markdown",
   "metadata": {},
   "source": [
    "#### Shared layers"
   ]
  },
  {
   "attachments": {},
   "cell_type": "markdown",
   "metadata": {},
   "source": [
    "* Two inputs\n",
    "* Use same embedding layer\n",
    "\n",
    "```py\n",
    "#Diagram\n",
    "input_1  \\                      / Output_1 \n",
    "          ---  Shared_layer ---  \n",
    "input_2  /                      \\ Output_2\n",
    "```"
   ]
  },
  {
   "cell_type": "code",
   "execution_count": 26,
   "metadata": {},
   "outputs": [],
   "source": [
    "input_tensor_1 = Input(shape=(1,))\n",
    "input_tensor_2 = Input(shape=(1,))\n",
    "\n",
    "shared_layer = Dense(1)\n",
    "\n",
    "output_tensor_1 = shared_layer(input_tensor_1)\n",
    "output_tensor_2 = shared_layer(input_tensor_2)"
   ]
  },
  {
   "cell_type": "code",
   "execution_count": 27,
   "metadata": {},
   "outputs": [],
   "source": [
    "#Using last model\n",
    "\n",
    "model = tensorflow.keras.Model(input_tensor, flatten_tensor)\n",
    "\n",
    "input_tensor_1 = Input(shape=(1,))\n",
    "input_tensor_2 = Input(shape=(1,))\n",
    "\n",
    "output_tensor_1 = model(input_tensor_1)\n",
    "output_tensor_2 = model(input_tensor_2)"
   ]
  },
  {
   "attachments": {},
   "cell_type": "markdown",
   "metadata": {},
   "source": [
    "#### Merged layers"
   ]
  },
  {
   "attachments": {},
   "cell_type": "markdown",
   "metadata": {},
   "source": [
    "It's used to combine the inputs into a single layer that can be used to predict a single output.\n",
    "\n",
    "Ther are many merge layers available in Keras:\n",
    "1. Add\n",
    "2. Substract\n",
    "3. Multiply\n",
    "4. Concatenate"
   ]
  },
  {
   "cell_type": "code",
   "execution_count": 36,
   "metadata": {},
   "outputs": [],
   "source": [
    "from tensorflow.keras.layers import Input, Add\n",
    "from tensorflow.keras.models import Model \n",
    "\n",
    "in_tensor_1 = Input((1,))\n",
    "in_tensor_2 = Input((1,))\n",
    "\n",
    "out_tensor = Add()([in_tensor_1, in_tensor_2])\n",
    "#out_tensor = Add()([in_tensor_1, in_tensor_2,...]) - For more inputs\n",
    "\n",
    "model = Model([in_tensor_1, in_tensor_2], out_tensor)\n",
    "\n",
    "model.compile(optimizer = 'adam', loss='mean_absolute_error')"
   ]
  },
  {
   "cell_type": "markdown",
   "metadata": {},
   "source": [
    "#### Predict from your model"
   ]
  },
  {
   "cell_type": "code",
   "execution_count": null,
   "metadata": {},
   "outputs": [],
   "source": [
    "#Fitting with multiple inputs\n",
    "\n",
    "model.fit([data_1, data_2], target)"
   ]
  },
  {
   "cell_type": "code",
   "execution_count": 34,
   "metadata": {},
   "outputs": [
    {
     "name": "stdout",
     "output_type": "stream",
     "text": [
      "1/1 [==============================] - 0s 168ms/step\n"
     ]
    },
    {
     "data": {
      "text/plain": [
       "array([[3.]], dtype=float32)"
      ]
     },
     "execution_count": 34,
     "metadata": {},
     "output_type": "execute_result"
    }
   ],
   "source": [
    "model.predict([np.array([[1]]),np.array([[2]])])"
   ]
  },
  {
   "cell_type": "code",
   "execution_count": 41,
   "metadata": {},
   "outputs": [
    {
     "name": "stdout",
     "output_type": "stream",
     "text": [
      "1/1 [==============================] - 0s 32ms/step - loss: 0.0000e+00\n"
     ]
    },
    {
     "data": {
      "text/plain": [
       "0.0"
      ]
     },
     "execution_count": 41,
     "metadata": {},
     "output_type": "execute_result"
    }
   ],
   "source": [
    "#The error for this evaluation is 0\n",
    "\n",
    "model.evaluate([np.array([[-1]]),np.array([[-2]])], np.array([[-3]]))"
   ]
  },
  {
   "cell_type": "code",
   "execution_count": 52,
   "metadata": {},
   "outputs": [
    {
     "name": "stdout",
     "output_type": "stream",
     "text": [
      "138/138 [==============================] - 1s 3ms/step - loss: 12.1204 - val_loss: 11.8382\n"
     ]
    },
    {
     "data": {
      "text/plain": [
       "<keras.callbacks.History at 0x23c6ba9e220>"
      ]
     },
     "execution_count": 52,
     "metadata": {},
     "output_type": "execute_result"
    }
   ],
   "source": [
    "#EXCERCISE\n",
    "\n",
    "# Imports\n",
    "from tensorflow.keras.layers import Embedding\n",
    "from numpy import unique\n",
    "\n",
    "# Count the unique number of teams\n",
    "n_teams = unique(game_season['team_1']).shape[0]\n",
    "\n",
    "# Create an embedding layer\n",
    "team_lookup = Embedding(input_dim=n_teams,\n",
    "                        output_dim=1,\n",
    "                        input_length=1,\n",
    "                        name='Team-Strength')\n",
    "\n",
    "# Imports\n",
    "from tensorflow.keras.layers import Input, Embedding, Flatten\n",
    "from tensorflow.keras.models import Model\n",
    "\n",
    "# Create an input layer for the team ID\n",
    "teamid_in = Input(shape=(1,))\n",
    "\n",
    "# Lookup the input in the team strength embedding layer\n",
    "strength_lookup = team_lookup(teamid_in)\n",
    "\n",
    "# Flatten the output\n",
    "strength_lookup_flat = Flatten()(strength_lookup)\n",
    "\n",
    "# Combine the operations into a single, re-usable model\n",
    "team_strength_model = Model(teamid_in, strength_lookup_flat, name='Team-Strength-Model')\n",
    "\n",
    "# Load the input layer from tensorflow.keras.layers\n",
    "from tensorflow.keras.layers import Input\n",
    "\n",
    "# Input layer for team 1\n",
    "team_in_1 = Input(shape=(1,), name='Team-1-In')\n",
    "\n",
    "# Separate input layer for team 2\n",
    "team_in_2 = Input(shape=(1,), name='Team-2-In')\n",
    "\n",
    "# Lookup team 1 in the team strength model\n",
    "team_1_strength = team_strength_model(team_in_1)\n",
    "\n",
    "# Lookup team 2 in the team strength model\n",
    "team_2_strength = team_strength_model(team_in_2)\n",
    "\n",
    "# Imports\n",
    "from tensorflow.keras.layers import Subtract\n",
    "from tensorflow.keras.models import Model\n",
    "\n",
    "# Subtraction layer from previous exercise\n",
    "score_diff = Subtract()([team_1_strength, team_2_strength])\n",
    "\n",
    "# Create the model\n",
    "model = Model([team_in_1, team_in_2], score_diff)\n",
    "\n",
    "# Compile the model\n",
    "model.compile(optimizer='adam', loss='mean_absolute_error')\n",
    "\n",
    "# Get the team_1 column from the regular season data\n",
    "input_1 = game_season['team_1']\n",
    "\n",
    "# Get the team_2 column from the regular season data\n",
    "input_2 = game_season['team_2']\n",
    "\n",
    "# Fit the model to input 1 and 2, using score diff as a target\n",
    "model.fit([input_1, input_2],\n",
    "          game_season['score_diff'],\n",
    "          epochs=1,\n",
    "          batch_size=2048,\n",
    "          validation_split=.1,\n",
    "          verbose=True)"
   ]
  },
  {
   "cell_type": "markdown",
   "metadata": {},
   "source": [
    "### 3. Multiple Inputs: 3 Inputs (and Beyond!)"
   ]
  },
  {
   "cell_type": "code",
   "execution_count": 57,
   "metadata": {},
   "outputs": [],
   "source": [
    "from tensorflow.keras.layers import Dense, Input, Concatenate\n",
    "\n",
    "input_tensor_1 = Input(shape=(1,))\n",
    "input_tensor_2 = Input(shape=(1,))\n",
    "input_tensor_3 = Input(shape=(1,))\n",
    "\n",
    "out_tensor = Concatenate()([input_tensor_1,input_tensor_2,input_tensor_3])\n",
    "\n",
    "output_tensor = Dense(1)(out_tensor)"
   ]
  },
  {
   "cell_type": "code",
   "execution_count": 70,
   "metadata": {},
   "outputs": [],
   "source": [
    "from tensorflow.keras.models import Model\n",
    "\n",
    "model = Model([input_tensor_1,input_tensor_2,input_tensor_3], output_tensor)\n",
    "\n",
    "\n",
    "shared_layer = Dense(1)\n",
    "\n",
    "shared_tensor_1 = shared_layer(in_tensor_1)\n",
    "shared_tensor_2 = shared_layer(in_tensor_1)\n",
    "\n",
    "# out_tensor = Concatenate([shared_tensor_1, shared_tensor_2, input_tensor_3])\n",
    "# out_tensor = Dense(1)(out_tensor)"
   ]
  },
  {
   "cell_type": "code",
   "execution_count": 72,
   "metadata": {},
   "outputs": [],
   "source": [
    "model = Model([input_tensor_1,input_tensor_2,input_tensor_3], output_tensor)"
   ]
  },
  {
   "attachments": {},
   "cell_type": "markdown",
   "metadata": {},
   "source": [
    "#### Stacking models\n"
   ]
  },
  {
   "attachments": {},
   "cell_type": "markdown",
   "metadata": {},
   "source": [
    "Using the prediction form one model as an input to another model."
   ]
  },
  {
   "attachments": {},
   "cell_type": "markdown",
   "metadata": {},
   "source": [
    "```py\n",
    "\n",
    "1\n",
    "#Predict\n",
    "games_tourney['pred'] = model.predict([games_tourney['team_1'], games_tourney['team_2'],games_tourney['home']])\n",
    "\n",
    "2\n",
    "#Create an input layer with 3 columns\n",
    "input_tensor = Input((3,))\n",
    "\n",
    "#Pass it to a Dense layer with 1 unit\n",
    "output_tensor = Dense(1)(input_tensor)\n",
    "\n",
    "#Create a model\n",
    "model = Model(input_tensor, output_tensor)\n",
    "\n",
    "#Compile the model\n",
    "model.compile(optimizer='adam', loss='mean_absolute_error')\n",
    "\n",
    "3\n",
    "#Fit the model\n",
    "model.fit(games_tourney_train[['home', 'seed_diff', 'pred']],\n",
    "          games_tourney_train['score_diff'],\n",
    "          epochs=1,\n",
    "          verbose=True)\n",
    "\n",
    "4\n",
    "#Evaluate the model on the games_tourney_test dataset\n",
    "print(model.evaluate(games_tourney_test[['home', 'seed_diff', 'prediction']],\n",
    "               games_tourney_test['score_diff'], verbose=False))\n",
    "```"
   ]
  },
  {
   "cell_type": "code",
   "execution_count": 81,
   "metadata": {},
   "outputs": [
    {
     "name": "stdout",
     "output_type": "stream",
     "text": [
      "138/138 [==============================] - 1s 3ms/step - loss: 12.1680 - val_loss: 11.9626\n",
      "11.694355964660645\n"
     ]
    },
    {
     "data": {
      "text/plain": [
       "\"\\n# Imports\\nimport matplotlib.pyplot as plt\\nfrom tensorflow.keras.utils import plot_model\\n\\n# Plot the model\\nplot_model(model, to_file='model.png')\\n\\n# Display the image\\ndata = plt.imread('model.png')\\nplt.imshow(data)\\nplt.show()\\n\""
      ]
     },
     "execution_count": 81,
     "metadata": {},
     "output_type": "execute_result"
    }
   ],
   "source": [
    "#EXCERCISE\n",
    "\n",
    "# Create an Input for each team\n",
    "team_in_1 = Input(shape=(1,), name='Team-1-In')\n",
    "team_in_2 = Input(shape=(1,), name='Team-2-In')\n",
    "\n",
    "# Create an input for home vs away\n",
    "home_in = Input(shape=(1,), name='Home-In')\n",
    "\n",
    "# Lookup the team inputs in the team strength model\n",
    "team_1_strength = team_strength_model(team_in_1)\n",
    "team_2_strength = team_strength_model(team_in_2)\n",
    "\n",
    "# Combine the team strengths with the home input using a Concatenate layer, then add a Dense layer\n",
    "out = Concatenate()([team_1_strength, team_2_strength, home_in])\n",
    "out = Dense(1)(out)\n",
    "\n",
    "#######----------------------------------------------########\n",
    "\n",
    "# Import the model class\n",
    "from tensorflow.keras.models import Model\n",
    "\n",
    "# Make a Model\n",
    "model = Model([team_in_1, team_in_2, home_in], out)\n",
    "\n",
    "# Compile the model\n",
    "model.compile(optimizer='adam', loss='mean_absolute_error')\n",
    "\n",
    "#######----------------------------------------------########\n",
    "\n",
    "# Fit the model to the games_season dataset\n",
    "model.fit([games_season['team_1'], games_season['team_2'], games_season['home']],\n",
    "          games_season['score_diff'],\n",
    "          epochs=1,\n",
    "          verbose=True,\n",
    "          validation_split=0.1,\n",
    "          batch_size=2048)\n",
    "\n",
    "# Evaluate the model on the games_tourney dataset\n",
    "print(model.evaluate([games_tourney['team_1'], games_tourney['team_2'], games_tourney['home']],\n",
    "          games_tourney['score_diff'], verbose=False))\n",
    "\n",
    "\n",
    "#######----------------------------------------------########\n",
    "\n",
    "# Summarize and plot\n",
    "'''\n",
    "# Imports\n",
    "import matplotlib.pyplot as plt\n",
    "from tensorflow.keras.utils import plot_model\n",
    "\n",
    "# Plot the model\n",
    "plot_model(model, to_file='model.png')\n",
    "\n",
    "# Display the image\n",
    "data = plt.imread('model.png')\n",
    "plt.imshow(data)\n",
    "plt.show()\n",
    "'''"
   ]
  },
  {
   "cell_type": "markdown",
   "metadata": {},
   "source": [
    "### 4. Multiple Outputs"
   ]
  },
  {
   "cell_type": "markdown",
   "metadata": {},
   "source": [
    "#### Two Output models"
   ]
  },
  {
   "cell_type": "code",
   "execution_count": 28,
   "metadata": {},
   "outputs": [
    {
     "name": "stdout",
     "output_type": "stream",
     "text": [
      "Epoch 1/2\n",
      "133/133 [==============================] - 0s 1ms/step - loss: 71.0665\n",
      "Epoch 2/2\n",
      "133/133 [==============================] - 0s 1ms/step - loss: 70.9331\n"
     ]
    },
    {
     "data": {
      "text/plain": [
       "<keras.callbacks.History at 0x1c4914b63a0>"
      ]
     },
     "execution_count": 28,
     "metadata": {},
     "output_type": "execute_result"
    }
   ],
   "source": [
    "from tensorflow.keras.layers import Input, Concatenate, Dense\n",
    "from tensorflow.keras.models import Model\n",
    "\n",
    "input_tensor = Input(shape=(1,))\n",
    "output_tensor=Dense(2)(input_tensor)\n",
    "\n",
    "model = Model(input_tensor, output_tensor)\n",
    "model.compile(optimizer='adam', loss='mean_absolute_error')\n",
    "\n",
    "x = games_tourney[['seed_diff']]\n",
    "y = games_tourney[['score_1', 'score_2']]\n",
    "\n",
    "model.fit(x,y, epochs=2)"
   ]
  },
  {
   "cell_type": "code",
   "execution_count": 34,
   "metadata": {},
   "outputs": [
    {
     "data": {
      "text/plain": [
       "[array([[ 0.6664115 , -0.70883846]], dtype=float32),\n",
       " array([0.26600003, 0.26600003], dtype=float32)]"
      ]
     },
     "execution_count": 34,
     "metadata": {},
     "output_type": "execute_result"
    }
   ],
   "source": [
    "#The first pair are the \"slopes\" and the second pair are the \"means\"/\"bias\"/\"intercept\"\n",
    "model.get_weights()"
   ]
  },
  {
   "cell_type": "code",
   "execution_count": 16,
   "metadata": {},
   "outputs": [
    {
     "name": "stdout",
     "output_type": "stream",
     "text": [
      "Model: \"model_5\"\n",
      "_________________________________________________________________\n",
      " Layer (type)                Output Shape              Param #   \n",
      "=================================================================\n",
      " input_8 (InputLayer)        [(None, 1)]               0         \n",
      "                                                                 \n",
      " dense_7 (Dense)             (None, 2)                 4         \n",
      "                                                                 \n",
      "=================================================================\n",
      "Total params: 4\n",
      "Trainable params: 4\n",
      "Non-trainable params: 0\n",
      "_________________________________________________________________\n"
     ]
    }
   ],
   "source": [
    "model.summary()"
   ]
  },
  {
   "cell_type": "markdown",
   "metadata": {},
   "source": [
    "#### Single model for classification and regression"
   ]
  },
  {
   "cell_type": "code",
   "execution_count": 39,
   "metadata": {},
   "outputs": [
    {
     "name": "stdout",
     "output_type": "stream",
     "text": [
      "Epoch 1/2\n",
      "133/133 [==============================] - 1s 2ms/step - loss: 12.0396 - dense_25_loss: 11.3705 - dense_26_loss: 0.6691\n",
      "Epoch 2/2\n",
      "133/133 [==============================] - 0s 2ms/step - loss: 11.5175 - dense_25_loss: 10.9162 - dense_26_loss: 0.6013\n"
     ]
    },
    {
     "data": {
      "text/plain": [
       "<keras.callbacks.History at 0x1c4915c7820>"
      ]
     },
     "execution_count": 39,
     "metadata": {},
     "output_type": "execute_result"
    }
   ],
   "source": [
    "from tensorflow.keras.layers import Input, Dense\n",
    "from tensorflow.keras.models import Model\n",
    "\n",
    "input_tensor = Input(shape=(1,))\n",
    "output_tensor_reg = Dense(1)(input_tensor)\n",
    "output_tensor_class = Dense(1, activation='sigmoid')(output_tensor_reg)\n",
    "\n",
    "#With two output models, each output needs its own loss function\n",
    "model = Model(input_tensor, [output_tensor_reg,output_tensor_class])\n",
    "model.compile(loss=['mean_absolute_error', 'binary_crossentropy'], optimizer='adam')\n",
    "\n",
    "X = games_tourney[['seed_diff']]\n",
    "y_reg = games_tourney[['score_diff']]\n",
    "y_class = games_tourney[['won']]\n",
    "model.fit(X, [y_reg, y_class], epochs=2)"
   ]
  },
  {
   "cell_type": "code",
   "execution_count": 30,
   "metadata": {},
   "outputs": [
    {
     "data": {
      "text/plain": [
       "[array([[ 0.6664115 , -0.70883846]], dtype=float32),\n",
       " array([0.26600003, 0.26600003], dtype=float32)]"
      ]
     },
     "execution_count": 30,
     "metadata": {},
     "output_type": "execute_result"
    }
   ],
   "source": [
    "model.get_weights()"
   ]
  },
  {
   "cell_type": "code",
   "execution_count": 32,
   "metadata": {},
   "outputs": [
    {
     "data": {
      "text/plain": [
       "0.26600003"
      ]
     },
     "execution_count": 32,
     "metadata": {},
     "output_type": "execute_result"
    }
   ],
   "source": [
    "model.get_weights()[1][0]"
   ]
  },
  {
   "cell_type": "code",
   "execution_count": 33,
   "metadata": {},
   "outputs": [
    {
     "name": "stdout",
     "output_type": "stream",
     "text": [
      "0.6299494744085234\n"
     ]
    }
   ],
   "source": [
    "from scipy.special import expit as sigmoid\n",
    "print(sigmoid(1*model.get_weights()[1][0] + model.get_weights()[1][1]))"
   ]
  },
  {
   "cell_type": "code",
   "execution_count": 41,
   "metadata": {},
   "outputs": [
    {
     "name": "stdout",
     "output_type": "stream",
     "text": [
      "133/133 [==============================] - 0s 1ms/step - loss: 11.2807 - dense_25_loss: 10.7101 - dense_26_loss: 0.5706\n"
     ]
    },
    {
     "data": {
      "text/plain": [
       "[11.280675888061523, 10.710082054138184, 0.5705968141555786]"
      ]
     },
     "execution_count": 41,
     "metadata": {},
     "output_type": "execute_result"
    }
   ],
   "source": [
    "model.evaluate(X, [y_reg, y_class])\n",
    "\n",
    "#1. Loss function by the model\n",
    "#2. Loss for the regression model\n",
    "#3. Loss for the classification model"
   ]
  },
  {
   "cell_type": "code",
   "execution_count": 42,
   "metadata": {},
   "outputs": [],
   "source": [
    "#-----EXCERCISE-----\n",
    "\n",
    "#1\n",
    "\n",
    "#Create an input layer with 2 columns\n",
    "input_tensor = Input(shape=(2,))\n",
    "\n",
    "#Create the first output\n",
    "output_tensor_1 = Dense(1, activation='linear', use_bias=False)(input_tensor)\n",
    "\n",
    "#Create the second output (use the first output as input here)\n",
    "output_tensor_2 = Dense(1, activation='sigmoid', use_bias=False)(output_tensor_1)\n",
    "\n",
    "#Create a model with 2 outputs\n",
    "model = Model(input_tensor, [output_tensor_1, output_tensor_2])"
   ]
  },
  {
   "cell_type": "markdown",
   "metadata": {},
   "source": [
    "---"
   ]
  }
 ],
 "metadata": {
  "kernelspec": {
   "display_name": "Python 3.9.13 ('GPU_AMI')",
   "language": "python",
   "name": "python3"
  },
  "language_info": {
   "codemirror_mode": {
    "name": "ipython",
    "version": 3
   },
   "file_extension": ".py",
   "mimetype": "text/x-python",
   "name": "python",
   "nbconvert_exporter": "python",
   "pygments_lexer": "ipython3",
   "version": "3.9.13"
  },
  "orig_nbformat": 4,
  "vscode": {
   "interpreter": {
    "hash": "e1967b0f77bf082c22faa1807af039d6ee4e7cb97c96c5b82449ce23140f1766"
   }
  }
 },
 "nbformat": 4,
 "nbformat_minor": 2
}
