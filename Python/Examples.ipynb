{
 "cells": [
  {
   "cell_type": "markdown",
   "source": [
    "# Python"
   ],
   "metadata": {}
  },
  {
   "cell_type": "markdown",
   "source": [
    "---"
   ],
   "metadata": {}
  },
  {
   "cell_type": "markdown",
   "source": [
    "# OOP"
   ],
   "metadata": {}
  },
  {
   "cell_type": "markdown",
   "source": [
    "## Classes\r\n",
    "\r\n",
    "`__init__`\r\n",
    "\r\n",
    "\r\n",
    "The `__init__` method is the most important method in a class.\r\n",
    "This is called when an instance (object) of the class is created, using the class name as a function.\r\n",
    "\r\n",
    "All methods must have self as their first parameter, although it isn't explicitly passed, Python adds the self argument to the list for you; you do not need to include it when you call the methods. Within a method definition, self refers to the instance calling the method.\r\n",
    "\r\n",
    "Instances of a class have attributes, which are pieces of data associated with them.\r\n",
    "In an `__init__` method, self.attribute can therefore be used to set the initial value of an instance's attributes.\r\n",
    "In this example, Cat instances have attributes color and legs. These can be accessed by putting a dot, and the attribute name after an instance."
   ],
   "metadata": {}
  },
  {
   "cell_type": "code",
   "execution_count": 5,
   "source": [
    "class Student:\r\n",
    "    def __init__(self, name):\r\n",
    "        self.name = name\r\n",
    "    \r\n",
    "    def greet(self):\r\n",
    "        print(self.name+\" says hi\")\r\n",
    "\r\n",
    "obj = Student(\"John\")\r\n",
    "obj.greet()"
   ],
   "outputs": [
    {
     "output_type": "stream",
     "name": "stdout",
     "text": [
      "John says hi\n"
     ]
    }
   ],
   "metadata": {}
  },
  {
   "cell_type": "code",
   "execution_count": 9,
   "source": [
    "class Dog:\r\n",
    "    # Class attributes\r\n",
    "    legs = 4\r\n",
    "    def __init__(self, name, color):\r\n",
    "        self.name = name\r\n",
    "        self.color = color\r\n",
    "\r\n",
    "fido = Dog(\"Fido\", \"brown\")\r\n",
    "print(fido.legs)\r\n",
    "print(Dog.legs)"
   ],
   "outputs": [
    {
     "output_type": "stream",
     "name": "stdout",
     "text": [
      "4\n",
      "4\n"
     ]
    }
   ],
   "metadata": {}
  },
  {
   "cell_type": "markdown",
   "source": [
    "## Inheritance\r\n",
    "\r\n",
    "Inheritance provides a way to share functionality between classes.\r\n",
    "Imagine several classes, Cat, Dog, Rabbit and so on. Although they may differ in some ways (only Dog might have the method bark), they are likely to be similar in others (all having the attributes color and name).\r\n",
    "This similarity can be expressed by making them all inherit from a superclass Animal, which contains the shared functionality.\r\n",
    "To inherit a class from another class, put the superclass name in parentheses after the class name.\r\n",
    "\r\n",
    "When the classes share attributes"
   ],
   "metadata": {}
  },
  {
   "cell_type": "code",
   "execution_count": 11,
   "source": [
    "class Animal: \r\n",
    "    def __init__(self, name, color):\r\n",
    "        self.name = name\r\n",
    "        self.color = color\r\n",
    "\r\n",
    "class Cat(Animal):\r\n",
    "    def purr(self):\r\n",
    "        print(\"Purr...\")\r\n",
    "        \r\n",
    "class Dog(Animal):\r\n",
    "    def bark(self):\r\n",
    "        print(\"Woof!\")\r\n",
    "\r\n",
    "fido = Dog(\"Fido\", \"brown\")\r\n",
    "print(fido.color)\r\n",
    "fido.bark()"
   ],
   "outputs": [
    {
     "output_type": "stream",
     "name": "stdout",
     "text": [
      "brown\n",
      "Woof!\n"
     ]
    }
   ],
   "metadata": {}
  },
  {
   "cell_type": "markdown",
   "source": [
    "A class that inherits from another class is called a subclass.\r\n",
    "A class that is inherited from is called a superclass.\r\n",
    "\r\n",
    "If a class inherits from another with the same attributes or methods, it overrides them."
   ],
   "metadata": {}
  },
  {
   "cell_type": "markdown",
   "source": [
    "### Super"
   ],
   "metadata": {}
  },
  {
   "cell_type": "markdown",
   "source": [
    "The function `super` is a useful inheritance-related function that refers to the parent class. It can be used to find the method with a certain name in an object's superclass."
   ],
   "metadata": {}
  },
  {
   "cell_type": "code",
   "execution_count": 12,
   "source": [
    "class A:\r\n",
    "    def spam(self):\r\n",
    "        print(1)\r\n",
    "\r\n",
    "class B(A):\r\n",
    "    def spam(self):\r\n",
    "        print(2)\r\n",
    "        super().spam()\r\n",
    "\r\n",
    "B().spam()"
   ],
   "outputs": [
    {
     "output_type": "stream",
     "name": "stdout",
     "text": [
      "2\n",
      "1\n"
     ]
    }
   ],
   "metadata": {}
  },
  {
   "cell_type": "markdown",
   "source": [
    "## Magic methods\r\n",
    "\r\n",
    "Magic methods are special methods which have double underscores at the beginning and end of their names.\r\n",
    "They are also known as dunders.\r\n",
    "So far, the only one we have encountered is `__init__`, but there are several others.\r\n",
    "They are used to create functionality that can't be represented as a normal method.\r\n",
    "\r\n",
    "One common use of them is operator overloading.\r\n",
    "This means defining operators for custom classes that allow operators such as + and * to be used on them.\r\n",
    "An example magic method is `__add__` for +.\r\n",
    "\r\n",
    "The `__add__` method allows for the definition of a custom behavior for the + operator in our class.\r\n",
    "As you can see, it adds the corresponding attributes of the objects and returns a new object, containing the result.\r\n",
    "Once it's defined, we can add two objects of the class together."
   ],
   "metadata": {}
  },
  {
   "cell_type": "code",
   "execution_count": 68,
   "source": [
    "class Vector2D:\r\n",
    "    def __init__(self, x, y):\r\n",
    "        self.x = x\r\n",
    "        self.y = y\r\n",
    "    def __add__(self, other):\r\n",
    "        return Vector2D(self.x + other.x, self.y + other.y)\r\n",
    "\r\n",
    "first = Vector2D(5, 7)\r\n",
    "second = Vector2D(3, 9)\r\n",
    "result = first + second\r\n",
    "print(result.x)\r\n",
    "print(result.y)"
   ],
   "outputs": [
    {
     "output_type": "stream",
     "name": "stdout",
     "text": [
      "8\n",
      "16\n"
     ]
    }
   ],
   "metadata": {}
  },
  {
   "cell_type": "markdown",
   "source": [
    "```More magic methods for common operators:\r\n",
    "__sub__ for -\r\n",
    "__mul__ for *\r\n",
    "__truediv__ for /\r\n",
    "__floordiv__ for //\r\n",
    "__mod__ for %\r\n",
    "__pow__ for **\r\n",
    "__and__ for &\r\n",
    "__xor__ for ^\r\n",
    "__or__ for |\r\n",
    "\r\n",
    "The expression x + y is translated into x.__add__(y).\r\n",
    "However, if x hasn't implemented __add__, and x and y are of different types, then y.__radd__(x) is called.\r\n",
    "There are equivalent r methods for all magic methods just mentioned.```"
   ],
   "metadata": {}
  },
  {
   "cell_type": "code",
   "execution_count": 60,
   "source": [
    "class SpecialString:\r\n",
    "    def __init__(self, cont):\r\n",
    "        self.cont = cont\r\n",
    "\r\n",
    "    def __truediv__(self, other):\r\n",
    "        line = \"=\" * len(other.cont)\r\n",
    "        return \"\\n\".join([self.cont, line, other.cont])\r\n",
    "        \r\n",
    "spam = SpecialString(\"spam\")\r\n",
    "hello = SpecialString(\"Hello world!\")\r\n",
    "print(spam / hello)"
   ],
   "outputs": [
    {
     "output_type": "stream",
     "name": "stdout",
     "text": [
      "spam\n",
      "============\n",
      "Hello world!\n"
     ]
    }
   ],
   "metadata": {}
  },
  {
   "cell_type": "code",
   "execution_count": 77,
   "source": [
    "class BankAccount:\r\n",
    "    def __init__(self, balance):\r\n",
    "        self.balance = balance\r\n",
    "\r\n",
    "    def __add__(self,other):\r\n",
    "        return BankAccount(self.balance + other.balance)\r\n",
    "        \r\n",
    "        \r\n",
    "a = BankAccount(1024)\r\n",
    "b = BankAccount(42)\r\n",
    "\r\n",
    "result = a + b\r\n",
    "print(result.balance)"
   ],
   "outputs": [
    {
     "output_type": "stream",
     "name": "stdout",
     "text": [
      "1066\n"
     ]
    }
   ],
   "metadata": {}
  },
  {
   "cell_type": "markdown",
   "source": [
    "```\r\n",
    "Python also provides magic methods for comparisons.\r\n",
    "__lt__ for <\r\n",
    "__le__ for <=\r\n",
    "__eq__ for ==\r\n",
    "__ne__ for !=\r\n",
    "__gt__ for >\r\n",
    "__ge__ for >=\r\n",
    "\r\n",
    "If __ne__ is not implemented, it returns the opposite of __eq__.\r\n",
    "There are no other relationships between the other operators.\r\n",
    "Example:\r\n",
    "```"
   ],
   "metadata": {}
  },
  {
   "cell_type": "code",
   "execution_count": 89,
   "source": [
    "class SpecialString:\r\n",
    "    def __init__(self, cont):\r\n",
    "        self.cont = cont\r\n",
    "\r\n",
    "    def __gt__(self, other):\r\n",
    "        #return (other.cont)\r\n",
    "        for index in range(len(other.cont)+1):\r\n",
    "            result = other.cont[:index] + \">\" + self.cont\r\n",
    "            result += \">\" + other.cont[index:]\r\n",
    "            print(result)\r\n",
    "\r\n",
    "spam = SpecialString(\"spam\")\r\n",
    "eggs = SpecialString(\"eggs\")\r\n",
    "spam > eggs"
   ],
   "outputs": [
    {
     "output_type": "stream",
     "name": "stdout",
     "text": [
      ">spam>eggs\n",
      "e>spam>ggs\n",
      "eg>spam>gs\n",
      "egg>spam>s\n",
      "eggs>spam>\n"
     ]
    }
   ],
   "metadata": {}
  },
  {
   "cell_type": "markdown",
   "source": [
    "```There are several magic methods for making classes act like containers.\r\n",
    "__len__ for len()\r\n",
    "__getitem__ for indexing\r\n",
    "__setitem__ for assigning to indexed values\r\n",
    "__delitem__ for deleting indexed values\r\n",
    "__iter__ for iteration over objects (e.g., in for loops)\r\n",
    "__contains__ for in\r\n",
    "\r\n",
    "There are many other magic methods that we won't cover here, such as __call__ for calling objects as functions, and __int__, __str__, and the like, for converting objects to built-in types.```"
   ],
   "metadata": {}
  },
  {
   "cell_type": "code",
   "execution_count": 95,
   "source": [
    "import random\r\n",
    "\r\n",
    "class VagueList:\r\n",
    "    def __init__(self, cont):\r\n",
    "        self.cont = cont\r\n",
    "\r\n",
    "    def __getitem__(self, index):\r\n",
    "        return self.cont[index + random.randint(-1, 1)]\r\n",
    "\r\n",
    "    def __len__(self):\r\n",
    "        return random.randint(0, len(self.cont)*2)\r\n",
    "\r\n",
    "vague_list = VagueList([\"A\", \"B\", \"C\", \"D\", \"E\"])\r\n",
    "print(len(vague_list))\r\n",
    "print(len(vague_list))\r\n",
    "print(vague_list[2])\r\n",
    "print(vague_list[2])"
   ],
   "outputs": [
    {
     "output_type": "stream",
     "name": "stdout",
     "text": [
      "6\n",
      "4\n",
      "B\n",
      "B\n"
     ]
    }
   ],
   "metadata": {}
  },
  {
   "cell_type": "markdown",
   "source": [
    "## Object Lifecycle\r\n",
    "\r\n",
    "The lifecycle of an object is made up of its creation, manipulation, and destruction.\r\n",
    "\r\n",
    "The first stage of the life-cycle of an object is the definition of the class to which it belongs.\r\n",
    "The next stage is the instantiation of an instance, when __init__ is called. Memory is allocated to store the instance. Just before this occurs, the __new__ method of the class is called. This is usually overridden only in special cases.\r\n",
    "After this has happened, the object is ready to be used."
   ],
   "metadata": {}
  },
  {
   "cell_type": "markdown",
   "source": [
    "When an object is destroyed, the memory allocated to it is freed up, and can be used for other purposes.\r\n",
    "Destruction of an object occurs when its reference count reaches zero. Reference count is the number of variables and other elements that refer to an object.\r\n",
    "If nothing is referring to it (it has a reference count of zero) nothing can interact with it, so it can be safely deleted.\r\n",
    "\r\n",
    "In some situations, two (or more) objects can be referred to by each other only, and therefore can be deleted as well.\r\n",
    "The del statement reduces the reference count of an object by one, and this often leads to its deletion.\r\n",
    "The magic method for the del statement is __del__.\r\n",
    "The process of deleting objects when they are no longer needed is called garbage collection.\r\n",
    "In summary, an object's reference count increases when it is assigned a new name or placed in a container (list, tuple, or dictionary). The object's reference count decreases when it's deleted with del, its reference is reassigned, or its reference goes out of scope. When an object's reference count reaches zero, Python automatically deletes it."
   ],
   "metadata": {}
  },
  {
   "cell_type": "markdown",
   "source": [
    "## Data Hiding\r\n",
    "\r\n",
    "A key part of object-oriented programming is encapsulation, which involves packaging of related variables and functions into a single easy-to-use object - an instance of a class.\r\n",
    "A related concept is data hiding, which states that implementation details of a class should be hidden, and a clean standard interface be presented for those who want to use the class.\r\n",
    "In other programming languages, this is usually done with private methods and attributes, which block external access to certain methods and attributes in a class.\r\n",
    "\r\n",
    "The Python philosophy is slightly different. It is often stated as \"we are all consenting adults here\", meaning that you shouldn't put arbitrary restrictions on accessing parts of a class. Hence there are no ways of enforcing a method or attribute be strictly private."
   ],
   "metadata": {}
  },
  {
   "cell_type": "code",
   "execution_count": 13,
   "source": [
    "class Queue:\r\n",
    "    def __init__(self, contents):\r\n",
    "        self._hiddenlist = list(contents)\r\n",
    "\r\n",
    "    def push(self, value):\r\n",
    "        self._hiddenlist.insert(0, value)\r\n",
    "\r\n",
    "    def pop(self):\r\n",
    "        return self._hiddenlist.pop(-1)\r\n",
    "\r\n",
    "    def __repr__(self):\r\n",
    "        return \"Queue({})\".format(self._hiddenlist)\r\n",
    "\r\n",
    "queue = Queue([1, 2, 3])\r\n",
    "print(queue)\r\n",
    "queue.push(0)\r\n",
    "print(queue)\r\n",
    "queue.pop()\r\n",
    "print(queue)\r\n",
    "print(queue._hiddenlist)\r\n",
    "\r\n",
    "#In the code above, the attribute _hiddenlist is marked as private, but it can still be accessed in the outside code.\r\n",
    "#The __repr__ magic method is used for string representation of the instance."
   ],
   "outputs": [
    {
     "output_type": "stream",
     "name": "stdout",
     "text": [
      "Queue([1, 2, 3])\n",
      "Queue([0, 1, 2, 3])\n",
      "Queue([0, 1, 2])\n",
      "[0, 1, 2]\n"
     ]
    }
   ],
   "metadata": {}
  },
  {
   "cell_type": "markdown",
   "source": [
    "Strongly private methods and attributes have a double underscore at the beginning of their names. This causes their names to be mangled, which means that they can't be accessed from outside the class.\r\n",
    "The purpose of this isn't to ensure that they are kept private, but to avoid bugs if there are subclasses that have methods or attributes with the same names.\r\n",
    "Name mangled methods can still be accessed externally, but by a different name. The method __privatemethod of class Spam could be accessed externally with _Spam__privatemethod.\r\n",
    "\r\n",
    "Example:"
   ],
   "metadata": {}
  },
  {
   "cell_type": "code",
   "execution_count": 16,
   "source": [
    "class Spam:\r\n",
    "    __egg = 7\r\n",
    "    def print_egg(self):\r\n",
    "        print(self.__egg)\r\n",
    "\r\n",
    "s = Spam()\r\n",
    "s.print_egg()\r\n"
   ],
   "outputs": [
    {
     "output_type": "stream",
     "name": "stdout",
     "text": [
      "7\n"
     ]
    }
   ],
   "metadata": {}
  },
  {
   "cell_type": "code",
   "execution_count": 18,
   "source": [
    "print(s._Spam__egg)\r\n"
   ],
   "outputs": [
    {
     "output_type": "stream",
     "name": "stdout",
     "text": [
      "7\n"
     ]
    }
   ],
   "metadata": {}
  },
  {
   "cell_type": "code",
   "execution_count": 19,
   "source": [
    "print(s.__egg)"
   ],
   "outputs": [
    {
     "output_type": "error",
     "ename": "AttributeError",
     "evalue": "'Spam' object has no attribute '__egg'",
     "traceback": [
      "\u001b[1;31m---------------------------------------------------------------------------\u001b[0m",
      "\u001b[1;31mAttributeError\u001b[0m                            Traceback (most recent call last)",
      "\u001b[1;32m~\\AppData\\Local\\Temp/ipykernel_26940/391107898.py\u001b[0m in \u001b[0;36m<module>\u001b[1;34m\u001b[0m\n\u001b[1;32m----> 1\u001b[1;33m \u001b[0mprint\u001b[0m\u001b[1;33m(\u001b[0m\u001b[0ms\u001b[0m\u001b[1;33m.\u001b[0m\u001b[0m__egg\u001b[0m\u001b[1;33m)\u001b[0m\u001b[1;33m\u001b[0m\u001b[1;33m\u001b[0m\u001b[0m\n\u001b[0m",
      "\u001b[1;31mAttributeError\u001b[0m: 'Spam' object has no attribute '__egg'"
     ]
    }
   ],
   "metadata": {}
  },
  {
   "cell_type": "code",
   "execution_count": 41,
   "source": [
    "# Excercise\r\n",
    "\r\n",
    "class BankAccount:\r\n",
    "    def __init__(self, balance):\r\n",
    "        self._balance = balance\r\n",
    "\r\n",
    "    def __repr__(self):\r\n",
    "        return \"Account Balance: {}\".format(self._balance)\r\n",
    "    \r\n",
    "    def deposit(self, amount):\r\n",
    "        self._balance = self._balance + amount\r\n",
    "\r\n",
    "acc = BankAccount(0)\r\n",
    "acc.deposit(int(input()))\r\n",
    "print(acc)\r\n"
   ],
   "outputs": [
    {
     "output_type": "stream",
     "name": "stdout",
     "text": [
      "Account Balance: 9\n"
     ]
    }
   ],
   "metadata": {}
  },
  {
   "cell_type": "markdown",
   "source": [
    "## Class Methods\r\n",
    "\r\n",
    "Methods of objects we've looked at so far are called by an instance of a class, which is then passed to the self parameter of the method.\r\n",
    "Class methods are different - they are called by a class, which is passed to the cls parameter of the method.\r\n",
    "A common use of these are factory methods, which instantiate an instance of a class, using different parameters than those usually passed to the class constructor.\r\n",
    "\r\n",
    "Class methods are marked with a classmethod decorator.\r\n",
    "\r\n",
    "Example:"
   ],
   "metadata": {}
  },
  {
   "cell_type": "code",
   "execution_count": 46,
   "source": [
    "class Rectangle:\r\n",
    "    def __init__(self, width, height):\r\n",
    "        self.width = width\r\n",
    "        self.height = height\r\n",
    "\r\n",
    "    def calculate_area(self):\r\n",
    "        return self.width * self.height\r\n",
    "\r\n",
    "    @classmethod\r\n",
    "    def new_square(cls, side_length):\r\n",
    "        return cls(side_length, side_length)\r\n",
    "\r\n",
    "square = Rectangle.new_square(5)\r\n",
    "print(square.calculate_area())\r\n",
    "\r\n",
    "# new_square is a class method and is called on the class, rather than on an instance of the class. It returns a new object of the class cls."
   ],
   "outputs": [
    {
     "output_type": "stream",
     "name": "stdout",
     "text": [
      "25\n"
     ]
    }
   ],
   "metadata": {}
  },
  {
   "cell_type": "code",
   "execution_count": 55,
   "source": [
    "class Person:\r\n",
    "\r\n",
    "    def __init__(self, name):\r\n",
    "        self.name = name\r\n",
    "\r\n",
    "    def prueba(self):\r\n",
    "        return self.name\r\n",
    "\r\n",
    "    @classmethod\r\n",
    "    def sayHi(cls):\r\n",
    "        print(\"Hi\")\r\n",
    "\r\n",
    "test = Person(\"Luis\")\r\n",
    "print(test.prueba())"
   ],
   "outputs": [
    {
     "output_type": "stream",
     "name": "stdout",
     "text": [
      "Luis\n"
     ]
    }
   ],
   "metadata": {}
  },
  {
   "cell_type": "markdown",
   "source": [
    "## Static Methods\r\n",
    "\r\n",
    "Static methods are similar to class methods, except they don't receive any additional arguments; they are identical to normal functions that belong to a class.\r\n",
    "\r\n",
    "They are marked with the staticmethod decorator.\r\n",
    "\r\n",
    "Example:\r\n"
   ],
   "metadata": {}
  },
  {
   "cell_type": "code",
   "execution_count": 56,
   "source": [
    "class Pizza:\r\n",
    "    def __init__(self, toppings):\r\n",
    "        self.toppings = toppings\r\n",
    "\r\n",
    "    @staticmethod\r\n",
    "    def validate_topping(topping):\r\n",
    "        if topping == \"pineapple\":\r\n",
    "            raise ValueError(\"No pineapples!\")\r\n",
    "        else:\r\n",
    "            return True\r\n",
    "\r\n",
    "ingredients = [\"cheese\", \"onions\", \"spam\"]\r\n",
    "if all(Pizza.validate_topping(i) for i in ingredients):\r\n",
    "    pizza = Pizza(ingredients)"
   ],
   "outputs": [],
   "metadata": {}
  },
  {
   "cell_type": "code",
   "execution_count": 66,
   "source": [
    "class Calculator:\r\n",
    "    #your code goes here\r\n",
    "    def __init__(self, n1, n2):\r\n",
    "        self.n1 = n1\r\n",
    "        self.n2 = n2\r\n",
    "\r\n",
    "    @staticmethod\r\n",
    "    def add():\r\n",
    "        return self.n1+self.n2\r\n",
    "                \r\n",
    "n1 = 5\r\n",
    "n2 = 6\r\n",
    "\r\n",
    "print(Calculator.add(n1, n2))"
   ],
   "outputs": [
    {
     "output_type": "error",
     "ename": "TypeError",
     "evalue": "add() takes 0 positional arguments but 2 were given",
     "traceback": [
      "\u001b[1;31m---------------------------------------------------------------------------\u001b[0m",
      "\u001b[1;31mTypeError\u001b[0m                                 Traceback (most recent call last)",
      "\u001b[1;32m~\\AppData\\Local\\Temp/ipykernel_26940/3751605675.py\u001b[0m in \u001b[0;36m<module>\u001b[1;34m\u001b[0m\n\u001b[0;32m     12\u001b[0m \u001b[0mn2\u001b[0m \u001b[1;33m=\u001b[0m \u001b[1;36m6\u001b[0m\u001b[1;33m\u001b[0m\u001b[1;33m\u001b[0m\u001b[0m\n\u001b[0;32m     13\u001b[0m \u001b[1;33m\u001b[0m\u001b[0m\n\u001b[1;32m---> 14\u001b[1;33m \u001b[0mprint\u001b[0m\u001b[1;33m(\u001b[0m\u001b[0mCalculator\u001b[0m\u001b[1;33m.\u001b[0m\u001b[0madd\u001b[0m\u001b[1;33m(\u001b[0m\u001b[0mn1\u001b[0m\u001b[1;33m,\u001b[0m \u001b[0mn2\u001b[0m\u001b[1;33m)\u001b[0m\u001b[1;33m)\u001b[0m\u001b[1;33m\u001b[0m\u001b[1;33m\u001b[0m\u001b[0m\n\u001b[0m",
      "\u001b[1;31mTypeError\u001b[0m: add() takes 0 positional arguments but 2 were given"
     ]
    }
   ],
   "metadata": {}
  },
  {
   "cell_type": "code",
   "execution_count": 63,
   "source": [
    "class Calculator:\r\n",
    "    #your code goes here\r\n",
    "\r\n",
    "    @staticmethod   \r\n",
    "    def add(self, n1, n2):\r\n",
    "        return self.n1 + self.n2\r\n",
    "\r\n",
    "        \r\n",
    "n1 = 5\r\n",
    "n2 = 6\r\n",
    "\r\n",
    "print(Calculator.add(n1, n2))"
   ],
   "outputs": [
    {
     "output_type": "error",
     "ename": "TypeError",
     "evalue": "add() missing 1 required positional argument: 'n2'",
     "traceback": [
      "\u001b[1;31m---------------------------------------------------------------------------\u001b[0m",
      "\u001b[1;31mTypeError\u001b[0m                                 Traceback (most recent call last)",
      "\u001b[1;32m~\\AppData\\Local\\Temp/ipykernel_26940/3694468110.py\u001b[0m in \u001b[0;36m<module>\u001b[1;34m\u001b[0m\n\u001b[0;32m     10\u001b[0m \u001b[0mn2\u001b[0m \u001b[1;33m=\u001b[0m \u001b[1;36m6\u001b[0m\u001b[1;33m\u001b[0m\u001b[1;33m\u001b[0m\u001b[0m\n\u001b[0;32m     11\u001b[0m \u001b[1;33m\u001b[0m\u001b[0m\n\u001b[1;32m---> 12\u001b[1;33m \u001b[0mprint\u001b[0m\u001b[1;33m(\u001b[0m\u001b[0mCalculator\u001b[0m\u001b[1;33m.\u001b[0m\u001b[0madd\u001b[0m\u001b[1;33m(\u001b[0m\u001b[0mn1\u001b[0m\u001b[1;33m,\u001b[0m \u001b[0mn2\u001b[0m\u001b[1;33m)\u001b[0m\u001b[1;33m)\u001b[0m\u001b[1;33m\u001b[0m\u001b[1;33m\u001b[0m\u001b[0m\n\u001b[0m",
      "\u001b[1;31mTypeError\u001b[0m: add() missing 1 required positional argument: 'n2'"
     ]
    }
   ],
   "metadata": {}
  },
  {
   "cell_type": "code",
   "execution_count": null,
   "source": [],
   "outputs": [],
   "metadata": {}
  },
  {
   "cell_type": "code",
   "execution_count": null,
   "source": [],
   "outputs": [],
   "metadata": {}
  },
  {
   "cell_type": "code",
   "execution_count": null,
   "source": [],
   "outputs": [],
   "metadata": {}
  },
  {
   "cell_type": "code",
   "execution_count": null,
   "source": [],
   "outputs": [],
   "metadata": {}
  },
  {
   "cell_type": "code",
   "execution_count": null,
   "source": [],
   "outputs": [],
   "metadata": {}
  },
  {
   "cell_type": "code",
   "execution_count": null,
   "source": [],
   "outputs": [],
   "metadata": {}
  },
  {
   "cell_type": "code",
   "execution_count": null,
   "source": [],
   "outputs": [],
   "metadata": {}
  },
  {
   "cell_type": "code",
   "execution_count": null,
   "source": [],
   "outputs": [],
   "metadata": {}
  },
  {
   "cell_type": "code",
   "execution_count": null,
   "source": [],
   "outputs": [],
   "metadata": {}
  },
  {
   "cell_type": "code",
   "execution_count": null,
   "source": [],
   "outputs": [],
   "metadata": {}
  },
  {
   "cell_type": "code",
   "execution_count": null,
   "source": [],
   "outputs": [],
   "metadata": {}
  },
  {
   "cell_type": "code",
   "execution_count": null,
   "source": [],
   "outputs": [],
   "metadata": {}
  },
  {
   "cell_type": "code",
   "execution_count": null,
   "source": [],
   "outputs": [],
   "metadata": {}
  },
  {
   "cell_type": "code",
   "execution_count": null,
   "source": [],
   "outputs": [],
   "metadata": {}
  },
  {
   "cell_type": "code",
   "execution_count": null,
   "source": [],
   "outputs": [],
   "metadata": {}
  },
  {
   "cell_type": "code",
   "execution_count": null,
   "source": [],
   "outputs": [],
   "metadata": {}
  },
  {
   "cell_type": "code",
   "execution_count": null,
   "source": [],
   "outputs": [],
   "metadata": {}
  },
  {
   "cell_type": "code",
   "execution_count": null,
   "source": [],
   "outputs": [],
   "metadata": {}
  },
  {
   "cell_type": "code",
   "execution_count": null,
   "source": [],
   "outputs": [],
   "metadata": {}
  },
  {
   "cell_type": "code",
   "execution_count": null,
   "source": [],
   "outputs": [],
   "metadata": {}
  },
  {
   "cell_type": "code",
   "execution_count": null,
   "source": [],
   "outputs": [],
   "metadata": {}
  },
  {
   "cell_type": "code",
   "execution_count": null,
   "source": [],
   "outputs": [],
   "metadata": {}
  },
  {
   "cell_type": "code",
   "execution_count": null,
   "source": [],
   "outputs": [],
   "metadata": {}
  },
  {
   "cell_type": "code",
   "execution_count": null,
   "source": [],
   "outputs": [],
   "metadata": {}
  },
  {
   "cell_type": "code",
   "execution_count": null,
   "source": [],
   "outputs": [],
   "metadata": {}
  },
  {
   "cell_type": "code",
   "execution_count": null,
   "source": [],
   "outputs": [],
   "metadata": {}
  }
 ],
 "metadata": {
  "orig_nbformat": 4,
  "language_info": {
   "name": "python",
   "version": "3.8.5",
   "mimetype": "text/x-python",
   "codemirror_mode": {
    "name": "ipython",
    "version": 3
   },
   "pygments_lexer": "ipython3",
   "nbconvert_exporter": "python",
   "file_extension": ".py"
  },
  "kernelspec": {
   "name": "python3",
   "display_name": "Python 3.8.5 64-bit ('venv': venv)"
  },
  "interpreter": {
   "hash": "bf614d7acc6fe911f1183bbe3961e9218e829efaa1418fb78b7d9b4aed3a9c04"
  }
 },
 "nbformat": 4,
 "nbformat_minor": 2
}