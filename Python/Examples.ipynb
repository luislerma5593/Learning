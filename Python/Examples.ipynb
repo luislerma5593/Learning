{
 "cells": [
  {
   "cell_type": "markdown",
   "source": [
    "# Python"
   ],
   "metadata": {}
  },
  {
   "cell_type": "markdown",
   "source": [
    "---"
   ],
   "metadata": {}
  },
  {
   "cell_type": "markdown",
   "source": [
    "# OOP"
   ],
   "metadata": {}
  },
  {
   "cell_type": "markdown",
   "source": [
    "## Classes\r\n",
    "\r\n",
    "`__init__`\r\n",
    "\r\n",
    "\r\n",
    "The `__init__` method is the most important method in a class.\r\n",
    "This is called when an instance (object) of the class is created, using the class name as a function.\r\n",
    "\r\n",
    "All methods must have self as their first parameter, although it isn't explicitly passed, Python adds the self argument to the list for you; you do not need to include it when you call the methods. Within a method definition, self refers to the instance calling the method.\r\n",
    "\r\n",
    "Instances of a class have attributes, which are pieces of data associated with them.\r\n",
    "In an `__init__` method, self.attribute can therefore be used to set the initial value of an instance's attributes.\r\n",
    "In this example, Cat instances have attributes color and legs. These can be accessed by putting a dot, and the attribute name after an instance."
   ],
   "metadata": {}
  },
  {
   "cell_type": "code",
   "execution_count": 5,
   "source": [
    "class Student:\r\n",
    "    def __init__(self, name):\r\n",
    "        self.name = name\r\n",
    "    \r\n",
    "    def greet(self):\r\n",
    "        print(self.name+\" says hi\")\r\n",
    "\r\n",
    "obj = Student(\"John\")\r\n",
    "obj.greet()"
   ],
   "outputs": [
    {
     "output_type": "stream",
     "name": "stdout",
     "text": [
      "John says hi\n"
     ]
    }
   ],
   "metadata": {}
  },
  {
   "cell_type": "code",
   "execution_count": 9,
   "source": [
    "class Dog:\r\n",
    "    # Class attributes\r\n",
    "    legs = 4\r\n",
    "    def __init__(self, name, color):\r\n",
    "        self.name = name\r\n",
    "        self.color = color\r\n",
    "\r\n",
    "fido = Dog(\"Fido\", \"brown\")\r\n",
    "print(fido.legs)\r\n",
    "print(Dog.legs)"
   ],
   "outputs": [
    {
     "output_type": "stream",
     "name": "stdout",
     "text": [
      "4\n",
      "4\n"
     ]
    }
   ],
   "metadata": {}
  },
  {
   "cell_type": "markdown",
   "source": [
    "## Inheritance\r\n",
    "\r\n",
    "Inheritance provides a way to share functionality between classes.\r\n",
    "Imagine several classes, Cat, Dog, Rabbit and so on. Although they may differ in some ways (only Dog might have the method bark), they are likely to be similar in others (all having the attributes color and name).\r\n",
    "This similarity can be expressed by making them all inherit from a superclass Animal, which contains the shared functionality.\r\n",
    "To inherit a class from another class, put the superclass name in parentheses after the class name.\r\n",
    "\r\n",
    "When the classes share attributes"
   ],
   "metadata": {}
  },
  {
   "cell_type": "code",
   "execution_count": 11,
   "source": [
    "class Animal: \r\n",
    "    def __init__(self, name, color):\r\n",
    "        self.name = name\r\n",
    "        self.color = color\r\n",
    "\r\n",
    "class Cat(Animal):\r\n",
    "    def purr(self):\r\n",
    "        print(\"Purr...\")\r\n",
    "        \r\n",
    "class Dog(Animal):\r\n",
    "    def bark(self):\r\n",
    "        print(\"Woof!\")\r\n",
    "\r\n",
    "fido = Dog(\"Fido\", \"brown\")\r\n",
    "print(fido.color)\r\n",
    "fido.bark()"
   ],
   "outputs": [
    {
     "output_type": "stream",
     "name": "stdout",
     "text": [
      "brown\n",
      "Woof!\n"
     ]
    }
   ],
   "metadata": {}
  },
  {
   "cell_type": "markdown",
   "source": [
    "A class that inherits from another class is called a subclass.\r\n",
    "A class that is inherited from is called a superclass.\r\n",
    "\r\n",
    "If a class inherits from another with the same attributes or methods, it overrides them."
   ],
   "metadata": {}
  },
  {
   "cell_type": "markdown",
   "source": [
    "### Super"
   ],
   "metadata": {}
  },
  {
   "cell_type": "markdown",
   "source": [
    "The function `super` is a useful inheritance-related function that refers to the parent class. It can be used to find the method with a certain name in an object's superclass."
   ],
   "metadata": {}
  },
  {
   "cell_type": "code",
   "execution_count": 12,
   "source": [
    "class A:\r\n",
    "    def spam(self):\r\n",
    "        print(1)\r\n",
    "\r\n",
    "class B(A):\r\n",
    "    def spam(self):\r\n",
    "        print(2)\r\n",
    "        super().spam()\r\n",
    "\r\n",
    "B().spam()"
   ],
   "outputs": [
    {
     "output_type": "stream",
     "name": "stdout",
     "text": [
      "2\n",
      "1\n"
     ]
    }
   ],
   "metadata": {}
  },
  {
   "cell_type": "markdown",
   "source": [
    "## Magic methods\r\n",
    "\r\n",
    "Magic methods are special methods which have double underscores at the beginning and end of their names.\r\n",
    "They are also known as dunders.\r\n",
    "So far, the only one we have encountered is `__init__`, but there are several others.\r\n",
    "They are used to create functionality that can't be represented as a normal method.\r\n",
    "\r\n",
    "One common use of them is operator overloading.\r\n",
    "This means defining operators for custom classes that allow operators such as + and * to be used on them.\r\n",
    "An example magic method is `__add__` for +.\r\n",
    "\r\n",
    "The `__add__` method allows for the definition of a custom behavior for the + operator in our class.\r\n",
    "As you can see, it adds the corresponding attributes of the objects and returns a new object, containing the result.\r\n",
    "Once it's defined, we can add two objects of the class together."
   ],
   "metadata": {}
  },
  {
   "cell_type": "code",
   "execution_count": 68,
   "source": [
    "class Vector2D:\r\n",
    "    def __init__(self, x, y):\r\n",
    "        self.x = x\r\n",
    "        self.y = y\r\n",
    "    def __add__(self, other):\r\n",
    "        return Vector2D(self.x + other.x, self.y + other.y)\r\n",
    "\r\n",
    "first = Vector2D(5, 7)\r\n",
    "second = Vector2D(3, 9)\r\n",
    "result = first + second\r\n",
    "print(result.x)\r\n",
    "print(result.y)"
   ],
   "outputs": [
    {
     "output_type": "stream",
     "name": "stdout",
     "text": [
      "8\n",
      "16\n"
     ]
    }
   ],
   "metadata": {}
  },
  {
   "cell_type": "markdown",
   "source": [
    "```More magic methods for common operators:\r\n",
    "__sub__ for -\r\n",
    "__mul__ for *\r\n",
    "__truediv__ for /\r\n",
    "__floordiv__ for //\r\n",
    "__mod__ for %\r\n",
    "__pow__ for **\r\n",
    "__and__ for &\r\n",
    "__xor__ for ^\r\n",
    "__or__ for |\r\n",
    "\r\n",
    "The expression x + y is translated into x.__add__(y).\r\n",
    "However, if x hasn't implemented __add__, and x and y are of different types, then y.__radd__(x) is called.\r\n",
    "There are equivalent r methods for all magic methods just mentioned.```"
   ],
   "metadata": {}
  },
  {
   "cell_type": "code",
   "execution_count": 60,
   "source": [
    "class SpecialString:\r\n",
    "    def __init__(self, cont):\r\n",
    "        self.cont = cont\r\n",
    "\r\n",
    "    def __truediv__(self, other):\r\n",
    "        line = \"=\" * len(other.cont)\r\n",
    "        return \"\\n\".join([self.cont, line, other.cont])\r\n",
    "        \r\n",
    "spam = SpecialString(\"spam\")\r\n",
    "hello = SpecialString(\"Hello world!\")\r\n",
    "print(spam / hello)"
   ],
   "outputs": [
    {
     "output_type": "stream",
     "name": "stdout",
     "text": [
      "spam\n",
      "============\n",
      "Hello world!\n"
     ]
    }
   ],
   "metadata": {}
  },
  {
   "cell_type": "code",
   "execution_count": 77,
   "source": [
    "class BankAccount:\r\n",
    "    def __init__(self, balance):\r\n",
    "        self.balance = balance\r\n",
    "\r\n",
    "    def __add__(self,other):\r\n",
    "        return BankAccount(self.balance + other.balance)\r\n",
    "        \r\n",
    "        \r\n",
    "a = BankAccount(1024)\r\n",
    "b = BankAccount(42)\r\n",
    "\r\n",
    "result = a + b\r\n",
    "print(result.balance)"
   ],
   "outputs": [
    {
     "output_type": "stream",
     "name": "stdout",
     "text": [
      "1066\n"
     ]
    }
   ],
   "metadata": {}
  },
  {
   "cell_type": "markdown",
   "source": [
    "```\r\n",
    "Python also provides magic methods for comparisons.\r\n",
    "__lt__ for <\r\n",
    "__le__ for <=\r\n",
    "__eq__ for ==\r\n",
    "__ne__ for !=\r\n",
    "__gt__ for >\r\n",
    "__ge__ for >=\r\n",
    "\r\n",
    "If __ne__ is not implemented, it returns the opposite of __eq__.\r\n",
    "There are no other relationships between the other operators.\r\n",
    "Example:\r\n",
    "```"
   ],
   "metadata": {}
  },
  {
   "cell_type": "code",
   "execution_count": 89,
   "source": [
    "class SpecialString:\r\n",
    "    def __init__(self, cont):\r\n",
    "        self.cont = cont\r\n",
    "\r\n",
    "    def __gt__(self, other):\r\n",
    "        #return (other.cont)\r\n",
    "        for index in range(len(other.cont)+1):\r\n",
    "            result = other.cont[:index] + \">\" + self.cont\r\n",
    "            result += \">\" + other.cont[index:]\r\n",
    "            print(result)\r\n",
    "\r\n",
    "spam = SpecialString(\"spam\")\r\n",
    "eggs = SpecialString(\"eggs\")\r\n",
    "spam > eggs"
   ],
   "outputs": [
    {
     "output_type": "stream",
     "name": "stdout",
     "text": [
      ">spam>eggs\n",
      "e>spam>ggs\n",
      "eg>spam>gs\n",
      "egg>spam>s\n",
      "eggs>spam>\n"
     ]
    }
   ],
   "metadata": {}
  },
  {
   "cell_type": "markdown",
   "source": [
    "```There are several magic methods for making classes act like containers.\r\n",
    "__len__ for len()\r\n",
    "__getitem__ for indexing\r\n",
    "__setitem__ for assigning to indexed values\r\n",
    "__delitem__ for deleting indexed values\r\n",
    "__iter__ for iteration over objects (e.g., in for loops)\r\n",
    "__contains__ for in\r\n",
    "\r\n",
    "There are many other magic methods that we won't cover here, such as __call__ for calling objects as functions, and __int__, __str__, and the like, for converting objects to built-in types.```"
   ],
   "metadata": {}
  },
  {
   "cell_type": "code",
   "execution_count": 95,
   "source": [
    "import random\r\n",
    "\r\n",
    "class VagueList:\r\n",
    "    def __init__(self, cont):\r\n",
    "        self.cont = cont\r\n",
    "\r\n",
    "    def __getitem__(self, index):\r\n",
    "        return self.cont[index + random.randint(-1, 1)]\r\n",
    "\r\n",
    "    def __len__(self):\r\n",
    "        return random.randint(0, len(self.cont)*2)\r\n",
    "\r\n",
    "vague_list = VagueList([\"A\", \"B\", \"C\", \"D\", \"E\"])\r\n",
    "print(len(vague_list))\r\n",
    "print(len(vague_list))\r\n",
    "print(vague_list[2])\r\n",
    "print(vague_list[2])"
   ],
   "outputs": [
    {
     "output_type": "stream",
     "name": "stdout",
     "text": [
      "6\n",
      "4\n",
      "B\n",
      "B\n"
     ]
    }
   ],
   "metadata": {}
  },
  {
   "cell_type": "markdown",
   "source": [
    "## Object Lifecycle\r\n",
    "\r\n",
    "The lifecycle of an object is made up of its creation, manipulation, and destruction.\r\n",
    "\r\n",
    "The first stage of the life-cycle of an object is the definition of the class to which it belongs.\r\n",
    "The next stage is the instantiation of an instance, when __init__ is called. Memory is allocated to store the instance. Just before this occurs, the __new__ method of the class is called. This is usually overridden only in special cases.\r\n",
    "After this has happened, the object is ready to be used."
   ],
   "metadata": {}
  },
  {
   "cell_type": "markdown",
   "source": [
    "When an object is destroyed, the memory allocated to it is freed up, and can be used for other purposes.\r\n",
    "Destruction of an object occurs when its reference count reaches zero. Reference count is the number of variables and other elements that refer to an object.\r\n",
    "If nothing is referring to it (it has a reference count of zero) nothing can interact with it, so it can be safely deleted.\r\n",
    "\r\n",
    "In some situations, two (or more) objects can be referred to by each other only, and therefore can be deleted as well.\r\n",
    "The del statement reduces the reference count of an object by one, and this often leads to its deletion.\r\n",
    "The magic method for the del statement is __del__.\r\n",
    "The process of deleting objects when they are no longer needed is called garbage collection.\r\n",
    "In summary, an object's reference count increases when it is assigned a new name or placed in a container (list, tuple, or dictionary). The object's reference count decreases when it's deleted with del, its reference is reassigned, or its reference goes out of scope. When an object's reference count reaches zero, Python automatically deletes it."
   ],
   "metadata": {}
  },
  {
   "cell_type": "code",
   "execution_count": null,
   "source": [],
   "outputs": [],
   "metadata": {}
  },
  {
   "cell_type": "code",
   "execution_count": null,
   "source": [],
   "outputs": [],
   "metadata": {}
  },
  {
   "cell_type": "code",
   "execution_count": null,
   "source": [],
   "outputs": [],
   "metadata": {}
  },
  {
   "cell_type": "code",
   "execution_count": null,
   "source": [],
   "outputs": [],
   "metadata": {}
  },
  {
   "cell_type": "code",
   "execution_count": null,
   "source": [],
   "outputs": [],
   "metadata": {}
  },
  {
   "cell_type": "code",
   "execution_count": null,
   "source": [],
   "outputs": [],
   "metadata": {}
  },
  {
   "cell_type": "code",
   "execution_count": null,
   "source": [],
   "outputs": [],
   "metadata": {}
  }
 ],
 "metadata": {
  "orig_nbformat": 4,
  "language_info": {
   "name": "python",
   "version": "3.8.5",
   "mimetype": "text/x-python",
   "codemirror_mode": {
    "name": "ipython",
    "version": 3
   },
   "pygments_lexer": "ipython3",
   "nbconvert_exporter": "python",
   "file_extension": ".py"
  },
  "kernelspec": {
   "name": "python3",
   "display_name": "Python 3.8.5 64-bit ('venv': venv)"
  },
  "interpreter": {
   "hash": "bf614d7acc6fe911f1183bbe3961e9218e829efaa1418fb78b7d9b4aed3a9c04"
  }
 },
 "nbformat": 4,
 "nbformat_minor": 2
}