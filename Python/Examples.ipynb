{
 "cells": [
  {
   "cell_type": "markdown",
   "source": [
    "# Python"
   ],
   "metadata": {}
  },
  {
   "cell_type": "markdown",
   "source": [
    "## OOP"
   ],
   "metadata": {}
  },
  {
   "cell_type": "markdown",
   "source": [
    "`__init__`\r\n",
    "\r\n",
    "\r\n",
    "The `__init__` method is the most important method in a class.\r\n",
    "This is called when an instance (object) of the class is created, using the class name as a function.\r\n",
    "\r\n",
    "All methods must have self as their first parameter, although it isn't explicitly passed, Python adds the self argument to the list for you; you do not need to include it when you call the methods. Within a method definition, self refers to the instance calling the method.\r\n",
    "\r\n",
    "Instances of a class have attributes, which are pieces of data associated with them.\r\n",
    "In an `__init__` method, self.attribute can therefore be used to set the initial value of an instance's attributes.\r\n",
    "In this example, Cat instances have attributes color and legs. These can be accessed by putting a dot, and the attribute name after an instance."
   ],
   "metadata": {}
  },
  {
   "cell_type": "code",
   "execution_count": 2,
   "source": [
    "class Student:\r\n",
    "    def __init__(self, name):\r\n",
    "        self.name = name\r\n",
    "    \r\n",
    "    def greet(self):\r\n",
    "        print(self.name+\" says hi\")"
   ],
   "outputs": [],
   "metadata": {}
  },
  {
   "cell_type": "code",
   "execution_count": 4,
   "source": [
    "\r\n",
    "obj = Student(\"John\")\r\n",
    "obj.greet()"
   ],
   "outputs": [
    {
     "output_type": "stream",
     "name": "stdout",
     "text": [
      "John says hi\n"
     ]
    }
   ],
   "metadata": {}
  }
 ],
 "metadata": {
  "orig_nbformat": 4,
  "language_info": {
   "name": "python",
   "version": "3.8.5",
   "mimetype": "text/x-python",
   "codemirror_mode": {
    "name": "ipython",
    "version": 3
   },
   "pygments_lexer": "ipython3",
   "nbconvert_exporter": "python",
   "file_extension": ".py"
  },
  "kernelspec": {
   "name": "python3",
   "display_name": "Python 3.8.5 64-bit ('venv': venv)"
  },
  "interpreter": {
   "hash": "bf614d7acc6fe911f1183bbe3961e9218e829efaa1418fb78b7d9b4aed3a9c04"
  }
 },
 "nbformat": 4,
 "nbformat_minor": 2
}