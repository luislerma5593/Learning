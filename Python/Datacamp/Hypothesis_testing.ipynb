{
 "cells": [
  {
   "cell_type": "markdown",
   "metadata": {},
   "source": [
    "\n",
    "# Hypothesis Testing\n",
    "\n",
    "---"
   ]
  },
  {
   "attachments": {},
   "cell_type": "markdown",
   "metadata": {},
   "source": [
    "- One-sample test (1 # variable)\n",
    "    - t-test\n",
    "\n",
    "* Two-sample test (1 # variable, 1 categorical variable with 2 modalities)\n",
    "    * t-test\n",
    "\n",
    "- N-sample test (1 # variable, 1 categorical variable with N modalities)\n",
    "    * ANOVA\n",
    "    * Pairwise\n",
    "\n",
    "* Categorical test (2 categorical variables)\n",
    "    * Chi-squared\n"
   ]
  },
  {
   "cell_type": "code",
   "execution_count": 5,
   "metadata": {},
   "outputs": [],
   "source": [
    "import pandas as pd\n",
    "import pyarrow.feather as feather\n",
    "import numpy as np\n",
    "import matplotlib.pyplot as plt\n",
    "from scipy.stats import norm\n",
    "import scipy.stats\n",
    "import pingouin\n",
    "import seaborn as sns\n",
    "from scipy.stats import chisquare"
   ]
  },
  {
   "cell_type": "markdown",
   "metadata": {},
   "source": [
    "\n",
    "## Introduction to Hypothesis Testing\n"
   ]
  },
  {
   "cell_type": "markdown",
   "metadata": {},
   "source": [
    "\n",
    "Ace A/B testing! A/B testing lets you compare scenarios to see which best achieves some goal."
   ]
  },
  {
   "cell_type": "markdown",
   "metadata": {},
   "source": [
    "### Introduction"
   ]
  },
  {
   "cell_type": "code",
   "execution_count": 6,
   "metadata": {},
   "outputs": [],
   "source": [
    "path = r'C:\\Users\\LLerma\\Documents\\GitHub\\Learning\\Datasets'"
   ]
  },
  {
   "cell_type": "code",
   "execution_count": 13,
   "metadata": {},
   "outputs": [],
   "source": [
    "sample_dem_data = feather.read_feather(path+'\\dem_votes_potus_12_16.feather')\n",
    "late_shipments = feather.read_feather(path+'\\late_shipments.feather')\n",
    "sample_dem_data = feather.read_feather(path+ r'\\repub_votes_potus_08_12.feather')\n",
    "stack_overflow = feather.read_feather(path+'\\stack_overflow.feather')"
   ]
  },
  {
   "cell_type": "markdown",
   "metadata": {},
   "source": [
    "Hypothesis: The mean annual compensation of the population of the DS is $110,000"
   ]
  },
  {
   "cell_type": "code",
   "execution_count": 21,
   "metadata": {},
   "outputs": [
    {
     "data": {
      "text/plain": [
       "119574.71738168952"
      ]
     },
     "execution_count": 21,
     "metadata": {},
     "output_type": "execute_result"
    }
   ],
   "source": [
    "stack_overflow['converted_comp'].mean()\n",
    "\n",
    "# Is this meaninfully different?"
   ]
  },
  {
   "cell_type": "code",
   "execution_count": 30,
   "metadata": {},
   "outputs": [
    {
     "data": {
      "image/png": "[encoded data removed]",
      "text/plain": [
       "<Figure size 640x480 with 1 Axes>"
      ]
     },
     "metadata": {},
     "output_type": "display_data"
    }
   ],
   "source": [
    "#Boostraping\n",
    "so_bootn_distn = []\n",
    "\n",
    "for i in range(5000):\n",
    "    so_bootn_distn.append( np.mean(stack_overflow.sample(frac=1, replace=True)['converted_comp']))\n",
    "\n",
    "plt.hist(so_bootn_distn, bins=50)\n",
    "plt.show()"
   ]
  },
  {
   "cell_type": "code",
   "execution_count": 32,
   "metadata": {},
   "outputs": [],
   "source": [
    "std_error = np.std(so_bootn_distn, ddof=1)"
   ]
  },
  {
   "cell_type": "markdown",
   "metadata": {},
   "source": [
    "z_score = (sample_stat - hypoth_param_value) / std_error\n",
    "\n",
    "#Output is 1.707, is this low or high?"
   ]
  },
  {
   "cell_type": "code",
   "execution_count": 37,
   "metadata": {},
   "outputs": [
    {
     "name": "stdout",
     "output_type": "stream",
     "text": [
      "0.061\n",
      "0.13353771933071554\n"
     ]
    }
   ],
   "source": [
    "# Excercise\n",
    "\n",
    "late_prop_samp = (late_shipments['late'] == 'Yes').mean()\n",
    "\n",
    "# Print the results\n",
    "print(late_prop_samp)\n",
    "\n",
    "# Cool calculating! The proportion of late shipments in the sample is 0.061, or 6.1%.\n",
    "\n",
    "# Hypothesize that the proportion is 6%\n",
    "late_prop_hyp = 0.06\n",
    "\n",
    "# Calculate the standard error\n",
    "std_error = 0.007488520883926666 #np.std(late_shipments_boot_distn, ddof=1)\n",
    "\n",
    "# Find z-score of late_prop_samp\n",
    "z_score = (late_prop_samp - late_prop_hyp) / std_error\n",
    "\n",
    "# Print z_score\n",
    "print(z_score)"
   ]
  },
  {
   "cell_type": "markdown",
   "metadata": {},
   "source": [
    "### p-value\n",
    "\n",
    "- Large p-value : Fail to reject null hypothesis\n",
    "- Small p-value : Reject null hypothesis\n",
    "\n",
    "* If  $p <=$ $\\alpha$ , reject $H_0$, else fail to reject $H_0$\n",
    "* If the hypothesized population parameter is within the confidence interval, you should fail to reject the null hypothesis. If percentil_2.5% < z_score < percentil_97.5%, fail to reject $H_0$\n",
    "\n",
    "```py\n",
    "Alternative different - Two-tailed test \n",
    "Alternative less/fewer - Left tailed test\n",
    "Alternative greater/exceeds - Right tailed test\n",
    "```\n"
   ]
  },
  {
   "cell_type": "code",
   "execution_count": 95,
   "metadata": {},
   "outputs": [
    {
     "name": "stdout",
     "output_type": "stream",
     "text": [
      "0.13353771933071554\n",
      "0.4468840678346485\n"
     ]
    }
   ],
   "source": [
    "#Excercise (right tail)\n",
    "\n",
    "# Calculate the z-score of late_prop_samp\n",
    "z_score = (late_prop_samp - late_prop_hyp) / std_error\n",
    "print(z_score) \n",
    "# Calculate the p-value\n",
    "p_value = 1 - norm.cdf(z_score, loc=0, scale=1)\n",
    "                 \n",
    "# Print the p-value\n",
    "print(p_value) "
   ]
  },
  {
   "cell_type": "markdown",
   "metadata": {},
   "source": [
    "### Statistical significance\n",
    "\n",
    "- Significance level can be, 0.2, 0.1, 0.5 and 0.01. The most popular is 5%\n",
    "- Confidence intervals : 1 - $\\alpha$\n",
    "\n",
    "* False positive :  Type I error (p<$\\alpha$, reject $H_0$)\n",
    "* False negative : Type II error (p>$\\alpha$, fail to reject $H_0$)\n",
    "\n",
    "```py\n",
    "alpha = 0.05\n",
    "\n",
    "lowr = np.quantile(first_code_boot_distn, 0.0250)\n",
    "upper = np.quantile(first_code_boot_distn, 0.975)\n",
    "\n",
    "```"
   ]
  },
  {
   "cell_type": "markdown",
   "metadata": {},
   "source": [
    "### Excercise\n",
    "The null hypothesis, , is that the proportion of late shipments is six percent.\n",
    "\n",
    "The alternative hypothesis, , is that the proportion of late shipments is greater than six percent.\n",
    "\n",
    "p = 0.4468840678346485\n",
    "p > $\\alpha$, fail to reject $H_0$\n",
    "\n",
    "Also, z_score=0.06 is  included in the confidence interval [0.047, 0.076], so we fail to reject $H_0$"
   ]
  },
  {
   "cell_type": "markdown",
   "metadata": {},
   "source": [
    "---\n",
    "## Two sample test, t-test and ANOVA (One categorical and one numeric variable)"
   ]
  },
  {
   "cell_type": "markdown",
   "metadata": {},
   "source": [
    "* Using a sample standard deviation to estimate the standard error is computationally easier than using bootstrapping. However, to correct for the approximation, you need to use a t-distribution when transforming the test statistic to get the p-value.\n",
    "\n",
    "* The normal distribution is essentially a t-distribution with infinite degrees of freedom."
   ]
  },
  {
   "cell_type": "markdown",
   "metadata": {},
   "source": [
    "$H_0$: Mean compensation is the same for those who started to code as child or adults\n",
    "\n",
    "$H_1$: Mean compensation is greater for those who started as childs \n",
    "\n",
    "Can be translated to:\n",
    "\n",
    "$H_0$: : $\\mu_{child} = \\mu_{adult}$  ---->  $\\mu_{child} - \\mu_{adult} = 0$\n",
    "\n",
    "$H_1$: : $\\mu_{child} > \\mu_{adult}$   ---->  $\\mu_{child} - \\mu_{adult} > 0$\n",
    "\n",
    "With groupby, we get:\n",
    "\n",
    "adult_mean = 111313.311\n",
    "\n",
    "child_mean = 132419.57\n",
    "\n",
    "Is it significant or can it be xplained by sample variability?\n",
    "\n",
    "$t = \\frac{mean_1 - mean_2}{\\sqrt{\\frac{s1^2}{n} + \\frac{s2^2}{n} }}$\n",
    "---\n",
    "\n",
    "```py\n",
    "With groupby\n",
    "\n",
    "Mean:\n",
    "adult: 111313\n",
    "child: 132419\n",
    "\n",
    "Std:\n",
    "adult: 271546\n",
    "child: 255585\n",
    "\n",
    "Count:\n",
    "adult: 1376\n",
    "child: 885\n",
    "```\n",
    "\n",
    "$t = 1.869$\n",
    "\n",
    "$\\alpha = 0.1$\n",
    "\n",
    "$dof = nchild + nadult-2 = 2259$\n",
    "\n",
    "```py\n",
    "from scipy.stats import t\n",
    "\n",
    "p = t.cdf(t_stat, df=x)\n",
    "\n",
    "p = 0.0308\n",
    "\n",
    "```\n",
    "\n",
    "$p < \\alpha$  -->  We reject H_0 "
   ]
  },
  {
   "cell_type": "code",
   "execution_count": 99,
   "metadata": {},
   "outputs": [],
   "source": [
    "#Calculate the numerator of the test statistic\n",
    "#numerator = xbar_no - xbar_yes\n",
    "\n",
    "#Calculate the denominator of the test statistic\n",
    "#denominator = np.sqrt((s_no**2)/(n_no) + (s_yes**2)/(n_yes))\n",
    "\n",
    "#Calculate the test statistic\n",
    "#t_stat = numerator / denominator\n",
    "\n",
    "#-2.3936"
   ]
  },
  {
   "cell_type": "code",
   "execution_count": null,
   "metadata": {},
   "outputs": [],
   "source": [
    "#Calculate the degrees of freedom\n",
    "#degrees_of_freedom = n_yes + n_no -2\n",
    "\n",
    "#Calculate the p-value from the test stat\n",
    "p_value = t.cdf(t_stat, degrees_of_freedom)\n",
    "\n",
    "#0.0084\n",
    "\n",
    "#p < alpha; Reject H0"
   ]
  },
  {
   "cell_type": "markdown",
   "metadata": {},
   "source": [
    "### Paired t-tests\n"
   ]
  },
  {
   "cell_type": "markdown",
   "metadata": {},
   "source": [
    "\n",
    "Percentage of candidates lower in 2008 than 2012?\n",
    "\n",
    "$H_0$ : $\\mu2008$ - $\\mu2012 = 0$\n",
    "\n",
    "$H_1$ : $\\mu2008$ - $\\mu2012 < 0$\n",
    "\n",
    "$\\alpha = 0.05$\n",
    "\n",
    "diff = votes_2008 - votes_2012\n",
    "\n",
    "xbar_diff = diff.mean() # -2.87\n",
    "\n",
    "$H_0$ : $\\mu\\char`_diff= 0$\n",
    "\n",
    "$H_1$ : $\\mu\\char`_diff < 0$\n",
    "\n",
    "df = n_diff - 1\n",
    "\n",
    "s_diff = diff.std()\n",
    "\n",
    "t_stat = xbar_diff / np.sqrt(s_diff**2 / n_diff)\n",
    "\n",
    "t = -5.601\n",
    "\n",
    "p = t.csf(t_stat, 99)\n",
    "p = 9.57e-08\n",
    "\n",
    "p < alpha, Reject H0. So, votes from 2008 were lower than in 2012\n",
    "\n",
    "\n",
    "Other option if pingouin library\n",
    "\n",
    "```py\n",
    "import pingouin\n",
    "\n",
    "pingouin.ttest(x=sample_data['diff'], y=0, alternative='less')\n",
    "\n",
    "pingouin.ttest(x=sample_data_2008, y=sample_data_2012, paired=True, alternative='less')\n",
    "```"
   ]
  },
  {
   "cell_type": "code",
   "execution_count": 106,
   "metadata": {},
   "outputs": [
    {
     "data": {
      "image/png": "[encoded data removed]",
      "text/plain": [
       "<Figure size 640x480 with 1 Axes>"
      ]
     },
     "metadata": {},
     "output_type": "display_data"
    }
   ],
   "source": [
    "# Calculate the differences from 2012 to 2016\n",
    "sample_dem_data['diff'] = sample_dem_data['dem_percent_12'] - sample_dem_data['dem_percent_16']\n",
    "\n",
    "# Find the mean of the diff column\n",
    "xbar_diff = sample_dem_data['diff'].mean()\n",
    "# 6.829312660106834\n",
    "\n",
    "# Find the standard deviation of the diff column\n",
    "s_diff = sample_dem_data['diff'].std()\n",
    "\n",
    "# Plot a histogram of diff with 20 bins\n",
    "sample_dem_data['diff'].hist(bins=20)\n",
    "plt.show()"
   ]
  },
  {
   "cell_type": "code",
   "execution_count": 113,
   "metadata": {},
   "outputs": [
    {
     "name": "stdout",
     "output_type": "stream",
     "text": [
      "                T  dof alternative          p-val         CI95%   cohen-d  \\\n",
      "T-test  30.298384  499   two-sided  3.600634e-115  [6.39, 7.27]  1.354985   \n",
      "\n",
      "              BF10  power  \n",
      "T-test  2.246e+111    1.0  \n",
      "                T  dof alternative          p-val         CI95%   cohen-d  \\\n",
      "T-test  30.298384  499   two-sided  3.600634e-115  [6.39, 7.27]  0.454202   \n",
      "\n",
      "              BF10  power  \n",
      "T-test  2.246e+111    1.0  \n"
     ]
    }
   ],
   "source": [
    "# Conduct a t-test on diff\n",
    "test_results = pingouin.ttest(x=sample_dem_data['diff'], \n",
    "                              y=0, \n",
    "                              alternative=\"two-sided\")\n",
    "\n",
    "# Conduct a paired t-test on dem_percent_12 and dem_percent_16\n",
    "paired_test_results = pingouin.ttest(x = sample_dem_data['dem_percent_12'], y = sample_dem_data['dem_percent_16'], paired = True, alternative = 'two-sided')\n",
    "\n",
    "                              \n",
    "# Print the test results\n",
    "print(test_results)\n",
    "print(paired_test_results)"
   ]
  },
  {
   "cell_type": "markdown",
   "metadata": {},
   "source": [
    "The p-value from the unpaired test is greater than than the p-value from the paired test."
   ]
  },
  {
   "cell_type": "markdown",
   "metadata": {},
   "source": [
    "### ANOVA\n"
   ]
  },
  {
   "cell_type": "markdown",
   "metadata": {},
   "source": [
    "\n",
    "Is a test for differences between groups (one categorical and one numeric variable)\n",
    "\n",
    "**NOTE**: Extends t-tests to more than two groups\n",
    "\n",
    "- $H_0 :$ No significant difference\n",
    "- $H_1 :$ At least two categories have a significant difference\n",
    "\n",
    "Is mean annual compensation different for different levels of job satisfaction?\n",
    "```py\n",
    "sns.boxplot(x,y,data) #'y' must be a categorical variable\n",
    "```\n",
    "$\\alpha$ = 0.2\n",
    "\n",
    "pingouin.anova(data, dv=numeric_var, between=categorical_var)\n",
    "\n",
    "$p=0.001315 < \\alpha$\n",
    "\n",
    "* Means at least two categories have significantly different compensation, but we don't know which categories, so we have to perform a **pairwise_test**\n",
    "\n",
    "```py\n",
    "pingouin.pairwise_tests(data, \n",
    "                        dv=numeric_var, \n",
    "                        between=categorical_var,\n",
    "                        padjust='none'    # No corrections\n",
    "                                'bonf'    # Adjustments are meant to avoid false positives\n",
    "                                'sidak'\n",
    "                                'holm'\n",
    "                                'fdr_bh'\n",
    "                                'fdr_by') \n",
    "```\n",
    "\n",
    "With this test, we can see the categories where there's a significant difference compensation.\n"
   ]
  },
  {
   "cell_type": "code",
   "execution_count": 121,
   "metadata": {},
   "outputs": [
    {
     "name": "stdout",
     "output_type": "stream",
     "text": [
      "shipment_mode\n",
      "Air            39.712395\n",
      "Air Charter     4.226667\n",
      "Ocean           6.432273\n",
      "Name: pack_price, dtype: float64\n",
      "shipment_mode\n",
      "Air            48.932861\n",
      "Air Charter     0.992969\n",
      "Ocean           5.303047\n",
      "Name: pack_price, dtype: float64\n"
     ]
    },
    {
     "data": {
      "image/png": "[encoded data removed]",
      "text/plain": [
       "<Figure size 640x480 with 1 Axes>"
      ]
     },
     "metadata": {},
     "output_type": "display_data"
    }
   ],
   "source": [
    "# Excercise\n",
    "\n",
    "# Calculate the mean pack_price for each shipment_mode\n",
    "xbar_pack_by_mode = late_shipments.groupby('shipment_mode')['pack_price'].mean()\n",
    "\n",
    "# Print the grouped means\n",
    "print(xbar_pack_by_mode)\n",
    "\n",
    "# Calculate the standard deviation of the pack_price for each shipment_mode\n",
    "s_pack_by_mode = late_shipments.groupby(\"shipment_mode\")['pack_price'].std()\n",
    "\n",
    "# Print the grouped standard deviations\n",
    "print(s_pack_by_mode)\n",
    "\n",
    "# Boxplot of shipment_mode vs. pack_price\n",
    "sns.boxplot(x='pack_price', y='shipment_mode', data=late_shipments)\n",
    "plt.show()"
   ]
  },
  {
   "cell_type": "markdown",
   "metadata": {},
   "source": [
    "There certainly looks to be a difference in the pack price between each of the three shipment modes. Do you think the differences are statistically significant?"
   ]
  },
  {
   "cell_type": "code",
   "execution_count": 125,
   "metadata": {},
   "outputs": [
    {
     "name": "stdout",
     "output_type": "stream",
     "text": [
      "          Source  ddof1  ddof2        F         p-unc       np2\n",
      "0  shipment_mode      2    997  21.8646  5.089479e-10  0.042018\n"
     ]
    },
    {
     "name": "stderr",
     "output_type": "stream",
     "text": [
      "c:\\Otro\\Anaconda\\envs\\DA\\lib\\site-packages\\pingouin\\parametric.py:992: FutureWarning: Not prepending group keys to the result index of transform-like apply. In the future, the group keys will be included in the index, regardless of whether the applied function returns a like-indexed object.\n",
      "To preserve the previous behavior, use\n",
      "\n",
      "\t>>> .groupby(..., group_keys=False)\n",
      "\n",
      "To adopt the future behavior and silence this warning, use \n",
      "\n",
      "\t>>> .groupby(..., group_keys=True)\n",
      "  sserror = grp.apply(lambda x: (x - x.mean()) ** 2).sum()\n"
     ]
    }
   ],
   "source": [
    "# Run an ANOVA for pack_price across shipment_mode\n",
    "anova_results = pingouin.anova(late_shipments, dv='pack_price', between='shipment_mode')\n",
    "\n",
    "# Print anova_results\n",
    "print(anova_results)\n",
    "\n",
    "# The p-value is less than or equal to the significance level, so the null hypothesis should be rejected."
   ]
  },
  {
   "cell_type": "code",
   "execution_count": 129,
   "metadata": {},
   "outputs": [
    {
     "name": "stdout",
     "output_type": "stream",
     "text": [
      "        Contrast            A            B  Paired  Parametric          T  \\\n",
      "0  shipment_mode          Air  Air Charter   False        True  21.179625   \n",
      "1  shipment_mode          Air        Ocean   False        True  19.335760   \n",
      "2  shipment_mode  Air Charter        Ocean   False        True  -3.170654   \n",
      "\n",
      "          dof alternative         p-unc       BF10    hedges  \n",
      "0  600.685682   two-sided  8.748346e-75  5.809e+76  0.726592  \n",
      "1  986.979785   two-sided  6.934555e-71  1.129e+67  0.711119  \n",
      "2   35.615026   two-sided  3.123012e-03     15.277 -0.423775  \n"
     ]
    }
   ],
   "source": [
    "#No adjustment\n",
    "# Modify the pairwise t-tests to use Bonferroni p-value adjustment\n",
    "pairwise_results = pingouin.pairwise_tests(data=late_shipments, \n",
    "                                           dv=\"pack_price\",\n",
    "                                           between=\"shipment_mode\",\n",
    "                                           padjust=\"none\")\n",
    "\n",
    "# Print pairwise_results\n",
    "print(pairwise_results)"
   ]
  },
  {
   "cell_type": "code",
   "execution_count": 133,
   "metadata": {},
   "outputs": [
    {
     "name": "stdout",
     "output_type": "stream",
     "text": [
      "        Contrast            A            B  Paired  Parametric          T  \\\n",
      "0  shipment_mode          Air  Air Charter   False        True  21.179625   \n",
      "1  shipment_mode          Air        Ocean   False        True  19.335760   \n",
      "2  shipment_mode  Air Charter        Ocean   False        True  -3.170654   \n",
      "\n",
      "          dof alternative         p-unc        p-corr p-adjust       BF10  \\\n",
      "0  600.685682   two-sided  8.748346e-75  2.624504e-74     bonf  5.809e+76   \n",
      "1  986.979785   two-sided  6.934555e-71  2.080367e-70     bonf  1.129e+67   \n",
      "2   35.615026   two-sided  3.123012e-03  9.369037e-03     bonf     15.277   \n",
      "\n",
      "     hedges  \n",
      "0  0.726592  \n",
      "1  0.711119  \n",
      "2 -0.423775  \n"
     ]
    }
   ],
   "source": [
    "# Modify the pairwise t-tests to use Bonferroni p-value adjustment\n",
    "pairwise_results = pingouin.pairwise_tests(data=late_shipments, \n",
    "                                           dv=\"pack_price\",\n",
    "                                           between=\"shipment_mode\",\n",
    "                                           padjust=\"bonf\")\n",
    "\n",
    "# Print pairwise_results\n",
    "print(pairwise_results)\n",
    "\n",
    "#Pairwise perfection! After applying the Bonferroni adjustment, the p-values for the t-tests between each \n",
    "#of the three groups are all less than 0.1.\n",
    "\n",
    "#We reject Null hypothesis for each comparison, and we know there is a significant difference on each pair of the pack prices"
   ]
  },
  {
   "cell_type": "markdown",
   "metadata": {},
   "source": [
    "---\n",
    "\n",
    "## Proportion Tests (Categorical variables)\n"
   ]
  },
  {
   "cell_type": "markdown",
   "metadata": {},
   "source": [
    "\n",
    "### One sample\n"
   ]
  },
  {
   "cell_type": "markdown",
   "metadata": {},
   "source": [
    "\n",
    "1. Standard error of sample statistic from bootstrap distribution\n",
    "2. Compute a standarized test statistic\n",
    "3. Calculate p-value\n",
    "4. Decide which hypothesis made most sense\n",
    "\n",
    "\n",
    "$Z: $ The test statistic for proportion(s) has only one estimate of a parameter instead of two.\n",
    "\n",
    "$H_0: p = p_0$\\\n",
    "$H_1: p = p_0$\n",
    "\n",
    "In this excercise:\n",
    "\n",
    "$H_0:$ Proportion of users under 30 = 0.5  \\\n",
    "$H_1:$ Proportion of users under 30 != 0.5 \n",
    "\n",
    "$\\alpha = 0.01$\n",
    "\n",
    "series.value_counts(normalize=True)\n",
    "\n",
    "Under: 0.5356 -> p_hat \\\n",
    "At least: 0.4643\n",
    "\n",
    "p_0 = 0.5\\\n",
    "n = 2261\n",
    "\n",
    "```py\n",
    "numerator = p_hat - p_0\n",
    "denominator = np.sqrt(p_0 * (1-p_0) / n)\n",
    "\n",
    "z_score = 3.3859\n",
    "\n",
    "Two-tailed - \"not equal\"\n",
    "\n",
    "p_value = norm.cdf(-z_score) + 1 - norm.cdf(z_score)\n",
    "p_value = 2 * (1- norm.cdf(z_score))\n",
    "p_value = 0.0007\n",
    "```\n",
    "\n",
    "$p\\char`_value <= \\alpha$\n",
    "\n",
    "Proportion of users under 30 is not equal to 0.5"
   ]
  },
  {
   "cell_type": "code",
   "execution_count": 135,
   "metadata": {},
   "outputs": [
    {
     "name": "stdout",
     "output_type": "stream",
     "text": [
      "0.44703503936503364\n"
     ]
    }
   ],
   "source": [
    "# Excercise, alternative hypothesis is greater than 6% (right tailed)\n",
    "\n",
    "# Hypothesize that the proportion of late shipments is 6%\n",
    "p_0 = 0.06\n",
    "\n",
    "# Calculate the sample proportion of late shipments\n",
    "p_hat = (late_shipments['late'] == \"Yes\").mean()\n",
    "\n",
    "# Calculate the sample size\n",
    "n = len(late_shipments)\n",
    "\n",
    "# Calculate the numerator and denominator of the test statistic\n",
    "numerator = p_hat - p_0\n",
    "denominator = np.sqrt(p_0 * (1 - p_0) / n)\n",
    "\n",
    "# Calculate the test statistic\n",
    "z_score = numerator / denominator\n",
    "\n",
    "# Calculate the p-value from the z-score\n",
    "p_value = 1 - norm.cdf(z_score)\n",
    "\n",
    "# Print the p-value\n",
    "print(p_value)"
   ]
  },
  {
   "cell_type": "markdown",
   "metadata": {},
   "source": [
    "* While bootstrapping can be used to estimate the standard error of any statistic, it is computationally intensive. For proportions, using a simple equation of the hypothesized proportion and sample size is easier to compute."
   ]
  },
  {
   "cell_type": "markdown",
   "metadata": {},
   "source": [
    "### Two samples\n"
   ]
  },
  {
   "cell_type": "markdown",
   "metadata": {},
   "source": [
    "\n",
    "$H_0: $ Proportion of hobbyist users is the same for those under thirty as those at least thirty **(independence)**\\\n",
    "$H_0: $ $p>=30 - p<30 = 0$\n",
    "\n",
    "$H_1: $ Proportion of hobbyist users is different for those under thirty as those at least thirty **(association)**\\\n",
    "$H_1: $ $p>=30 - p<30 \\not= 0$\n",
    "\n",
    "$\\alpha = 0.05$\n",
    "\n",
    "```py\n",
    "p_hats = stack_overflow.groupby('age_cat')['hobbyist'].value_counts(normalize=True)\n",
    "\n",
    "n = stack_overflow.groupby('age_cat')['hobbyist'].count()\n",
    "\n",
    "p_hat_at_least_30 = p_hats[('At least 30', 'Yes')]\n",
    "p_hat_under_30 = p_hats[('Under 30', 'Yes')]\n",
    "\n",
    "n_at_least_30 = n['At least 30']\n",
    "n_under_30 = n['Under 30']\n",
    "\n",
    "p_hat= (n_at_least_30 * p_hat_at_least_30+ n_under_30* p_hat_under_30) / (n_at_least_30+ n_under_30)\n",
    "std_error = np.sqrt(p_hat* (1-p_hat) / n_at_least 30 + p_hat (1-p_hat) / n_under_30)\n",
    "z_score= (p_hat_at_least_30 - p_hat_under_30) / std_error\n",
    "\n",
    "z_score = -4.2237\n",
    "```\n",
    "\n",
    "It´s easier to do the following, with proportions_ztest():\n",
    "\n",
    "```py\n",
    "stack_overflow.groupby('age_cat')['hobbyist'].value_counts()\n",
    "\n",
    "n_hobbyist = np.array([812, 1021])\n",
    "n_rows = np.array([812 + 238, 1021 + 190])\n",
    "\n",
    "from statsmodels.stats.proportion import proportions_ztest\n",
    "z_score, p_value = proportions_ztest(count=n_hobbyists, nobd=n_rows, alternative='two-sided')\n",
    "\n",
    "#z_score = -4.2236\n",
    "#p_value=2.403e-05\n",
    "```\n",
    "\n",
    "$p < \\alpha$, Reject $H_0$, the proportion is different (so they are associated)"
   ]
  },
  {
   "cell_type": "code",
   "execution_count": 143,
   "metadata": {},
   "outputs": [
    {
     "data": {
      "text/plain": [
       "'\\n# You can calculate a p-value for a two sample proportion test using (a rather exhausting amount of) arithmetic. This tiny p-value leads us to suspect there is a larger proportion of late shipments for expensive freight compared to reasonable freight.\\n\\n# Calculate the pooled estimate of the population proportion\\n#p_hat = (p_hats[\"reasonable\"] * ns[\"reasonable\"] + p_hats[\"expensive\"] * ns[\"expensive\"]) / (ns[\"reasonable\"] + ns[\"expensive\"])\\np_hat = (0.082569*545 + 0.035165*455) / (545+455)\\n\\n# Calculate p_hat one minus p_hat\\np_hat_times_not_p_hat = p_hat * (1 - p_hat)\\n\\n# Divide this by each of the sample sizes and then sum\\np_hat_times_not_p_hat_over_ns = p_hat_times_not_p_hat / ns[\"expensive\"] + p_hat_times_not_p_hat / ns[\"reasonable\"]\\n\\n# Calculate the standard error\\nstd_error = np.sqrt(p_hat_times_not_p_hat_over_ns)\\n\\n# Calculate the z-score\\nz_score = (p_hats[\"expensive\"] - p_hats[\"reasonable\"]) / std_error\\n\\n# Calculate the p-value from the z-score\\np_value = 1 - norm.cdf(z_score)\\n\\n# Print p_value\\n# p_value=0.00090721\\n\\n'"
      ]
     },
     "execution_count": 143,
     "metadata": {},
     "output_type": "execute_result"
    }
   ],
   "source": [
    "# Excercise\n",
    "\n",
    "\"\"\"\n",
    "# You can calculate a p-value for a two sample proportion test using (a rather exhausting amount of) arithmetic. This tiny p-value leads us to suspect there is a larger proportion of late shipments for expensive freight compared to reasonable freight.\n",
    "\n",
    "# Calculate the pooled estimate of the population proportion\n",
    "#p_hat = (p_hats[\"reasonable\"] * ns[\"reasonable\"] + p_hats[\"expensive\"] * ns[\"expensive\"]) / (ns[\"reasonable\"] + ns[\"expensive\"])\n",
    "p_hat = (0.082569*545 + 0.035165*455) / (545+455)\n",
    "\n",
    "# Calculate p_hat one minus p_hat\n",
    "p_hat_times_not_p_hat = p_hat * (1 - p_hat)\n",
    "\n",
    "# Divide this by each of the sample sizes and then sum\n",
    "p_hat_times_not_p_hat_over_ns = p_hat_times_not_p_hat / ns[\"expensive\"] + p_hat_times_not_p_hat / ns[\"reasonable\"]\n",
    "\n",
    "# Calculate the standard error\n",
    "std_error = np.sqrt(p_hat_times_not_p_hat_over_ns)\n",
    "\n",
    "# Calculate the z-score\n",
    "z_score = (p_hats[\"expensive\"] - p_hats[\"reasonable\"]) / std_error\n",
    "\n",
    "# Calculate the p-value from the z-score\n",
    "p_value = 1 - norm.cdf(z_score)\n",
    "\n",
    "# Print p_value\n",
    "# p_value=0.00090721\n",
    "\n",
    "\"\"\""
   ]
  },
  {
   "cell_type": "code",
   "execution_count": 144,
   "metadata": {},
   "outputs": [
    {
     "data": {
      "text/plain": [
       "' \\n# Count the late column values for each freight_cost_group\\nlate_by_freight_cost_group = late_shipments.groupby(\"freight_cost_group\")[\\'late\\'].value_counts()\\n\\n# Create an array of the \"Yes\" counts for each freight_cost_group\\nsuccess_counts = np.array([45, 16])\\n\\n# Create an array of the total number of rows in each freight_cost_group\\nn = np.array([45 + 500, 16 + 439])\\n\\n# Run a z-test on the two proportions\\nstat, p_value = proportions_ztest(count=success_counts, nobs=n,\\n                                  alternative=\"larger\")\\n\\n# Print the results\\nprint(stat, p_value)\\n'"
      ]
     },
     "execution_count": 144,
     "metadata": {},
     "output_type": "execute_result"
    }
   ],
   "source": [
    "\"\"\" \n",
    "# Count the late column values for each freight_cost_group\n",
    "late_by_freight_cost_group = late_shipments.groupby(\"freight_cost_group\")['late'].value_counts()\n",
    "\n",
    "# Create an array of the \"Yes\" counts for each freight_cost_group\n",
    "success_counts = np.array([45, 16])\n",
    "\n",
    "# Create an array of the total number of rows in each freight_cost_group\n",
    "n = np.array([45 + 500, 16 + 439])\n",
    "\n",
    "# Run a z-test on the two proportions\n",
    "stat, p_value = proportions_ztest(count=success_counts, nobs=n,\n",
    "                                  alternative=\"larger\")\n",
    "\n",
    "# Print the results\n",
    "print(stat, p_value)\n",
    "\"\"\"\n",
    "# z_score = 3.1190401865206128 \n",
    "#p_value = 0.0009072060637051224"
   ]
  },
  {
   "cell_type": "markdown",
   "metadata": {},
   "source": [
    "### Chi-square ($\\chi^2$) test "
   ]
  },
  {
   "cell_type": "markdown",
   "metadata": {},
   "source": [
    "Used for more than 2 categories in one of the categorical variables.\n",
    "\n",
    "**NOTE**: Extends proportions tests to more than two groups\n",
    "\n",
    "$\\chi^2$  = $z\\char`_score^2$\n",
    "\n",
    "**Statistical Independence**: Proportion of success in the response variable is the same across all categories of the explanatory variable (When the proportion is the same across all categories)\n",
    "\n",
    "**NOTE**: Like the t-distribution, the chi-square distribution has degrees of freedom and non-centrality parameters. When these numbers are large, the chi-square distribution can be approximated by a normal distribution.\n",
    "\n",
    "```py\n",
    "expected, observed, stats = pingouin.chi2_independence(data=stack_overflow, x='hobyyist', y='age_cat', correction=False)\n",
    "#From the last excercise, we get the same results for the first row (pearson test)\n",
    "```\n",
    "$H_0: $ Age categories are indepedent of job satisfaction levels\\\n",
    "$H_1: $ Age categories are not indepedent of job satisfaction levels (associated)\n",
    "\n",
    "$\\alpha = 0.1$\n",
    "\n",
    "* Age_category with 2 categories\n",
    "* Job_satisfaction with 5 categories (This is why we use ChiSqured instead of proportions)\n",
    "\n",
    "```py\n",
    "props = stack_overflow.groupby('job_sat')['age_cat'].value_counts(normalize=True)\n",
    ">>>\n",
    "job_sat                age_cat    \n",
    "Very dissatisfied      Under 30       0.509434\n",
    "                       At least 30    0.490566\n",
    "Slightly dissatisfied  Under 30       0.532164\n",
    "                       At least 30    0.467836\n",
    "Neither                Under 30       0.567164\n",
    "                       At least 30    0.432836\n",
    "Slightly satisfied     Under 30       0.564706\n",
    "                       At least 30    0.435294\n",
    "Very satisfied         Under 30       0.511945\n",
    "                       At least 30    0.488055\n",
    "Name: age_cat, dtype: float64\n",
    "\n",
    "\n",
    "wide_props = props.unstack()\n",
    ">>>\n",
    "age_cat\tAt least 30\tUnder 30\n",
    "job_sat\t\t\n",
    "Very dissatisfied\t0.490566\t0.509434\n",
    "Slightly dissatisfied\t0.467836\t0.532164\n",
    "Neither\t0.432836\t0.567164\n",
    "Slightly satisfied\t0.435294\t0.564706\n",
    "Very satisfied\t0.488055\t0.511945\n",
    "\n",
    "\n",
    "wide_props.plot(kind='bar', stacked=True)\n",
    "```\n"
   ]
  },
  {
   "cell_type": "code",
   "execution_count": 154,
   "metadata": {},
   "outputs": [
    {
     "data": {
      "text/plain": [
       "<AxesSubplot: xlabel='job_sat'>"
      ]
     },
     "execution_count": 154,
     "metadata": {},
     "output_type": "execute_result"
    },
    {
     "data": {
      "image/png": "[encoded data removed]",
      "text/plain": [
       "<Figure size 640x480 with 1 Axes>"
      ]
     },
     "metadata": {},
     "output_type": "display_data"
    }
   ],
   "source": [
    "props = stack_overflow.groupby('job_sat')['age_cat'].value_counts(normalize=True)\n",
    "wide_props = props.unstack()\n",
    "wide_props.plot(kind='bar', stacked=True)"
   ]
  },
  {
   "cell_type": "code",
   "execution_count": 156,
   "metadata": {},
   "outputs": [
    {
     "name": "stdout",
     "output_type": "stream",
     "text": [
      "                 test    lambda      chi2  dof      pval    cramer     power\n",
      "0             pearson  1.000000  5.552373  4.0  0.235164  0.049555  0.437417\n",
      "1        cressie-read  0.666667  5.554106  4.0  0.235014  0.049563  0.437545\n",
      "2      log-likelihood  0.000000  5.558529  4.0  0.234632  0.049583  0.437871\n",
      "3       freeman-tukey -0.500000  5.562688  4.0  0.234274  0.049601  0.438178\n",
      "4  mod-log-likelihood -1.000000  5.567570  4.0  0.233854  0.049623  0.438538\n",
      "5              neyman -2.000000  5.579519  4.0  0.232828  0.049676  0.439419\n"
     ]
    }
   ],
   "source": [
    "expected, observed, stats = pingouin.chi2_independence(data=stack_overflow, x='job_sat', y='age_cat', correction=False)\n",
    "\n",
    "# Age category is explanatory\n",
    "# Job satisfaction category is response\n",
    "\n",
    "print(stats)"
   ]
  },
  {
   "cell_type": "markdown",
   "metadata": {},
   "source": [
    "$DoF : (No.of Response Categories - 1) * (No. of ExplanatoryCategories - 1)$\\\n",
    "$(2-1)*(5-1) = 4$\n",
    "\n",
    "p = 0.23 > $\\alpha$, so we can conclude that age categories are independent of job satisfaction"
   ]
  },
  {
   "cell_type": "code",
   "execution_count": 158,
   "metadata": {},
   "outputs": [
    {
     "data": {
      "text/plain": [
       "age_cat      job_sat              \n",
       "At least 30  Very satisfied           0.408571\n",
       "             Slightly satisfied       0.281905\n",
       "             Slightly dissatisfied    0.152381\n",
       "             Neither                  0.082857\n",
       "             Very dissatisfied        0.074286\n",
       "Under 30     Very satisfied           0.371594\n",
       "             Slightly satisfied       0.317093\n",
       "             Slightly dissatisfied    0.150289\n",
       "             Neither                  0.094137\n",
       "             Very dissatisfied        0.066887\n",
       "Name: job_sat, dtype: float64"
      ]
     },
     "execution_count": 158,
     "metadata": {},
     "output_type": "execute_result"
    }
   ],
   "source": [
    "#Changing the order\n",
    "\n",
    "stack_overflow.groupby('age_cat')['job_sat'].value_counts(normalize=True)"
   ]
  },
  {
   "cell_type": "code",
   "execution_count": 159,
   "metadata": {},
   "outputs": [
    {
     "name": "stdout",
     "output_type": "stream",
     "text": [
      "                 test    lambda      chi2  dof      pval    cramer     power\n",
      "0             pearson  1.000000  5.552373  4.0  0.235164  0.049555  0.437417\n",
      "1        cressie-read  0.666667  5.554106  4.0  0.235014  0.049563  0.437545\n",
      "2      log-likelihood  0.000000  5.558529  4.0  0.234632  0.049583  0.437871\n",
      "3       freeman-tukey -0.500000  5.562688  4.0  0.234274  0.049601  0.438178\n",
      "4  mod-log-likelihood -1.000000  5.567570  4.0  0.233854  0.049623  0.438538\n",
      "5              neyman -2.000000  5.579519  4.0  0.232828  0.049676  0.439419\n"
     ]
    }
   ],
   "source": [
    "expected, observed, stats = pingouin.chi2_independence(data=stack_overflow, x='age_cat', y='job_sat', correction=False)\n",
    "\n",
    "# Age category is response\n",
    "# Job satisfaction category is explanatory\n",
    "print(stats)"
   ]
  },
  {
   "cell_type": "markdown",
   "metadata": {},
   "source": [
    "Results are identical\n",
    "\n",
    "* Chi-squared tests are almost always right-tailed tests"
   ]
  },
  {
   "cell_type": "code",
   "execution_count": 165,
   "metadata": {},
   "outputs": [
    {
     "name": "stdout",
     "output_type": "stream",
     "text": [
      "      test  lambda       chi2  dof          pval    cramer     power\n",
      "0  pearson     1.0  34.805072  4.0  5.093922e-07  0.186561  0.999235\n"
     ]
    },
    {
     "name": "stderr",
     "output_type": "stream",
     "text": [
      "c:\\Otro\\Anaconda\\envs\\DA\\lib\\site-packages\\pingouin\\contingency.py:150: UserWarning: Low count on observed frequencies.\n",
      "  warnings.warn(\"Low count on {} frequencies.\".format(name))\n",
      "c:\\Otro\\Anaconda\\envs\\DA\\lib\\site-packages\\pingouin\\contingency.py:150: UserWarning: Low count on expected frequencies.\n",
      "  warnings.warn(\"Low count on {} frequencies.\".format(name))\n",
      "c:\\Otro\\Anaconda\\envs\\DA\\lib\\site-packages\\scipy\\stats\\stats.py:6716: RuntimeWarning: divide by zero encountered in power\n",
      "  terms = f_obs * ((f_obs / f_exp)**lambda_ - 1)\n",
      "c:\\Otro\\Anaconda\\envs\\DA\\lib\\site-packages\\scipy\\stats\\stats.py:6716: RuntimeWarning: invalid value encountered in multiply\n",
      "  terms = f_obs * ((f_obs / f_exp)**lambda_ - 1)\n",
      "c:\\Otro\\Anaconda\\envs\\DA\\lib\\site-packages\\scipy\\stats\\stats.py:6713: RuntimeWarning: divide by zero encountered in divide\n",
      "  terms = 2.0 * special.xlogy(f_exp, f_exp / f_obs)\n"
     ]
    }
   ],
   "source": [
    "# Excercise\n",
    "\n",
    "# Proportion of freight_cost_group grouped by vendor_inco_term\n",
    "props = late_shipments.groupby('vendor_inco_term')['freight_cost_groups'].value_counts(normalize=True)\n",
    "\n",
    "# Convert props to wide format\n",
    "wide_props = props.unstack()\n",
    "\n",
    "# Proportional stacked bar plot of freight_cost_group vs. vendor_inco_term\n",
    "#wide_props.plot(kind=\"bar\", stacked=True)\n",
    "#plt.show()\n",
    "\n",
    "# Determine if freight_cost_group and vendor_inco_term are independent\n",
    "expected, observed, stats = pingouin.chi2_independence(data=late_shipments, x='freight_cost_groups', y='vendor_inco_term', correction=False)\n",
    "\n",
    "\n",
    "# Print results\n",
    "print(stats[stats['test'] == 'pearson']) \n",
    "\n",
    "\n",
    "### Reject the null hypothesis and conclude that vendor_inco_term and freight_cost_group are associated"
   ]
  },
  {
   "cell_type": "markdown",
   "metadata": {},
   "source": [
    "### $\\chi^2$ goodness of fit tests"
   ]
  },
  {
   "cell_type": "markdown",
   "metadata": {},
   "source": [
    "It's used to compare a single categorical variable to a hypothesized distribution\n",
    "\n",
    "* The test to compare the proportions of a categorical variable to a hypothesized distribution is called a chi-square goodness of fit test."
   ]
  },
  {
   "cell_type": "code",
   "execution_count": 177,
   "metadata": {},
   "outputs": [
    {
     "data": {
      "text/plain": [
       "Hello, old friend    1225\n",
       "Indifferent           405\n",
       "Amused                368\n",
       "Annoyed               263\n",
       "Name: purple_link, dtype: int64"
      ]
     },
     "execution_count": 177,
     "metadata": {},
     "output_type": "execute_result"
    }
   ],
   "source": [
    "purple_link_counts = stack_overflow['purple_link'].value_counts()\n",
    "purple_link_counts"
   ]
  },
  {
   "cell_type": "code",
   "execution_count": 178,
   "metadata": {},
   "outputs": [
    {
     "data": {
      "text/html": [
       "<div>\n",
       "<style scoped>\n",
       "    .dataframe tbody tr th:only-of-type {\n",
       "        vertical-align: middle;\n",
       "    }\n",
       "\n",
       "    .dataframe tbody tr th {\n",
       "        vertical-align: top;\n",
       "    }\n",
       "\n",
       "    .dataframe thead th {\n",
       "        text-align: right;\n",
       "    }\n",
       "</style>\n",
       "<table border=\"1\" class=\"dataframe\">\n",
       "  <thead>\n",
       "    <tr style=\"text-align: right;\">\n",
       "      <th></th>\n",
       "      <th>purple_link</th>\n",
       "      <th>n</th>\n",
       "    </tr>\n",
       "  </thead>\n",
       "  <tbody>\n",
       "    <tr>\n",
       "      <th>2</th>\n",
       "      <td>Amused</td>\n",
       "      <td>368</td>\n",
       "    </tr>\n",
       "    <tr>\n",
       "      <th>3</th>\n",
       "      <td>Annoyed</td>\n",
       "      <td>263</td>\n",
       "    </tr>\n",
       "    <tr>\n",
       "      <th>0</th>\n",
       "      <td>Hello, old friend</td>\n",
       "      <td>1225</td>\n",
       "    </tr>\n",
       "    <tr>\n",
       "      <th>1</th>\n",
       "      <td>Indifferent</td>\n",
       "      <td>405</td>\n",
       "    </tr>\n",
       "  </tbody>\n",
       "</table>\n",
       "</div>"
      ],
      "text/plain": [
       "         purple_link     n\n",
       "2             Amused   368\n",
       "3            Annoyed   263\n",
       "0  Hello, old friend  1225\n",
       "1        Indifferent   405"
      ]
     },
     "execution_count": 178,
     "metadata": {},
     "output_type": "execute_result"
    }
   ],
   "source": [
    "purple_link_counts = purple_link_counts.rename_axis('purple_link').reset_index(name='n').sort_values('purple_link', ascending=True)\n",
    "purple_link_counts"
   ]
  },
  {
   "cell_type": "code",
   "execution_count": 179,
   "metadata": {},
   "outputs": [
    {
     "data": {
      "text/html": [
       "<div>\n",
       "<style scoped>\n",
       "    .dataframe tbody tr th:only-of-type {\n",
       "        vertical-align: middle;\n",
       "    }\n",
       "\n",
       "    .dataframe tbody tr th {\n",
       "        vertical-align: top;\n",
       "    }\n",
       "\n",
       "    .dataframe thead th {\n",
       "        text-align: right;\n",
       "    }\n",
       "</style>\n",
       "<table border=\"1\" class=\"dataframe\">\n",
       "  <thead>\n",
       "    <tr style=\"text-align: right;\">\n",
       "      <th></th>\n",
       "      <th>purple_link</th>\n",
       "      <th>prop</th>\n",
       "    </tr>\n",
       "  </thead>\n",
       "  <tbody>\n",
       "    <tr>\n",
       "      <th>0</th>\n",
       "      <td>Amused</td>\n",
       "      <td>0.166667</td>\n",
       "    </tr>\n",
       "    <tr>\n",
       "      <th>1</th>\n",
       "      <td>Annoyed</td>\n",
       "      <td>0.166667</td>\n",
       "    </tr>\n",
       "    <tr>\n",
       "      <th>2</th>\n",
       "      <td>Hello, old friend</td>\n",
       "      <td>0.500000</td>\n",
       "    </tr>\n",
       "    <tr>\n",
       "      <th>3</th>\n",
       "      <td>Indifferent</td>\n",
       "      <td>0.166667</td>\n",
       "    </tr>\n",
       "  </tbody>\n",
       "</table>\n",
       "</div>"
      ],
      "text/plain": [
       "         purple_link      prop\n",
       "0             Amused  0.166667\n",
       "1            Annoyed  0.166667\n",
       "2  Hello, old friend  0.500000\n",
       "3        Indifferent  0.166667"
      ]
     },
     "execution_count": 179,
     "metadata": {},
     "output_type": "execute_result"
    }
   ],
   "source": [
    "hypothesized = pd.DataFrame({'purple_link' : ['Amused', 'Annoyed', 'Hello, old friend', 'Indifferent'],\\\n",
    "                                'prop': [1/6,1/6,1/2,1/6]})\n",
    "hypothesized"
   ]
  },
  {
   "cell_type": "markdown",
   "metadata": {},
   "source": [
    "$H_0:$ The sample matches the hypothesized distribution\\\n",
    "$H_1:$ The sample does not match the hypothesized distribution\n",
    "\n",
    "$\\chi^2$, measures how well our hypothesized data fits the observed data.\n",
    "\n",
    "\n",
    "$\\alpha = 0.01$\n"
   ]
  },
  {
   "cell_type": "code",
   "execution_count": 185,
   "metadata": {},
   "outputs": [
    {
     "data": {
      "image/png": "[encoded data removed]",
      "text/plain": [
       "<Figure size 640x480 with 1 Axes>"
      ]
     },
     "metadata": {},
     "output_type": "display_data"
    }
   ],
   "source": [
    "n_total = len(stack_overflow)\n",
    "hypothesized['n'] = hypothesized['prop'] * n_total\n",
    "\n",
    "plt.bar(purple_link_counts['purple_link'], purple_link_counts['n'], color='red', label='Observed')\n",
    "plt.bar(hypothesized['purple_link'], hypothesized['n'], alpha=0.4 ,color='blue', label='Hypothesized')\n",
    "plt.legend()\n",
    "plt.show()"
   ]
  },
  {
   "cell_type": "code",
   "execution_count": 187,
   "metadata": {},
   "outputs": [
    {
     "data": {
      "text/plain": [
       "Power_divergenceResult(statistic=44.59840778416629, pvalue=1.1261810719413759e-09)"
      ]
     },
     "execution_count": 187,
     "metadata": {},
     "output_type": "execute_result"
    }
   ],
   "source": [
    "chisquare(f_obs=purple_link_counts['n'], f_exp=hypothesized['n'])"
   ]
  },
  {
   "cell_type": "markdown",
   "metadata": {},
   "source": [
    "$p < \\alpha$, so we conclude that the sample distribution of proportion is different from the hypothesized distribution.\n"
   ]
  },
  {
   "cell_type": "markdown",
   "metadata": {},
   "source": [
    "\n",
    "```py \n",
    "#Excercise (hypothesized df not generated for this excercise)\n",
    "\n",
    "#Find the number of rows in late_shipments\n",
    "n_total = len(late_shipments)\n",
    "\n",
    "#Create n column that is prop column * n_total\n",
    "hypothesized[\"n\"] = hypothesized[\"prop\"] * n_total\n",
    "\n",
    "#Plot a red bar graph of n vs. vendor_inco_term for incoterm_counts\n",
    "plt.bar(incoterm_counts['vendor_inco_term'], incoterm_counts['n'], color=\"red\", label=\"Observed\")\n",
    "\n",
    "#Add a blue bar plot for the hypothesized counts\n",
    "plt.bar(hypothesized['vendor_inco_term'],hypothesized['n'], label=\"Hypothesized\", alpha=0.5, color='blue')\n",
    "plt.legend()\n",
    "plt.show()\n",
    "```\n"
   ]
  },
  {
   "cell_type": "markdown",
   "metadata": {},
   "source": [
    "\n",
    "NOTE: Two of the bars in the sample are very close to the hypothesized values: one is a little high and one is a little low. Head on over to the next exercise to test if these differences are statistically significant."
   ]
  },
  {
   "cell_type": "markdown",
   "metadata": {},
   "source": [
    "---\n",
    "\n",
    "## Non-parametric Tests"
   ]
  },
  {
   "cell_type": "markdown",
   "metadata": {},
   "source": [
    "It's important to consider these assumptions:\n",
    "\n",
    "1. Randomness\n",
    "\n",
    "2. Independence\n",
    "\n",
    "    All hypothesis tests assume that the data are collected at random from the population, that each row is independent of the others, and that the sample size is \"big enough\".\n",
    "\n",
    "3. Sample size\n",
    "\n",
    "    Two sample t-tests; both n > 30\\\n",
    "One sample proportion test, p > 10\\\n",
    "Chi square independence tests, n > 5\\\n",
    "ANOVA test, n > 30\n",
    "\n",
    "### Parametric tests\n",
    "- z-test\n",
    "- t-test\n",
    "- ANOVA\n",
    "\n",
    "These tests:\n",
    "* Assume a normal distribution\n",
    "* Need sufficiently large sample sizes\n"
   ]
  },
  {
   "cell_type": "markdown",
   "metadata": {},
   "source": [
    "\n",
    "### Non-parametric tests\n",
    "\n",
    "* Avoid parametric assumptions and conditions\n",
    "* It can be used when the size of the data is small or it cannot be assumed to be normally distributed\n"
   ]
  },
  {
   "cell_type": "code",
   "execution_count": 12,
   "metadata": {},
   "outputs": [
    {
     "data": {
      "text/plain": [
       "array([1., 5., 2., 4., 3.])"
      ]
     },
     "execution_count": 12,
     "metadata": {},
     "output_type": "execute_result"
    }
   ],
   "source": [
    "from scipy.stats import rankdata\n",
    "\n",
    "x = [1,15,3,10,6]\n",
    "rankdata(x)"
   ]
  },
  {
   "cell_type": "markdown",
   "metadata": {},
   "source": [
    "We will use de Wilcox-signed rank test\n",
    "* Works on the ranked absoulte differences betweem the pairs of data\n",
    "* The Wilcoxon signed-rank test works well when the assumptions of a paired t-test aren't met.\n",
    "\n",
    "1. Create a Diff column\n",
    "2. Get the absolute value\n",
    "3. Rank the absolute_difference column\n",
    "4. Calculating a tests statistic called W\n",
    "    * Incorporate the sum of the ranks for negative and positive differences\n",
    "\n",
    "```py\n",
    "T_mins = a+b+c\n",
    "T_plus = 0\n",
    "\n",
    "W = np.min([T_minus, T_plus])\n",
    "#W = 0\n",
    "\n",
    "#OR\n",
    "\n",
    "alpha=0.01\n",
    "\n",
    "pingouin.wilcoxon(x=series_x, y=series_y, alternative = 'less')\n",
    "```\n",
    "\n",
    "$p > \\alpha$ (Fail to reject $H_0$), there's no evidence that y percentages are smaller than x percentages. No significance difference."
   ]
  },
  {
   "cell_type": "code",
   "execution_count": 18,
   "metadata": {},
   "outputs": [
    {
     "name": "stdout",
     "output_type": "stream",
     "text": [
      "08:  58.06312281891949\n",
      "12:  60.940231860162406\n",
      "               T  dof alternative         p-val          CI95%   cohen-d  \\\n",
      "T-test -5.601043   99        less  9.572537e-08  [-inf, -2.02]  0.217364   \n",
      "\n",
      "             BF10     power  \n",
      "T-test  1.323e+05  0.696338  \n"
     ]
    }
   ],
   "source": [
    "#Excercise\n",
    "\n",
    "# Conduct a paired t-test on dem_percent_12 and dem_percent_16\n",
    "paired_test_results = pingouin.ttest(x=sample_dem_data['repub_percent_08'], y=sample_dem_data['repub_percent_12'], paired=True, alternative= 'less') \n",
    "\n",
    "print('08: ', sample_dem_data['repub_percent_08'].mean())\n",
    "print('12: ', sample_dem_data['repub_percent_12'].mean())\n",
    "\n",
    "# Print paired t-test results\n",
    "print(paired_test_results)\n",
    "\n",
    "\n",
    "# Reject H0, percentage in 08 is less than percentage in 2012"
   ]
  },
  {
   "cell_type": "markdown",
   "metadata": {},
   "source": [
    "### Non-parametric ANOVA and unpaired t-tests"
   ]
  },
  {
   "cell_type": "markdown",
   "metadata": {},
   "source": [
    "The Wilcoxon-Mann-Whitney test is a t-test in ranked data.\n",
    "\n",
    "* Also known as the Mann Whitney U test\n",
    "* A t-test on the ranks of unmeric input\n",
    "* Works on unpaired data\n",
    "* It works on wide format"
   ]
  },
  {
   "cell_type": "code",
   "execution_count": 28,
   "metadata": {},
   "outputs": [
    {
     "data": {
      "text/html": [
       "<div>\n",
       "<style scoped>\n",
       "    .dataframe tbody tr th:only-of-type {\n",
       "        vertical-align: middle;\n",
       "    }\n",
       "\n",
       "    .dataframe tbody tr th {\n",
       "        vertical-align: top;\n",
       "    }\n",
       "\n",
       "    .dataframe thead th {\n",
       "        text-align: right;\n",
       "    }\n",
       "</style>\n",
       "<table border=\"1\" class=\"dataframe\">\n",
       "  <thead>\n",
       "    <tr style=\"text-align: right;\">\n",
       "      <th>age_first_code_cut</th>\n",
       "      <th>adult</th>\n",
       "      <th>child</th>\n",
       "    </tr>\n",
       "  </thead>\n",
       "  <tbody>\n",
       "    <tr>\n",
       "      <th>0</th>\n",
       "      <td>77556.0</td>\n",
       "      <td>NaN</td>\n",
       "    </tr>\n",
       "    <tr>\n",
       "      <th>1</th>\n",
       "      <td>NaN</td>\n",
       "      <td>74970.0</td>\n",
       "    </tr>\n",
       "    <tr>\n",
       "      <th>2</th>\n",
       "      <td>NaN</td>\n",
       "      <td>594539.0</td>\n",
       "    </tr>\n",
       "    <tr>\n",
       "      <th>3</th>\n",
       "      <td>2000000.0</td>\n",
       "      <td>NaN</td>\n",
       "    </tr>\n",
       "    <tr>\n",
       "      <th>4</th>\n",
       "      <td>37816.0</td>\n",
       "      <td>NaN</td>\n",
       "    </tr>\n",
       "  </tbody>\n",
       "</table>\n",
       "</div>"
      ],
      "text/plain": [
       "age_first_code_cut      adult     child\n",
       "0                     77556.0       NaN\n",
       "1                         NaN   74970.0\n",
       "2                         NaN  594539.0\n",
       "3                   2000000.0       NaN\n",
       "4                     37816.0       NaN"
      ]
     },
     "execution_count": 28,
     "metadata": {},
     "output_type": "execute_result"
    }
   ],
   "source": [
    "ags_vs_comp = stack_overflow[['converted_comp','age_first_code_cut']]\n",
    "age_vs_comp_wide = ags_vs_comp.pivot(columns = 'age_first_code_cut', values='converted_comp') #Doesn't aggregate, return raw values\n",
    "age_vs_comp_wide.head()"
   ]
  },
  {
   "cell_type": "code",
   "execution_count": 29,
   "metadata": {},
   "outputs": [
    {
     "data": {
      "text/html": [
       "<div>\n",
       "<style scoped>\n",
       "    .dataframe tbody tr th:only-of-type {\n",
       "        vertical-align: middle;\n",
       "    }\n",
       "\n",
       "    .dataframe tbody tr th {\n",
       "        vertical-align: top;\n",
       "    }\n",
       "\n",
       "    .dataframe thead th {\n",
       "        text-align: right;\n",
       "    }\n",
       "</style>\n",
       "<table border=\"1\" class=\"dataframe\">\n",
       "  <thead>\n",
       "    <tr style=\"text-align: right;\">\n",
       "      <th></th>\n",
       "      <th>U-val</th>\n",
       "      <th>alternative</th>\n",
       "      <th>p-val</th>\n",
       "      <th>RBC</th>\n",
       "      <th>CLES</th>\n",
       "    </tr>\n",
       "  </thead>\n",
       "  <tbody>\n",
       "    <tr>\n",
       "      <th>MWU</th>\n",
       "      <td>744365.5</td>\n",
       "      <td>greater</td>\n",
       "      <td>1.902723e-19</td>\n",
       "      <td>-0.222516</td>\n",
       "      <td>0.611258</td>\n",
       "    </tr>\n",
       "  </tbody>\n",
       "</table>\n",
       "</div>"
      ],
      "text/plain": [
       "        U-val alternative         p-val       RBC      CLES\n",
       "MWU  744365.5     greater  1.902723e-19 -0.222516  0.611258"
      ]
     },
     "execution_count": 29,
     "metadata": {},
     "output_type": "execute_result"
    }
   ],
   "source": [
    "alpha = 0.01\n",
    "\n",
    "pingouin.mwu(x=age_vs_comp_wide['child'], y=age_vs_comp_wide['adult'], alternative = 'greater')\n",
    "\n",
    "#Those who started coding as childs, have a higher income than thouse who started as adults\n",
    "\n",
    "#p<alpha"
   ]
  },
  {
   "cell_type": "markdown",
   "metadata": {},
   "source": [
    "Kruskal-Wallis test extends the Wilcoxon test to more than two groups.\n",
    "\n",
    "K-W is to W-M-W test as ANOVA is to t-test"
   ]
  },
  {
   "cell_type": "code",
   "execution_count": 31,
   "metadata": {},
   "outputs": [
    {
     "data": {
      "text/html": [
       "<div>\n",
       "<style scoped>\n",
       "    .dataframe tbody tr th:only-of-type {\n",
       "        vertical-align: middle;\n",
       "    }\n",
       "\n",
       "    .dataframe tbody tr th {\n",
       "        vertical-align: top;\n",
       "    }\n",
       "\n",
       "    .dataframe thead th {\n",
       "        text-align: right;\n",
       "    }\n",
       "</style>\n",
       "<table border=\"1\" class=\"dataframe\">\n",
       "  <thead>\n",
       "    <tr style=\"text-align: right;\">\n",
       "      <th></th>\n",
       "      <th>Source</th>\n",
       "      <th>ddof1</th>\n",
       "      <th>H</th>\n",
       "      <th>p-unc</th>\n",
       "    </tr>\n",
       "  </thead>\n",
       "  <tbody>\n",
       "    <tr>\n",
       "      <th>Kruskal</th>\n",
       "      <td>job_sat</td>\n",
       "      <td>4</td>\n",
       "      <td>72.814939</td>\n",
       "      <td>5.772915e-15</td>\n",
       "    </tr>\n",
       "  </tbody>\n",
       "</table>\n",
       "</div>"
      ],
      "text/plain": [
       "          Source  ddof1          H         p-unc\n",
       "Kruskal  job_sat      4  72.814939  5.772915e-15"
      ]
     },
     "execution_count": 31,
     "metadata": {},
     "output_type": "execute_result"
    }
   ],
   "source": [
    "alpha = 0.01\n",
    "\n",
    "pingouin.kruskal(data=stack_overflow, dv = 'converted_comp', between='job_sat')"
   ]
  },
  {
   "cell_type": "markdown",
   "metadata": {},
   "source": [
    "$p < \\alpha$ (Reject $H_0$), there is at least one of the mean compensation totals, is different than the others across these five job satisfaction groups."
   ]
  },
  {
   "cell_type": "code",
   "execution_count": 33,
   "metadata": {},
   "outputs": [
    {
     "name": "stdout",
     "output_type": "stream",
     "text": [
      "       U-val alternative     p-val       RBC      CLES\n",
      "MWU  19134.0   two-sided  0.000014  0.331902  0.334049\n"
     ]
    }
   ],
   "source": [
    "#_Excercise\n",
    "\n",
    "# Select the weight_kilograms and late columns\n",
    "weight_vs_late = late_shipments[['weight_kilograms','late']]\n",
    "\n",
    "# Convert weight_vs_late into wide format\n",
    "weight_vs_late_wide = weight_vs_late.pivot(columns='late', \n",
    "                                           values='weight_kilograms')\n",
    "\n",
    "\n",
    "# Run a two-sided Wilcoxon-Mann-Whitney test on weight_kilograms vs. late\n",
    "wmw_test = pingouin.mwu(x=weight_vs_late_wide['No'], y=weight_vs_late_wide['Yes'], alternative = 'two-sided')\n",
    "\n",
    "\n",
    "\n",
    "# Print the test results\n",
    "print(wmw_test)"
   ]
  },
  {
   "cell_type": "markdown",
   "metadata": {},
   "source": [
    " The small p-value here leads us to suspect that a difference does exist in the weight of the shipment and whether or not it was late. The Wilcoxon-Mann-Whitney test is useful when you cannot satisfy the assumptions for a parametric test comparing two means, like the t-test."
   ]
  },
  {
   "cell_type": "code",
   "execution_count": 35,
   "metadata": {},
   "outputs": [
    {
     "name": "stdout",
     "output_type": "stream",
     "text": [
      "                Source  ddof1           H         p-unc\n",
      "Kruskal  shipment_mode      2  125.096618  6.848799e-28\n"
     ]
    }
   ],
   "source": [
    "# Run a Kruskal-Wallis test on weight_kilograms vs. shipment_mode\n",
    "kw_test = pingouin.kruskal(data=late_shipments, dv = 'weight_kilograms', between='shipment_mode')\n",
    "\n",
    "# Print the results\n",
    "print(kw_test)"
   ]
  },
  {
   "cell_type": "markdown",
   "metadata": {},
   "source": [
    "The Kruskal-Wallis test yielded a very small p-value, so there is evidence that at least one of the three groups of shipment mode has a different weight distribution than the others. Th Kruskal-Wallis test is comparable to an ANOVA, which tests for a difference in means across multiple groups."
   ]
  }
 ],
 "metadata": {
  "kernelspec": {
   "display_name": "Python 3.9.13 ('DA')",
   "language": "python",
   "name": "python3"
  },
  "language_info": {
   "codemirror_mode": {
    "name": "ipython",
    "version": 3
   },
   "file_extension": ".py",
   "mimetype": "text/x-python",
   "name": "python",
   "nbconvert_exporter": "python",
   "pygments_lexer": "ipython3",
   "version": "3.9.13"
  },
  "orig_nbformat": 4,
  "vscode": {
   "interpreter": {
    "hash": "6dcf52c436a66bee5087dd13126a22f0c034fb2d7966b4a1f0c2c90c7577b132"
   }
  }
 },
 "nbformat": 4,
 "nbformat_minor": 2
}
