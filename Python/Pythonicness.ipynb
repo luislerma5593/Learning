{
 "cells": [
  {
   "cell_type": "markdown",
   "metadata": {},
   "source": [
    "# Python\n"
   ]
  },
  {
   "cell_type": "markdown",
   "metadata": {},
   "source": [
    "\n",
    "---\n"
   ]
  },
  {
   "cell_type": "markdown",
   "metadata": {},
   "source": [
    "# Pythonicness\n",
    "\n",
    "Python Enhancement Proposals (PEP) are suggestions for improvements to the language, made by experienced Python developers.\n",
    "PEP 8 is a style guide on the subject of writing readable code. It contains a number of guidelines in reference to variable names, which are summarized here:\n",
    "- modules should have short, all-lowercase names;\n",
    "- class names should be in the CapWords style;\n",
    "- most variables and function names should be lowercase_with_underscores;\n",
    "- constants (variables that never change value) should be CAPS_WITH_UNDERSCORES;\n",
    "- names that would clash with Python keywords (such as 'class' or 'if') should have a trailing underscore.\n",
    "\n",
    "PEP 8 also recommends using spaces around operators and after commas to increase readability.\n",
    "\n",
    "Other PEP 8 suggestions include the following:\n",
    "- lines shouldn't be longer than 80 characters;\n",
    "- 'from module import *' should be avoided;\n",
    "- there should only be one statement per line.\n",
    "\n",
    "It also suggests that you use spaces, rather than tabs, to indent. However, to some extent, this is a matter of personal preference. If you use spaces, only use 4 per line. It's more important to choose one and stick to it.\n",
    "\n",
    "The most important advice in the PEP is to ignore it when it makes sense to do so. Don't bother with following PEP suggestions when it would cause your code to be less readable; inconsistent with the surrounding code; or not backwards compatible.\n",
    "However, by and large, following PEP 8 will greatly enhance the quality of your code."
   ]
  },
  {
   "cell_type": "markdown",
   "metadata": {},
   "source": [
    "## Function Arguments\n",
    "\n",
    "Python allows to have function with varying number of arguments.\n",
    "Using *args as a function parameter enables you to pass an arbitrary number of arguments to that function. The arguments are then accessible as the tuple args in the body of the function.\n",
    "Example:"
   ]
  },
  {
   "cell_type": "code",
   "execution_count": 1,
   "metadata": {},
   "outputs": [
    {
     "name": "stdout",
     "output_type": "stream",
     "text": [
      "1\n",
      "(2, 3, 4, 5)\n"
     ]
    }
   ],
   "source": [
    "def function(named_arg, *args):\n",
    "    print(named_arg)\n",
    "    print(args)\n",
    "\n",
    "function(1, 2, 3, 4, 5)"
   ]
  },
  {
   "cell_type": "markdown",
   "metadata": {},
   "source": [
    "Given a function that takes 2 arguments and returns their sum.\n",
    "But we get an error when we want to sum more than 2 numbers. Change the function and complete the code so that the function sums as many numbers as are input."
   ]
  },
  {
   "cell_type": "code",
   "execution_count": 2,
   "metadata": {},
   "outputs": [
    {
     "name": "stdout",
     "output_type": "stream",
     "text": [
      "5\n",
      "9\n",
      "15\n"
     ]
    }
   ],
   "source": [
    "#change the function\n",
    "def adder(x, *y):\n",
    "    n = 0\n",
    "    for i in y:\n",
    "        n+=i\n",
    "    n+=x\n",
    "    print(n)\n",
    "\n",
    "adder(2, 3)\n",
    "adder(2, 3, 4)\n",
    "adder(1, 2, 3, 4, 5)"
   ]
  },
  {
   "cell_type": "markdown",
   "metadata": {},
   "source": [
    "## Default Values\n",
    "\n",
    "\n",
    "Named parameters to a function can be made optional by giving them a default value.\n",
    "These must come after named parameters without a default value.\n",
    "\n",
    "Example:"
   ]
  },
  {
   "cell_type": "code",
   "execution_count": 4,
   "metadata": {},
   "outputs": [
    {
     "name": "stdout",
     "output_type": "stream",
     "text": [
      "spam\n",
      "egg\n"
     ]
    }
   ],
   "source": [
    "#In case the argument is passed in, the default value is ignored.\n",
    "#If the argument is not passed in, the default value is used.\n",
    "\n",
    "def function(x, y, food=\"spam\"):\n",
    "    print(food)\n",
    "\n",
    "function(1, 2)\n",
    "function(3, 4, \"egg\")"
   ]
  },
  {
   "cell_type": "markdown",
   "metadata": {},
   "source": [
    "## Function Arguments\n",
    "\n",
    "\n",
    "**kwargs (standing for keyword arguments) allows you to handle named arguments that you have not defined in advance.\n",
    "\n",
    "The keyword arguments return a dictionary in which the keys are the argument names, and the values are the argument values.\n",
    "Example:"
   ]
  },
  {
   "cell_type": "code",
   "execution_count": 6,
   "metadata": {},
   "outputs": [
    {
     "name": "stdout",
     "output_type": "stream",
     "text": [
      "(4, 5, 6)\n",
      "{'a': 7, 'b': 8}\n"
     ]
    }
   ],
   "source": [
    "def my_func(x, y=7, *args, **kwargs):\n",
    "    print(args)\n",
    "    print(kwargs)\n",
    "\n",
    "my_func(2, 3, 4, 5, 6, a=7, b=8)"
   ]
  },
  {
   "cell_type": "markdown",
   "metadata": {},
   "source": [
    "## Tuple Unpacking\n",
    "\n",
    "\n",
    "Tuple unpacking allows you to assign each item in an iterable (often a tuple) to a variable.\n",
    "\n",
    "Example:"
   ]
  },
  {
   "cell_type": "code",
   "execution_count": 7,
   "metadata": {},
   "outputs": [
    {
     "name": "stdout",
     "output_type": "stream",
     "text": [
      "1\n",
      "2\n",
      "3\n"
     ]
    }
   ],
   "source": [
    "numbers = (1, 2, 3)\n",
    "a, b, c = numbers\n",
    "print(a)\n",
    "print(b)\n",
    "print(c)"
   ]
  },
  {
   "cell_type": "markdown",
   "metadata": {},
   "source": [
    "A variable that is prefaced with an asterisk (*) takes all values from the iterable that are left over from the other variables.\n",
    "\n",
    "Example:\n"
   ]
  },
  {
   "cell_type": "code",
   "execution_count": 8,
   "metadata": {},
   "outputs": [
    {
     "name": "stdout",
     "output_type": "stream",
     "text": [
      "1\n",
      "2\n",
      "[3, 4, 5, 6, 7, 8]\n",
      "9\n"
     ]
    }
   ],
   "source": [
    "a, b, *c, d = [1, 2, 3, 4, 5, 6, 7, 8, 9]\n",
    "print(a)\n",
    "print(b)\n",
    "print(c)\n",
    "print(d)"
   ]
  },
  {
   "cell_type": "code",
   "execution_count": 14,
   "metadata": {},
   "outputs": [
    {
     "name": "stdout",
     "output_type": "stream",
     "text": [
      "[4, 5, 6, 7, 8, 9, 10, 11, 12, 13, 14, 15, 16, 17]\n"
     ]
    }
   ],
   "source": [
    "a, b, c, d, *e, f, g = range(20)\n",
    "print(e)"
   ]
  },
  {
   "cell_type": "markdown",
   "metadata": {},
   "source": [
    "## Ternary Operator\n",
    "\n",
    "Conditional expressions provide the functionality of if statements while using less code. They shouldn't be overused, as they can easily reduce readability, but they are often useful when assigning variables.\n",
    "\n",
    "Conditional expressions are also known as applications of the ternary operator.\n",
    "\n",
    "Example:"
   ]
  },
  {
   "cell_type": "code",
   "execution_count": 15,
   "metadata": {},
   "outputs": [
    {
     "name": "stdout",
     "output_type": "stream",
     "text": [
      "1\n"
     ]
    }
   ],
   "source": [
    "a = 7\n",
    "b = 1 if a >= 5 else 42\n",
    "print(b)"
   ]
  },
  {
   "cell_type": "code",
   "execution_count": 17,
   "metadata": {},
   "outputs": [
    {
     "name": "stdout",
     "output_type": "stream",
     "text": [
      "Error\n"
     ]
    }
   ],
   "source": [
    "#The bank wants to set a minimal value of $500 for withdrawal. \n",
    "#Modernize the program so that it will output the same \"Error\" if the requested money is less than $500.\n",
    "\n",
    "balance = 4500\n",
    "to_cash = 300\n",
    "\n",
    "#change the code\n",
    "money_left = balance-to_cash if (to_cash >= 500 and balance > to_cash) else \"Error\"\n",
    "\n",
    "print(money_left)"
   ]
  },
  {
   "cell_type": "markdown",
   "metadata": {},
   "source": [
    "## Else \n",
    "\n",
    "The else statement is most commonly used along with the if statement, but it can also follow a for or while loop, which gives it a different meaning.\n",
    "With the for or while loop, the code within it is called if the loop finishes normally (when a break statement does not cause an exit from the loop).\n",
    "\n",
    "Example:"
   ]
  },
  {
   "cell_type": "code",
   "execution_count": 18,
   "metadata": {},
   "outputs": [
    {
     "name": "stdout",
     "output_type": "stream",
     "text": [
      "Unbroken 1\n"
     ]
    }
   ],
   "source": [
    "for i in range(10):\n",
    "    if i == 999:\n",
    "        break\n",
    "else:\n",
    "    print(\"Unbroken 1\")\n",
    "\n",
    "for i in range(6):\n",
    "    if i == 5:\n",
    "        break\n",
    "else:\n",
    "    print(\"Unbroken 2\")"
   ]
  },
  {
   "cell_type": "markdown",
   "metadata": {},
   "source": [
    "The carousel is designed for 3 people who are each at least 16 years old.\n",
    "You are given a program that takes all 3 passengers' ages as inputs and inserts them in a list.\n",
    "\n",
    "Complete the program so that if it finds a value less than 16, it breaks the loop and outputs \"Too young!\".\n",
    "\n",
    "If the age requirement is satisfied, the program outputs \"Get ready!\"."
   ]
  },
  {
   "cell_type": "code",
   "execution_count": 24,
   "metadata": {},
   "outputs": [
    {
     "name": "stdout",
     "output_type": "stream",
     "text": [
      "Get ready!\n"
     ]
    }
   ],
   "source": [
    "\n",
    "ages = []\n",
    "i = 0\n",
    "while i<3:\n",
    "   age = int(input())\n",
    "   if age < 16:\n",
    "      print(\"Too young!\")\n",
    "      break\n",
    "   ages.append(age)\n",
    "   i+=1\n",
    "   \n",
    "   \n",
    "else:\n",
    "   print(\"Get ready!\")"
   ]
  },
  {
   "cell_type": "markdown",
   "metadata": {},
   "source": [
    "The else statement can also be used with try/except statements.\n",
    "In this case, the code within it is only executed if no error occurs in the try statement.\n",
    "\n",
    "Example:"
   ]
  },
  {
   "cell_type": "code",
   "execution_count": 19,
   "metadata": {},
   "outputs": [
    {
     "name": "stdout",
     "output_type": "stream",
     "text": [
      "1\n",
      "3\n",
      "4\n"
     ]
    }
   ],
   "source": [
    "try:\n",
    "    print(1)\n",
    "except ZeroDivisionError:\n",
    "    print(2)\n",
    "else:\n",
    "    print(3)\n",
    "\n",
    "try:\n",
    "    print(1/0)\n",
    "except ZeroDivisionError:\n",
    "    print(4)\n",
    "else:\n",
    "    print(5)"
   ]
  },
  {
   "cell_type": "markdown",
   "metadata": {},
   "source": [
    "To order a restaurant dish online, the user should enter the code of desired dish, which contains only digits. Write a program that will take the code as input, and output \"Enter only digits\" if it contains non-digit symbols, and output \"Order accepted\" if it doesn't.\n",
    "\n",
    "If the ordering process went well, the program also should output \"Bon appetit\"."
   ]
  },
  {
   "cell_type": "code",
   "execution_count": 20,
   "metadata": {},
   "outputs": [
    {
     "name": "stdout",
     "output_type": "stream",
     "text": [
      "Order accepted\n",
      "Bon appetit\n"
     ]
    }
   ],
   "source": [
    "code = 462\n",
    "\n",
    "#your code goes here\n",
    "try: \n",
    "    code =int(code)\n",
    "    print(\"Order accepted\")\n",
    "\t\n",
    "except: \n",
    "    print(\"Enter only digits\")\n",
    "\t\n",
    "else:\n",
    "    print(\"Bon appetit\")\n",
    "\t"
   ]
  },
  {
   "cell_type": "code",
   "execution_count": 22,
   "metadata": {},
   "outputs": [
    {
     "name": "stdout",
     "output_type": "stream",
     "text": [
      "1\n",
      "50\n",
      "3\n"
     ]
    }
   ],
   "source": [
    "try:\n",
    "  print(1)\n",
    "  print(50)\n",
    "  print(1 + \"1\" == 2)\n",
    "  print(2)\n",
    "except TypeError:\n",
    "  print(3)\n",
    "else:\n",
    "  print(4)\n"
   ]
  },
  {
   "cell_type": "markdown",
   "metadata": {},
   "source": [
    "## `__main__`\n",
    "\n",
    "`Most Python code is either a module to be imported, or a script that does something.\n",
    "However, sometimes it is useful to make a file that can be both imported as a module and run as a script.\n",
    "To do this, place script code inside if __name__ == \"__main__\".\n",
    "This ensures that it won't be run if the file is imported.`\n",
    "\n",
    "Example:"
   ]
  },
  {
   "cell_type": "code",
   "execution_count": 23,
   "metadata": {},
   "outputs": [
    {
     "name": "stdout",
     "output_type": "stream",
     "text": [
      "This is a script\n"
     ]
    }
   ],
   "source": [
    "def function():\n",
    "    print(\"This is a module function\")\n",
    "\n",
    "if __name__==\"__main__\":\n",
    "    print(\"This is a script\")"
   ]
  },
  {
   "cell_type": "markdown",
   "metadata": {},
   "source": [
    "## Packaging\n",
    "\n",
    "\n",
    "In Python, the term packaging refers to putting modules you have written in a standard format, so that other programmers can install and use them with ease.\n",
    "\n",
    "This involves use of the modules setuptools and distutils.\n",
    "\n",
    "The first step in packaging is to organize existing files correctly. Place all of the files you want to put in a library in the same parent directory. This directory should also contain a file called __init__.py, which can be blank but must be present in the directory.\n",
    "\n",
    "This directory goes into another directory containing the readme and license, as well as an important file called setup.py.\n",
    "\n",
    "Example directory structure:\n",
    "\n",
    "```txt\n",
    "SoloLearn/\n",
    "   LICENSE.txt\n",
    "   README.txt\n",
    "   setup.py\n",
    "   sololearn/\n",
    "      __init__.py\n",
    "      sololearn.py\n",
    "      sololearn2.py\n",
    "```"
   ]
  },
  {
   "cell_type": "markdown",
   "metadata": {},
   "source": [
    "The next step in packaging is to write the setup.py file.\n",
    "This contains information necessary to assemble the package so it can be uploaded to PyPI and installed with pip (name, version, etc.).\n",
    "Example of a setup.py file:\n",
    "from distutils.core import setup\n",
    "\n",
    "```txt\n",
    "setup(\n",
    "   name='SoloLearn', \n",
    "   version='0.1dev',\n",
    "   packages=['sololearn',],\n",
    "   license='MIT', \n",
    "   long_description=open('README.txt').read(),\n",
    ")\n",
    "```\n",
    "\n",
    "After creating the setup.py file, upload it to PyPI, or use the command line to create a binary distribution (an executable installer).\n",
    "\n",
    "To build a source distribution, use the command line to navigate to the directory containing setup.py, and run the command python setup.py sdist.\n",
    "\n",
    "Run python setup.py bdist or, for Windows, python setup.py bdist_wininst to build a binary distribution.\n",
    "\n",
    "Use python setup.py register, followed by python setup.py sdist upload to upload a package."
   ]
  },
  {
   "cell_type": "code",
   "execution_count": 25,
   "metadata": {},
   "outputs": [
    {
     "name": "stdout",
     "output_type": "stream",
     "text": [
      "1\n",
      "2\n",
      "2\n",
      "2\n",
      "2\n"
     ]
    }
   ],
   "source": [
    "for i in range(10):\n",
    "  try: \n",
    "    if 10 / i == 2.0:\n",
    "      break\n",
    "  except ZeroDivisionError:\n",
    "    print(1)\n",
    "  else:\n",
    "    print(2)\n"
   ]
  },
  {
   "cell_type": "markdown",
   "metadata": {},
   "source": [
    "### Adding Words\n",
    "\n",
    "\n",
    "You need to write a function that takes multiple words as its argument and returns a concatenated version of those words separated by dashes (-).\n",
    "The function should be able to take a varying number of words as the argument.\n",
    "```\n",
    "Sample Input:\n",
    "this\n",
    "is\n",
    "great\n",
    "\n",
    "Sample Output:\n",
    "this-is-great\n",
    "```"
   ]
  },
  {
   "cell_type": "code",
   "execution_count": 39,
   "metadata": {},
   "outputs": [
    {
     "name": "stdout",
     "output_type": "stream",
     "text": [
      "I-love-Python-!\n"
     ]
    }
   ],
   "source": [
    "def concatenate(*args):\n",
    "    sentence = \"\"\n",
    "    leng = len(args)\n",
    "    counter = 0\n",
    "\n",
    "    for i in args:\n",
    "        \n",
    "        if counter+1  != leng:\n",
    "            sentence = sentence + i + \"-\"\n",
    "        else:\n",
    "            sentence = sentence + i\n",
    "    \n",
    "        counter+=1\n",
    "        \n",
    "    return sentence\n",
    "    \n",
    "\n",
    "print(concatenate(\"I\", \"love\", \"Python\", \"!\"))"
   ]
  }
 ],
 "metadata": {
  "interpreter": {
   "hash": "192db11f4a283dfb72c9a28270d6005d70bac600bfa80864abc454becfc49247"
  },
  "kernelspec": {
   "display_name": "Python 3.9.6 64-bit",
   "name": "python3"
  },
  "language_info": {
   "codemirror_mode": {
    "name": "ipython",
    "version": 3
   },
   "file_extension": ".py",
   "mimetype": "text/x-python",
   "name": "python",
   "nbconvert_exporter": "python",
   "pygments_lexer": "ipython3",
   "version": "3.9.6"
  },
  "orig_nbformat": 4
 },
 "nbformat": 4,
 "nbformat_minor": 2
}
