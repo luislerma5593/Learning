{
 "cells": [
  {
   "cell_type": "code",
   "execution_count": null,
   "metadata": {},
   "outputs": [],
   "source": []
  },
  {
   "cell_type": "code",
   "execution_count": null,
   "metadata": {},
   "outputs": [],
   "source": [
    "import langchain\n",
    "import llamaindex\n",
    "\n",
    "# Create a LangChain agent\n",
    "agent = langchain.Agent()\n",
    "\n",
    "# Index a PDF document\n",
    "document = llamaindex.index_pdf(\"my_document.pdf\")\n",
    "\n",
    "# Ask the agent a question about the document\n",
    "question = \"What is the title of the document?\"\n",
    "answer = agent.query(question, document)\n",
    "\n",
    "# Print the answer\n",
    "print(answer)"
   ]
  }
 ],
 "metadata": {
  "language_info": {
   "name": "python"
  },
  "orig_nbformat": 4
 },
 "nbformat": 4,
 "nbformat_minor": 2
}
