{
 "cells": [
  {
   "cell_type": "code",
   "execution_count": 1,
   "metadata": {},
   "outputs": [],
   "source": [
    "import pandas as pd\n",
    "import os\n",
    "import glob\n",
    "\n",
    "path = r'C:\\AI\\Projects\\Steel_Estimation\\Data\\HeatsLogs\\RPD'\n",
    "csv_folder = r'FinalCSV'\n",
    "csv_name = r'Final_CSV.csv'"
   ]
  },
  {
   "cell_type": "code",
   "execution_count": 2,
   "metadata": {},
   "outputs": [],
   "source": [
    "df = pd.DataFrame()\n",
    "\n",
    "for file_name in glob.glob(os.path.join(path,'*.csv')):\n",
    "    heat_df = pd.read_csv(file_name)\n",
    "    df = pd.concat([df,heat_df], ignore_index=True)\n",
    "\n",
    "df.columns = df.columns.str.replace(' ', '')\n",
    "\n",
    "try:\n",
    "    os.makedirs(os.path.join(path, csv_folder))\n",
    "except:\n",
    "    None\n"
   ]
  },
  {
   "cell_type": "code",
   "execution_count": 3,
   "metadata": {},
   "outputs": [],
   "source": [
    "save_path = os.path.join(path, csv_folder,csv_name)\n",
    "df.to_csv(save_path)"
   ]
  }
 ],
 "metadata": {
  "kernelspec": {
   "display_name": "Python 3.9.13 ('DA')",
   "language": "python",
   "name": "python3"
  },
  "language_info": {
   "codemirror_mode": {
    "name": "ipython",
    "version": 3
   },
   "file_extension": ".py",
   "mimetype": "text/x-python",
   "name": "python",
   "nbconvert_exporter": "python",
   "pygments_lexer": "ipython3",
   "version": "3.9.13"
  },
  "orig_nbformat": 4,
  "vscode": {
   "interpreter": {
    "hash": "6dcf52c436a66bee5087dd13126a22f0c034fb2d7966b4a1f0c2c90c7577b132"
   }
  }
 },
 "nbformat": 4,
 "nbformat_minor": 2
}
